{
  "nbformat": 4,
  "nbformat_minor": 0,
  "metadata": {
    "colab": {
      "name": "Untitled0.ipynb",
      "provenance": [],
      "toc_visible": true,
      "authorship_tag": "ABX9TyOyvs9t+n+QWq9doY1Tw/yQ",
      "include_colab_link": true
    },
    "kernelspec": {
      "name": "python3",
      "display_name": "Python 3"
    },
    "language_info": {
      "name": "python"
    }
  },
  "cells": [
    {
      "cell_type": "markdown",
      "metadata": {
        "id": "view-in-github",
        "colab_type": "text"
      },
      "source": [
        "<a href=\"https://colab.research.google.com/github/Varhcsa/Train-test/blob/main/Submit1.ipynb\" target=\"_parent\"><img src=\"https://colab.research.google.com/assets/colab-badge.svg\" alt=\"Open In Colab\"/></a>"
      ]
    },
    {
      "cell_type": "markdown",
      "metadata": {
        "id": "kmIOkV65f5S0"
      },
      "source": [
        "### Import Packages\n"
      ]
    },
    {
      "cell_type": "code",
      "metadata": {
        "id": "X1f7bWu9lJtX",
        "colab": {
          "base_uri": "https://localhost:8080/"
        },
        "outputId": "31b1c822-551a-4cf3-e2a9-07c6d0f7e15f"
      },
      "source": [
        "import os\n",
        "import csv\n",
        "import numpy as np\n",
        "from tqdm.notebook import tqdm\n",
        "\n",
        "import matplotlib.pyplot as plt\n",
        "\n",
        "# Module for Google Drive\n",
        "from google.colab import drive\n",
        "\n",
        "# Module for Importing Images\n",
        "from PIL import Image \n",
        "\n",
        "import torch\n",
        "import torchvision\n",
        "import torch.nn as nn\n",
        "import torch.nn.functional as F\n",
        "import torch.optim as optim\n",
        "from torch.utils.data import Dataset, DataLoader\n",
        "\n",
        "print(torch.__version__)"
      ],
      "execution_count": null,
      "outputs": [
        {
          "output_type": "stream",
          "name": "stdout",
          "text": [
            "1.10.0+cu111\n"
          ]
        }
      ]
    },
    {
      "cell_type": "markdown",
      "metadata": {
        "id": "kA3MZRzNHclY"
      },
      "source": [
        "### Import your drive's contents!"
      ]
    },
    {
      "cell_type": "code",
      "metadata": {
        "id": "JXPZ3dc6W3kp",
        "colab": {
          "base_uri": "https://localhost:8080/"
        },
        "outputId": "91d5dfba-7114-4fcc-a59a-0e4df6d7beb8"
      },
      "source": [
        "drive.mount('/content/drive')"
      ],
      "execution_count": null,
      "outputs": [
        {
          "output_type": "stream",
          "name": "stdout",
          "text": [
            "Mounted at /content/drive\n"
          ]
        }
      ]
    },
    {
      "cell_type": "markdown",
      "metadata": {
        "id": "TTj1RldNHgSQ"
      },
      "source": [
        "### Let's define some path, and our PokeMon dataset\n",
        "- Put the \"pokemon\" folder to somewhere of your Google Drive, and define the train/test path to \"train_path\" and \"test_path\"\n",
        "- To 'model_dir', put the drive's directory path that you want to save your model"
      ]
    },
    {
      "cell_type": "code",
      "metadata": {
        "id": "pcMuF_m9Ev8W"
      },
      "source": [
        "train_path = './drive/MyDrive/Dataset0/pokemon/train' \n",
        "test_path = './drive/MyDrive/Dataset0/pokemon/test'\n",
        "model_dir = './drive/MyDrive/Codes/models'    #./drive/MyDrive/Path/To/Save/Your/Model\n",
        "classes = ['bug', 'electric', 'fighting', 'fire', 'flying', 'grass', 'ground', 'phychic', 'poison', 'water']"
      ],
      "execution_count": null,
      "outputs": []
    },
    {
      "cell_type": "code",
      "metadata": {
        "id": "NFxwfpOxHcAk"
      },
      "source": [
        "class PokemonDataset(Dataset):\n",
        "    def __init__(self, data_path, classes):\n",
        "        self.data_path = data_path\n",
        "        self.classes = classes\n",
        "\n",
        "        # organize path information for __len__ and __getitem__\n",
        "        self.img_path_label = list()\n",
        "        for c in self.classes:\n",
        "            img_list = os.listdir(os.path.join(self.data_path, c))\n",
        "            for fp in img_list:\n",
        "                full_fp = os.path.join(self.data_path, c, fp)\n",
        "                self.img_path_label.append((full_fp, c, self.classes.index(c)))\n",
        "\n",
        "        # Add some tranforms for data augmentation.\n",
        "        self.Flip = torchvision.transforms.RandomHorizontalFlip(p=0.5)\n",
        "        self.Crop = torchvision.transforms.RandomCrop(90)\n",
        "        self.Rotat = torchvision.transforms.RandomRotation(50,expand=True)\n",
        "        self.tensor_transform = torchvision.transforms.ToTensor()\n",
        "        self.normalize_transform = torchvision.transforms.Normalize(mean=[0.485, 0.456, 0.406],\n",
        "                                                                    std=[0.229, 0.224, 0.225])\n",
        "        self.all_transform=torchvision.transforms.Compose([self.Crop,\n",
        "                                 torchvision.transforms.Resize((120,120)),     \n",
        "                               self.tensor_transform,\n",
        "                               self.normalize_transform \n",
        "                               ])\n",
        "\n",
        "    def __len__(self):\n",
        "        return len(self.img_path_label)\n",
        "\n",
        "    def __getitem__(self, idx):\n",
        "        (fp, class_name, class_label) = self.img_path_label[idx]\n",
        "        img = Image.open(fp)\n",
        "        original_img = self.tensor_transform(img)\n",
        "        #input = self.all_transform(original_img)\n",
        "        input = self.all_transform(img)\n",
        "        sample = dict()\n",
        "        sample['input'] = input\n",
        "        sample['original_img'] = original_img\n",
        "        sample['target'] = class_label\n",
        "        sample['class_name'] = class_name\n",
        "\n",
        "        return sample"
      ],
      "execution_count": null,
      "outputs": []
    },
    {
      "cell_type": "markdown",
      "metadata": {
        "id": "UPFSRXfal8Dl"
      },
      "source": [
        "### Set DataSet and DataLoader"
      ]
    },
    {
      "cell_type": "code",
      "metadata": {
        "id": "dJLrwTOxI127"
      },
      "source": [
        "batch_size = 64\n",
        "\n",
        "train_dataset = PokemonDataset(train_path, classes)\n",
        "train_dataloader = DataLoader(train_dataset, batch_size=batch_size, shuffle=True)\n",
        "test_dataset = PokemonDataset(test_path, classes)\n",
        "test_dataloader = DataLoader(test_dataset, batch_size=batch_size, shuffle=False)\n",
        "\n",
        "num_classes = len(classes)"
      ],
      "execution_count": null,
      "outputs": []
    },
    {
      "cell_type": "markdown",
      "metadata": {
        "id": "S6s35e4ymD-M"
      },
      "source": [
        "### Take a sample and try to look at the one"
      ]
    },
    {
      "cell_type": "code",
      "metadata": {
        "id": "pI2z7aqgMcUJ"
      },
      "source": [
        "sample = next(iter(train_dataloader))"
      ],
      "execution_count": null,
      "outputs": []
    },
    {
      "cell_type": "code",
      "metadata": {
        "id": "6rsIBq2rIxA_",
        "colab": {
          "base_uri": "https://localhost:8080/",
          "height": 262
        },
        "outputId": "282644c9-11e1-4f8e-81e4-debd93654343"
      },
      "source": [
        "fig, ax = plt.subplots(1, 7, figsize=(20, 10))\n",
        "for i in range(7):\n",
        "    ax[i].imshow(sample['input'][i].permute(1, 2, 0))\n",
        "    ax[i].set_title(sample['class_name'][i])"
      ],
      "execution_count": null,
      "outputs": [
        {
          "output_type": "stream",
          "name": "stderr",
          "text": [
            "Clipping input data to the valid range for imshow with RGB data ([0..1] for floats or [0..255] for integers).\n",
            "Clipping input data to the valid range for imshow with RGB data ([0..1] for floats or [0..255] for integers).\n",
            "Clipping input data to the valid range for imshow with RGB data ([0..1] for floats or [0..255] for integers).\n",
            "Clipping input data to the valid range for imshow with RGB data ([0..1] for floats or [0..255] for integers).\n",
            "Clipping input data to the valid range for imshow with RGB data ([0..1] for floats or [0..255] for integers).\n",
            "Clipping input data to the valid range for imshow with RGB data ([0..1] for floats or [0..255] for integers).\n",
            "Clipping input data to the valid range for imshow with RGB data ([0..1] for floats or [0..255] for integers).\n"
          ]
        },
        {
          "output_type": "display_data",
          "data": {
            "image/png": "[encoded data removed]",
            "text/plain": [
              "<Figure size 1440x720 with 7 Axes>"
            ]
          },
          "metadata": {
            "needs_background": "light"
          }
        }
      ]
    },
    {
      "cell_type": "markdown",
      "metadata": {
        "id": "PYiku-SxHnA6"
      },
      "source": [
        "### Choose your device - use GPU or not?"
      ]
    },
    {
      "cell_type": "code",
      "metadata": {
        "id": "k44xmCOHHmF4",
        "colab": {
          "base_uri": "https://localhost:8080/"
        },
        "outputId": "c953caec-cde2-4bd0-91ee-919af7a1a3ee"
      },
      "source": [
        "# device = 'cpu'\n",
        "device = 'cuda'\n",
        "print('Current Device : {}'.format(device))"
      ],
      "execution_count": null,
      "outputs": [
        {
          "output_type": "stream",
          "name": "stdout",
          "text": [
            "Current Device : cuda\n"
          ]
        }
      ]
    },
    {
      "cell_type": "markdown",
      "metadata": {
        "id": "LEjuX7lWIYlb"
      },
      "source": [
        "### Define the model with the pre-trained ResNet"
      ]
    },
    {
      "cell_type": "code",
      "metadata": {
        "id": "Cx-fxCW5JD_w"
      },
      "source": [
        "class Model(nn.Module):\n",
        "    def __init__(self, feat_dim = 2048, output_dim =num_classes):\n",
        "        super(Model, self).__init__()\n",
        "\n",
        "        self.feat_dim = feat_dim\n",
        "        self.output_dim = output_dim\n",
        "\n",
        "        self.backbone = torchvision.models.resnet50(pretrained=True)\n",
        "\n",
        "        self.backbone.fc = nn.Linear(feat_dim, output_dim)\n",
        "\n",
        "        ct = 0\n",
        "        for name, child in self.backbone.named_children():\n",
        "          ct += 1\n",
        "          if ct < 7:\n",
        "            for name2, params in child.named_parameters():\n",
        "              params.requires_grad = False\n",
        "    def forward(self, img):\n",
        "        out = self.backbone(img) \n",
        "        return out"
      ],
      "execution_count": null,
      "outputs": []
    },
    {
      "cell_type": "markdown",
      "metadata": {
        "id": "r4hjFl4-IsqO"
      },
      "source": [
        "### Create a model and its optimizer\n"
      ]
    },
    {
      "cell_type": "code",
      "metadata": {
        "id": "ZWtw-y-MKuv1"
      },
      "source": [
        "model = Model()\n",
        "model = model.to(device)\n",
        "\n",
        "optimizer = optim.Adam(model.parameters(), lr=1e-4,weight_decay=1e-6)"
      ],
      "execution_count": null,
      "outputs": []
    },
    {
      "cell_type": "code",
      "metadata": {
        "colab": {
          "base_uri": "https://localhost:8080/"
        },
        "id": "JFVtNhFKuzLB",
        "outputId": "70d3f57e-5727-4d17-f151-4c2b0f1226fd"
      },
      "source": [
        "model(sample['input'].to(device)).shape"
      ],
      "execution_count": null,
      "outputs": [
        {
          "output_type": "execute_result",
          "data": {
            "text/plain": [
              "torch.Size([64, 10])"
            ]
          },
          "metadata": {},
          "execution_count": 26
        }
      ]
    },
    {
      "cell_type": "markdown",
      "metadata": {
        "id": "DUSpLgVXIwqG"
      },
      "source": [
        "### Define functions for train/test\n",
        "\n"
      ]
    },
    {
      "cell_type": "code",
      "metadata": {
        "id": "Q9pXkpAMK42y"
      },
      "source": [
        "def train(model, optimizer, sample):\n",
        "    model.train()\n",
        "\n",
        "    criterion = nn.CrossEntropyLoss()\n",
        "\n",
        "    optimizer.zero_grad()\n",
        "\n",
        "    input = sample['input'].float().to(device)\n",
        "    target = sample['target'].long().to(device) \n",
        "    \n",
        "    pred = model(input)\n",
        "    pred_loss = criterion(pred, target)\n",
        "    \n",
        "    top_val, top_idx = torch.topk(pred, 1)\n",
        "\n",
        "    num_correct = torch.sum(top_idx == target.view(-1, 1))\n",
        "    \n",
        "    pred_loss.backward()\n",
        "       \n",
        "    optimizer.step()\n",
        "\n",
        "    return pred_loss.item(), num_correct.item()"
      ],
      "execution_count": null,
      "outputs": []
    },
    {
      "cell_type": "code",
      "metadata": {
        "id": "MhcKwq8WOUGu"
      },
      "source": [
        "def test(model, sample):\n",
        "    model.eval()\n",
        "\n",
        "    criterion = nn.CrossEntropyLoss()\n",
        "\n",
        "    with torch.no_grad():\n",
        "        input = sample['input'].float().to(device)\n",
        "        target = sample['target'].long().to(device) \n",
        "\n",
        "        pred = model(input)\n",
        "        pred_loss = criterion(pred, target)\n",
        "\n",
        "        top_val, top_idx = torch.topk(pred, 1)\n",
        "\n",
        "        num_correct = torch.sum(top_idx == target.view(-1, 1))\n",
        "\n",
        "    return pred_loss.item(), num_correct.item()"
      ],
      "execution_count": null,
      "outputs": []
    },
    {
      "cell_type": "markdown",
      "source": [
        "### Run Training with crossval\n"
      ],
      "metadata": {
        "id": "9FWTPrB63FXb"
      }
    },
    {
      "cell_type": "markdown",
      "source": [
        "This was added"
      ],
      "metadata": {
        "id": "VCkFG9vL440W"
      }
    },
    {
      "cell_type": "code",
      "source": [
        "from sklearn.model_selection import KFold\n",
        "#def reset_weights(m):\n",
        " #   if isinstance(m, nn.Conv2d) or isinstance(m, nn.Linear):\n",
        "  #      m.reset_parameters()\n",
        "\n",
        "max_epoch = 10\n",
        "save_stride = 5\n",
        "tmp_path = './checkpoint.pth'\n",
        "max_accu = -1\n",
        "\n",
        "# Configuration options\n",
        "k_folds = 5\n",
        "num_epochs = 10\n",
        "loss_function = nn.CrossEntropyLoss()\n",
        "\n",
        "# Define the K-fold Cross Validator\n",
        "kfold = KFold(n_splits=k_folds, shuffle=True)\n",
        "\n",
        "for fold,(train_idx,test_idx) in enumerate(kfold.split(train_dataset)):\n",
        "  print('------------fold no---------{}----------------------'.format(fold))\n",
        "  train_subsampler = torch.utils.data.SubsetRandomSampler(train_idx)\n",
        "  test_subsampler = torch.utils.data.SubsetRandomSampler(test_idx)\n",
        " \n",
        "\n",
        "  trainloader = DataLoader(train_dataset, batch_size=batch_size, sampler=train_subsampler)\n",
        "\n",
        "  #trainloader = torch.utils.data.DataLoader(\n",
        "   #                   train_dataset, \n",
        "   #                   batch_size=batch_size, sampler=train_subsampler)\n",
        "  testloader = DataLoader(train_dataset,batch_size=batch_size, sampler=test_subsampler)\n",
        " \n",
        " # model.apply(reset_weights)\n",
        " \n",
        "  for epoch in range(0, num_epochs):       \n",
        "    ###Train Phase\n",
        "    \n",
        "    # Initialize Loss and Accuracy\n",
        "    train_loss = 0.0\n",
        "    train_accu = 0.0\n",
        "\n",
        "    # Load the saved MODEL AND OPTIMIZER after evaluation.\n",
        "    if epoch > 0:\n",
        "        checkpoint = torch.load(tmp_path)\n",
        "        model.load_state_dict(checkpoint['model_state_dict'])\n",
        "        optimizer.load_state_dict(checkpoint['optimizer_state_dict'])\n",
        "        # how about learning rate scheduler?\n",
        "\n",
        "    # Iterate over the train_dataloader\n",
        "    with tqdm(total=len(trainloader)) as pbar:\n",
        "        for idx, sample in enumerate(trainloader):\n",
        "            curr_loss, num_correct = train(model, optimizer, sample)\n",
        "            train_loss += curr_loss / len(trainloader)\n",
        "            train_accu += num_correct / len(train_dataset)\n",
        "            pbar.update(1)\n",
        "\n",
        "    # save the model and optimizer's information before the evaulation\n",
        "    checkpoint = {\n",
        "        'model' : Model(),\n",
        "        'model_state_dict': model.state_dict(),\n",
        "        'optimizer_state_dict': optimizer.state_dict(),\n",
        "    }\n",
        "    \n",
        "    # Save the checkpoint - you can try to save the \"best\" model with the validation accuracy/loss\n",
        "    torch.save(checkpoint, tmp_path)\n",
        "    if (epoch+1) % save_stride == 0:\n",
        "        torch.save(checkpoint, os.path.join(model_dir, 'pokemon_r50_{}.pth'.format(epoch+1)))\n",
        "    torch.save(checkpoint, os.path.join(model_dir, 'pokemon_r50_recent.pth'))\n",
        "    \n",
        "    ### Test Phase\n",
        "    # Initialize Loss and Accuracy\n",
        "    test_loss = 0.0\n",
        "    test_accu = 0.0\n",
        "\n",
        "    # Iterate over the test_dataloader\n",
        "    with tqdm(total=len(testloader)) as pbar:\n",
        "        for idx, sample in enumerate(testloader):\n",
        "            curr_loss, num_correct = test(model, sample)\n",
        "            test_loss += curr_loss / len(testloader)\n",
        "            test_accu += num_correct / len(test_subsampler)\n",
        "            pbar.update(1)\n",
        "\n",
        "\n",
        "    max_accu = max(test_accu, max_accu)\n",
        "    if max_accu == test_accu:\n",
        "        # Save your best model to the checkpoint\n",
        "        torch.save(checkpoint, os.path.join(model_dir, 'pokemon_r50_best.pth'))\n",
        "\n",
        "    # These Lines would make you update your Google Drive after the saving.\n",
        "    drive.flush_and_unmount()\n",
        "    drive.mount('/content/drive')\n",
        "\n",
        "    print(train_accu, test_accu)\n",
        "\n",
        "  #for epoch in range(1, max_epoch + 1):\n",
        "   # train( model, optimizer,sample)\n",
        "   # test(model,sample )"
      ],
      "metadata": {
        "colab": {
          "base_uri": "https://localhost:8080/",
          "height": 1000,
          "referenced_widgets": [
            "e3857d565446462fb11c76ab681509c7",
            "65677e87847d4460902015f385430fa4",
            "4154c699a02b4dcf9f8d5e417c3829b5",
            "9f3b0ee27c944abb9304137223cbcf07",
            "2cde0aaaf5cb47af923956f4fbd48d83",
            "2ce645b06e0d4ede85da2524bf31ae68",
            "186b6818dd38419b8fbe5305bb541d3d",
            "cd30c2414d0644b3bf5991eed9719869",
            "c2577273359642b19049e825a5c13a65",
            "233c65f44b574b6cb6ce9f4d55e9a1a5",
            "f1303f5068cb4483a643374d491e4865",
            "71151edb7bc34eb5afe72f4a5f476aee",
            "9471a5d6435042cc9dc748b8d60f0bb2",
            "2807e016ea2c4c1ab4d400a89d0ff5e9",
            "e92f25fb05de43099b479a25ee82b3ca",
            "885bb19ada6e45209a04d923e2020a16",
            "bcb59d875df94058ad2c1c50d2cee65c",
            "38433b3815ae4218be1bac0b8ac66f81",
            "0ee252c0336b427dae82174fb41ed92c",
            "4670988c9c6546f588137372de53a1c6",
            "eff7f6df458b4b90af5de9235259711a",
            "ed67688f7b564d4c82deae849a81f408",
            "2cff81f963614294b338f1033fd41f17",
            "dcb2e3f412fc4fda89bf18bfea2e4868",
            "2677259a3f6c4f0e84de574c0c6ac709",
            "b6a2c23c750c4808b49680eb1a609ce0",
            "ada0e65973f24fec8757bb0a8ef13c20",
            "612b212ef5774bd58b8dac3eabe8a610",
            "7623f2021a1f468ebe73f9e00f6c1df6",
            "9ea62a4208c943349bc63b5505c0e02e",
            "b38fbc2e4a224068b7b720d3c1bbdd20",
            "dad567a4bc2a4747ba9e78d2bf23bd32",
            "ffff072d37a24291a98e67bf6faf939b",
            "07dba95796324aafaf5b94d7f3eb2390",
            "79dc5a78a5d7447d828bc4daa82cf7d5",
            "075d7960727b48eeb6267cfbe6693a72",
            "6a91ddc4081b4f3da04a4f008e4c2c34",
            "7c1bcbf358d748b5a06f8c99b90e5c3d",
            "15069e89ed3a431bbee68c5c00bcf2a6",
            "79fb301361274fc5bce3138c2124bccd",
            "6ac55295bc944631beb7dadde147625e",
            "ed365753c34f43e897512fde54516ae3",
            "811970c91a574ad7a14ddf0c08d78888",
            "755e9259c0b040e3ac26177db1b1cc4a",
            "bda1df52c6654c1fb458148ada0cd6b4",
            "e7cc5f7efaf14b1ca54592eb91000cc1",
            "a619c572553743328e3002c1e6f6735f",
            "b1ff5cc33f55400c999cd92146bcb4d4",
            "6a215f47eebc407cbb6636944137d0bb",
            "2bbef41acf9e4efbae809de73962e12f",
            "9180ae1327db497ea3eecbda7e68bee1",
            "f5234dfcb08e4b398b2dd55a8ba4b628",
            "1291a43045774849b9c45311cdd5feed",
            "446a9a21740e4c0a8ed0de3be025b41c",
            "06b7a4543e104097b04b2e0bc7f922a2",
            "e2ab5e62be7b40fda4f9e3b3f9740a6c",
            "903b9101714b469a8f65be9b230627bd",
            "a19ab5013dfe4af48a7b4a89175d741b",
            "e2d5d107de72443a8cfe8b0819f7c5b0",
            "87a3c2eaaafa4352921a6fcf1d2c6709",
            "d0fb98b69c114aba9d4a5343e43716e9",
            "8890b584a175442bb560be7dd1954321",
            "7184ca8bc56a4cfa8f71ff78c0e5819a",
            "a647c44575884d4ca4e73711d5de1997",
            "f46fdee8ac8d467b9b93e9736f61fa83",
            "36bcb107de8e49a78a247b46a78ecbce",
            "b0d1c67752cc41e480fc40606f08dc7a",
            "322d333d39504c048e52690d03b7300f",
            "d4875161f6014b08bc9fb14ed9016aac",
            "c6a11c82b19b4c02b15a836b66c12d7c",
            "0d5a59ca3ce040f0b68c0c953658dee7",
            "b8c5f166ad9445058bb8f6d983be4296",
            "3c1490f222674a26bc699fd22aec91a3",
            "205794e1893542b9a3f0dee674d85f24",
            "abb76766a0534f7d9c6394ddfac7afd6",
            "b685c5e95ad04d629a1548c0f807a742",
            "e7476bf7aa2c40a58df3aceefdebf20a",
            "2527656100f74fd28012c9cd6a8f237d",
            "05ef5a63b5034af7b1162a6cf96bbf7c",
            "812299549bff4fb2a216aff02b0a5966",
            "9b1ce637d72646bbbf84b5f400b7cfd1",
            "e5f1aef7a00146479ad5c24c177890b6",
            "42789370d835419e9f23a3a2a8368845",
            "94fd6981ea8b452b8fe956dd51bcf1d7",
            "afed6226b49c461187ade2fa567bc999",
            "d20517f19bda4ab5b37ff11cc57bf981",
            "a285adbd818a40b99e53366f1fdd4d88",
            "a5a98b9ee7d1438dad761616d99e6679",
            "c6a32029b75448259a82f82dae3fb7dd",
            "eb08dee605b64846a89482c2d20c115b",
            "30527e7d09c14318a3564b3f3e58068c",
            "ee26de6142e34566a64ec2066add74aa",
            "d97c5299a25248f38a654110316dfb27",
            "a341e0d0baca4afca01b98d75a6106f0",
            "c2ad6938c70c416bbc31277c96e27777",
            "4fdc92ef40c046579154c9d42b5d20e2",
            "db67fd741f6e4177a1dc9d8f9df41cc7",
            "e4c23c80799f45449daa7985776e39f9",
            "3d16c971925243e2b1df39f4898ddaa0",
            "5beb3d5ba349476e903ffecab8a5b0eb",
            "809f34b104944a2dbfc35c4d36578f9f",
            "85a31e9eb8764f8fb152748da16efc6c",
            "b0f882b7795144cca6722898ea9c8532",
            "5127cc5722044d3c9ae3f5333b4341e3",
            "526b28a04d3a4ed39b9ab55959c2981d",
            "a26a1387df8940fdbce51b08e6ee0d95",
            "ce5edd167cf34b849194e84db1d10d09",
            "e0eaacc1f5184130b49be2d6d8d3bf33",
            "5ec4e1f5d6a5412ba52e406bbcce9a89",
            "5204fe685f164fcc85573d61a1bf7fc0",
            "c64b5c06e1ed48f0bbf1732170e7d8c1",
            "57c91c18084845ba9f57d59fad8970fd",
            "9c4b53175aa34007b7e731cef0aa83a2",
            "9f64b08397944fd4821ee0cac9543f6a",
            "34ab7648214d45bbb148a9dbb213c440",
            "133203d56b5b46aa98f37e741f965a52",
            "43af894df3b141e993c4f375185e2ecf",
            "88672cda343b4d00bd288cff63efec38",
            "c5ab252b037f4b19b1b8d4a1cde59d9c",
            "b219e8f04d9343d2bd75c6edb36861a3",
            "fa7e74d5edad436a9d842626c9c5e63f",
            "7d56d55aef4747a5a80a14432ca8b796",
            "3f80ec479ae34c33bc6a5fc78c98c59d",
            "42ec5d02d87a47c695977f131b54e26c",
            "5dd4e16e3ef04675b30dd50be65c033f",
            "16efb099b7884de694c1cbfcb990b8f3",
            "ce9f5501290c406ba7a9a2d7e3e249bf",
            "6ee611ae682f47799f66c14ca8990794",
            "52849e99c0ca423f9e2ee15f760fcbd6",
            "dde2f3c9d597488cbbd573f4593d4130",
            "6905d9c2df9c46889ad67db1a5112b75",
            "e79215ed504348b7a9730a5505c0cdf0",
            "d202b7aaacac480aa8e3a81f0e73c2b2",
            "082baa40c785473f86a12a261b080876",
            "352002fae8c9483cabed509da2c83871",
            "e1fd0faea5fc4723b37b7efd8117e803",
            "f0c15783a514420c991398795374b5e1",
            "a259271d3b4d4b23b64256abd1f577d9",
            "e6db7cbe98bb4f0486e817617040a289",
            "285b7df9c84c4fabac6d96bc6785df42",
            "35925a26a3bb46f19d4fa9f8bfb3a959",
            "b2eaa1d496924456bbf3135d213419d8",
            "86f918ff8fe8498588470eb13a3dc594",
            "b310fbceb97d46c388b24e3b9619f1a1",
            "817c1b02d782499197822612d79d10bb",
            "dc2ee8838f6c44f1bc6ed3ab43b625b1",
            "3f757f2601604df694808ff603491194",
            "797f1e9010634127aaf82c5c3af08145",
            "186152a2d16d4a648b32462f6e664eeb",
            "04122d39c53a4b8a91648a891878b78b",
            "93f256c9a08445c583b576a25931917f",
            "6406a34d0dcd48db89950a4c22348ca7",
            "74a3238e2f7646cab3eddc66befc63b5",
            "c2735e71d31741febc49208f632c3954",
            "ca1e7b3edeb04e89bce1e57cbe0ff182",
            "be7aecf6a16e498395f25cc95811509c",
            "b023d51be4554bcf9ab233af55ee371c",
            "60852d15064745d38ccef714abef9fd8",
            "ea8de8a021364e82afc83943cd03573e",
            "ac98a6a286c248858dc584d78fbe77b9",
            "eacb6c8b943c443d9542d07a2104b5b0",
            "cc0a6bd787b34b48b2f419f800ee7b2c",
            "94801cab39f04447a75a2b96a9d11653",
            "5ce641732d09490c81be056780e5b79a",
            "34fabb5015824495a03f62480046f9cd",
            "809851e3f0ba4126b624bf3b78c8b8ee",
            "85d3cc1e0b56432683c90b7071248ffc",
            "29c6f54c6fb244be96905705185614dd",
            "3b6ae96ad1fa4776b9ff0477c374ecb4",
            "a5bdf0bafabf45cebe4641081cf38d9f",
            "7dd31c05245b42a9a379a152b3d5b96f",
            "0d3f5f3992134abd83943dfefe43b4b9",
            "a97503f34d0842e4bd5e93c954fa65fe",
            "7a01533e5a1f41b3bcc0e5c8e4dfacb6",
            "2ed4f7e085444f7da4d8ef97a2e74a4a",
            "241f6e1aa3fd4bb5987ef66ae3a17f96",
            "cb8cc60974f54bdca9d009b530266cd7",
            "7b392ec180b84fe785992ebf8695858d",
            "af1f036a827647a8920cf17b90ab946d",
            "081c1f77412a4ed6af05d5f39743234a",
            "511172b0406f4c5592bd5a409ba5499d",
            "5c73be282eb2487b80804b4874f9ed83",
            "3425480389c74e2c8101832bb9f1beb5",
            "5b3fa95f9e784ccdb4ec2e6e929ae14f",
            "20833afc3ce94248924ab17806e336a6",
            "5e2272d5534a4214a47fef941f562e1b",
            "857ce92410d54c11bd7d720fa38d713c",
            "d0356e25265d4791b648f5e3389d756f",
            "97e3b98a9e3e4e35a46a2eae86a3bb89",
            "b8303303dcb947beade4681c726a0eee",
            "eabe440048a94d7cb7b257955146bbf4",
            "fcdcf9feb0b34ac1b12526fcd5d0d34d",
            "8c21bd3e106d4db2a73490849310fd6f",
            "95b79bc5ea7741708eef968099941734",
            "bbf902a41581437bb4d63f8acbcb30a5",
            "3dbf76c4a35f4c7b962ec0bf1a2c40b7",
            "7af681eac66244cb855d8eced7c9700e",
            "2409254b0cf7404093adb4fe6d012abf",
            "3731078c32af4d6aaeeec61f0e059dd8",
            "909f09f1a6884b87a63d79ae102c6af0",
            "da02d0d73e1b4ccda32f8e94c03ee4ff",
            "68faa529618544e5968defad24335562",
            "1ecdb207ceed499294395c3647afa392",
            "6a8df5db3a6543fc8553ae05aa3921c5",
            "48e94726c6974af6853cb74b7f5107fd",
            "91c6c8fcc80645b5abee0e7cdc7d6ef0",
            "a4e3e2862a00400a871c968b750ead69",
            "50d8d44a06f9420e811154520add2b80",
            "86e804b4d8b44365865b8cedb8a01d92",
            "202e27337f07439fa7f76b9f7bed0042",
            "f4518b3965d4436db9e84525d3fdf233",
            "23a9fd30b4ab40d49df76e3dcb915124",
            "7c9d2537b159484686ad13ef3c03d00c",
            "5abf4be9766e400bb3f2beb54e1112f0",
            "51cbf1fab5964985a83744498b51ec24",
            "fd961dd4ff4043e4a17244b19b400483",
            "8532444073564ddca14e88057accd57f",
            "12bde1259b474764bab5bd2228fcd0c4",
            "cf2aaa41cf2a4f08934544a55c0eeeb1",
            "a2bb12d556e6435c9d390bb2a8d315e2",
            "89d7759b62b04ebf98ee4760e278303c",
            "ca4acdd28a06426d9c5b1494addfe755",
            "ed8c741a33ef40959fe145574eb406bb",
            "ac66caa84a194c36bc1de2fbf0371464",
            "503ba572b7674537abdbdb4ed7a11660",
            "bc6b25b8d7bb41d998d80dc35a09b962",
            "3ee8c17c00434bcbad7a2fa668183f8c",
            "1c2f6bffd5494de785598e60f37e5ed9",
            "cbfd56bc55ff4b59aa4796505adc115c",
            "4f826364fc70476ea541a292b57d4b4f",
            "30b087c511a043cdb400fa2db7341063",
            "c097a494c1d14aaf883bdd5a21a71ea6",
            "8d18f22cd5b543f786a5d5685ffe74f3",
            "e1d0b2c2b6704f238c72420c4538e594",
            "a26044907f254320ba42008b91f8d0ff",
            "e3c3daa5511547bf8b636f40d41805d1",
            "bc2fddd72dbb48d6af21a96a9156ecc0",
            "ff96fa10192f4b72be05d78a57b64066",
            "e876d0f7b3e749f088118284e6d872e3",
            "cde263d3f74740339ca0b971f719913c",
            "5f8bab6f9bca4cec83d1859958b25dad",
            "a592f284b9384718ab40fb86636337c9",
            "5957be47bee24ab49ad98ac0edec02be",
            "5fcd5555c4224e57b8b43ae2426372bc",
            "f3d0bde9281843738a025ae74d4d67b0",
            "9cca703728b3443fa5a6e285ef1e4075",
            "49efcb1e1361414586ea4a6c63142584",
            "1f411a1d5b9d4ac187ef4c847e1bac70",
            "fb7f4dca9d58480a987c428c5bead406",
            "b2523e745906495fad5302362ebee2dd",
            "8f45d566ca274b9aaaec702c72e7f249",
            "b458b38e283740498b50f1a179ec9623",
            "909477342b64410cbf08134b98f3f367",
            "0996f39e8e874a8994f83229e0964045",
            "7a7ba3e8f6da4bfaab43297bfbb9252f",
            "fd6d52c550704be385edcb926e221050",
            "724c08395cb441349ca0ccb84fe4ecd2",
            "0c38bf5b047043eb88d04a43658c36c8",
            "e4738514808a4b88b9d0c6002470213a",
            "72dc3b4aac04447084acd0ea54a3ac1c",
            "8827fd3fde5e4a6bb9a2f41fb836fa59",
            "c151e6f1edf348d6ae4055cbbb434395",
            "1fdbaa8489d5481ab65a244abd0fb0cd",
            "433bb001fb2a48baa393cf326edfe422",
            "3368e9a1d84c4f72b61722bebdd3e804",
            "b1e2b9739550434fba4fd5acd7f21b5e",
            "3c0e344b72054a0cb317d2396a9afda6",
            "f5f3e2f3481f4bb89d1ac39a8389ea6d",
            "b901c0cff6c34da98e5cb1278395f571",
            "1e46b43fc70845899b3e427d70ad0d23",
            "f8f68aa596b145f58bf335b5052091b6",
            "b8655e77f0db43888e0b972a3bb3b143",
            "879cf67114054472861797a83c2233a4",
            "fdbf83c57e944d9aad5feab97f6e9bd1",
            "3666bb43fd6f434a809653ce15b2520f",
            "fff4188ed5fd46f6a0316bd8e23d1568",
            "9fcb9a6dfe2a432a85aeef8c1fd118fd",
            "c85937d6f3d34f5688aa3c73d2b8ca49",
            "9eb5e4036cb54a6297bfc9e555a7beff",
            "177a331dc0d449b6a5c12cb14ecc0962",
            "759bc33d0f3b4fe98426e1abdae5bb06",
            "7c2b1cb0c41d46bba689e1c88951d029",
            "de937135f73e41c58032712c192d94dd",
            "313bebcaf7924076b6a1613d982bc7d1",
            "8a8e6a1f25124f81b614a99e499395aa",
            "0714ea66fc424435855a8b5caaa88a92",
            "37207f6f08d54e768ac629972afc36bb",
            "b8d1e90d3b284af996adfda59445977a",
            "4613638e0bd74756ac9d158aaef7a8c8",
            "20e328b1cbca46349bdb2d00b40ae977",
            "57911e3e590a4d0dab71220b7c89282f",
            "33709746b0b54ea68ed76da5c2816fb0",
            "0de34ddc7a6442968a0bb31d063d650d",
            "56df4fa9cfd04043a0f743829aec89e7",
            "a12297d8a7aa41d28e165ee429eb0b27",
            "00aea66b43914b5bbaa92db404beb40e",
            "1cd926e5c2d44aeba8c7bf187c98c625",
            "3d15af32a5df4e98970704bd83635d9f",
            "eae43f7ea19c4ddf856ec21b57d71c1a",
            "0947c4d5b4f5461b9d7fa0b9f97979a2",
            "7d8fcc891dd74e97b0d72242c8e02c11",
            "344689b8fecd41afb75c5bcb39b7e7d7",
            "0f33db82a0e344d9ad00f6906486123a",
            "9f2fd59762d345d18daa8ccfdcf35095",
            "580a368937e643ad9e3155e95c1a43dd",
            "b1bca1154f8c49ffbdb42464f4d56237",
            "359a860b868d49dc9588a2bdef33a263",
            "41855cc5c63645cdbd23b8659f1d440b",
            "6e3752fb288f4ef9800da58e06c124db",
            "cda4d6612a8e4424ac06467fb396be8c",
            "1ad721176b1f4b68aaa8018d1cf079de",
            "6706452f71f24590a891d244b250c97c",
            "9d56beef02e34405ad33035939a2ad4e",
            "a6ba83bdc41c4772b664cec2df4e1012",
            "75df8d760a504a47b35c2ae6ffbcf82a",
            "851db8ca87d14d8985df66e0592b74d5",
            "8df4fb1d2e3747f3b2347a8feaf38fab",
            "c963b94adddb4ece9f48629d7e87b3ff",
            "2166320c02814e369945c6a813c9a694",
            "f94c60194b2f4d11b74b504e3e3f6425",
            "c0fb6ac4bdf54095a7914911b59a891a",
            "29625fda170f475998b3aec6e7b9e72e",
            "8302b4e7a3e54053897780b7f4d5feba",
            "54766747cea949a49ea7c3a6d245c2ec",
            "5273863543bd42a787874412610d037f",
            "a378d2c1a970487b94bf8f296a8a7805",
            "3060460e22ba40d7bbabee9b2ca6700a",
            "1830c4bbfb834df1a41f6706b79fa933",
            "7a2fda94bfe14383adc5d8bfca1ef1af",
            "aabc7dbd6c0c4d54ae43f73e3fd401c1",
            "3857e703e90d4d2baf8710cb66c80a28",
            "93d5f7c418584891a3220aee0603ccc4",
            "e7908b7f970d43989d08dbe768d48406",
            "6d16d3358ee9432e84c49c030c0eefbd",
            "151d9994b431461e99e8684ef18cffd7",
            "05ab5b3426b34f8a8453cf55745e36dc",
            "6b9b3c1fff6b43378e9b1cef380cfd5d",
            "6e58b9758f3f4a368ce1054249a37a56",
            "92b9dc22bcbe43e9898fceb57225f501",
            "0792c817426a40e18215b4cdd370a945",
            "ec2f80999db2475ab097e399073726cf",
            "48a570d459bb4104a0634c70fa72e608",
            "ec4e087d6acd4fd48949bb1e567cf69f",
            "f0a096ca506d4e279f3054d542c9eb14",
            "677480bbc040423ab5059442a40975f6",
            "78252d6b2d584ecf860419a6b9adf539",
            "069028ded1804c4b8b4e27ebdb38e45c",
            "fc0aebcfeb29438bbdd80cbe0df529e4",
            "629ab444f11947e2a8898623bf541de3",
            "bd56b29078b84e7c923e3cf43af10160",
            "0aaccd03b6dd49828ef467b67d3d11fc",
            "8482774f2a754adf8fa260b67c081d65",
            "50688d6bc74746adbebec70e52f89bfa",
            "32556298d46644a8b196e8e39ecf2a2e",
            "6ce0ea93618e435f84cd401dea71b7ca",
            "70e48613149c45c296485905ca1357d4",
            "973509d94eac415db0a06bc3046d906f",
            "736334bd929d41429ae27141f0cd7926",
            "cb7c1d77a66941e7b82b622bb271d906",
            "7d5e761278a84c5a9c6e2871b43f6c33",
            "fd7d6d817e6640ad9859ca5af3ff8dc2",
            "e6cd297abfc24d2a81e9d97d388daa63",
            "dace1681e9394ea6b9a0c00c75454388",
            "d761ea88d2f34c7799eb131b2ddc7708",
            "7809dfe686784ad3bdbd7861868ec7b7",
            "28193f7ce5994ad4aa1cb5cf66ff90ad",
            "6fce27fcc3a44086965b83c6e976df4c",
            "ccb96ba193ef4af58829f3a5305d7943",
            "683744c64f574fcfadccccf54970c19a",
            "f88da69108974c9a9e201494465116f3",
            "b032d72e8e74445b97eb96980261f8cd",
            "2bbc12aca75240a9a732ca0ea46423c9",
            "5c947c02238b4100b8e506d301097faa",
            "60125d3c56d84c8caacb7da6c7d3db57",
            "aa8fa0b9c3654ad599d710091322fd25",
            "0603595bd0864a749df109d18cd3f2a5",
            "6e96a13b972a42438f46ebb0864e1760",
            "a25d42fa7aa74b038c049a4597294672",
            "1987629bd3c5409e95656605a3a17d17",
            "c7f7660d0fa446c2a3dbf91c5ada1014",
            "9bee5e3901104513897d7251517ca9ca",
            "f4c9ef4496cb4a04b1146e6eea8813d3",
            "e143e4778e4b489f86889ebd0d7c147c",
            "41a40b67338d47a4a48e596505e42bc3",
            "9cef6b3d918b43be862728bac1e3031f",
            "270dc632161f4986aa00a7c4528ad495",
            "5c800a2c766b429e85d7dd5bd0575dbc",
            "df3ec94cefea49a789edd71ee74a4138",
            "66884ec47db84927976fa2ced68a5daf",
            "fa401e3563274d39a15b5d4175d8fc11",
            "4cdddf8ff3194c44912eec65e8d249fa",
            "92a07b4b54b341409c44555f22bab5ee",
            "ec331fd91d354f2e9853bfef5cd409e3",
            "c56afa28d63e4ffd911202ce92146a85",
            "fb063bc2207e44089ac9d2e47df1588a",
            "4349af0d17984e2fbdb0853b5b886ab3",
            "37166d4257e143c28be7419ece381336",
            "eaa2d8efa0384606837bf9df43d7e04a",
            "ad6fb68735fa49358e956569ff18e086",
            "31b446919b734bfaa3370718d7cff2df",
            "b9a05438530f4c2e999bebea0611aeb6",
            "d4d8b4920ff04c24b5234d26285bd45e",
            "5f5e28d0289e4c22ba9fe920d6d39301",
            "99a28aa8dff14420adb0d7ae035844a1",
            "109d84333d61451bb200bd791f515636",
            "3c9bce2b1f2343139631d0db00c11899",
            "7094d1de045b4129bf7eb5f62d3e482e",
            "970599ac195c41858a1687db91e7d05e",
            "7170ea8e1b2f490d87ac921ce6705739",
            "957e0a0c37234eb483b9c38b523ce12b",
            "24d4757e0c8c48a48a34987c21c65082",
            "e6ce50e4312147dda86896652eb6b7d4",
            "ab4fc93251fa47908e1e2416a2222501",
            "5f4b447a9cf84fd0b5382cbb453fdbeb",
            "c07ab991f9ef4daf9e48a14bc034eef8",
            "1fffc39847454c2e8d9e708288f547e3",
            "81265ed8d4c64d638ae0284d82816769",
            "c7d9081c3afb4beca1bf388d384530dd",
            "02c30af1b22148e3bc1b94418c45aa28",
            "2c9c15e8cba44e78949dd3d5974bd78d",
            "f1b94eeab7664bb2b867f42faf604511",
            "cf31d6ef5a20495e92a22131faf11b1b",
            "eb9560f93c13471fbbfaefad49c8e11a",
            "978a8fc229324d9d962d15807e97e051",
            "6263b636a6e24cbf8ea02dab30cae90c",
            "5c4d20d7ad8f4466b18d3d572e70770a",
            "ccd1ed9b2011405e83ea3a9cf1cfb47d",
            "265e5898a62247c7a6cc657d4aa14054",
            "240576b8787245efb4503d1a91edba25",
            "f365d326d9a84e79af1190c87e072b5c",
            "de22994e6c46453eb6b0f34becb3210a",
            "c09886e85c644bdb8dd4c7ee2f479ba2",
            "8c418690c2354700a7cfe20488043bcc",
            "23820d68587b416c92573a5d1f9c4f2a",
            "b4a4adab23bb4d7cb6c17c03b9ce4720",
            "29e29e707e8d452f8f4e0f27f890898d",
            "0f17abcfa7ad4999af626b742bec0530",
            "ac6f764c64134971aef386741b51e2af",
            "753c40e771074d26870b1ccdf5ea0590",
            "708fa36cabdc404daddffaeb2864701e",
            "e185ce6b40834a9cac0bc2058bbd1666",
            "4bcd768461a840a3a895df04ef647e7e",
            "4497f73ff3d64bd7a5f999ae1df176d3",
            "ac4f2e41d9df4607bceda726a63e5509",
            "73c9b2979a024b6abfd6912445e043f9",
            "59e413baeac34770b16bb79b207a720a",
            "9cf18ad8d984463eaf2b941cdf272568",
            "bec97e31694b4dedbe4c87142d3f5a9d",
            "6130d0cd78cd4381a40707bc0e4d52af",
            "ddabd83c7dee44308fc7cc8057a53b94",
            "f8846268cfa34550be13e2cf0c53a98d",
            "023dff11f57d417eb1db03f2e0991e77",
            "0e1ba8b330a24d9985a973fda0fbd50a",
            "6d94029bbbe64c11ae7c28a58e106bfb",
            "70ba18354c0846169b257c1dd895d207",
            "9adb8d6b5bfc4427acec21028631fac0",
            "1c64a2bd53e14888a0c5e88eb108c9ff",
            "4e9b9b716f2b4749903b5b98c98807b7",
            "c79dc7e8fedb4ac8b0009f6d561d5019",
            "9d5a18ac52424564ac3614cd2c69331b",
            "c2286a07aa984bceae847970bf3398c2",
            "a985ebfd69534298854068d0fe2172f2",
            "60eb082b550f43f5b477bd1d9d397fb0",
            "0a7b1ad5d65e43438516251ae5f30b0e",
            "6064cdc615024e9093ca06b4f862b068",
            "95138be85d294e348ad57216785327d3",
            "a9ed7d9332d244d28e87063d3b293862",
            "7109cffba9be4d41a16d286d3482e3fd",
            "3524ccb4655d44538230973aaa066173",
            "865f97e8b3ce4bea83a9cd948db36961",
            "c2fc5d3f1cf34678adc326d906beb8a8",
            "82d44a03857445dea642131cfbf8940c",
            "603cef053d6a42029dd4e2812a3609a7",
            "14fe90703acf4cc2b01093e7cf9171e2",
            "b6c6e61b61e54dd9beba1bbd358f70ed",
            "e7ef14418c1c4725aaf072878c58de49",
            "808ca8229bf5426ba8cda2082a4d78e5",
            "72df356d69cb43838ca780cfaa1622c2",
            "9de02f7c43c9405bbc281455f4fb3c74",
            "f16e8651b7434a439d1518380f30065f",
            "a579176eafe64ef3b99a3d48f786b736",
            "1f693710103d4f709e7edb30ff66c1ad",
            "4ebedcb31327424b8f2569d6682a6911",
            "be8bda3cd09844efab2773e4b17f3fb3",
            "a2c2fc5d83b344d394d3ce76c7dc3725",
            "64ed6f89441a4154b9e3406483ecb4f5",
            "9fadbe67a8bc42e39565db852a8c79f7",
            "2ca2aadc321245bead13c4eca5ddfb64",
            "3b6a15bed2d14b85a48401347caa3ab8",
            "21aa40a91a5948f29e460f667aafea6e",
            "6b331e16e8cd4f9db05fbd815df35e02",
            "b129d07c66c54ea6ab6c434fb8f6bdee",
            "550857f43482478bbab9246da31f50da",
            "9312460776b24456ae1d9fdc0c13ab3c",
            "92637696fb884ccca015f2fe79a7e597",
            "c58c99ab9b2a4ae89408f9264c7fbdab",
            "0ea64edc2f3646989e0e024e8ecaf525",
            "f1d8f32754454c6aa74842c2d7eee8a3",
            "5d733a9806984b13bf13ac1abd625ee0",
            "7783025b219b4e909aab1216b100da63",
            "f2833d820a09409685091d5aa439a2d1",
            "83097118dfd54307837b8f5e9031a41a",
            "ed5bb8ba83c9475ca75848047c5d2dff",
            "e36cc183542f421cb7b0946638b2b0a0",
            "f79e63fadc444b5cb473a7f08ea64637",
            "4794df4b6b134abf948b224f37363ffb",
            "1960383c002d4d2dbbe355d39c050def",
            "7e1e0ea53f204cdaaf6d2ef17bc2fca8",
            "a505b5624c7447cb81628ed9e6f04569",
            "71491415ad5f4fa0ae28f2d3959bcc68",
            "b9721476ba344d5a98e05975179b52f3",
            "7f0ce1ae06174cdd83fba4cea2e511c1",
            "973026c37fa4483ba0248c1475311970",
            "0e6bbcb49fc9424194e1dd1ec7fdcf7c",
            "f4957d4a29e74a31a41ac727127d179a",
            "f2a0426336f0478b952e1a8f7e371da9",
            "c55a7d08fffa4034be577fea36a2ff38",
            "3a13c24949474856b9f162774a2b3366",
            "fbb64ef08d06422486a82fd9c79fc5b0",
            "bca1aeed274b499998ce372cc85e98e6",
            "d36741a7cd5a41579eae78d58bf93eee",
            "adb12eb512574fef97ffd70353fc0933",
            "f50166b11f944c1f968c6974a26091f7",
            "0b87a358c84d48b8b276231ca356b284",
            "6c3fb5179080468285c31a3c56b7bbbb",
            "8f703a37dcbd4b81b98c6de6519325ed",
            "609d384d572a49a6a22f0b6b6c3b6d03",
            "940699d1b4424d6ab3270bebe2dde353",
            "cd6e40289db6427dbd7e5a46d64a7832",
            "93687e8d3f5641538e98edca241a5a6f",
            "7f6a13f291a24b17b5751a2d9cf7448a",
            "ee7785957327497da3b26cdd92875fbf",
            "c688f65efdec496f9c60f002df6da657",
            "9454da6ace1441eb8bea0df5565c7f2f",
            "f5c1b82262c548718155c2a27b6f0b80",
            "cab2968c7c134a07977b98bfd135cdb4",
            "b598aa018e7c45e18457dfff7c05082f",
            "0130ef05d43a45d88d9cc65504dc2668",
            "9bd2fe2db3d74b0bb6ac2e7d340c44bc",
            "8ff45c7a1b55464daa2b41ed554533f4",
            "bb0234c7ffb347cba92c1fcedcf5d691",
            "f9c8dd743b94466dad1c450e5147129c",
            "cacabc31a4c147768bed5ff2880a76be",
            "9a058a73deaf42dfa315e9246f4661da",
            "48689d2050d143fba1c964a9bb2e41ea",
            "356a617b3a8744a1b339dbdffcca7237",
            "e794e1d2adc642b69523538c3c6897e5",
            "2e7ad6e378d74b4db22e2ef59d64ac53",
            "bf127aed8aad4811b208f02c15763722",
            "e41dc71d16a24a1798e7bb42a65373d1",
            "61981292184c43deb8f0613fd1e5cb65",
            "4799e1efa7f8479c8cd974c258dc8c3b",
            "b19220efac7a4d2296bdfb0fca8b7f0c",
            "1d953088458f4a85ab2edd29afe87f4d",
            "9208e50789ad43b2ad5fb2b8805dd6bc",
            "26180b0f974548f59526ab0f16676ddb",
            "930ad5f214bf4ff69fd49b94061d3465",
            "dfc78bd75a7146da9a6f5e59aacaba49",
            "54f6cbc68b52421fb4320b14621bf220",
            "8ef0162d434246299196199dd03f8456",
            "7e412a9a331343338bf5a8127464372f",
            "fd62f5ac51d44b41aca1aefcc3c025e3",
            "1fb69f62263b482998f174205a3f0f94",
            "060367fb0be041c7b0b8cfe451d99033",
            "f061a0c1319346bb8fcd651f21a18e43",
            "a92cddd5502f4ebd9427ab1ca45b09a0",
            "9551521d9390428b830f11ec30a049a3",
            "b87129401f9e4300aaec008608180a62",
            "fa9b6dd83ad047b8a707deb18d941c7f",
            "8045a37a92754065bc8be7abe2253688",
            "0d4b1867fcb041f485eb030e6c570344",
            "d943ac04a6fd42b8ab4f4c90685d5057",
            "5e4b3e53746e4675b01bf0e7d2a8d215",
            "b9c8882ae2d140eb9ffefe1e56a8075c",
            "a8527c959dc54878b9e61f6a7868e79c",
            "ac8d41b1bc634dd4ba184cc9fe186873",
            "fef6fbb4a55e4b35b9626bc4f249c352",
            "5a7a8256a7c9443bb36bade393a056b2",
            "2a10221865a5420f87e80c371afe5b2b",
            "a8d9b3e80413450faf179402b9e6728f",
            "fee470b26d6f485e903e6333d280c03d",
            "f4c43e7865344358ae28c1fbc85b117a",
            "c3a1c1c6faab446398c519d27010483a",
            "d48b39b8326a4660be18f1ccaaaba9fd",
            "c2c711dba41045ba859ce12f9c794013",
            "9090241d6c9e48f59dac55b63e53bfc4",
            "063c4524fa414bda9d70f9315a7aa5df",
            "1b0219c4604745c6818cadc9331ae496",
            "dc3a29cbf9a84503ae225f0050dad8ab",
            "9e2dbb3de42a46278ad40555a070dabd",
            "e2ff2171349f47a8ae383a05cb348c80",
            "a0946e81f874410799ab918e22220362",
            "5efc8df0e9304372a915e0c2254bf4fb",
            "56efb5ab1bf4448a922a53267bee60de",
            "7023cac3dbee4020a7b47f805e2161f7",
            "e5356630b8564e59a589f725098d445c",
            "326b7af37cc843a3863207616ca0c76b",
            "00df29d1643b42a3a3c36e23acd2aee1",
            "fd2c2e14da004854965acc068152ab6e",
            "7ae314063b604995bcf9d4769918d954",
            "83f038d1f14c4f03a22a816a3ef8de55",
            "f3badf22b71c463a81708fdbdb13a67a",
            "d032e872ee224b33a32356aff6e5a887",
            "130c199ac9ba4cef972724bfc8197f55",
            "0397e0e644b24daaa16a5df956caf1b1",
            "da0049aa72194275aa3e69b12c95ce72",
            "74ff9d8ece1f4d549e326ffb0b947b29",
            "3e829ae16f214b41a6c04f525f101e8e",
            "50be5cd246e04d40b3863142facd6bfa",
            "a00eddda7c1e49f2814ed5fb92fe6c15",
            "8781d6d783374cc39e4684cf8d589fed",
            "fe06e3c78b414550a37885111422274b",
            "4cc4dc94de134b778d7117d0cd8aa241",
            "3a88b86e786345818648a9a23ed61b8e",
            "23fa64453eb44afb8dac71b41300afcc",
            "b4525ca35fbb4ad69258301fb234ca3a",
            "af445396dc0d41038390b4ebd70c589d",
            "97ea5b75c6e347cebdd100ae8dce618a",
            "bd1438c6c8364d6cb0b1f0676ce88ad5",
            "e29feba71f994a72b39e71818699c066",
            "0941c750a60e4b38a6ecde283a7d2051",
            "1a24b09796c24903b6ba3ed64351703f",
            "91bb463bd3d947ce81201205e2a2e63f",
            "0010bdafc3fb48409aa4485cab0859e9",
            "2bb2f5193ddf4f0aa6d653429e431eb4",
            "c61e5aa32dc3470eb32507f350fe7c69",
            "4e18343b319c4128828b7e7fe118a066",
            "619545e33c0c46009ef6cec7e76a4a8f",
            "f50c1cff6d994ccd8264b4679438740d",
            "6d1b002f77dc40669fb85c29bd2cb059",
            "da4b28254b9a48e3a9b8d8b5c66becd8",
            "cf4c0a9b2c43458bb19e386768be61cb",
            "a8d5507c7ce742f394d7f8ad34cbdc1d",
            "3a563046dcda43daada9110fc7c27621",
            "04c0b325d54c43538c539812f0177695",
            "cca57480e8184e6b99a01ec0d16d92ba",
            "481c8dfbb4604f5caa1d54b192d68e28",
            "99689076a01d44deb859d2150094a5e2",
            "5778b7dd01bc43079683720b9db33abd",
            "23c8653ad615417f84d184b2775569e4",
            "bb31970b90624d53af6084b1c8620dab",
            "8f7834bb172a425daf342462fa0c418a",
            "ecfecaf034724ded9e8390348eb37426",
            "574e49bddedd48c2b824d9c7b1c29841",
            "4c3af309bb3e4e1d8918bff90fae27da",
            "66be83662d8041dcbc0649480815f947",
            "aa083bde8e3d4a9b9520e463f4120fe6",
            "720967d32796459aabe6d1e0d0c1f6e6",
            "ef75fb509a714dc2a7dd63bbd2c479f7",
            "3bb819cb7b9848058e47250b3fabba63",
            "6c1f33f0a8a14e32b5444768ce8b3086",
            "1e4cab53c35a42ac8512e771ee3038c5",
            "0b7864b86fc94b25a30772f356120663",
            "04d1a84cb82f4ab093c0db5eb6367c37",
            "893208612d784d169026e95cdd380240",
            "ae34b16bb3384ab6adf38c4f39feff8d",
            "55675d571aa14557b31a69d90fca81a1",
            "fbb08f9521c44208b9b35b4fbc80f5dc",
            "5fd0c52bda0d4ccba14986e7b6463c7c",
            "d0e2d46811ac45eaa394ae327f3ed9d4",
            "3eb33b1c383645d9b65cb835c50640ae",
            "96192155ea7447e79d33920d10e58a2c",
            "86d1cfffe52d4fdaa4b034ea7eccb451",
            "06726338bcb74e76a4b62365e42a8639",
            "747c570d919f4e949f20598033332502",
            "e223d3d58e784a8c93bfc149650267c2",
            "8954c61f5b404429b163f139afc6fbce",
            "572d31aefd49491a9cba0a181a7b4840",
            "ddc91b83b9eb44b58ecee31571cec807",
            "f9a8127f8cc44a6f9553e50538423bb9",
            "7f4a0a781eb74549a2579200733513b3",
            "13419f04101c4558b5871e681f1af073",
            "0c87922806194cbcab023aee97f14660",
            "60f7bce5c60e47c595b5fad3fab44657",
            "6a780017ae7c444dbd635c5b223cc27e",
            "4f183c171e6f48c69f4235a50f4bb525",
            "84664df6f23349a78f22b5e8495d2932",
            "560a20d29ff047209b5d8e03d6640893",
            "61d83a918db6450a980eca4888f7a59a",
            "9ebe3baf82244a1baa2a1537a42fd51f",
            "ccbcedc514fb4887aa2e65e13d07c5ac",
            "0d1650b6844a4a04a6b9ca19d0b57d85",
            "79c490c66d204aaaa2a492a07ab19984",
            "01882868738b4c8092fe552f473cc825",
            "734b5f02ca3b4e2d879df8f4cf9a8617",
            "af7157f70ea0461ab69d57bc6f684f4b",
            "6cbbb156070d4c8f8e3ab1734fe205df",
            "c25bdcca9d03467485c6c064ac59e933",
            "9226b5e93ec64b5d998751b8684891a7",
            "bb78b62e2aff4990a3c43e724bb82557",
            "7bd9e89179224017867025ba94811b35",
            "df5931dee69642f78d9d0f8c97199344",
            "07b5556447b1403bb23e121cac5ad93b",
            "c2eceb6a926a4f6c8c418519fe565968",
            "948edbadaaa64384bde240ef1f144266",
            "f6d63d4263d54016a0a628feb23506c2",
            "e1e45bde8cbb4126b5548dda460a5d58",
            "c7bb2be057944048aa8b273ed02d398e",
            "2da994ea9c7f4ac69f24af35b0387f72",
            "936af50b0e814ef18cc754024862186c",
            "a0d0fae554f1425884f986e327444f9a",
            "5d9259654d5c4f6781e87c1b08aaa153",
            "1b9ec7c879d046a2b951cfbd568724c6",
            "7e91ece208b647ea8b55487c25c3afd5",
            "7f0019b1a3414d9f83d049cadaee824d",
            "bf76ebdf7e2144e39370f180efbae52c",
            "672aa3412fc34a0185ec99b2522880dd",
            "a910525a3ebf4e18acc264afc6d5f7ab",
            "a33ab54b17924e9e9bce90ab845bd450",
            "42b2e87224904a7588fabd845239adcd",
            "159671ec93f442c490fcca55f0eab0cc",
            "d4b8f723c4254c64a8a3dc3c00dac2f9",
            "283e2dd513c94b368ffdd0e93e2a7721",
            "85f935019ab34a50af22fb453d3afd47",
            "55fa81ab7f6f4ebfbd11c3869adf5f76",
            "cd6fa8f66a0c4c24a883e61fd01a0697",
            "addb76d6e6b5482a8422b0c1f79bcd4f",
            "a93dcb0de857493f8435195ff7777055",
            "9532c3cb8a484a51982d1a8de52b5e57",
            "b8b6c56807a64ca0a4bb738ae3bd2f4e",
            "956567d71f29404e9917630329485508",
            "e2647527efc3403899bac1c1e711029f",
            "b430bf50a1b5424f84fc96eb128e94d1",
            "cb6291d6aded4fb7beee97d59fd2b095",
            "6c7214178d7c48838b34d9e7cdd813c5",
            "88b700c66d3541c38148e7de4a10aabb",
            "034fd70e8655488c8282623b921e1853",
            "3c48daaf360448d28749aea9dcb761dd",
            "7a270140715b42a895590e44112c5eb8",
            "782057847e274dc0b1b0866c8574a3d5",
            "47989bb49c6243df8226eb9c1bcf3061",
            "94050c8b42d2444da4c451d761a026aa",
            "56da058e0e8746518e63ca645100c664",
            "75725438f2604ba2ba6fc233579845c5",
            "6409df476dad4eb8bebe04cfcaee6520",
            "eb76c9f0e7d94f798a9094ae193ca938",
            "48ef4aa782ed4723aa53b00436b428f7",
            "420379ccefd14619a3c52c7118b50143",
            "a933df9a0449415cb13afaef4d952190",
            "fc8efdae0cae4df1aa10fee63ed2487d",
            "39d9e6013b7b44f99e8039e03c3085cd",
            "c836d4f1ab434a1eb293bb7bcd3ccf9c",
            "f8c3896dc83143abbf2c7fcda966032e",
            "d818bb05cde049cb8d49e72058685bbb",
            "c0632ed1919a4e62a5527f4976b6da49",
            "bc9137ca673b4775b8712db4b1829433",
            "bc8808a3b16b4f8091e3f692f52b77e8",
            "2fe0075bd6a4441db85056a97f5f40e5",
            "1f761dd3abaf4e49b284bc49658d9468",
            "46e7bc501c7741c082d9d38ef4a47e94",
            "4181e48a758d49e59da670aa740eb805",
            "6fa861cb364442b2945ffe54aca80ec1",
            "af3bcdf7d2f84a6b8325a0c154c495c5",
            "820c3cd1b4e44761a238def4ef6aa870",
            "086bede0dd064355abd8bccbadcefd61",
            "4e22252490f746ceb60ebe545f7e5422",
            "2e3728c060424ca0a1b91e7604274f54",
            "724ccc2f89604cfb920d870e45aef636",
            "2750cc2411f440e4a43b253a2242d422",
            "b07ee5c381f14dc0a7a3b667c148bb19",
            "69e584b80fa84035877460a0920e2a09",
            "69e9f6beaecf4ca998e6de5b2b704a31",
            "61a35e65a65b49af95512c61e34271ca",
            "f0dc2590440e40b7acf2e746b1037515",
            "ee1be77c586c44c9af1c3e49959beb80",
            "9bfb7ba2a2b043ac8913ed8f43328017",
            "2375dcfcfe014780932ceeae3e779fc6",
            "fd6295cc08134f678b2fd7c238b097a2",
            "7cd70db8e2c84a82bed1e4e6ede75a05",
            "5bfc97d6d58d4df9b3ce27f6c7f976e2",
            "e6f1b3667e8847d9b854947bd5748b72",
            "c0aa2ea7c1b74d97b25cd2184b79f0e9",
            "5073bbc87a6648e789562aaf1e3c93f3",
            "294441436e6d451ca88742d003746e23",
            "08847b3844a24db5a75c77d53224279d",
            "a5049fc2f68c4a3ebf5cd337c7ec0ce0",
            "81dbf182beca4c3b87cc25fbe32b5d8d",
            "43babdf4b513450b9507009f103f39be",
            "07bccdbcbcc64d40bc97c9d99490bbbc",
            "fecdb37ea368441fb7b2af3ee245cd58",
            "d38b160c95d04df48beb4c6bb51d9d30",
            "fd897f6aeba74fd89f7a769cf072c2ec",
            "a3e3b59aa3c240f4a06195e3e723f249",
            "31e3d2666a3c484aa00cffd038b7145a",
            "18beaa9c22ee4c21a8cb2981f2f17c5c",
            "a4053806d2b7455ca4612eb08ce2c35a",
            "009278d2cc3a403c9c4462ddfa7b26d9",
            "3362f7e9fc9b44c595beccaaf817cc8f",
            "753c342917c4435c8376f21a4d2ceb7f",
            "4c0d0fab2d2b4f28b66392a274204295",
            "c772fffe1e40435986f0fbe95b9805ac",
            "d26669395f2b4234ae724aa69ad996c7",
            "20dcf5da6e9748838dcc2cb854313755",
            "77f36d613daf4406b08a489fdf3ae4f2",
            "84368a00c5ab4009b5fbe54d0fb3cb37",
            "7d5a492a1bdc40adb0e2737c111c3c6d",
            "866413176d7244ec8bb88e00af2c05bc",
            "820421946ef74a9093f7a7a177f96c72",
            "c8b899abd09c4e6398a34bf1b30a6043",
            "d17c5990ceff467a961b56ec8abe3f7d",
            "79a268fcbab244c498f00c130e3fce36",
            "dee1859dee444ec280774cb4cd89afaf",
            "aa870be6cac54732813c17f838ac5b5f",
            "4648c2be13a44be5a802b5c6529c2486",
            "eed3de49bab84993926c43236de1b66c",
            "f99c10503315464180fcf203727f77e1",
            "995ec4327de749eab1de1e6cccd8d52c",
            "72baa2d4c8fa4c5ca4dc39326e11fad4",
            "472e4f568c9745909f8751496e98c26a",
            "6762600bff7e4dfda4b8805b47d35c9c",
            "3bd05c76b7f34860b2af0034c81aeab4",
            "4172c1f19b3440428b28b22e89410463",
            "c02bb69de419433f99ed446eb7192404",
            "ae376bd7c67040c69886fd18e20ee605",
            "dee8586d2cac4a298ce9645219cfa357",
            "aef4755d58a34c9d91c50627a8d05775",
            "d996d6da75244b4f8d34d7e8c2b444a0",
            "fd6d55ccb1c44cacbc317ca84266c60a",
            "c39b007dc52249ff942ce433f8974776",
            "75addbb21da445df9c9d3fc3f748a5b4",
            "57b297834b4f4f978f2c8e081ae37757",
            "360d1b38cd7e4e13835711d0eb1cea3b",
            "a3d4654d84a2439184d80bcc3030fc29",
            "e7d43f614ec5411c9a2f1f204e0338c5",
            "aa1a844bedd84f43a7f81290d58deda6",
            "8486080ffea44eb9b56961f17ce249cf",
            "058994fb422648feb37920b4400681a0",
            "e27498b8661b4dada6459c8910657250",
            "ecb08afe3df8469fbff8e7b515d4c19a",
            "057a3427acd04ac2bf2256c0e25ed9ad",
            "adc25175bb5f4553987953a643c51092",
            "667806312c3f4933be31d1724093d943",
            "7a37ff9d09db47b7b87f2dee03ccb486",
            "b606bcded8e94076a8fd37643126fa0f",
            "f9b30ed32b5d418c8bd6d7a2cd25ac8b",
            "74a8ab038e3c48eaa169fac32bfd577a",
            "eadc976303ed444faecf8eb768a6c67c",
            "cf3b9ef3906e4ca389cdc5fe900379c6",
            "a6407db4b1ac42bb86f199972386b59c",
            "b5c4ee2aa1e146c4b3e3efe8513ccf31",
            "d88912ed6eed4514958c446bb5115423",
            "dbe20b85936f442e906e77ee8c5354ac",
            "d2f55eaebf734ce8974824c2db9323bb",
            "b8e20dfa3cd145dd80876a51b91f994c",
            "186c4588450a4bf58b46e846924ff2d1",
            "fe4f559f5cc64f9a9a9ca9f187288778",
            "9005d63301b54adf9bacfee76cc7d7e5",
            "feb9ae10fc554ccfb54ec4d0e493c5b4",
            "1410e0f3a9ed4b3ba5f7468877f437e8",
            "e71050c94fb640de936773727f24b642",
            "db1745f7c5d04d1899277f8701f55df3",
            "565b5d888ef548bfb9a0f8eb461a63c7",
            "c74b1441c34c410f8954b1e2b993b145",
            "83737b7b00894edbb61128084ddb845a",
            "b3d46531efba40b2b45a2b777cb968a7",
            "0c523bdaa13447b583daed7170c9b32d",
            "06b2be88a5104a2b9a25054057d52a95",
            "1744b64a26ba4135ab7426b7101d11cd",
            "7a735131f5984bdba34bc2eeab433bdc",
            "870897bcd2e3464184a319a4783d2780",
            "2ae14d0a6c3c4d6194fd39bcb3328844",
            "2bb12ec718c94dd0884ba65ba5e5484f",
            "e894dbf625324dbeb463b530683a6a53",
            "5e317e18c9fc428cb0e358889d29ecf8",
            "0778ec1a64da4617b9a28711e8989cc4",
            "8219322621854d87b8cef3a30806c743",
            "f83b3b92e17f44da8b405a9ebf93e20a",
            "b23ab18ee26641fb9d93fd0d582a61c9",
            "99ecae2a4091488d8cd2db8c9523b9dc",
            "9985ee7665b8457fbc5c5921cfe4d67e",
            "09ba5804982d408dbc64f2c660d26028",
            "891146c42ca84e448305352b4ec4adfd",
            "66a0adc73499412b96ff7ff9cce6061a",
            "850b9f91b4df4ced8d50310e331b179f",
            "66eefb5f22a043ed9d56947e0f307a27",
            "5365c65ec0f74ca290a01340ea7a61bd",
            "e1042b5934444da88c308177f7b3e5c8",
            "a9931752767240eb964071438f6c88ec",
            "60e07c86ce6f474b98c8abbfed3add00",
            "a5a18360a46f49bfa5b1a0a2c2daeab7",
            "283d1af874844b70aaf517a4ba9a05b8",
            "9396819dbea4444b8b62c32e6fc18f04",
            "002e475e234a46c481eed4dca0ebb21f",
            "f63f1a461a9c4b02a937f09fbcd33cf3",
            "3a74c4d708a345dc8d84c141d1e5eeb4",
            "1b2791a02afc405e993bcd60d3d61992",
            "9324e0d1b17240ef81c21672a74ea649",
            "79ef53f449d14441bc6f8c0ec8a5561a",
            "16fb1b3906ed4cf3b1a93f4913773811",
            "d77fe7b562474e7ba846cb41d347ef40",
            "80cab45e1aad45b2990bd2292935c5d1",
            "21c043d7758d47b98d75832ab9b23090",
            "44503c746e4047cc83ede211f6576888",
            "9c2c154dad7a4f918995d8a88b7ac5d1",
            "513f5425670349cbbc9d8f05823de9f4",
            "e65e91187fc64a5ebba21116c93c452c",
            "38e9ec747acc49a48083120c745a9a50",
            "40320cd8cbec49298e0cd4a10bfefc0b",
            "8d209fcf0ad64d04976ced7789c4a730",
            "a927380e5d1847f19e4249583cd29227",
            "b6a71de032584cedada56961e6c9aff7",
            "83175acc5e6f48ddbf0db2cac0289590",
            "d4d06801715941a59ce72b3a7df4d060",
            "3251de33cd744e3bac15e5b53b708b0b",
            "a8d3e890d59e46369692524a41f1ec36",
            "b503b5b8496b41d6a3b6348cc8b82fce",
            "6abff5ffb5bb41e79c243c18c0d1184c",
            "60bdb3a369cb4359898347d4b6f1e835",
            "9a32726854ba40c0956e05f91caffbb6",
            "9ecbb84062934bd59b9a6d5b6c64427f",
            "cd72f9b5191f4356876f6204d56122e4",
            "d9fc6d27dfd64419be4a287d1b5e623a",
            "2a110ff7921649709dbe619618a3f0ae",
            "45e2d27fc380410583e9f541b1de39e1",
            "1a1b0054fbbb4d72bcde864d6969d1f5",
            "1fec80927f91435282aa7f7de2e46af4",
            "6e31873bf9104e87b63a41b0b2c64073",
            "6529a2ed4414414db83e006fb105a2b8",
            "9fed42ef5e8d493c9d5c5fc62cd89941",
            "ce659273015548138f4ed61bee616c07",
            "7782246462df4545990c403fc33f317b",
            "75858ddc6d2e4fe6aa33052dbdf7ad43",
            "575d7c0c3a8a48b0925cf20f9038b4c1",
            "38a78a08ee514a6292014690d436ab9b",
            "3e2147f19a89476d9ce874f72c8adac4",
            "83df8e01cbe1402bbc7d4c91b7300fa0",
            "d9d1279235f84f89aecdc20cdf5d9062",
            "bb000e5022b048589eb3734a21bd955e",
            "1ccfbeb436634bed9bc36ad9039701dc",
            "67119383f5724faeabb3c9a8e2036233",
            "7658fbc0becf456bab5f495e059da0b1",
            "59ca2579a8b74e6db1dec921d110e79c",
            "faf956453a794d2caa0e8ce0bbfe9092",
            "dab0df3646934654aaf735c9d0c4aea5",
            "77c80332bb684609834fbcabd24beb89",
            "0cded6e19a3f43368c683563b77876e1",
            "a0aa383e517747b6a1ec971a1f507cdc",
            "73cdeff06d394428abdd99e35f6a48f5",
            "b9734a872f774dc6af3f26914dc93117",
            "9ed7010c11fa4ab4b877027896dd4449",
            "cc9c702483594fdcb5347407b64bab93",
            "4343a6482d4d4949ba099fbcc9e10439",
            "bfc3689fcb7d4e36b3f975379383ef67",
            "68605d730dc142efb13d856ce7468394",
            "cef70bf62a9b456db875956668b1003c",
            "1f4089e4a21c49aeb6e6c3b0907af937",
            "beb7f21c9f0c4e61ba8f041c73a28601",
            "483a1375d4494fa9be75d6184994ebb1",
            "a703bf525cbf4f7f9cfdcc4169611bdd",
            "61b7389f9ac54aedb8c118a5522d50cb",
            "e202382ad534441b8a5efce599341c73",
            "9f99ebfca57c43cca331ca8b36f227e6",
            "25af1216ddea4398a22bd040f0956e1d",
            "11aacd34c400405695875698d51c54cc",
            "bf8e12013fb547ab924f244e98c3a3e2",
            "a136d49ebc7f4d51a3e64975f1df3661",
            "550bd795f17345b183101de84f3e27c8",
            "269ec23d7ed44163aeef1d6b80b230ed",
            "187bae9a93f047f9b9c63acaf4229cc4",
            "1064caded74742f59388e91f8b7603c5",
            "0659f2bfa6764652a3287b0bef00b78f",
            "37fd4142bfce445ebb04a7cbba7977b3",
            "805735798fcf449daaac386c6fc4905e",
            "70f2016375bf4ce19737983c7e711d6c",
            "c6b5a37de9194ddcbbe643080bc4cfbd",
            "f48811986d034cc5b95b5dd3b5fef200",
            "60060d49ecde41a3b80eb4ba8e5f8c17",
            "f2073850241343d9b5ce5318af8f04c1",
            "0aa7aae6dc7a47b7af572b80a2a566e7",
            "87d9586cf4e44ff68c153954295adbfc",
            "8bc5427ea8dc47f48f67e541822145b5",
            "6eaa2160093b4220b36a1ee743e2c367",
            "23bc3e2a09ee46e28fb716237e16976f",
            "74e869b930e349ad90e8915b4c486963",
            "2bcd77cc7e0143a282f65b08237fa2ec",
            "862eb4d03b524e26babcb2e8fb3e0077",
            "75185db932604e2e99b8cd4a1aa9b235",
            "2b8dec06a40b4ef7b9c12c58a7deb3d1",
            "284dacfe66db48a9abe748c983b04489",
            "1378088a0c4948b4924f769924f40657",
            "dfd735babf774463947e1be97f9bb95e",
            "6424524d54ff451f8061fb674cbeae4b",
            "6c316dd7dc7143daad6939409449a252",
            "fe0b94057053454bab249d76f9494590",
            "66a459ee6d8d4e7fb06910e0febf852a",
            "e5e2123fda8d4492b247fc7bcf47836f",
            "6cef3d1ca1734edbac31cbfb6b682974",
            "82e323f63ad0476abbdec3b377053d3b",
            "d18e5da47bf44cd1be62d8a9785ecce8",
            "43675a3b2c214842a9e4936f24a39b1b",
            "ea410a3f83884e618789ce60f60ef443",
            "2cba975d2d914d068cf8ac4ced865f39",
            "6f7f2d2fc9374d9dbbd621fc18338955",
            "035b46c125d7497d9d9b6233136f206d",
            "8508312a1f7841d685300434cfc8d215",
            "d0b03e228e164625beccc8dcf4f6ad99",
            "c69145c1e66d472eb3a9a4dbd11af912",
            "a0c114f78b0c454e9c728d42d6edfd61",
            "e3c168ded7584e66a24f3e5963cc3d2f",
            "2fb2fd6845c843b9978eab7c83ff2b0b",
            "4749d6133f3541dbb71386785e6344bf",
            "94318c27e385480fbe69cfedccb8606f",
            "dfdac1e822df4c30853abe69261cf53e",
            "bb1212451dd7465f95e453d577331cf4",
            "de18a130e79e4ea59c9f2a94bff7d335",
            "d9cbabc65db14522960092cd89b04ef7",
            "0e0fd9bc181d443d95cb134aea849c36",
            "586d5e149f594a219e3efd9c66d23ae4",
            "f106fd636625460cac170927aebc73ef",
            "349f75a919b240d1901fa5cb7198e040",
            "0b6f41a4dbd6415f8024e698387c8b94",
            "347a28a0795e4f7ab5492f88f83c0fb5",
            "eb03a4d9567b47138a03afab20ba9a88",
            "30ea5087e50145f7b38ed3306062406c",
            "f7d78e4cafdb4ef4a63fc024cf046e32",
            "506d471d0b814901b2686dc7f5029b5d",
            "00794f2b4eda4640ace90808327bc350",
            "22f9141eaac14041b7deee371f424cba",
            "c879bc0f10b94ea5885bdd9834ac7ef6",
            "3a3114c0106f4e8fa8374b3fa020c1df",
            "24ac07c34df140d9bf08cba4d6f70ff9",
            "a5c76ee7c2d9424eb5a155453833464e",
            "6f9b9946bd4c45f1bc05da3af2304e42",
            "3dc75b81b0e343479b6288a47d535a8a",
            "b8df3456ccfb47f097cc10c6cd9b8a29",
            "a7161391a2fb470db4c929c0aac0594c",
            "4973c8ba31bc4293be258c99ea21bf3b",
            "4f3c222022104d149d18f2fd0335a43b",
            "62b34c5497c24c98a92b57234511d3a7",
            "15e5ecded61a4417bffec80e47cec090",
            "bba385137c0f41a9bd1768802514e807",
            "4fbc0c52f2784df2aca1fd844f7c0794",
            "4587c159c68741c18f86adf3c68d898d",
            "86703c12d56b402dbb8a63e6c768a472",
            "732d9e514a084e88abcb6a6c2f37ebae",
            "fcbee23e69b845b3829d76dca07651fc",
            "69a58c63c9db4d2a828f3f3ad5c2e7b3",
            "a1748882e0e04425acb466b36b837b8f",
            "f121671a71bd42b4a1ef7d215c6678b0",
            "b6fc42498e914fa0842e64081d167e3a",
            "c4676827012142f79c25e7f7dd2e473d",
            "23b2f655fdd84ced9a69ce3bed815cde",
            "d5145bdbe15b4de598725b61a2f615fc",
            "c917b11d57c24df49992b3eb94682e9d",
            "f1d0c0d70bfb495b985d9185199aa988",
            "ee12d8e02b2449ab99b03eacc48d75f8",
            "f163f5d4f984499ca1bddf400f5bed79",
            "d9be838ca8bf40f992f3d1e57dc6fb52",
            "b023738985c04b59906529f6ce810ad7",
            "838bf25d308e4611993d26bf8ee78e2f",
            "2da9ab292d3749929ac5054b89ece91d",
            "6dfa1933cda14ffb869093d98a209cdc",
            "cc646bcf712f4e31a1193da1ec907bd8",
            "bc2ce045b7c34d609d705dc6b90114ed",
            "25bc78a9b4174445bbd5c379ab20e2c7",
            "dec601c0814b4f54a9ed593eddca0fc8",
            "c47acf1ef1eb41388a988af0cf88569f",
            "007b301f67a84efda7ceee4b338ee3d7",
            "4779551593e7401a8dd6e5a66f0b2bac",
            "4c3fcaaa55564f4b9fd79e8bea4307ac",
            "bcc9a19e1a744aad859058b9b704be00",
            "e6eb2b9899324b4ca00c92539cb0f764",
            "9d5dfc4b39ea484db9cfc70b2ff5fe2b",
            "0e91e9b6e9654a39a5e956743d4d8ac9",
            "06f57489dd2341db9cee85f26bdc774c",
            "5b0cc4eefabd4c4a829c2f23eafec045",
            "b06b169b9bed44438d0e01f297c9e1b5",
            "30b78eb3e85d4bb18278f40eed8210e6",
            "fff646e45e3f4750b23b33077e95faea",
            "5fd2eb7573ca4ea0a8dacba729abf139",
            "a5000edd3f564280b12d18bc3a5c993d",
            "dc9eb16167e6410e83a20f46fce72088",
            "9f921ddd422c41a6bbf02edbcb8968c1",
            "89ffca6a1b7f4c84b420ed9249dc9e66",
            "e8f5df077d504959be844d7d060425cd",
            "f813210771c74f66bf4c1875f79b68ed",
            "188d90f016d248669a5db948f5685259",
            "93458bae4b944990ad74015a369a9fea",
            "c97fc919796141d7a8aa284d917c9f61",
            "4ac02a4b7da84e67a97b6593af7a20e7",
            "77895ff400454aacb90347109180b9f7",
            "c8cc541820784b509087941ddf4f1d40",
            "59c6d43c48e64308909cf441589cd0e2",
            "dc0a08852f3d4c3fa0c04d99fe7a70b8",
            "45ba520abbc342d7a890c4890640e4a9",
            "7d148bc691174bc58288c9580718da68",
            "a405230595274b6e95e93bd175d4396e",
            "d3fd1c3a7aae46618fc40d898e3a1c77",
            "3cbe26ff82b14553b199be2cc719a044",
            "92136fedaf2e4608aa91d7d24fa0fdb6",
            "753fa96c666d42d8995279fd9da532ca",
            "f9b9f18b813f4200b21d1e8d9e8f19a3",
            "8e94cd80a12342f59691567f247465d8",
            "eefc09d414b343c18e2b715240959d10",
            "434bbb9c1acb482fbec55ccbef1728e6",
            "6ed708724aed4538b012ce3161a9d8c6",
            "fc364c2085b749aa8e2eb8276226b90b",
            "5fc959e9960d4c0ea7c30cb6d8da5709",
            "e37059cc9e6c4dd184332c8bea1d3a5a",
            "58bc1579486e4d5193162f029f476f74",
            "a71d306b9a824533a9e06a5c3cab285c",
            "04f40e9e196f4a9b9984dd513d2c8f86",
            "a765c4097c694d578f7c5132d1a84cfd",
            "816557971df44c35a84a01599f861e9c",
            "a532aecb6b6044dfa5ae13cedab85932",
            "26a833daf50d4c46b2907f31d38c87f0",
            "bbfa33d67d7c4f91a7385ab064672bae",
            "3f1988439722429791bca693a42041e8",
            "51d2a6b52a2243a39ea46fd73f4cc70a",
            "0ffaec80f956460085b211465b7b176d",
            "00ebf224ce484bd68606a6a9b37db411",
            "9b587b7bcd414a40a32dc3527b05e437",
            "3c5bc8f4eb0d4481834119dcf06bb3df",
            "f9bd1fbb02784c7eb5e7bb6ee338660d",
            "5af55a606151400394bbdb130a4eac24",
            "b4151644233047069a65c7dbe9e9063c",
            "cadca1cec1cd43d198f9f639e2e46541",
            "e2ae9647d2d04185a7dbd403611336a7",
            "cc4b73cb6277457bb0593f097955ad14",
            "7d897bba374d49488230b26f28fd7855",
            "43832af92ca24ce29e19dda0b0f695c7",
            "dbb5cc08ab9a48f58b5d4b46c581be7f",
            "480365c99ec94b8ba13ae61d1788e04f",
            "02c552f5a59c47a9b0edfec70ebc02d9",
            "14ef995fd1534479a51db2a687de1324",
            "98701b8b546c4e3ea12e6a95456cd41f",
            "92c22f7f7dae446bb02b1d5d2730ca05",
            "5fe8710fb93c41f58efdabb4eb980be1",
            "0ddebcad951343cc905f14a6512da958",
            "a9390ac3b15345ebb93c93d2be8876cf",
            "c08d3850182e4cb1a30ee40aa4600c15",
            "85aeca2ba48c4b5996a8ec7e25f07c9b",
            "c706578d0e864a2f8ac1d81696ba0247",
            "a125c4bd481c498ba29c3e3864ab24ac",
            "1d47c4c1faec4ee8a2e69c377c9c5967",
            "376fcc2287634c7bba6d9d5a715b79a1",
            "9347786ba8904253b26b3134ad58a402",
            "a7f72ad821bc4a2896f7ed4223dd7762",
            "0a374309f3de4e42a5bc622fefcd8bff",
            "4f17bd46c53447fb940406ff1efffa84",
            "edb924a5377545a0963ea624b60555d1",
            "84af1d9d0aa24972bfed508804aba90d",
            "0908b8f887ce4123b7a22f60a3fa5e4f",
            "fc172297e0a247ef9aabed306c7425b0",
            "fdf353c732e847cdbd3a3eade600a144",
            "795f9dd0d2e44c5b800180717be9f422",
            "08cdd6dbbfef4b8ca8d95d1882b96efe",
            "7fa136279bea43479e0d74b61f2436ee",
            "a2134b4f1fa14f249d8d83b8af2af989",
            "4c8f2cbc115e4a41be812a556088869b",
            "27f3dfb70f004db096fc58aff7dc08c8",
            "124fea2af277496db9164b9dcb962a2d",
            "ef89463fb4f346ee9988d98c11db538f",
            "d003272513d740e0bd067a3f570d084c",
            "de37e4da48504153b1faf805c1e6278e",
            "7d9d054a8f9a4156b3a5ce93d147c40d",
            "85620cfb35964d86ac28eae959d4b1a7",
            "7128349998c04b5b9003aeead11fe203",
            "ca1a4a4ff0d44f5ca4d5e8146115b6ec",
            "5a192a206b4e4fe7ab29df0e4c11a5df",
            "5902a959b64c4615abe6fbe2fdf37164",
            "d29645d7b4024e628237d8c7f6e1fd38",
            "53f850a2a0b34486bb4c0c86098f8c61",
            "d789dc98827940a5b3d8f7e19cbd619d",
            "77cb83283654412ba68d32e051c8861b",
            "65fc0e435e894efb99f572142eb447fe",
            "9f242f4481cf43ebba26dde9dfd8258d",
            "675c930de59a4d2eada30df0a55d0060",
            "ef541f93aeea4c349e6a9801f69765ff",
            "93adfb6503e549d8b832cace95ec001f",
            "7760b99eb5844f29a9209cc58c1e9c7b",
            "eedad616030c4408aa7f4c804318303d",
            "7d3c1ef8751b4bb7a1e994eea10ee5e1",
            "be8855e09933453cb0fa8b08b3b62e38",
            "195a410df688423fa78a56b5c1146ac8",
            "956e51c4e72949c185f2b03e3bc68249",
            "5a5d37281e864e5ba3a2b01aca3dea2d",
            "04c775d5b3074c60977bbdd782bd481a",
            "c44c87ab98aa4c498798bb4f2f92bae2",
            "52841864aea74c76b8f7843ee895421a",
            "8b30be29c85248598a6bb5b73391ce86",
            "9cc16928d36a418db07be00e6b711a31",
            "36424d307b8c4990be964fe89e45a9ca",
            "1c5159051205415680f3d845041be5e6",
            "6b32900d2209431a8a929f8ec044afab",
            "0aa9f5c1ed0444a5b77f97968c06f47e",
            "f49eea86c50245e3b6e9f0d242d075c0",
            "e99cb8c5cd03439abb5a80cfd1773b22",
            "309489b3cf1345b98a735270277b3c1a",
            "1db8d98c6bd9470ba075461433cef1e3",
            "02b6d7b9d364463b9a32aaadda18ae77",
            "b9aadb01a2384a0c9be0bd19e7ef433a",
            "ee61e3bffc6d427c90fcf3a33bb1fdf7",
            "5f0b826793594cfc981068a439611c61",
            "52ff42ffcebe450e80fca2d08ce70903",
            "4d5a1eb36ead4710824863c6057de8f4",
            "fffd4f2814d34d9fad1fa43924e90604",
            "4099920ba2234e64a7c82f5df32fd8be",
            "0fe47fdc51c54f1d8026ef5d4c5879bc",
            "a31bd423933d48ddb969d0c19ac1bd17",
            "408be8bf1fd542dfacfc19085baeb55b",
            "3ae3f6174ee14ddbba6eed63d10c9d17",
            "fb0fc4094c4e45fc8208d70c217df981",
            "7d48a4d2a06a4512b11a2915e57447e4",
            "622c67a7ef6546c7bed7c9abdb1d63a0",
            "cb1c3567a2df49f2abe3d1d0113e82e0",
            "787e3d4f37a442bf935dc6ecda1c2934",
            "9a4f987414c140119044bddeaa328d25",
            "283fa8adf7d141ee8b9dd1c4fa5643b0",
            "dde0d134f70e466ab947c6195fb587b2",
            "9f435149040048589945056a4a296c3a",
            "7f51005cdc974e47b73e97f9cb8dc159",
            "0eb436c85fce4af39279bd3873d45131",
            "953b021cbb124dc1b10c72ca9159a4fa",
            "30c4c8a7baa44b3ba510d594e8ab4c6f",
            "0d49b51f4b23498f8d079bbf3035d745",
            "aa5589ebb0b14df2ab9815fd891a3cb1",
            "381f441beec445c1ab8d2c9420d17268",
            "7e19154eb45d4ce4b52ae0d43ac12886",
            "9cc2b305be5e48099bc2d99e8533167f",
            "c61316963905497c9b9a198e896d5b74",
            "be632df2dece4014809c37b9c182ba80",
            "85d84f48eaa44dfdb42ee871a1aadb49",
            "7cef2d1bacee48a799aa6bc7e17558cb",
            "6e7eaa513ed24478b206330937999827",
            "d12713c3214f471c9f84268d9d7086dc",
            "17103207c98b4ba1b46ef4a717f526a0",
            "bb835fcdc8434e9baedf9841ebd74390",
            "9eb4deb6cec6484294d0cbefb7b7b2ea",
            "77433243ae4e4864a45db81d51902326",
            "44ede40061c04326b2fe6a5c86fffc1b",
            "ddd38c3bf4424b9bb64d251c5a16414e",
            "9ccb5c51e4244913a4bc7593ebca1aae",
            "3f301ffc30524ef29df0cf7b3a7861f9",
            "6877c897e69c4bbb9c9c5da3845bd21d",
            "ed32b03c99f043bf998ad59f2ca95868",
            "abe6b2222968432db5f1cd7c107385bb",
            "44d64bca3a154b8294bb02cb85672337",
            "fdfac93d46db4c27827adabbde4a79af",
            "6df78be046ce4a22a03952b38bd973b4",
            "54b35b4d58da48ef9a6161153350d3f4",
            "7304c1c226904fe3b959d03fda98962f",
            "7cca0f1c204c47549790ff6e133304b3",
            "adcbde4980f0428991fce4fa0d3523c8",
            "661220324ad14b1a8adc28df479bba92",
            "8292eaaf562a4fa39566afe98d2dd8a8",
            "90209cc21e8a4ff595349736adf94573",
            "f405276ed6a64a378dffd8d090ed4e14",
            "19a23b89ec2744e2938c716924020af8",
            "8af5a9a0dc23409b9317a944710796c2",
            "08c7953e180941f58f36f148db0715c4",
            "73688f211f284bfd88984365de95d424",
            "fe6c74d82ad94f8ba7fb44ab89b9ca1d",
            "514944afa68040c78766aed917b7a99f",
            "034a6a05a2174e118c595c15731c6c81",
            "206f97125bed4aa190ce6c054a15d4e5",
            "63eee0dd61074020bd524b59393048e4",
            "ad9163925ab64f6c8d504a7c8171c8cc",
            "52a147330bfc43c8a14eea6d60343610",
            "e2781f0883ee44daa02330929f7d655f",
            "7d15c23e262d42f0acb4800d372c6904",
            "2d3a33cf7a26494588beef166ce58c58",
            "7ceb6b816c4b41359c79a4bc46f2db33",
            "1ff797ca5a594cc7a737733f01b61e6b",
            "c982547bc2284d848c3d8f6c20e809be",
            "8ff723cd0d994320aeada737b7926bda",
            "42a86c6147b74c9785c9bc8e566e4b9b",
            "517b3b20444343599d22e8b22d588e16",
            "648ec654b6164082a7d7be00b9b51e78",
            "05dadf77bbfc491ead5520002ee292c7",
            "8020480ec2f34968ab2b0fbf370c82a2",
            "1a0af9aecf644c4a965ba7f659f82399",
            "a251f94432fc4d07b4d8d1ed949a6e38",
            "21db9cc9ec144004b3a1666db0ba166c",
            "2422a36d59f543c094c4268cd8956c0d",
            "5d2facaa079b457f847a38e2536865ba",
            "e75c42a17dc24bce8ce0e9d14210f424",
            "7647554ebde24cb4a2ee6d67f397175b",
            "84a5549925a44376a519d697fc47f147",
            "53f72e22d1e240fbb8b2c98562031c47",
            "d2174e581b44483da350418b118144d8",
            "73623b07437442aeacf1d45b03d7ed4a",
            "26744e2ca8ce435ab783b0296f866ede",
            "1a614b4a70c34eb6bf9c657c8722faed",
            "38b51a94d2d04082b457c10b2a75c36e",
            "199794a3a7e446369f45d672167c8de3",
            "d299fbbba27a4809a94e7e64825fb595",
            "9d745a5c3d5a4907a46a0ee501a74050",
            "6397507030c349cca046731347d482d5",
            "8b1c2129c1f14992ac27762b067fd219",
            "455459f96a794f288f483563a669351b",
            "b34b935c3d9c483fa7ea58140be24c65",
            "073f705f34c94877aff1bf3739d7c1ab",
            "e9cd9954d5f94fc6a79e8b29140a4702",
            "7eedcbaa8b8843c4b88ee6ded8aff8a1",
            "fa21d4480c434c50a0d039537b8002a8",
            "df9854c13d564c54ac221d762eddc05b",
            "c45eb81dc6e547b9b669ef77e2afaf39",
            "636e8a5fdff04fd8a36503e63185db58",
            "3a9a6bcc9bb54c5b88085a6a854a9d18",
            "a715199311044b2bb0b5a3cf949f31fb",
            "b315b1c8a6da4764b793c17c7bc756f7",
            "a7c9370b1c1d4009aa179d8635f4c647",
            "7dd58c74da044d258d2c7300ce68e9d5",
            "500b1fc83f82466687998b3c5264bbb5",
            "8bc6673c7f1842df804b84de67858619",
            "0bf9b7a71b664420ab513aef39122aa3",
            "e7d19fcf48c84a78b380a6ad423bd52e",
            "ba763fa4e2e44b59bb246a94218ab028",
            "9cb7e05c560a4dc79e3ba1267f2fe464",
            "7eb438fb8ff24643b3843d6410b1f68d",
            "96414d953a094cc1ad9688fd58c53ac8",
            "e3fa488694f44f82be16ae9f731eeb3e",
            "53579b867b8c4df197b2b9ab57536393",
            "a645d98c75f1419eb3e48d2716f5de15",
            "5172caab084943009fce4db5754eaf44",
            "8a1eec6b69954164973eb4ff72987c69",
            "969e128de4a9434293f23700746499e5",
            "7c5e6efc800e441880c031370b9b502f",
            "fd2b20890a3f427ea0d176b38613e01e",
            "08527d06f7704a51a241a2918bb1187b",
            "b82ca6f217c843ce9de5c7cac9211b23",
            "042db4b6dc29439f82a5487dac99f4f0",
            "1e2a1f4770c94d39b346945a5531a88e",
            "42833429a76f43c199949c77a344ae9b",
            "18d5e23d5c57435bb31caa7b8cec0494",
            "533043ef2b2a4d3984c0f82351089202",
            "ac27255ceea145109b9d17686ac05b6c",
            "36772a3c1c744a3c989f8b0d60970a15",
            "cd43f7f295704dea86599cc10838c2a4",
            "70baf0b9271d48df88dac4dfc2e1cf81",
            "51aa7f0c00e044a5ab55048749c07283",
            "8d959e0ec5b248179593a899556fd8a5",
            "ade0b1a0cd664a51b6ba80452914d546",
            "20f9f4e84d824ed08762050b91f4e9e2",
            "5865e24b7f7b42c5a7d9749a3588b85f",
            "b232d67fc91b415496ff8655689892c5",
            "06072b3fed7b4011bd56ecd0b581f4df",
            "b7539f676ceb4a8b9bea6cf9301190a9",
            "fabd4af97cdc4f3391fef58e1f521080",
            "9711c7cad39b49b4ad44a65e7e1375df",
            "b806d08f37794dbe994fc1a82a8ff060",
            "76b48127c41e4e2c85d953b0b1d1a452",
            "41b9e8d848394315853070c6cbd2962a",
            "3a9fefb3808a4b269c28d4ae00c682b5",
            "0134c995d2d2485a8b1753215fd59022",
            "cb28eb5dc1ca4131bb697b6b621b4ce1",
            "5109816c05af4635aeb2e06d3c01d41a",
            "2ae46e102a6c49cb8bc492ac22257e31",
            "7ae985365a53483cb256d8aa9ab684a7",
            "d46300706a524ee5a29a857af13fa3bb",
            "c371fcf6340a4f0e895f1fc6d4a11d52",
            "6bb0969e9d374d8d99641b19d23d1819",
            "f6f1b2f2bd1b4017a3afce6e0e4971e5",
            "85e585b4874448b78d1daed5d9f9b13b",
            "fcc56d834b8344908747056bc43cee1e",
            "ad338fd87d1440d79da5861b33dd0f76",
            "9ac9b9676b73431fabfca537ab70cc9f",
            "298710733cc84529abede12c019cf129",
            "887dc363e8fe49368f02f08f3e007e90",
            "0bdc288d15394b1f8e1a03ff30d8d075",
            "cac4ff6eafcc4fa6b9a886feffa3003a",
            "1045248d8979422593d499a87d259b6c",
            "f76e9cc38cc040498e8683cd7b468251",
            "6d5a057753c4493091be85d04453716b",
            "d48a6d7991fc4038b2179c9016fdd2a2",
            "c25c800964514d7e9e7c161fb7d3d19a",
            "d575ad1d6dc54841bc0e4092f71c4b1b",
            "4c9d32bf1cb640f1844aae004d88e174",
            "8d503afc6ce94321af65bca61e43af3f",
            "39781b2a22ae4986bdbc67c42a8d4004",
            "f241ea24db574a0781f6506ba03b1ede",
            "3664cd9c244d4f279ebba9b65095fff0",
            "3ca43109be0640948bd71e5bcf649a52",
            "3ebcae2d00c448299ac5677891c62989",
            "90f3bd88bff149d891d37483daa6c6c6",
            "7070a9a0e1e94f94b1828726843a95e8",
            "7e982e8a8ad44b75b1c3350ca165b79e",
            "e87c77ee6bc74912b7e988c29d378501",
            "e83f6f563c9a46e9bb756ee6c192af87",
            "1bf7dbae358b4ed9b33df51af8834576",
            "c72b1fbf51374690b0de3e9701c81651",
            "680f8c29d2f84b03b879e36a0491e8cf",
            "b7a75c0837ba428e96d2a1c9e488af26",
            "277bcf0ad0414d3cb7f2986aecf8f326",
            "57c3353d148d4f6187f9bf6b681b2416",
            "1c4993ba66684776908caa8bb86107af",
            "81f6eac5d05645928a1dc1ec6dd3eb33",
            "0f7b57dd5ba74163bd9c553e9b6db1da",
            "707d79f8b71346b98ab06855b1f5cc4a",
            "215116d4abe9425188923438d3100835",
            "9dd00d520a6b40c2a0283fa0afdd3365",
            "7f27388cb65548f3a0aefa372e8e4485",
            "b40cfd3714e346bc8a647839dd3d83ab",
            "39edb87a0eb34a60aef57b9142942531",
            "c5b100388aa64cc5b85986a60797e70d",
            "663c96608b7c469fb58f5706bc25d8dc",
            "2245e70e3cca45299759fdf0ef419503",
            "efd7f1292a5d486d95aa202fbb5b8981",
            "4a80d71fb6254be5b37780bf68ea940f",
            "e1670bd1bfa34bb797ad1e20585d5d9c",
            "1430bec187af4b5db40967b8f895dc16",
            "a095edde00a54f8e940c218f655586f9",
            "c125e47607ae4519ae04ca643b1250f7",
            "21e95aa07ee14216a93dc53f4089fae6",
            "8756e29f1b5d4863a02994873aa4a8ef",
            "3afa4114fee24999a9737c319b83544d",
            "e37b91b11f4543d59d6e535e31bce630",
            "b2c3906de5284d3888d29d0842465b46",
            "a8a342c2a0c345a1a51b34d76275a40f",
            "55fbf47c114149b59a0b307288075310",
            "3730c581d98f451bb3dbfec22cc6f64c",
            "91ed26f65ab045738d282fc57646d9cd",
            "62a45f69f91c449fbfd80ba37826dbde",
            "650d1ceb912a49acb983ec7f61aab94e",
            "d8cc9678efb44a44a061b7d7a0f1a9e7",
            "a26c1db940e346828b2d43fa37d72be6",
            "3b6e3a2f0b8a4e9aab394797b80b8dce",
            "2fd6513fd6514b4ebc2c55875a754fa1",
            "18b8822480544434999d6cd306992514",
            "34d70c98e7ea4ddda033fc4319810f06",
            "b80df65449984a4c81286b79c325c382",
            "dc5a418c76e5475ea910dfab4bdb9f03",
            "bd3b20c387664da38686673859939fab",
            "096330ef2ca244eb88496a3ae407802a",
            "da5ebfcee2cf41388525e0580221df7a",
            "40edce39407542d18142dc57eea19817",
            "566e6e51f5fb402bb21f1e2029dba2ed",
            "d90d9eccd4a34762811d138f409b68e0",
            "827fe9a502b34f41ac148bf2c6dac8eb",
            "47af4cac066c4c258c1ada2b4976ff07",
            "2dbefde7d2ac4a8e9a254d0c09f7aee1",
            "84bbb20eb59f40b5a04d98d7d991e7f8",
            "04b38afb719e42d68557c98d3f38a7de",
            "df767178ce21451e9d5eb612cf8faa63",
            "7d45178a365046e0bc5289aabae49f4b",
            "325cf5fd4a67403bad8d231de218c32a",
            "76506aca8373454ba4e30ba55e455b80",
            "c7e1a88aa3624834ae6047c5f837154f",
            "d9427c9d10ec476d971ac61c721a2c99",
            "2a34b7b9f2f4428a803318c4942bad50",
            "b6f4272c2a4a48169a3f2e6575d40a90",
            "ff4d4de8117645eebc706e69f0eb5fbb",
            "6dcb77700bc046e680cf64cd597fd67c",
            "21292c4921a04af6b612d1735dda9e14",
            "ad30751b04f545b49fbcc1aea89248e0",
            "4f7b32261863479897a9ba0db1655c0b",
            "0e8f36463ce84affba9bbcd96e1d00a6",
            "6dbe1a17bbca48a09a4a457b1cfde028",
            "15da1eac06c74cc88af19510f01b0552",
            "7b815c537c3747d9910855618c207bfe",
            "cadae02559c74db0b15e64f0afdb9fd3",
            "0804614f14e842f4ad2cbeb68e322d45",
            "0c97d027b7dc403ba372c111b8e74d09",
            "794a74347304452a8b5859877a0c5522",
            "3010fbeda2a640f2a5d9e83e2020e4c6",
            "eb164b673deb4126ab03f2ea138dafe5",
            "89a2000b23914b0580a9a4e90614cb62",
            "e679044a78964af8a18be7da917e6c22",
            "c091edfeb1e74153a90fcbbeda4b3dc6",
            "b94a5176d9f6454f822514f8a37f0e6c",
            "f9d9fb9360cc4d2aa8ce890143d2aab7",
            "85b6f2ba9aca4c6c9fdf27b08d8f3885",
            "5262e896114748d8a1f782351124c082",
            "7681f579d18949a3a1cadeb9aeb7e712",
            "efb29037338c46bc9d95ecbceefd48d2",
            "fc5fef904a334c029759884bd6d47ef9",
            "a65d20c0421b453188b1b661964f11e7",
            "bb96f90a70214b03a1b509c5e351bfb3",
            "82e44532399446bbbf260cf7cbc2ffd3",
            "404f1f66032146188af716a6d1a0d0df",
            "d707f56bd7b84dafa53cf089fdd3d8ad",
            "3dc5f0a9a56f473d889fea2ae290a965",
            "ea6b2ea0a63a4607ace11448aca2739f",
            "2df78b19edeb41909c562f6cbcaa6e78",
            "356ecf855bdc4d02a584f0969c43777b",
            "ccef96e7696f4f75b9ef7eae6e8f1166",
            "8d258f1ff6364977bc2088aa70aa1040",
            "5961213139474d0594e16cc54fe4cb43",
            "e3dcbf45bab5464fb953a23c9c59a55e",
            "8531516c63f24512bb656782e325c2fe",
            "4968cfec1876464fbbc23996c3ff7e63",
            "2c6952a7f88e43b9873b9a8d7543ec00",
            "ab21c5dcf6a446c5a6711b9d85406aff",
            "f2964685a3c3431e822ba847ecfa0439",
            "e6f76e8930e143a7b0e41e41ee8142b8",
            "0c7b42f70cf0458a806b7f2f2d1f5171",
            "f65f3bac8be84b09909ebb3fc29053b9",
            "dbe611480fd34140a5fac9c9aaf38e39",
            "fe5a717f4e9d47bd87a90494e1bfdb2a",
            "1b39383f2e95485883642c2c95e931dc",
            "d0bae00bb57a42b6adb26823ab180a9e",
            "09b8fb480bd34dee8b8d36663e3494d7",
            "2cf8409dbe1f4759b86498fa105d26ce",
            "b08351c7a57144fdaef282416aba4c2e",
            "a43a7e86614c4d478c9fe4436d5412a8",
            "a515da38cced41bba3413145192fcb61",
            "eb9fb40b24fc42b78002b2b050d58673",
            "96b309f927e54192b99fb5eb662e6a04",
            "d2ef9a06dae5451cb8476805e6b9682a",
            "9acef00812cd4f1896dbf616098209c7",
            "552914fdf2c14826a7020106f8802db8",
            "65ffa39263d9457d9edb82eb62a021a3",
            "9131d58e7a074233a8b247892f66958c",
            "a303dbf3907e4208a31c7f7377038ec8",
            "86b53538fe0f4684b6f649e51d049ef6",
            "dd01046007d747b0a02eae30f2c52afb",
            "2f1a44c4e8484256aa9566a3c72d63b5",
            "f62d9ea9f7fa421982dfbf249e13b1b1",
            "97e5c955e274404fb92f5fc80f5d0e86",
            "c88307730612422e84eeadf984ca2288",
            "ae22d64e8f6f460f953c6bd2c3d2ed75",
            "a123baf87e8741ccad07760794962d0f",
            "15f039bd78184d059e877833af69dd3e",
            "d5a3056dd6744ac6b968d7c196feea87",
            "dc463eb44e724eeba8fe0458cf221c6b",
            "700a4296f09a4ec2ae3cf96433c2440d",
            "416b3c6375f44b58a6acf82ca469da81",
            "2c55b250575b4c4193fba4f13711188a",
            "6bc4cf4f372d4af8805a8f1b26a1f771",
            "d352f348f96d45ac8a6ecd6938a14ccd",
            "44699ceeabe74c0fbac7eddaa5c324d0",
            "c166afe75d0b48ca93c9862f9b73bc0a",
            "fb91ac7270fc45db88c5cec999b428aa",
            "f4c22bbedf9f41c1b2a8a3ccf430b9d0",
            "0390198450f7454fb0fcbcb42ac59caf",
            "4b96e17f7d124a89b2abaf8e414c62d5",
            "81dbf2b847f1439d85bbe6f01af43a73",
            "f5a37b2ebdc04c598a4649970e439c08",
            "3a34b0a791664ac0baefbb5ccb3a1094",
            "ace3a63f13f04134b9dfa3b076f2e47c",
            "1e2cc534e1444871b9bf4e71ef7621c5",
            "b124539142dc47199ea3ebd5abceaca2",
            "a4d9346be8b44b1d8e7787b7778e27e1",
            "ae36aa6e27a6496e8bb1b2784eedf098",
            "cda7b448ac8f4daab7534f93eb09a37e",
            "768959004c164f42b3528fb5c26827d9",
            "add616d08e9343fab01f7efffb847004",
            "5ee21fce3ac64a508ddcd35ff1724e37",
            "9a23db4503064d32bee148bcc2e7ae0b",
            "54000c794bd4444a94090c74d9a38b05",
            "cf0e3aa4c437462289ecdd4099f249b6",
            "861a2d418de74321be34014564d323af",
            "5e4bdb6c915a476bb4ccba171dfceb8c",
            "975aa1dfa2cf4cea8a21412d812a91e6",
            "5d2bc78fddf0498d9177032c6174b0a2",
            "5c329387be0f4afd8370fa0075e6ac54",
            "39887b14a203461b899d63b7f07a52fa",
            "81a181fb566542bf9284dadb0e3d71a4",
            "888b3cf255424b81bc38941432113ded",
            "16e58de0264a4304975ff600b6f3874a",
            "416993c63ec34e9f8382e32665b67260",
            "aa7e5974eaeb476e94de62732fd577ca",
            "c62e4ede828d41dd97e63a7ef566573f",
            "78810994cedf43309ea74cdba1ae8c14",
            "f177b74b41cc46c885e3152a58420e1b",
            "fdbbce5c0d6f4adaad986db25d4ac806",
            "62030c2d281f4ba4ae9c5c69f2eae3d9",
            "42642049fb7b443dad9599f33c7fe3ad",
            "87ab05762a2c48648484c068cdf224c8",
            "57260b93cc28482f9d446d98671eed06",
            "3b141fb9db92459ab6f0321b4a75254c",
            "b89d949798254b56b83535b7671a7a71",
            "520c299fb5dc458fbcb2936472df30e0",
            "a6efdb806d924ad194ae92cf18528362",
            "71cc256cbb394bc2be8fbc33e032463b",
            "74bb92cb107c447d872ee31e317ce93e",
            "140e63788edb4a1b95fed7a1c645e3aa",
            "17b9c4defd6b47f1bbfee3629cdbb330",
            "33f3a1bc28204aae8eeb6bf658d3487b",
            "4d3b4b7fc8994bdfa96e26aef7620e9d",
            "a8c051988f004504bfa4a8ca8f47bf74",
            "d9e86ade1fa24fdea0ec9fd30f188acf",
            "671a1633c3414590b43f61de297de529",
            "dfc5df6ea9f34e249372f267e047a11d",
            "cc86e81791cc4cd9859473585d40cacf",
            "bc710ca9045342b084010e74d1e5b898",
            "774437ef1d914a46be5601f27e03c51d",
            "e90cc028cc574eb28799a09ee7259469",
            "53dbba22c5134ce4bc463ce6b6abf1d2",
            "391a81e65a4144bcb950b959377ebe70",
            "5f3db100a36847128fcd8201c40b1091",
            "47fa40439f0042f784d85ad9aae58011",
            "289ba26d43544fcdb06540bdca5a2467",
            "f95601990f6d41f38ba939070bf5ffb3",
            "6aae459a777a4e33b6364b2353a1ed54",
            "4ebf0f5957d3425eb5f79a2485e89703",
            "129ab71a232c4a40a0b8960dce094817",
            "469ddbd47c6f4b10ab6a2de51d6ba1e2",
            "0b18a16bc19242758d94e4583eb1a1ee",
            "3b67a4226db9405591df7cfe03655e05",
            "30f2ef6df7f3455a959924e588d8730e",
            "b54fe1d8910440a0a24848072529b13d",
            "d2e585d95004469e80aaf195992be139",
            "358835b230554807b6707bb0a8d82ce4",
            "c5f8cc939c1c4292842178a680e0ae73",
            "60d20adae4f14d8ea79ee73fab944ece",
            "a952b87dc0284f4bafeedb05910fccd3",
            "33988449b5f541e39f91e26333557034",
            "140c703bc203443092998ed4cc4af741",
            "5767814edbd1426d80691c9327e3ef86",
            "1fdc358dc3194df3a7d68575792ec9de",
            "6d7f9cbe3fea43809257183b4b30642b",
            "26426a01d4b249bcb61095ed5781bf80",
            "bb4ea90d146f450b890473a5ef1f8e19",
            "21d40cdae5e74335978c723332f929a1",
            "4f066cd864274489822b69d91731e670",
            "e064ab9e62374006a7dcd9a51e0c82ba",
            "18f1b90eb9c54d16a576f0fd79152ec8",
            "19e7f8bee0ae42288448850876dc6c6e",
            "47fc5aa73597443a8c43daf16532d2f2",
            "9e72a67fa6864d959564ac15fec1e4e2",
            "170b0a123f7245e88eafc0a24a10c4b8",
            "f0835362e4554f9e9f384496ce2c86d8",
            "20bb2c7d8ce440c0ac2410f6bb63a501",
            "1f7a58da17304973af047f79bdf3bb8c",
            "430af432d93e424e96ae210f239b6201",
            "3e3cb858d10c468581ee382980b5046d",
            "b7c9c4c0da1544c1b6560386bc14daab",
            "7052af43777d4f159416554863a64014",
            "46f286ffe27e46e38786bba954768860",
            "ec0fad1999154df8aaab777ecd02303d",
            "bb4e6deb17c141ce9b39b299a653d0a6",
            "0b23ecfb59dd4c3fbb8c72ab2a49c06b",
            "12fc47220c3644c3906ff5334e4b50bf",
            "c9c515f306984a94bd0f480f8957dc0e",
            "88ba9bdf84e243dfa15115b2a9586c1b",
            "826867686c624fdf942873d88e025bf8",
            "4c710dfbaf014d6a86f453550343e07f",
            "f62e241505c04f62abe2159d7a468e1e",
            "af453d6d15654332955d133dacb15b15",
            "8e11b53b6b2d4feb8ffbf92048433dd4",
            "2a13cbfa0ef94a36b9bddd804d82d3de",
            "ef43add9929e41629a4396debd9e47ab",
            "bdd0530eff3643a189f226a1a5c6374a",
            "4b5499cb21044ac4bbdf651d21542d9b",
            "966eadf617614522a9c82d34722aee45",
            "56a2e7fe6e304aba9dc76ff3ba5ee700",
            "cbb9857dff0049d8b5f0c7b0cf59c90d",
            "fcceba499ca6469783ce1b6135739b75",
            "aba255c2156d4f5889ea61f761b825b6",
            "69d6b59c9b5446afbf73306391c103eb",
            "d82a7795b1274b148e38103280dfaba7",
            "d83f0146df354c358a651177099753f3",
            "59a2a40e9eb644d2b2e61e1289241fe4",
            "995254c0aa5942d39e706070cd842dab",
            "fd8f5d0a55614647a589b745e64f9415",
            "354fc0b4110c4dde9574128823bebd3b",
            "aea00f05743d43078e54b1b4b8db0f7e",
            "89d2f54c13324137a462718274caf27a",
            "2a94cba6e0734d01b63e4cef0c50674a",
            "739d526c3170457484acbb2359e976c8",
            "b48557c05e0245c89abd86724e6e7235",
            "3f82f1d0f67e49c2beafd19eda08f4fd",
            "3f50e0e6836d436d8e9319de4fb42075",
            "a51ba64ff1f1456cbb858e63abb4b4a8",
            "31b464f289f640b2a1797a77c0feee7c",
            "f807a7db79374e0fac49658c32b3132a",
            "a6ef0acb685e408d89c47275d13951c7",
            "dfc380e0a7414031afdeb2a6c9e8c055",
            "ae173b916292409d92a94834d0c053c3",
            "62989166fe37415383491d71caa1501e",
            "0c96d2d11d2744438266014d99acc61b",
            "8326410ec93a4b4b9aed65a9634921e5",
            "8539d9b251ff40fd97376083385ed437",
            "7ce3ced7a51d4b49aaea64ebed2022e5",
            "91bf746e24604d5590fc4dedce3c43b8",
            "c6474334d2e84f13997701585312d610",
            "b220e2f3358a43cdb0520176f66eae5e",
            "afa7433ad35b4a93bf94a82fa1196ae9",
            "0b18ac0c13494c0397edd1dfda80fbf2",
            "4af8d576a7a2449991055abd603472f5",
            "da75baa34dea463ba0e81a5b309ddddc",
            "34c6d55d089f4f938be7d0de87d79ad7",
            "e573f9fe3b914054ae0d85646f5f8b3c",
            "e970567d50f8444999447ec29f5d6be1",
            "57770eb730ef4d53bbf85fdd2856d838",
            "07b632da1d3140b3bacfe60bbd8d4da3",
            "ff23e7118c0d4e908f93cdd94e941e35",
            "c59f8dd75dfa49c1a249df5870da8037",
            "57a5563424a947e1a6f50fda376d31c2",
            "1d9b0e5fca5545e2bc46ba7a18793c6d",
            "1107c7c9f32b4550b8ff6adbf4dca7c5",
            "b9ba2b3b4db240d09db6dc30c9fdc2ed",
            "fab032d63c5c4f9b9a8ba6ea2d5ee612",
            "843dfc75eb7d459fbfa45bcf710cd7c8",
            "1e6291ff0a834f9b8e06372c1abed063",
            "2a91d87050d049b491704fb575b6a979",
            "6670c260b2864093a71a7fec429fcf31",
            "d7d96ad0c534429db276ee32216524f0",
            "0aca4b1a2612453986b3afb8ffd8cecf",
            "bd3d5db902014b1bb1d4cfe4e6c4c879",
            "b020e237e2f54338bbf91a62264051e7",
            "2ad366888f5b4a9c879fbba7a48ed49f",
            "7c94962a4ce1412cb278b4070440a187",
            "24d669e365404a95aafe1db3041b8be1",
            "50f2aaa0c1f248dca35aec75c0e25b46",
            "7872afd726aa43e4a7ec6875f24c6478",
            "562eb47d7f2644a1873ea17dc79a396b",
            "b503122ecbcf4ee3b3734776e01e12db",
            "9ef98d1a474c48658301b13d54d33594",
            "588037b1de6b4cae9afd6d6c7c61c1c4",
            "e2217b65cafb42068f8d18ec9b0230c2",
            "8a11b2e35a7748da8de38460380e3a66",
            "1e72c9a0969f42128e070c7ab2f48271",
            "d66ed711d86e47a2800f201b0bc00afb",
            "9da3b4ce3d974558b8b72cb0bb88a3dd",
            "099fa16cdfd94e6e8b2ee53b6142922c",
            "27bf3ba0e1d7471da03e31cb955670e9",
            "3299ccdc9095434a8543d4691e3b23fe",
            "8bec3f43c9334a39983eb2c58ffcff3f",
            "4186bd92c3044357a83c40ecfe285923",
            "a478b320db284ba99e4cbccb821e946d",
            "9b5ba39a67f24b67a50d3ad58f617b8e",
            "9f5ee442430241adb8ebbe83f05354d5",
            "e34a6cda905a4fb388d77c9869c94d55",
            "ef58a21758634b67b432773380613625",
            "56a7265ee62b492e83b3a197f0c5baf3",
            "833225219d874e7abaf4c0cb1f360b1e",
            "42bdd249a8444b17af9fa94c47ea89d6",
            "041315abe9e84fabafba1fda0cb1c050",
            "fc5d60d2b6a7490baa4d9a0ae4378810",
            "468f6de540c44c25bc3c1c61b0ec56df",
            "242d4e2657284ef3bcd21236dc26870f",
            "1715216c9bdf4494ad5adcfb4c9f272a",
            "8dac73c8f973488f8f27662689fd10f0",
            "805fe5dacfcd4445b65e9320e0ee40c7",
            "dfe788702b6748d98f705e0ad8c15d7e",
            "db7a077265b14aba9a00991208ccfd6e",
            "7b2f928f2ae04a9bb982d3a3fb2efa05",
            "e3828fadf5cc4728b9c2329d6a0e0083",
            "fa4b50b265af405b894771f306154459",
            "e63c27285362415f8cf04a2f14a69e68",
            "cf41c7829ae24890851d90b8db136eb2",
            "14399b6c8d774bdeb85606668433382b",
            "91fa9e4c3415436bb574b96ef6208481",
            "37b3556e926b46aab3ccf0cef35e5a48",
            "061415dba4dd4d8f83e39fb67f1b091c",
            "39644e5d3a224232a7e18c90d7485cf1",
            "0a4f71ea7ca54b96b67d431f3e9a2c35",
            "8345f3f056f349c5a1264aff3c2ee445",
            "9814f353bc7f47a68f1e1f1399ec31d0",
            "ecf563dd91f54d3c82b8b4398e7a7de8",
            "61386311e98d45138635edd54b49838c",
            "de3d4c4570184c84ba2e4153b31011f0",
            "9659409acfe04f60a0f716d968ee910d",
            "345b8fbb0f29427cad242d89acc2ae4d",
            "48e583de7e2e45388da110a207d56f12",
            "abae86a7bc37487bbd33228450e1237b",
            "e8cf7625aad040b09fe63a13afea9bca",
            "5649900d799d48a3b21c4131c174d30a",
            "4f20f6864b9c40bd848b42f5fff2c040",
            "8f912f08ba384365a4beed04697071f5",
            "5dd5732e88f844e99752eab879f731b6",
            "156e4f7f34d24dc2b030c9d9809f713d",
            "ed86fbe69ee44b0f99bacc8e26be4b2c",
            "b113821931f64d0aa6e5b4be2733786f",
            "2d0eb05c52b9487e831ab477e850aa95",
            "d52868d0f1e546259445671c8f802fb8",
            "320d25649930411fa757ad3e77feb2e6",
            "4e529b6bc62c40ae9aab6f08a4bfdd99",
            "bb2b0730288a490f886bd43d0b37a0c6",
            "b94a1bab5f424fcf9a66e346de416910",
            "a1f77f82a1094438a13905471c98bb3f",
            "65f5b17fbd3d4bb39e60276d9ed3a3b8",
            "9c78ba89429c4f0d8ee3bf9d5588aa1a",
            "4d19bc40c91d437ebd792e27c5732127",
            "4ff1c9c1c6f04309829bf932a52edb98",
            "a8749abef5064e218a46af012b3e0d14",
            "9dd3de6355164c5a82811ce1b8e5c209",
            "2bd58282464341f19f06cce7e26a92d3",
            "38905224a7f145158e9ca15173c82e44",
            "11ae2df52a4143388d454059186527b3",
            "66ac9521cc974feb9223bcb9e9e7373a",
            "cbb41a685fb143ba98c55cfc336d3896",
            "cd35df645ad14825bc4f3c4c742b03e5",
            "0e2c30b94d8642768c9829af66629935",
            "dc53e4e190874a60aa5327042b5c067c",
            "f16e3ab79920476ca7c319c0219ccdd6",
            "153177bf4c39403a8cdde37c3d01e14f",
            "2d71d38f137c4c1fbd1ed0fa9fcb1e23",
            "effa14c095644edaa9247f868d020c12",
            "6cf87b5ca83c42e6a4723dcfad51ef5c",
            "100ee9d6974e4969941faec870ceca23",
            "703805642d654c0e92b90fda9c99f83a",
            "6ce989671fd145cbbba310674471af00",
            "7ade96acd1c14b42aef117347f293ad2",
            "ba38268c30e94cf294917fa538f92739",
            "ec12719ae5f64ad7b141008eb11a9708",
            "3faf9ca2f4ac46949e45e3b4284e1166",
            "7a32fb648e414e98abd2230ce64f3e79",
            "45ce9d34989140eaaa1dd56477e97c22",
            "0044ce2a60d246fbaf4a2a19141357f7",
            "15e0ad5f5bc6456882019bcd570f824c",
            "5ebe45ac7b124652b15f43f79b0e5247",
            "e6ddec4a4e8f4187b0d7760dae4b3288",
            "867a498aff224b0ea925ba4edddf3c2a",
            "7350f8f6d6334097abc1bac491e5be2c",
            "b4263b6732184b9ea39c521c01c4ad72",
            "dc6b118b26e4483c93291b941eaaab3c",
            "c7a0a0ba6d4f4156b5a03dd5fc35fcc1",
            "c996b3177164474b8cfbfd3686e4f514",
            "bbf82d7d7cfd4475a040cef4c489a116",
            "3c40bbb980c14677a46ce7749fbcc4c7",
            "08f056150d2f4c86b1911d609d226237",
            "ebfade4b72cc4451840e71922b4edc66",
            "987b020d354349b2822acb976b5fec98",
            "4670faaabb1545a297e51d07c84e6ceb",
            "a61d8c7e0a814b759dec013c14267877",
            "87b7a99025c04abba085c7b7c01aa1e4",
            "74b4b583aefe4eb6b99ba0546137aaa0",
            "85ef021ae9324a3e98907d612a60fb61",
            "c90ee4223df8458d9a7f3a7d0af4cfdb",
            "fbdbebd21b50436ea2cc8d321a970ed8",
            "84094e9559d34ee2aabb151fb242d55c",
            "f3b55c260b7a4c3590286ab6e0e7d9ef",
            "3f0ca4ffc3eb4d56ab565fc1c20d5806",
            "1ae09d324c4841d18c1b23b9da50e6b0",
            "4374e1d0cc7e4feaade6f4dd3550002c",
            "76fa3e6d2bf6411d904a99f7d1c0675e",
            "f2c19c35c8c54d838053d5396a222683",
            "72c141b9a7e6499d9f4d1fe77044bab5",
            "15015225cbde4263bc65b21d7bbd1c3d",
            "a9017a5568cd4f58bc76be14a030a7c0",
            "933d58f46bf2447c88c320d1265ec9f4",
            "112f1e9b48ec45a79379ada3f3af1d1e",
            "f2f1f67be2374a1a9346f13577938b73",
            "1a0c8b63297b40a2a47b4336c1bad7ca",
            "6af53c95bdf54f74aa470a7c94668090",
            "2462fc47c19742d2b2177dd0911f0056",
            "4740ec41d8b04fd28a602ffdc1f4097f",
            "8606236641b14fd38e599b1ea677c881",
            "42b383a141cb40ffb140a1065c744a82",
            "eaf358f4e2694baebc6b86888c484ebb",
            "44d37cf6095e40c1aa03a1152588342f",
            "83abe32da7d04c67893cd94d175aa793",
            "66a0d7b1541b41cdb3baaa02da95cdaf",
            "2be4e68ab6c84abfa40af7b2c979e6d2",
            "0a3f2c8096d94b2b84ab37c94fda2d6c",
            "643b9b89a54b46dd8f985d9d71ae273f",
            "ae03b4a09e7c4f40af94a0ac6e316ad3",
            "100b519d209e409d981bd387eb2e3706",
            "4c22fa6cff5640679b5b0b377692a116",
            "9b60a2c0a3404109902ce770c5eed545",
            "401929b9f3204517b24575c55c674fdb",
            "4193864c516c4835a3748f9cdcaea438",
            "9f97a5ac2f514bd1aacda566233b481e",
            "66476b96f7de45809a78465d4cd8ca4e",
            "901b58cc0d6c4088913aa6c4734639c0",
            "32120b9e98264993ac6d6a3600c4897b",
            "00b6d4a2686e47e6b0cb86cdcf4fa7b6",
            "293dac02a2d74143a0479e542a73d395",
            "5aa5c19979364927b48427781b922798",
            "fc389e7b163d4be5bcafff728d0b3827",
            "a24750e408af4583be4fac1cc0699f82",
            "f56d7eb6082146a6a2e969a40e4f94d9",
            "c84e05a65c7b44d09acc42da8fc85c24",
            "43e644766de240ada77217c83f2e4e0d",
            "ba4a586d7dd94028b9e3cb033242506d",
            "c89f1478f6a3435f9cbff65a4adfc8f7",
            "698b7d77349f45ca82858ccd5af9cb3c",
            "229cf96d0aff42929c557cd654686daf",
            "63ae2d5e58944a218ae3352a44546c11",
            "85631c2100cd4383a838f1804c50ae78",
            "11325df478a84c3b9c6bdfcb0ecb91b7",
            "20d9b73c086a409dbe0cf716a8f1c961",
            "34b03d570cf5489095c08618ffc9017b",
            "c9a24a54f06d46bca1501abb4a22a4e7",
            "5422900b548e4eb1934903c451ce54b0",
            "5069f25b4fd043e3bbc61af5d213f4d9",
            "1d163c1f615044e6a5404a090ffb794b",
            "8969005a12f84e4bad9c844b633acd9f",
            "1d11320cc92f48b9bb8ae391362eef12",
            "d9e9378a46964411b01f79fd92b07635",
            "0935d7cecef74457a06242155110a119",
            "70d7e566ad14401c85f8efff3751466c",
            "5c02f8664d894f81bfba0d88f27c98b4",
            "668da63a393549a0922f2c3acbc81c41",
            "26b2d8dc204d4e03b9d09a92da1612f4",
            "0bc17ff86473434e9abd7f0b32c00278",
            "294ebe41a5314585ba60fa309fc817d7",
            "245c1c5acc7541b3a83a5c05de4d747d",
            "d3f36ad39d844d90b0871c5069e2b68f",
            "956e3e1520244f0085b79b92523c7dc5",
            "e18f0e85ceae4484819373224f731171",
            "cb4a5bf505a749669ce007b8d9bd8776",
            "a20ddb5f0f52425c9d17d5b3582452ca",
            "c5c07ea2d80e4a6bb0c17184b2dbe8aa",
            "c3cdba9e61074f418a4009b131452e8b",
            "bd686344a07a4be3b3ce3a46befa1bf2",
            "cf50f0abd48f4d588d2cc39ba5646b57",
            "74ef0a35418142c99501ab57f215450f",
            "efc081c6dd0149c08d77d7e3be2a67cf",
            "a92fd74bf65c496d9c7782ebcc9e1d74",
            "e8174f6c94a9461b9fc365bda14d1ccc",
            "d94f1801569742d5b7b4e2b52131ee91",
            "b508bb74bb554134ba810210f249af6f",
            "cff3a8a1c8f84dac999174f593dba1ee",
            "1d184b045a104b61bf792399bddc38ce",
            "81b06572f3684329a0f12c4336921305",
            "2fa1fd7985e1417c89b8d3bd600cbdea",
            "431ef8dee00a4fe580a6ac59180ab499",
            "3393b83810a842a9896a9891f6de1912",
            "f29a9d99be424ee9a454b7bea695900d",
            "ba260da1419a4f0b9609a88ef0249743",
            "7051cce79037417ebe61c2084e9736b5",
            "e187f727f43f4ecd87f97afceb0755e3",
            "4abcaaf2d7464bf5838b10c9358028dd",
            "542ba63b3b6048a3b72026dd69619f6b",
            "9247a85ef4654dc88ded60d05b247c7b",
            "6b719a2d035646c7903e93b2e21a6df4",
            "16a1dfc94adf486796612372b8a25d01",
            "74ce858e30ad4c1f9777a0cc1fe3a25d",
            "363e3bdc82f14af2adbfaf3eb40eb171",
            "f700b26325b04a61a4360a3a476ae5b1",
            "343ee0dd7db549d497d123b43f241e8f",
            "290cf54b35654dd5a019b61230b08fdc",
            "08408ea45e44480da414e0ed12429d2e",
            "31557e998b0f43ab8fc3aaa90695afe5",
            "d37cbd289a594037a1edd7813587520a",
            "c2b794d89f6e4b089e232ece496571da",
            "5ebd4ec12a9a4c62b13ce9523a4e8259",
            "8dba06c0003b4d7297d8242860ffba4b",
            "b85ae33b069143d5aab3380313f7e4ed",
            "328cf0b755774b57a023fa14bce8b7a3",
            "6186f8e345694c1abf7d9966d2741e1a",
            "8226a1700caf45ac9a5f7255663d4080",
            "e79e4fd41de449b7937ee2afc7abe0fd",
            "7f28f9f8f776494a8536f5939f9599b9",
            "143b0079464a445488f9835dbd3710e0",
            "f141fed3446f41b793671a3751f31ac3",
            "5d5148b005bf43abbe50cc95235fd054",
            "a67228fa3159465e82ad68a26e6ae1cc",
            "759e3f6082954dfeaf8c7a0b959b47eb",
            "7095b56b5cb94e76891458868735d5ee",
            "c254e218960e4c88ad24af8cbc2f24a7",
            "2b3827c59c744b1ba4afc760e61bdced",
            "238e09fc79e143ac98514b6ce8a77b37",
            "14af8ecd14ab45a48d5c2230199a6c18",
            "e2cd4f9708ac48338629a846ec779dcf",
            "828ff67d932b4c729dcd94555e8692a9",
            "fc61107bd8064fd4be6686147ff4c720",
            "28a64412502b41c8b6568467e191fdc7",
            "40b7d90893b54cd59b548d8a46318280",
            "33dd3d78bc7a4541aa328388393a3b75",
            "a9af11be696b4e39954cd41a572a4270",
            "5983183286b84ba292fe4ea2fd6cbf4e",
            "5d211d76107941c282d869efbe5a3267",
            "a1060f1c2113423b9490eddd9ce6e153",
            "75bfba51ed4a45de89ef76b84a86eb7c",
            "568eb57d0566426f9171c0384fa05af9",
            "f77c6c9eec5c4fa28fabe34074f13b20",
            "6ea85b563e274bc084707297848477d4",
            "e6efbf12efc741b592b45fe44da11f11",
            "9a5c7070a2a04a8d824e7cf13761927f",
            "7de68da81af14a14b2bd1ef95a70acae",
            "154d29acb5454d228d6247c260c30e44",
            "9366be9509314b56ba79d80be67ec4c3",
            "2d578e9725dc4616ac61506f6d70a5c1",
            "c798c09eb5074d2c99133bc0ddd957c9",
            "79a9ad61b0a54186a7569ff5af55675a",
            "94d82658c0bd455590ef405d7f93b952",
            "c2310a9d3e654b86bee46a72cd35cf9d",
            "18a648658bdb4a7e8cd5910a92c13981",
            "4bb1b70f280b457ba75d52e9c4951fe4",
            "b221f0f88a184eb980ec35619ce314df",
            "388c33de04e44a47bedd2e911f3fb2ca",
            "47a25da32fcc4d7f8b9b1fb6f815ab2b",
            "6b8f86360e7c4f3b9c9a8c6780a87c46",
            "31612f4dd6e844f999030b1be36e9db6",
            "403994aca839494b9ee369f6e59b1c1d",
            "d8a42a52a9a4416891348695c62e56cb",
            "60743e391c9b45e1a585550e552a3961",
            "3987a2b5d4a3495295f09391cb43f921",
            "e53c7d5f2fd6432cbc2ef03e15792828",
            "6d53d156322e43f2b5fd061ef8e955e5",
            "3599cc317b8148c787abb0eeb18a0dbd",
            "c59027ff7bd040f8916e386f7f2d2a1c",
            "18f16a3bd20c48ee8c7914d0a92038e9",
            "c0c6726121a146e7b85b64e9f950d071",
            "0b2df2b8c53e42de9534f6f405fc559a",
            "c08e3e77b1464249bfa37619b1f57160",
            "574a917e4a964a31891eb577769240b3",
            "ba9b167259c6416ca778ca300e38c441",
            "0b5fa3f7c1d74d45a7163c0607c38de9",
            "9fe76d30e01844a09411090af16b4193",
            "3fd22b35202e439580538980603bbba3",
            "accc2cd0174048c889b34475b72c734d",
            "81f3da5027664464b073c7d5e4c99fd7",
            "af24f6fb43304e10897b8b152292489c",
            "00adf93d7cc14f0082f1cad0f838a16a",
            "96679aeddd17431981a76b6084e4f703",
            "cd7bb0ebe0124a8d944ce8cab74d2a81",
            "bcb2e39a71004ded860af5d920994410",
            "49b2cf956bb8444ab025b712bf0b32db",
            "eaf7e75ea23c4ce1998bacf39b1fe9fa",
            "610a08a4c27b4360b61717850e1f8323",
            "d3dd8f35070048b8afbdb0f1fff985a7",
            "564b6c8e8c2345bbb591724969b97894",
            "5738194d44f843158e7bc8d6fef61699",
            "656b2bd9d17449039f29ce9b5ddf88e9",
            "06889cd38cc2419c99a16d113f659638",
            "11f8ba03e31a45b69afbe46fa4a0f3d6",
            "d61ebd8605b849339807e48bc30aaf94",
            "6fbac4facdd14f92a1276920d34b0ebf",
            "7e4df216aa4a4b69a718bee278c4bb93",
            "3197d6f034d4425e8727fab87bf05d6c",
            "916540f4a7cd4d66828497e2e1991563",
            "ebd2a7f1d220456bae6ad7a3ac24b76d",
            "ddfe05c031a0499da83d2efaddde7888",
            "b9c5471ffba44ed58810503b984251d0",
            "db03ba9b1b2b4b719cef926682465fc9",
            "35b77c0618854f2cb51ad9044222a0c4",
            "f65b3810e9b64296bf9283db50ff9db8",
            "cf58cf053021453286c2d1302a55c310",
            "87eb02fb92b5467da28fbd0f7b97b513",
            "330e45ea9fc44561be2371790d6d3bfb",
            "f93c2a1e0c7d41a88b95650146654450",
            "3c5604a6c9b74a288f166b030a38501d",
            "e451c2521f5144798b4166dc383f132d",
            "302c5dead1bd41519358547dc4c8c14d",
            "990173fa4d734c50a9d1d13e1163f569",
            "bd6bf776e2b542f581f7a41aa22b53b4",
            "78d6e2d332f547559d46726a6505cdc9",
            "f68c6d0897e84f489127f2685a277afa",
            "6126a985298447b8ac40f397f3f76635",
            "e35b7c92b94f4fd88915db08f290a703",
            "30de2ab7d2ad45a9980c3607a85b0135",
            "fe94dd8b5b6846e4acbe2fed34027e9a",
            "fb71d5f218f64064bfd3da0684bcabad",
            "b1dfb55e763743cca92edb133753891f",
            "95905dc405df40a3b609b0189e72b1e5",
            "aa6383925d7441a4ba9ee7b63fe0f5ec",
            "9d500be8265043b6933e71604c35952d",
            "dd4248a360dc4359bf0b44eca8d72f3f",
            "ae7b1dbfe80d412fa358c44094fe15aa",
            "fbf4110626d04d2e87f0490a71ba6c15",
            "07a746c58d7b45d5b491b75013d8b5bd",
            "35bcb41b646240ccbf5fbe0b1c19bf30",
            "03be7e153f094016927401c7a5eb67ee",
            "1ca9449762364bcb8294854982a42d65",
            "4db9cbf8ced1402e96c3f8e0849ccf6d",
            "0c3a0dbd919c49a2a720c024be092b3f",
            "5297461b5e3e45c597864be207c8ba3c",
            "6c4c3b7583724e0ea2c57ded0d817c7b",
            "a893b9eec4b749c9af1cfea38379daa1",
            "8e2250f8b1384c0f9e87bfd3b1ae4f14",
            "60976af65b9e4620b730dc6317b61634",
            "2275f26f5cd941969339daa09a21c454",
            "61a592b1e1ee4daa979941970e49b158",
            "32057a3d0b104f868766a5903f94b1c6",
            "278a1c5126a148d5a4e647f73993bc52",
            "d7c944d431784684b971838a9199d547",
            "b06f844f1b9d452888dff807264edc60",
            "bc1dbc313f2243b78a03e1115c09417d",
            "925b704b4652467e9cda63553e7e02a1",
            "7b3af09863f84ae7b43c094a9bd137d4",
            "ec5d6c811c5f42fdbd7511bff8865219",
            "ab81a0a6e49b4554849210db0f54099b",
            "1af24d767ece4fc58eb557b4d5d8d35a",
            "8375d3189b6a4a2e9cc2f271e18c7fa0",
            "dbe41fe0eb86472ba15b3fafe05d5219",
            "3543b99265114ca99dc832e3ee792f34",
            "b9a987c92f5e4380b25a60163b2a10c7",
            "2027cc69434d4c61aae39c0bf4946300",
            "2bcf8cbb95da4b2bb669106bdce36b8a",
            "9a451f211810424f9b013f65d9f87b1c",
            "09787ea2114f4d638a44572bb5286fbd",
            "1a5c2d11e4364ca7b84b5dd797f5a699",
            "e7a0b003c54e40258cbaa1015ca84a83",
            "f3f6cce75ae8408fa085d3b2c2b3ec82",
            "82bfab9b6fd74b7fb0cacc919eddafaa",
            "693868edd9aa42dd93d27a2727ae5ffa",
            "6eb1480a15b14f349bc47cf1fd8a589d",
            "c15bc2eac8e94184b8e47547a7956064",
            "ac5cd3afbd594fb6aa22f153fb5b3464",
            "3715464ec8ee4f63b03731811ab9e9fb",
            "b4d7d08531584746af3300664552c3dc",
            "a57c674ee63049648bdcc4ae80b517da",
            "8dd9de0af1d2414bbdb12016052ab29e",
            "57b6a9954f284b5ea12563c4fb0f9899",
            "33afcd5e1e8d46ddb6c97cbeb6d3e36b",
            "997c7e8efccd4072a349c90644bd3ecc",
            "76b5a07a6ec24a8a98da4d879247f245",
            "41d60ec8ab0c4d12acbc23ea15bc555c",
            "7bf1993de7a04069b70654b143a5a0b7",
            "5dacfedd1a0c4e84a50356480b3116d7",
            "497e9485c96c497f9b5b2a8d800c426f",
            "e54b760716af4e17bdae8e44028fc177",
            "a87fc9680ae6435daf6bc7db9f5fac29",
            "ca2e20d00af34fd184b71f3dc6bb367b",
            "2b0507c64a2b4ef3bec6b7e42d126b6f",
            "a459f526b8784442abe0359f4da27f84",
            "c1a505d62ad940eb9368f1061cd53abd",
            "41605968f12642a3a923e6faae492922",
            "d783f3e5643c44ceb45c41b6f08794ee",
            "4a81a7ff64b743629d499e540c087ab5",
            "8a4c37681c2547118281128552fa20e7",
            "0cd6b08a439c479da710be702c022788",
            "360c73c392254ff8a4db46445dbcbc0d",
            "b615b3f9a0a448b9ad36487c79a37cd0",
            "a73ab1777ded41d5837039ddc642bdeb",
            "a898db3a9402497e82cbba29d4d9d2aa",
            "79e79bd871254bc380acae1cb9d9f5c6",
            "10e5ad620c46484fb4df9313c39711b9",
            "288c950d0e5d496288caf9df5e366971",
            "b1927e8748f04ecfad3f226dadfa16e0",
            "2fe38821b2804b409bc6367e7e24b44a",
            "a4cf3d4f902e45378203ced415c8ff4a",
            "e3aa6a916ecc4b5098b6723347b37007",
            "c36fadbbd154441285626ad14f6194d8",
            "fd2cd4e7d09c4010b2c3f3066c86cfd2",
            "e67de008fc224931880b0bb5d7a24440",
            "84f82593a84c466db10b93783bc7e77f",
            "0781a9517a124a658f69057db89f23b3",
            "c7bb095640ca44bcb35b151c7c964d9a",
            "0947d4d8b4674049957ac52e5bf222a4",
            "b63946871e7a4bf68cbf8bc19ef3a76e",
            "12fb4d7b875144178de3aa4b0e19e895",
            "e38f5ad8f8224619a0edc2b2f1d282b2",
            "06c5f27b6d4f47f9b19b25e04b53b2e5",
            "c192bd18763c494b9c17ac40f73bfb23",
            "d49d6e5e39124da5b77604310c5e0c11",
            "f2077a84f8b8462199e4af95a58ded72",
            "7508310a3e1a42babaeb8943e7f31775",
            "583b7a160f12442d808c44db70b53c98",
            "e3228eed65f34826a4ccf1f7a0bc57ef",
            "3cdb4c7aa3e44954ad9da4f4f15ef8f1",
            "f9a1b91a95eb4e70a059f593d724612f",
            "0a46a978252943c49477b462a6543dfc",
            "37e4a6609b4b47c8b2dfa86358222b77",
            "c3597977e2024e37888d8c4012e28211",
            "23daa801169e4d11a7cdb66abe1f6bf3",
            "00779b673efb4d38b7ba362221367cb1",
            "932701a2322042cebe31286901587062",
            "b3059c507f4f4eaeb8d412e54bd6b976",
            "e08805140a134a1db1a231ffaa976b4e",
            "97f82916084d4dcfa04f18c308c51871",
            "d447338888cb416588373fcfd7c89f31",
            "e242c31f28184cafaee520057d5c755a",
            "151b7ef566d541ed8a8da038986677c6",
            "e21560e98aff41489e69f329dd9ec164",
            "85b1ee1e2656472b8763451abe87530b",
            "ae39ec07bef54192a1145ce5c547e1e2",
            "bc5cc99c9ce94eae81927e3cfec2d790",
            "ad0b59c5f5d14eb8952d82f332208de4",
            "f02d688d81b042cfb62996f766a8203a",
            "ad4491cb10fb4d4d8c0c3b832ef2192c",
            "a63f647b29374d4ea50b5b316d257e9e",
            "b31100daf5f94669baec1258d9e9c75a",
            "7537c7850daa470f93c043c3b6c4cfae",
            "21797eae3c8f4499add084923e2a529b",
            "1ae272d9ce8041da8a597a2f7863205c",
            "f0ad8b574fcc40d1ac5e5a3a51e024fc",
            "67de4c2e3c4345328881050edaaca33f",
            "32b50ff0ecce4708a9a9f4d110a01635",
            "d664f86f8bb34cde8bf2800ceb7ff9ef",
            "b8428a1f1b29476bbeb52c365d484515",
            "df4fcba45ad34c69a721e61d15be08bc",
            "6f2f860923e945d0933945cd11f75290",
            "82553e0ff6ef4a8b86e3245cf5b60ae8",
            "72ac3bdf60394f09aa3ec9106cc199b0",
            "3f77d5f232004344b5ff75e9c54737cd",
            "4f2e9c0279c64322ba90784cd2bd57e6",
            "c4cdd1c9730d4fbaa72d9869c6bae8a9",
            "23232389eb1f4c99b2af3096b99cb620",
            "f410f61e24f742ca9b8e87c58b80b0ae",
            "a7dbbc72c3ba472db1354303421303e1",
            "336d3f7a195b4736a41d674ed36e686e",
            "12d0b0f947484407bdd7e180c294f23c",
            "bdef01b4c70043758928889925a7b16d",
            "9fcde67045ec4c3fa18d0b36313c6182",
            "b716f0e9c88648df82ac61407f30d83e",
            "65001d9e44954852802b4e9d2dc47a65",
            "4447edab4a7a42d795c8e5951988da23",
            "9bc62dfefaa24030bc952e0394450938",
            "9e28416056cf46b3b3f96f0d63c2d6a2",
            "69d5b4d3b4cb42d7b85d76ec4a094402",
            "5a1c5f9d71094ee48e9f6ac6eecf6a62",
            "bc7fb06d383642c6836b186ef88b57ba",
            "43cac3b4d514467ab731c13e0d6acc3e",
            "2ffd82c4acf5489296dd92eec23e8652",
            "6ca8b5638b2f4014b2b62027981778d0",
            "04866e01dcab4182a3517a12a0cc82ec",
            "455a9236b5b74dfabfe3f6ba34581081",
            "66f961464cba4a408fb7e74f82e40d98",
            "6b8787a9c72544ac882ebc2bf284afb3",
            "722f393f72524718977642c830a66940",
            "a1a31f37aa4a44a6a9574fe47d79c09a",
            "939f8f47967b450383722d73db7a1c3d",
            "85a169afabf14376807e2ee4347dfcf3",
            "770f868eb67145e08a81b76ca2c1526a",
            "ddb3995ec339478ab253d75e4dc4715c",
            "486b1d5ad0084e89a3013cf415138d42",
            "e1c0909469eb457c88d7294b1f23f090",
            "c104f98f52554aaf8a0426a4174fb5de",
            "cef10e5a02534f0bbc358d6e0a85974a",
            "d04bbce78579465dbf7cdce308b9dd75",
            "b1fe2ae5e73e41369c57d3df635bdda1",
            "5adbf46ca8c0497c9238eed8419a69fb",
            "b1cc9f3bc0f44fc197a8bbcf9435d516",
            "c416d8ec51ac46ea9c6a87b2b276c7eb",
            "3fe5c123a95c49cf8ffcc3d496fabaf9",
            "a9bd575c267a4193a0c4016f8aabdf23",
            "6a766ddee39b4fb9ab288164d6f6741d",
            "c604434bf559441286a5e50b34d63a73",
            "e6b9afe1be9f4ba89b8e842335fbffd2",
            "6e687769c478466eb5cc5ff4f6434aee",
            "6f68286490534ca88eb750e6f17cc193",
            "fbb715f1036a498d85bb32e234b004cd",
            "0b74cfd5355a41f494b41f14b2270e80",
            "aec85dc9eb50470a9322c276af05156c",
            "9226c7d8ba254dcfb8c8f66194494b6b",
            "d34f45a4e3814610a931739c0f0c119e",
            "d0b162b628c14e939e0143d073ee2a4d",
            "3a88eb611c484151ab6fa508bf5d3c6e",
            "93bc914577284aa499fddb12859e85e5",
            "51bf99aac41a433c89430fb56ec9fd9c",
            "9352aed429694fce874948e228714365",
            "8e35d47fb8de4e06bf3d7e70aa15d749",
            "92cbeff9c71b4200a1bbdaf443fec009",
            "1d8e9d29c19a4e1191252794126d953b",
            "9207c4ca011c4279b4dd67219b3936db",
            "50b02550d57e49f792586ae0034c1419",
            "41d24aab2d4b4e9cb691577dcc24f7c1",
            "07205fe2f3484f3086a307a8426d027f",
            "56d23a4facce478d8e67ae28a07a475c",
            "1cc9c9378def4a0da0fa7df5a9644d58",
            "637fb2828aad4c6093b924ec3bcb5b80",
            "65c638c61fef4af293a7b65c7cf6e6e9",
            "4ece4b2bdce54de2af0590321f141d13",
            "f3f2d76e090c479fa36f8d84674c9e62",
            "7f5bbc8ff5524687a983aca792c2c20b",
            "93d75539c6c04f928cf92dc12335965f",
            "80b129c28abb47ee8589bd2974f11903",
            "ecd4c7185b1549de8fd931f533ea330a",
            "efbea7d493784034a0d20bc525e6a6ec",
            "818af78c93b84cc9a0a51c33c98d0dd4",
            "0fefa314cb6e44ff853a0dc54cc5e156",
            "899250bb02f448b3abfa3baf71e36828",
            "1410edfed3ec4c0dbb851c1c1e40d4f1",
            "9f692d72990b4597b637dc10d9180bf3",
            "19708339ae054a8e9b6a1ae3fd9f4b6c",
            "c57d87b3adb3421a961d18a2eb975ecc",
            "b8491cefc7694c019d0e9fec6a870737",
            "ee04a12643cb4f189472aafb131aa351",
            "56787c104ddb43bcb98f1359c2756fd6",
            "2b40c6ed6f054fe4a8e5a10fb77c9440",
            "fb41126b0155413db0e9a8d5365ffbfa",
            "64b4559864954164a5af6feecc5e2dd1",
            "1aa94cb3f3e74058a1e0ee634f98a119",
            "e7a3acba856449f0b30a07e0e9f6144c",
            "c3f69188409b4ba59cf864eb3a28e076",
            "9b9499d51ad94d9d9187ffd26260b1fb",
            "d9a4aca34e5042e8a338cbb5dd129abf",
            "72ccf88bab7647d6a32b456371712d7a",
            "bf9437c6fb1d4ba48e01e3ea1e455111",
            "5e6acb5e9132428ca6067a10fe205294",
            "aaa3e5f6f7464b8481518a87ea9bdff3",
            "18c2dc8aa69449ec915e17ab7d1bad26",
            "f4d29cfd8f0c44779d54295e897c317c",
            "d4f95a27fcba4667a284760d80226e05",
            "70a5ff7099ea4cdcb43a88ab0568ca5d",
            "224e032d29e34f658911a785525e9198",
            "36719880162e413ca2c98c05fc9efa08",
            "ee93ba31279c42d6923ced95d5416a27",
            "8907ce3ca9564e1d907a3f1959dc04b2",
            "a314a3e0897143d5948a6e9c2ed858ff",
            "b67c5f79bd80481298f94e97cbdef1fc",
            "40b4866881934be1bb453aeda03c585d",
            "833f1a80714b4aefa76c911f764ac7b4",
            "c13ae95022d74b219a42dea549c13bcf",
            "5f51d22f307d4e2092607c02997ecf6d",
            "f6aeb69c328f42b69524d3c83793db55",
            "2ce9b6be334e4b90a4b35d9c97cd0a8e",
            "4b2d1ea60b944802953c7b536dffeb36",
            "0b7fe0b546844f1d9b690ef9a6a6e703",
            "0ca85e3813294535b21594e4bc1f0fb9",
            "10580fa400944dd0b47f454a9600f747",
            "622ee802a3224c4993ba0b0c52a4410c",
            "6f3aa4f42d694178bcc4eaab29cf12f3",
            "8a392345ee304282ab02d055ee4a8700",
            "10bb2b1bfd17402498643039e84c3573",
            "a4f7bf5683634234ae9da4a50e221e4e",
            "347d7a6176904fd7b3acf06f5423ffc7",
            "12ca454c65fd4801bb45ab07c1a7c266",
            "e9d5935e15034d6fba46f37b26b7d7a2",
            "63fa90c226124bc1b847e2fa0c50fd32",
            "022c95456092420ab012a2d46ee79e9d",
            "38c52a89fa0f4f39b6114ce67a7ba7cd",
            "f57b456b8c374066929bd0de00719fc3",
            "6c6d2ce246484d7e8ec090a6a3656ffc",
            "de8fb9c062ec4aac8bf02f5fac95bd22",
            "5dd8c6c472314e3aa436a4cdd5d696a4",
            "7e8e2dc0855f4ceca9f70920e2b0436a",
            "5381d80779f74379aac4ce446f6f5623",
            "9fcbfcf55c5546fd93337ff576bba7ee",
            "bef914fc0e554fb89e5438eb2fc74768",
            "9fa1deddc0e34f41b1b6e933c8a4bab2",
            "9bf77fae8f5b4c4dbec3b876fbe0d615",
            "3bba38809bb54a2196f9c84164fcf145",
            "951901b8fc384b70bd8e56d529b8446d",
            "85c43f5231aa477281150999cd88f1f0",
            "2933158686024d519367788b55a90b9c",
            "288ee44051164fd9b00d014acc88c7ba",
            "c2ebaeea8b0d4ac48904659b1340d92e",
            "101ba2b3b27c4738b54e159df096ae91",
            "120c2ba7e93a448cadfda6890744ebad",
            "f9a5457dc2a54d0abd88e68aaa3d1156",
            "3b982042c32f4aba8d44ffa73ad85812",
            "2529e64fb05f43c4a10ef0ba26bed490",
            "40c610a9add744dfbf3f28baea583630",
            "4ab0076f5d4741feaa11450e3f295465",
            "ad7fc02c41f94bbabec8f9535a6b56ec",
            "2e21a25a900840c190429dcb93f563cb",
            "22a566f9464c443686acbc818f445d3e",
            "4ac41966f17f41dbb5e8a05881874dae",
            "492d7d215c03483d98b831c0ce951595",
            "f7208762d77843ed98a2c24ffc5d11b6",
            "1871d48ae99f493f8ed6d88abf000a3e",
            "f6cf599bcfb0430d8be1aff709a991b2",
            "7c6ddb8b6113486aa49ae7ce4ef26478",
            "a1ba3351c63d4b40902f21cec1be43ff",
            "4ed89dbddfb34bc2af82eefb4c17bd57",
            "d9a32511a7864202b2f3e9d71b1090db",
            "3a6b562365f34564861c5aa08205184f",
            "d93dba28c70a474f9b61e8608b767d1d",
            "8ce7db7fb390410fa3a0d3a039832672",
            "0814ae89ef094ba29619eb23fc63d668",
            "afdda98cf8d040a995b185eabb8f136e",
            "cca25a95f2f247bc975ac80aef244200",
            "ab1bfa01e48643a7a440ce1b180a4116",
            "9b116ca3cb284a83b5b779862c9e60b0",
            "b52ad8f28aca40debd9ed7de03bf9481",
            "2511268aae88491bb5296612006ee0ff",
            "23c208760d4d45f782fad6deb26be0f8",
            "434c5c8b4d98442ab681e45a53e6ab16",
            "51864814185045afbe847f8e4361e0ea",
            "01726301e70a49cab73fd54408431fc6",
            "28cadc0a8f7a4a8182c6c5660d50e9be",
            "378a8a8dc2614333a4a1e606b88a5280",
            "2862d1c9c3924761b41ae2702682e367",
            "dc9ed6e8b93f4fc691775eb3563ba3d0",
            "2190e7be66c34ace876c82fb7f40927d",
            "f332f7714731447f91a0919f9b2ae8de",
            "80d10db6f95542da8d0b2e9ba6749b79",
            "dce9407d19244ea5a8c8eb4b5f6ed72a",
            "ed62fd9e467b41ccb6415cca3465e868",
            "14338a26bc8e46e99084a73e74eda700",
            "f0c56008c0344954a19aade180ec649e",
            "bb1525fd05dc4423bc97a71d7629f973",
            "0b27a907bad44ebb8035f153e082bd04",
            "e445b7c2523a49b58a8f698d2904ae40",
            "f5551c8413a446339f832f9e48380970",
            "49c3ec83a1ac47dc9422a857249455a4",
            "769eee6e29fa4722abe1bd446a1dd058",
            "816050b1b86141b8b380113482c51f01",
            "a2918fc7535e4cf9b3104950f1f4fd89",
            "591fcf2cc5f34e2fb7df890fc2ec4035",
            "0a1b9ccb931842418d54372ac84e133d",
            "e3e231a2ce164815a8b2eeaf5d0407d3",
            "f24ecf69c2b7491b9f9ed85ec0e848db",
            "9a8a6618ffaf483a82b833f27437ea70",
            "b884c3790e424317a1d6c29aabcf966d",
            "31376d4c9f7a453d967b69f69deee128",
            "06b148c9d83a47eaaa42aae39731de0f",
            "5ad246f0b36e474ba512cdd44fd6933b",
            "6231d68461594036b0d5ee8a127a3f5e",
            "eed40283ec334899844f857002f64d02",
            "72e3446eeff643ac80db6fa383224797",
            "f2a384baa4b04fcfbc00df4310256671",
            "5dd4bbf5984c496cb3d9c98136404f03",
            "7f08feef2e684561a7b7fd08e67353ed",
            "ab5a6b3323ed47e6836b8ee2607bdc9f",
            "1549509a02a240c3b26d71cc45d2657e",
            "89394fca906d408eb41c4b94b484038b",
            "02d458add87845fe8284bd50507fd28e",
            "26ea357215ef489cb7f82e593850990f",
            "870b490f3e2c4fb6bf81ef5d4d1a3c83",
            "64c15d57be544ca3a0fe29445b000c2a",
            "3b989d2fca1343b98469162e2a175576",
            "053cbda2876646a399301256328968e1",
            "d009990e42aa48049bfeeacc3d174d64",
            "e6c2ad37c83549b783447e7f4caf425a",
            "a05ee36d23bb4ede9bfa6d540a910bb1",
            "d7bf4901dd084c1cb454cae7916892f1",
            "d21a0a4020c44ca9833c096dfe00ac23",
            "db18727fd68e4506bc038fcfe7ae49d8",
            "918309ec0fc94156af1f5bc10dbfec22",
            "651fb35f328741b6a6d93b2d3a7320c1",
            "a5ce66c4e7a143dd80968f5695fcfdca",
            "63f37fb5298d4d708270cc775868b90b",
            "c43de22188454bc29e53f6d959d2ce30",
            "8f063448bc9e4974807570d05a6a4d17",
            "51a3d83227ed4895b251e858e4267ee7",
            "98ac145effe043c9a07913cd42a22fcd",
            "c9602d4f55724d0d9634691b9a66f8cf",
            "e49b5edc2fce4593af32502156e35537",
            "07e9b3d3fd51482b9bb0d1d2302dbaff",
            "2f003644b2004b0994943083c9ba654d",
            "28389567cd7846bb8e260b2cc64f9bf2",
            "cb7dfcb3ede1407298e172cdabfa1bb7",
            "f7e7e3ceef034be28ff0579044a6b4a7",
            "c7a7dc5a05c84c6293716996ad7dce4b",
            "ab4d6db6f92d405cae445f4054d4bd91",
            "99c8303f54c64feebed2d09a8eb69f42",
            "ca96a1c7090d44acaa6e884b611f4b9e",
            "449deb865b134825812befedc47707a3",
            "b4b82c31cd5b49caaca5b51b2afa1d69",
            "1f947386252d42689375165fbb43fb7a",
            "0bfa6b2ff2e34ad8a674eaa34a185334",
            "192fde3bfc7942a3a0904cefeab3bf2d",
            "a74d85ceac3a48de9a8507622f44dc74",
            "4a449bcdc4cb49a295b4507a50c719e7",
            "d4831c7a04864f299e38de20dc098703",
            "0df9877f4c7d40da98298b0e72c815a1",
            "0ad3cac7612c49f6a4378083bde425c1",
            "4bf0e9900e9646629d2767085579dd43",
            "8d433140dc514402bdf84975f7d67e9a",
            "c9b3115a56fd4dd2a02912ca1441d755",
            "d58f5933e0a44cc5b7fcecc30316da9e",
            "27a52812a3f24bf2aa9ea7a0ab436cb7",
            "b7f98a42ebd34f83b70d3270f2430040",
            "30a0c782c0ee4267b37378f5ea044a70",
            "25682f818c984df9bf09b182f7015666",
            "358cdb13ccd14568a0fe49bcbb48eaa0",
            "fc8ab1082b8142adbcb31fa8ea0f8ce5",
            "55dabb2c3a5f4244876de0ea39dbdbab",
            "a480b4358e6942b2adb9ab1cb2e1ea41",
            "8fa2db0266804e3dbf5f147e830274c2",
            "a2907c15b9834675ab55370b014adf93",
            "7925e90b8a3141c5b9eb0d75935d05d9",
            "06154ceae48b499eadbcd526eafa4b8f",
            "74ae9d1e438c4469bfe065b9310e8a8a",
            "858f9e98f2e4472ab33702a7bb421962",
            "291525ab54f64eeea84abe5311534c3d",
            "880f9ae127d548cd99b995093c350af6",
            "045a442d65db4ab8abb979ea085f9323",
            "5ddca21d76444fe6bcced8e76bcca814",
            "36c10cbc4f7649f99afb0063a486f57f",
            "1a570fc9bed242a69908f197210667c8",
            "ef8c1dce6c2d4a0bbcc74dcc811fb4f6",
            "688bf8a41d02443d929dc9f532ad65e6",
            "bc4848d7c787442db211762596a037be",
            "89181dbb5a7a477da242e32808d9b834",
            "4293ecfb58c94506bb0d100986d4cd60",
            "1612eb05481444208da785006fa5444c",
            "61600947e9d240c4a641b743012afe4b",
            "c65447bed34b412fb20d2adbd9262a27",
            "459332a5652a4961af56ce094cba9bf2",
            "d3972c2938a4485b9499b22792f93fe3",
            "2ed48eb0bdd7426b95566ddfe2dd64e2",
            "193fec2dfb814a0ba87935ff2e59959b",
            "e242dad258de456484bdb60c1d8f7855",
            "ea633cd9222e41fdbce888ca2c380d39",
            "29650db032c74ac1921c9c9b28fd26d5",
            "a4c8d17a0e854bd2b7421cffc58eb86c",
            "33365c84ae3a4d85ac9ff748e7b3a427",
            "ed235587a5384bc086169be13a41ab00",
            "e9f20472c9b240a1b67dce86699df7b6",
            "f64dcac67a1f4a13a5b00110d19e13b8",
            "4a0eb989dae64cc3a96ff99026175c0c",
            "c6cf1d5564cf4051a608016c9537d634",
            "583dcc76584a458587949fcad18531c6",
            "09b1872eb6a5460782e7b03749627137",
            "b5f6397851224bfa858e1f7d931f941a",
            "ca6514557376486dbfd26da5a2625ba3",
            "915e5fcab9484d679d838b7f2603adce",
            "f7931e325ea04f8785149dd48571e5eb",
            "6f994a207b004249b42c9c65f11a7c90",
            "6dd9678672df4ce1b038420678ca4910",
            "c544c720a98242c0b6bf5a6b828ec0f8",
            "feeb91b942894df8b47f56b124611088",
            "3122d319c9454321bc1d739908d726a4",
            "c906c03cb0574c65b80b0eb89c853850",
            "27b9c305a1024935a531461aa1196628",
            "43ae768ea1084ae29d4dc99d3d75605b",
            "7708065a738c4ddf83db8379f17683cc",
            "61ed98d5b3624d46957cf6784ba3d775",
            "a044d784d9e942a89ac896c41991398a",
            "58c1f34b2130400ebe47a54d1f2e19b5",
            "3097f8162c624f358552c86650780572",
            "989b8dcf61164eaf8264660d3e9bbdc1",
            "97f03600e9be43d3b842111a5ba359d0",
            "69bcb8fa07d14f69a8506560aeffb6a8",
            "a3504524e6474a9dae8f3b6f9ea235b4",
            "001a96e678994235bf2c2b830653aee4",
            "ed524a12052e47aeb880cb95152cc87c",
            "dfacf9aa41944d1cb6f11da4eb4fe882",
            "754e2aa0770043bf84cf331bb8cb96b6",
            "0cf747bd58764750a44e686f6520687c",
            "231d8c818e814c94bbf5d65915cf808d",
            "b3aa8cc3b99a407db9f4ec3d93c386ce",
            "60a65801ca15492991c8e6d41a8bf61f",
            "e64266ea805d4715b01d8d64fe1fdfeb",
            "e2f859d1b99c4ab58ea9f0a86bf9769e",
            "f12c8611bb824f10b0aa1eda0139c912",
            "470d80a5dfdb4174878ed7df90f4bbc0",
            "2a78234f9a434f2e8b29f51ad98c074f",
            "da25bade38f54b379869ea0a1baf6389",
            "91f00d0d0e5e410db4bce49082ad0b37",
            "25f9222a5de0430997574f87cebab3d4",
            "30fc1e2c45da4afebd36c35e42c18fd3",
            "1518026327194a6aa04ac94a862ba9d8",
            "87cad0b1bb3349cfa1cb0426723af5e4",
            "ce5843e619c44bffaacc1542a705ad27",
            "2d8b17f3e05249478ad48fc4e29ea23a",
            "269b04f0ae154d4995d735825bad137d",
            "b3e162bd30e24fe7929d1b31683982bb",
            "52a477bea9484f5e9209dace620e7798",
            "601c273bdc2447e68c3026e6e8ed4e2e",
            "5450c2bf7b1a411e979c53f6ee9c740b",
            "de52e10843fb4a289ebc9eaeb63d8961",
            "841787a03950498e869af3da6b19f74a",
            "e7e4dc31b0164ef1a956592d43a5587d",
            "593d0a2fcdca4eeeb0d6b4d56058f370",
            "5491836d15014e48af44e853b9ad87a5",
            "49601bb48fcf475696a286944fcf3c48",
            "655c5e07ed5e4d97acadeccc06b077ec",
            "fb1acf5264744bf1b1871298110b8009",
            "b39ed90295b74e26b8d7b7155ea849f1",
            "a34b80734b5d4677a5b82616d6a526da",
            "5f9a3bac5c2a4fa6889bc3e1c02ea403",
            "adb60a93cb5943a2a7114db686bdf2f8",
            "951a3fdf13144aaa83a3388f56456489",
            "f4b6ac9613f24dac8024d96b6045f8a9",
            "820d548ae8904e38bc733d515da4b494",
            "8232d6ec996b42ffb21420d6089408f1",
            "25535358d9a94194b1ff0ce23b8cf8b2",
            "85c346c130154e599dbb7a7f0e45d560",
            "36fa595a31444e09ba45aba2f9dfc251",
            "91e9187c549741bb8cc3ef69eb7e87ce",
            "5847273a6d0f474680f000904b14c5d8",
            "6351e36d50c74bd88a7e71e959a5ec48",
            "1757c5ed1d0147cfb7084a021edd8474",
            "bf29257422774541a9926a85d9958d15",
            "76043d70a8cb49299e9a39db851a7324",
            "fe06f84eb4684d8c864b81d3f55871aa",
            "37c70405cc1a4a578fc56e7ab77f93a3",
            "4911fb5cda9149d28d7ceb8d78627853",
            "a4e0c79d44d94371a6fe5d70dec88723",
            "14dffc38a8d84b3f80d67e69802b36a2",
            "5e573eed66fb40178019b95901e098ce",
            "592ee1463d394d79b9dac48158d72476",
            "1926f40ce7504f099b7951603e899b50",
            "332b4ac83c264e53afef3614bba1af73",
            "2554b3f9332445468664d3b5415d609d",
            "c1efdd6ddb9a4d5e8f0c0f9b2e60706f",
            "050eda25cb624aeba470eb0d3a4666df",
            "8110d1b8aa844a31bb77cb4f842e73d0",
            "fa50472749be41be90c9b12a2581972e",
            "1d0aacb7fe394353a51ab4c6ef61c20f",
            "b650f332da56488391bf016561f452a6",
            "414f0071d5914fa3aa92495bcc6a7cdb",
            "9913cbd2d9fc4b7da23b77de7fc082f2",
            "8477e24f554a41d187ac6f12c162bede",
            "a769a7b3362b456a93f9c800abdf55b3",
            "f6d8f3fa9a0248af8308270d1314be27",
            "2008f24be7d4463db74709d1b69f3b07",
            "5ce243e4a9554ae8aa7cd8c73adaf7e9",
            "e1dfabf71ace4e83900fe1f571994032",
            "1b6aa64986454916aef0a6bc470bce56",
            "fe2426c98e5f49f7bdc27fbfea5e47e8",
            "dcbbd1be8715453fba502f43087c8206",
            "8bbc23ed31e04a0ea56026df15480e38",
            "5ad1e79d57b6429c98d86171fae65d83",
            "12f13bb15a194c22be70624c2527ae21",
            "b94649b11c7f445a9565a12d72815871",
            "da4c893e7a644bf49c547c9b568578fd",
            "46730018a3164ccdac73ad8b767b582b",
            "9cdb4c33253846159b3316f5375f1b1b",
            "c2240f11734f4b2389fb68c7aa437c7f",
            "af5ab383c74d4c2c8ba42bd70b58e321",
            "0a695d7dc98841029e63261af3dfdf8c",
            "52d9b0ca7a414cb692b7267a04a4d2bf",
            "132cae1f1de74a2b8b99946fa2c9c063",
            "388b97d16af845e396dde08d92ff3ccc",
            "ec412889d9dd470ba509226fab522ee8",
            "00d9a40fba0e45fb8b95833b0d418cdd",
            "9c14ec58eecb481ca9b001c12781acbd",
            "3b2ad0591a0a44e1b0b6109451324451",
            "17890d8ed1814ab883f190a00551445f",
            "6cd254aaebbf4c228955701578ac63ea",
            "c50b2cb4e49249ae9896d7b7b30b6f48",
            "336ed713d6464107b7d3e8b08ab998ba",
            "4633da23a4ef449db709247f177cdcee",
            "6bd069f5532d40d49138a3aaaba4707c",
            "46d904703b424434bf9003ebbb6edce7",
            "0ccfdc68649a4810b24c3eff5b477fec",
            "7254575dd3aa478a823c2e87f5d70ec5",
            "74c5ae1c91044cc38be69e0112219aca",
            "1df5e306e7614c1698f330df18982679",
            "18e6dd7341504851a1a99633feed8fb6",
            "a76c229d42ce40ab9cb79fa0b1e8610a",
            "d64143b9e75142e298ca926ad2651f61",
            "374bcafb0d814581a002d8ae7bfb0c74",
            "8162fe283106474aab58f521f7c3263a",
            "0c0a5e21b5e84cf5962f69e23275ace6",
            "6aa9849fbcf5468986c2ebc131050682",
            "ca64bd6a7b8f42c9a4508d25b45858ea",
            "2944afd568bb4dc2a6ecba26e4d26b30",
            "356ea6488a4d42109a9973b1ad337200",
            "649381dfecd0420c9b7f247f541df05f",
            "d335eb5c23ed49069276e600dccc93d5",
            "088b2a0ca4ef4ea4843dbbad18828a66",
            "ae00ee4c219e4dc8aa4597bb4bfe925f",
            "bf570c53a4ad4ee38266e23119d0c7d0",
            "4f9a40502f244310b47652d7aba342f8",
            "439610b6cf8c4a6ebdb8a4de4b38161a",
            "2502a5ac87e340f08429a629d3e39889",
            "5a0d554557fb4e5282b543b03779de3a",
            "8c25ebd26d4f48e8a292b203dee5859d",
            "5d0a2dd4470542debfe3525d240d9c56",
            "e34fd3f4b6274a55a5a51b53e80f0cb8",
            "d4a9f75ce9ba4777b84c8873f243df56",
            "13b60e2d1ec54ac284d5a0bc996e62d0",
            "db8bcc5e68754ab58b34245e09fce3e6",
            "805e3484c5a84f938263176f448c0f1e",
            "ddf21da116964c399f5cdab36fc64648",
            "c97f245c727a486c845b3df363a9c970",
            "d9d78293e53b413bacc4e72ba815a257",
            "baf0ec5e769648ce840a5cb287c4d8d7",
            "45f8fb4227a543d0ad86f779fa92b9e4",
            "dcec8217d00d4a8695d605d1e9d1216d",
            "dcfabc259a1c45bb8231c39f7a9f422b",
            "432193ba0f4145b6b888a88cfea35bb1",
            "d547ddf7e5cd4a5f9851bceb84f8d5a5",
            "73583e3702ef438198e0ddbc24f64d24",
            "9815296f65cc45468712676347e47b3c",
            "66e7a0b835d44195a9cd457655a9fc1a",
            "26c1f91f0f2a49f39ef7b6ca93b82688",
            "f02ea8c9230a4cbe8bef4065d1d7c618",
            "ffc8b5e806904ccbbeb6476b64e641bc",
            "35285401404e4f669db5dd8b20638779",
            "f06979e2b13e468ca7dabd3bc0fe9840",
            "1e849ec653b846feb22281cbe3a04c64",
            "27ceae7bccc14d0db7ea26546cc88dde",
            "5fb51f9022d845dd8ef87004e24035cc",
            "4e33c6290ca445f1a0c41118a9e9d2ad",
            "2ed319c2ad42475d9747fde10755f154",
            "695acfd0f8c444819eb890ff1cb70e72",
            "8c1de2175317441a98c01cd86bb76d5c",
            "cb42660348234b1fad09a955d2826263",
            "55bb3ead74cc482d9884df4ead73693b",
            "e49aa1b1501c4183ab5bbd8cdfa20015",
            "4d5ea6e5cd994df09a6c69266150e826",
            "c03e031bc5e74cbda981417926cb88ef",
            "f209415eae354ad5a66bd56439e7dac3",
            "4f05cb02785141938e9c1c7d6dd88363",
            "d9ea0c45a4c441d18d9eb0c7fb9a011a",
            "8a8cc2f4e3494a888fb74c30234053ec",
            "5d1281fa1c5a46dd849e9b6dc7098aee",
            "675f011eb8904f3c93f732d7921f3b58",
            "5b93ec7752cc42b298a68fee32819126",
            "3266f91448304edaa9cc859df2528a00",
            "4367f3f8d0484eee93d294100bdecd2d",
            "698768ad292240a19a8bf066fc3a6ab3",
            "b8b54c24be2241c7a072a170be8d7c59",
            "52a16911446d4644b9ebcc5d9d1bfce8",
            "2e06a6630dde4a98afe4ec7445de3329",
            "22075ef65fbb4bb3864ca9d7d974c31e",
            "fc2eb0ea64b84b7c8e7c140000fc44dd",
            "ece669a5de11426a8979f4c7b214e4f0",
            "06d4daedd8e54f158115adbaa0bfe736",
            "a7a9ad7cfe5e4493811bfa9401a41e65",
            "405b3d3f2ef541fbb0120142cfcfa424",
            "6c481e81d0e145969e0bfae9a543b83f",
            "191e79dcdc6c40c4b3bc3a31e2f5651d",
            "00f406a0cfc149849037f0d34d5de7d6",
            "f9f2db13635c4a089b40152a7c226823",
            "b138ff8a8b734da7acd53e485ea3ee45",
            "fb529835fdc94c08bf24dad361c67822",
            "d332107be6694a95888d44711fd136c2",
            "5e68956c96ec424386497e7a234ee2f0",
            "025b4325f1e742419746fbe2571fa8fe",
            "204078796ba24b779eb4e773763f52e3",
            "aa52c93516b14abaa793813250f160b5",
            "735d0b46f90d4c3198c963edd4023535",
            "802b26809ba642d18af0bf074b65eeaf",
            "2847e2f88fb548ebb74fcae3176a6a2f",
            "7f876c1043724bd8840241fb3a683b68",
            "58a5d96d76454856b0a15dff4c2c2d36",
            "82534a6eae914c3e847c148d499f773d",
            "ad270b3cb15e4e64825a9eb72df7a7b8",
            "bbe27e8c627c471298aa543b20f0770a",
            "d25bed9956014ee0855d764789c9a998",
            "62ea170db9714c0c9593ed58bdb58e9d",
            "9d8e44e8222f42da80ea3461c8b1114d",
            "9a3a532e611a4ec6907d894bcfabc7ce",
            "54efeaf674bb45b6a5e6cc192c2e12f8",
            "4d8ba930e39849a09fb2bfff64c41cae",
            "cff36b8f1c524d9d92ad56f4af4d03e0",
            "ccc5c67fd355472e8ea0b8e8288f0854",
            "f0561a65c73a4184b246479374fd80d2",
            "62cbfabc17c345f0a0878523abe1a2ed",
            "22204c1461b349648b6e14706207b382",
            "18d27a25ffcf476e894cb18d68c3a4e5",
            "22e4e863152c41e18778698ef7814702",
            "9272da5f51f3477d9374539fa541bccb",
            "c61ef8bf91594f218911216c9b56376e",
            "ca60c4c7b8c447ec8fefc2414918d757",
            "cb6fd3db0bdc4e9f92a2818664ff017b",
            "37b7a292ccde4f4fac4f5c3ac8731d93",
            "fe242a7ac15340e8bd1d329b108a9454",
            "841eb1512ef44140b001ed3723d88637",
            "82019058145945a3a56dd1f190ece5c4",
            "b574b02cd18e451a93981e37bc4824f4",
            "7bc1bf83d519468383eff104af00ca02",
            "2f57830c9950467484714096725954ec",
            "9343d6b69f8448ff8b058ca967e27fb7",
            "56ae741b36604b94a410e8a4fee012e2",
            "5d5a975c17244681902501cea8d622db",
            "76715bfd7df74832b6349195eafcba90",
            "2e2ea3e19bf440b99bf3c7ff6e8af52c",
            "bfb8c32cff664b30885d7eb8b0409493",
            "30e9b76374c84b458e73afb5e366e9dc",
            "f77e7ece35e94fe5889fa06aee7cfb0c",
            "f0e8873acc144fa7a1f7e19e6b71b791",
            "c4510f42ba84496b8ddd014f0e8e8c9c",
            "c36a35a89e2c4cd1ae15c40d2e97ea51",
            "e8f3c3b5df0046939cbbcfcdefe7513a",
            "ee145770768e4b809b57ac9164ee6466",
            "2d5d720fe20146b8a951c8586f82f0cf",
            "b9cb266300284aec9b6fa54a9aabc3dc",
            "a632d8ad674e45638567df39ddb20332",
            "9ca307ec91824071bba6c7e26523038a",
            "56323b410a0e452bb3656d9358b5923e",
            "fbd25fdfae3d4b9bb1ba827e227b011f",
            "afced43665cf4e478b8a610918375093",
            "eb5d4eb6c145457cbcbbddf94398d994",
            "131dd093c185497cba299a825612025e",
            "e42fffb409b6431b893f839b8d91868a",
            "3aa6cabfdb404a039114c5b270d21074",
            "fe2e9ca996de4013be5d3fdd4422013d",
            "ecc351fc9b3a4e9cb781c44744df76de",
            "eae0eb7048a044979d7ac0498a1a7916",
            "ab544316110340678f0d489159084280",
            "6897ac87562d4746a97409fc18fd0858",
            "e720a94420974f9e9dcb5aa6e64a6426",
            "c5c97e79f9e14729b65566efda9dac33",
            "bd818624b6ec46d4896e0e5399ffc447",
            "21c0cda458ab47908966cf68f89f2109",
            "a89500ba5eb74efbb29eb1b53bd5579a",
            "92e801e2f8514b07b4e3678050eee7e2",
            "c69b8d0bf952404fa2bd574df2855fea",
            "546e6b43f6b64b629ea54b09680028e9",
            "a8925a2e18da43a28c9c0ce3b4eb2774",
            "1cf2ced75c254753a242d7167e5c77ad",
            "93b9f74842e1409283fa76ee6400e6dc",
            "677f8f3752c3404584b51ee6031b5757",
            "30717d0345ec4e61b835daadb48b0e03",
            "736b86d0ff844cf2b6b5382fdd3c7eb4",
            "824ddbc9765b4b55b48f3c668eba1693",
            "034dcbbf050b4eb3923b1ed639c41f1a",
            "0df560c877094ee68cc16eeea5f40db5",
            "cd9d98a7b766463ea370525bdadd08dd",
            "4276b9353b4e4f9c8f6e008de730fb91",
            "ab7b6f1e9eaa43c1b07945fde0fc3c0d",
            "87a1f14d6e604cb689a7daa9ab136638",
            "bb1058ab6fe0460087753ff688449676",
            "38cf590a5ca143e3b299c6867dfac923",
            "d324f9b032e0478ebe71a435157b1675",
            "e16eeab01aaa447686df4fd36e81a56d",
            "56ea700ed5794a8791a901629d264066",
            "4d34b6617855451a8e276d862f216f52",
            "792d1c33006f40dfb82d99d3a0e947de",
            "fb89305ee96e4f1599d5f2667673d05b",
            "5c1063ecb5fa43eb8989d979ee36af32",
            "8647b05112d340a383b83760b41e9900",
            "c65340e6d08b4ffb9c13187b3f19e4bb",
            "ce51cb6859864236bdba8599500c08dc",
            "354ebd90700745b78aa7d3cc768c672b",
            "095c7001bc72477ca6c6dc968c879237",
            "f38e92565faf43beb328226bc7bf0ea9",
            "3b31d73083b04f6c899e5e5c31387d6f",
            "416a8471cf694f31bcc85318c3743ede",
            "5334e9aaf29844b2aad8d840d726d456",
            "a4873ab2eb164ede925e9e6272452775",
            "8b8f7fc23a7643438d33abe5f6a38d20",
            "058270cf98dd47028e293e011076ef66",
            "14a86b4d479344d389d57cd287095dcf",
            "424231c52b364e728b500a71e33148dc",
            "00d4fc9651754f48835c7383d829627d",
            "71181d7cdfb44908b62202057d2ff353",
            "39cff33debfa4418ba43d68f44d8fb83",
            "4cc5b918ce564f8d806d26623f4dd93a",
            "09f7720fd7e5435db558a5967d157bc0",
            "0810053ffae44ef1a496e66446293c2e",
            "bbc37387263b4e19a5f0e28c6f5711ba",
            "87eb0cbe81ef4d8891a9b1fe4266e65c",
            "4c79dceecf2a4656b01695f74f356833",
            "76c538f6b401492ba8dca7b5390e2dd1",
            "d8c542f864034e519d4e1b5c066d8dee",
            "4f81b548831e4899a8f24d40741df54e",
            "cd32d0331f3d4333b351207a33886a34",
            "8ddf76818eb44198aeedd1efec59dad2",
            "444801fe946b4444aaa13342ad868084",
            "beb5ad12b7324aa3977251265be96d27",
            "1c0d4f6299cf48b6acdf0d8abc51b964",
            "41637b60c0114fc0a351c03d77a48e6b",
            "f51337632856416d9eb211420d7a48fa",
            "b53fd37816864b75a18353dbf9651d07",
            "537b0fc5428741a4814a273e6620e98f",
            "3e5c19035cb64dab8860ffe93567071f",
            "c642005e70fe441983d177c21291fa1d",
            "19afcee11a7e4c98b45888fb97a3cd47",
            "75ed294bf9734455aeeccc166e1f2561",
            "e15274c372894f28b02176639ec80024",
            "fe403a3174cd4187896f4d43f3834787",
            "0cdb7ba2285444fcb61fab828d2662b5",
            "3e1a8e713c544298a74f2dfb622f03a4",
            "b636d9e53806450d8ee7ec7e18b21cfc",
            "9e3149ca80e447059cbe6860660b48aa",
            "946db796701f4512a0f0c83be7321ec7",
            "2df0d8e14c604b81adbc8beb430bcc5b",
            "c2e4dabd0e924ce4bb7465d7ba755370",
            "a45ebf052f4d4c25b52c5a0e349c0179",
            "3c7c35f17eae4cceb47fc59c0cf7b7be",
            "43b99d077f9c456aa5f0ccc2899671ef",
            "68dba67510164007875d9bc651ffcb91",
            "a4f3c9fe51d44d18acac337c69b79519",
            "0f8db0606d83438a84e0bca15201b43a",
            "8808ec27fb29467b9523096cc3e058d7",
            "70a43835d1c4485794cd3b2814802e13",
            "e37c50d1cb7d4c13b2fe75115edf5cd9",
            "5878dd53c81c4023b6daa808c16d89aa",
            "38809d0d3ff042cba70fa201309e457c",
            "72169fc9345b4b34b0946527d3fb7a2f",
            "849325c1bb7a439b807e704ef3f41fff",
            "297888bdfe6643b6ac757633d86fb189",
            "062ba1fe0cc7411dbdc179d649e703cf",
            "9a13dc53107a45e79ea1d3e90d2b5158",
            "c511c7d1a0464dbaaa009a3c0d1663d7",
            "c99a1653afb44094b38b7ec0f5539a11",
            "410b487bb27845d88a72673e26a506b4",
            "208dea229c5b41e4a12a5ef68ece0359",
            "6d8e4c9b589045debbbf4e514a7fc44f",
            "ed5486df3f8c49638e199ec1fd2ba781",
            "4bd0923958c949d2b9fafeea2712ad19",
            "312a10c9f83641b5a3ec5331c569d9af",
            "2070093cbdd146cca0cca034171a86f7",
            "aedc4ea511d04fb6a7c89ffe3ffaf108",
            "e314681f29c7411ea3609dfa249b3af8",
            "35b53e91cb244da2bcbe9a1ab78df401",
            "51e6b043b1f54f0c8f31dd28cb6a2ed8",
            "0d0e9105e3ae40dca07f0fafd06853bb",
            "be07216fb20e4f8396ecba30ddbd5a10",
            "ad9b23ebb6fb4529a9d7cb33b7c99433",
            "3f461f258c484089904441a6a239e63d",
            "184a02e96d9d4a37b752dd71b6f98861",
            "ce40254489214241a6827c1d425e3191",
            "8de6e13860664524817b38ac74714b3b",
            "b55d8d9fbf9c45fb808a7b2ed643d1f7",
            "40bfcdcdb53f4ed28c7ec9d9490e844b",
            "e90b49e9f78b437ead9caa7e0bb75a0c",
            "cae736e25f5d4bf7bf0682c19dc8744c",
            "4d7456cb92974969a02d3a58f3376b2d",
            "b216588c9fae43e7a3e40903a973548d",
            "30dfdff09f2748ed806ed47e6e538ee2",
            "f000aaf7d0784952ab653868be79e206",
            "420592bb15064ed1a78ef63585e73040",
            "1ce86a00685c4c5c9ee0bce37e0333d7",
            "8c0c476a29cd40c4b65e9dd4198dcac7",
            "776cbb90607c41fda605c2f211aa75bc",
            "19d763daf4e840e7b144175de5e435dc",
            "4b3c010278f7495995707754c94c9c4a",
            "7898a98677c74cf5bca26e64f80bf75b",
            "4d941da18e56422793876c32c4447603",
            "b238301adfad4c7abad1e33d1eed03a8",
            "3e53ade091a84d17aa3f9935c7224f0a",
            "c2491f8409fa4f728ea658fe9f44c746",
            "e81940b9ea364ba083b08c80a61d96a1",
            "96bd268e9f6b419c8b5a0c436883b785",
            "41d8a96d0eb243ff87f8ec24215a5b77",
            "99739ae2a1b64199bd3859c64cc28c22",
            "4203916c02c14dba873197eebab7c2b2",
            "be13bfb94de640e28777016f43fe4396",
            "1c3e39c6f3744504bd25fb1dd51a2983",
            "6356d347aa764b03bfcd9609046637db",
            "c177bb2b846c40b49b1b28c140771feb",
            "7d91d2e4f8bf4ff991541154aade86c9",
            "469bce667c31435f9c74b351f9419971",
            "2a7416b708144b6ea7bd8fa0d875700e",
            "9de477e1115844819da723224ab3352a",
            "b2adb6afbc4146feb4d10b350dbf1ef2",
            "0ba97e5b6a4d4ae8acafb1f02d3571ab",
            "7ae485f6196d4ecebf21192259a6cca0",
            "f45f06c24b92449c9cc955e9fd0a7a23",
            "da967cb8879740b48b032df80eb4ad73",
            "49600fef032a42b486354b82a0a5f1d9",
            "8c405dfbf4c243978e0b7bf6172e6818",
            "475b69c3f9274ce58efa302ad2826850",
            "950c5763aec94a68a8950de42e08b704",
            "bd00ee2e138f4e359259a3545850fc5c",
            "9b9a6827777c474e8520efe454b4a7c4",
            "4fada755b4374d579a1b41b9086d7253",
            "87366d085b604c09be1ea5e4c75d0b77",
            "d3c4fb9ce2b8469ba1490ec01b4a787b",
            "42c832d334fd496588f2ce6874fb8100",
            "d8266a82d3c948039d4126edef4b901c",
            "15b5faf71d194828b7c7a05d72d1f304",
            "1106ce7bc98c49b69207b69c082df3bb",
            "01bdc52663b94d4eb4fd07871b989f6c",
            "7c3b19fb6df64a57bf4d4c964eac6c13",
            "c3f0f681f5eb4f7fbad1fb59b18abb0a",
            "e7422228c95248118dbf7728b141a34b",
            "4e03eff6ab7b49b09330a46bf06cfb6a",
            "87fff40de72949d3970568b794ae1884",
            "45132732d64c47dd9027909bc457a965",
            "e6c1dfd362714fec8120991d3bedcafe",
            "3258d3e3b8de409092caf1db9f620c79",
            "85024b0f476b4dbc841bc8c6a665f337",
            "13efb57ae1eb45899fc64fcc42117fbf",
            "5c01e5bedfc744fc9ce74c19e9723098",
            "f4f364dd31bb4c4cb7580f4f5a247a16",
            "306a6b8fafbc45629b8e9c229fac439e",
            "59ddb8b1a550417e955ae4919f4a6b45",
            "ca29eca187ab4e30bde61ce3225a9932",
            "9645df34b7ae4474be7ae743e626f2da",
            "54d5c89800d848debbc81b0ac1447671",
            "3178a45cde2847129280a6ef1a68643e",
            "34d49914a65b48e4b464722422a7859e",
            "7ea167c86abc4543bc62123ed9a8b262",
            "7b716a8a2b054f3cb0522838a623ea17",
            "6f56424531704a07b4fbdaac04d2baaa",
            "05e77bed50dd4b71abb9de5951134c56",
            "a3b96a36636c42e289afc993371a1fff",
            "7d4e8410bd7c4923ac639de18422b691",
            "6e7c48abe4a74c0cb95fbf201c3d67c5",
            "37dece3ac51e4f02a8500c31d228c8e4",
            "c9617e47cca64e24bfc385df2e17009a",
            "b4c1aa79914248be90799bf7f7827a82",
            "f97fef24c0dc41d5a41a145280e1aa6f",
            "5f3d0827fdf54dc0857a6f30c4fc41e8",
            "2f8de59561204084b9c9ded500428c46",
            "b30c1785bd4a4a07b110547d62983a10",
            "36d4e48884244148a1f27bb541f93a34",
            "86cc52c1b8ee4685b03f0d786af0c1d4",
            "0d767dd41ca646b3bc9a363bfd8f5f6a",
            "1ec2f839e7f643668c2ede7b1d40a702",
            "51847b7198d047708a1bf553f5dfbae5",
            "54094c04bd4343e8b48ff86eceda58e4",
            "3aeeb911f04843d3af8665faa6b878da",
            "d4259eca8d284675b9c2a49691d0a69b",
            "e624a190ca2f4ce5836d60ecaa97dcb4",
            "b876999d34c445fcbcb74fd4cbc3a8c0",
            "fcd2d7f2c4ce451cae9fe21a7cd1d8c0",
            "649041f016cc4819a1f01a8511e7729c",
            "d884fa7c283b4e75a1e8b51def7901f9",
            "c1d020085dd548f7875b2fc87a27576d",
            "1cef57d861774c82840a52ef09185082",
            "feeff2c9fbdf4502b46f879eb1f72f8f",
            "938cc31ce3e345388cdd051e5e9cf04c",
            "729133b81bc34cb28fa4c3be9f44f20e",
            "cb7eb37d86554deb9a65fa6f8d17a0b4",
            "1bfa823b58e8445480b1427bba5a3ef1",
            "00db4334762b4d1ca830f537f0e47a70",
            "5a4cfc792089481899e0a549d64a2a21",
            "437c6dc6a98d4804a9a6b50d5dc4713e",
            "e35cdb6c365e4b60b66d5b2a76878627",
            "363657a217a441298c7521014c8fc4b3",
            "f0338caf14d44099bbe745f39ac5309b",
            "84102516ccce458d9365f7a9389e05a5",
            "9150216867404c6db6dc1d1c2ac49cbb",
            "c47bea321e2247e2915832f17695fa4b",
            "e82d7eeb705a4934acef2ac04f3ac148",
            "2fdcaf90c5704556ae98618334755b8a",
            "22518a33fa5e49e69017146d99f56631",
            "76b6e6ac38c24db1a5d3ecc4cd333cb8",
            "132059d1d69c4d23929b83344ad402fa",
            "3e7ce4e1e3b84653a635cc9745c97839",
            "4c6d839c78a443d3a21a71a0dbf48ab7",
            "bd72f7d907464ebb817fd42b946acd7d",
            "6af73ac049ef4c37be39788797278568",
            "acca1a4e5407494ba322ce39f04118db",
            "d57f350ef5504b6894392225bce2662c",
            "50334242214e41f287638e05197b5d3c",
            "5d915204d47c4feabe082054b069db9c",
            "f5371579998c4937822791aff8bbe485",
            "5328042d4ffa4a989ccb1a0ef4ea6a64",
            "9e77d74062e94e08b572f4f0b9a0a6d5",
            "e9bab2e50fba497e9c886ced945e1a5e",
            "5431050293ad4691b0a54cecfdeda883",
            "ba86fb143a034982a01bd51639a1fbcc",
            "6ad029e3f39e474d9de0d0a13949af3e",
            "2b4580173a624052b464e07f559a5110",
            "3432881c30af40f7b1cf1795a8e79f59",
            "b7607995cf0e49c39f4a8ad747650726",
            "e4f99e8ecedc4b5ab93f5c447047c9cf",
            "7bd77c902b2541b3b7769feba77d092e",
            "3ceda8f680b54e8ebc9a65f886e612b1",
            "bebcf7e0ad4348c38bb2666190681bb2",
            "bd5f4ffd094144b3b93afaa8f40e89b4",
            "95bb415d0777427e998b4a99312af239",
            "dac16e4076d147d9ad80a3d3131ae21c",
            "700e575d1bd943dca9b7607e09549341",
            "f8ec44a3801f439e89423dd6199406fb",
            "6009a565baac4a9290983b607ba8215b",
            "b37fb73e25e445109de4f883aca6a431",
            "d6be0bf58e044a4b869c4a21ae85d608",
            "c4d75d2d65c04504acd75b1ca0f9b6d5",
            "efb26ead3ade4d959daa2ad7e2660672",
            "8421da327e80415da8bc53d36483779b",
            "320ae89d2f3d4b5388f8b482a75d388b",
            "6f9f89eb61fb455a9f66577c9fb22327",
            "82d035ce32164bee88c8341bd599bf67",
            "bb56e8b584624b01ab9b657ddcf84222",
            "709494eb71bc42df97b176fe8f1dc2ec",
            "3930286fec084599baf5c0e30743a650",
            "5efa0432d15a4ad58476ebec4fe669a5",
            "3dee2faf913440e0926a824244e333a9",
            "e00199fd0d814fef9e7d147720aae54b",
            "09c01ab832074f6e9e0414e773d395ed",
            "d159770727a24ed788e8c980642dfc84",
            "1520f8fd44a547548b8004f438711af4",
            "fe457ab6db7148408e5dca1973b481cb",
            "f8bb7a9378f644d7aaaf7051228d0049",
            "c0cb8a05f2194749bbb8b7fc4c164fef",
            "d7244de5e7654480a3b6e81cf6fb51d6",
            "86ee8d5c65b3441c8660581cf0d75164",
            "acadaa3c75744f1c9757de444812801f",
            "81246ad92cd7410eb19c08871ccbf30d",
            "66756aae69e448dda8457067b1ab699e",
            "d6d5cf92382a484ea2caf8a9cc0eac55",
            "6646d339de964383be79c71c343823fd",
            "0878dad56fcc468c9c15eb55769870a0",
            "242d7cec56644f35a91e8ce69cfe4fd7",
            "a2059f007abd4f718f34c9366abc3374",
            "4f49096036e548a6b2bc92404b174883",
            "2277cb6e56d54117b3f73c7e9583d0ed",
            "fb4e6eafb0bf4324a5d1f9fcd6b21cd5",
            "9bfe92c1032d464a947e09e740b3b3d7",
            "a4189d9d946b4f87975d90b8a5fbd8ec",
            "20691d465c1845e189ef05918b507a82",
            "d32a8dbfb0f842bc9631a4825126a650",
            "440bc95bfeae485d85b221b50e43088c",
            "6277c13c76134ce9b41280b6b12644e3",
            "a0e92ddbe0b94b568f9062ba2f962c73",
            "bbcc2176d0264b9b8acc8d0623511ea2",
            "4abc8f9852bc4f2bb3e1c6b06f6ec618",
            "aad6ab79409247178cd1def4e4d93f5f",
            "bbc50b7acbbe405d8e63ac18713cd723",
            "99bbb3827c4a46f18212e51c052960b3",
            "e67d0a8a81db4f0bbcd04ddbb20e48b1",
            "5f9ceefa5ebf40d6be1a5290cc792b08",
            "bb6c2a2e182b4158bd6f5abe1e6c88a7",
            "d1d088f87cdb4e75a82ee19ae41ae1b8",
            "56ca8ae81aad47158c42de10297e984a",
            "479fcf3011644d28bd9b67de609c7a6d",
            "ce8aee106008491a96cc402878f43167",
            "8e7e8bd2bd314376a9ca233e8dcd0228",
            "6eb0e931e9104dd1bf1e4a1607c36230",
            "b45aacca4fbc4378b3f86734a8e0ce4b",
            "4883eb933c6c485f8fad98569379c2d4",
            "cbe48ddd797c43e4b4ce337ddb9f0250",
            "14dbdcb12d574b0693437b2524f88e6f",
            "1f617be7726646958d0f414a4992942b",
            "47dc7f20080d4084bc81f3b518af27e9",
            "b43351c31f764d5ca333517b0b5ac3f5",
            "1b7b117625484a08bb6d78087c193359",
            "c662457f58a74a399df2664de5d198f8",
            "d80ffa96f0504b9d9b5c36232460bf80",
            "fa5f7054a1bf4d91b13c19bba1b5fa77",
            "bed522d8665b4a3d88a2cc469f15078f",
            "e99aed0c961f4b6997fee6812fe65b55",
            "bce79a716bb04823bb9b743413c4bb95",
            "25bac24d7c9044138558c19915bd2949",
            "8883609263574709a0ef44891d34cd53",
            "ad8f6b67fbf548fdbeec72717fbd6794",
            "b6cd858e0b1b42f1b24fcdb8c6931e31",
            "572077b7ea9c4503b74c6bb498870568",
            "2f29047719b144fda5002a0a68267f8d",
            "2974c53a08e843ab8c47ea86cc4e179f",
            "684acdb4303a4b7894b73b373dbed658",
            "fc06b41e3e7345368691fa74c497d227",
            "d2547542e9244e0ebbea7a1e95d59be8",
            "71e0a1c2440c4b92a97e42a05d893cf4",
            "f129a5db43d44df28af415d1587c21d6",
            "62ef439f69a94b75bf943d1761f9a0d0",
            "60988f5e06f743299c116a406ccf7e1f",
            "7f8afd12c1c94498bac60f089b7267b1",
            "fe0a8abcf4ab476d918d8b7a0f7b456d",
            "38edc95ea5fa47689fc3501137cad1cc",
            "fbffcf479d1f4fa2bb2c0e0d34e6f64e",
            "f1373b8221e84495828024de52c12bdd",
            "8c8556e135214bd99dc63cf94b5d2cce",
            "77603746c30d45c4ada911f0e5b27155",
            "9abf416b247b45bb9905e3af5135b075",
            "7ba697c80001444cb81af709748bfb59",
            "92f49b89baf54c43bdf3f9b6fd979710",
            "0dced7c3906d4adb98003f99ee937631",
            "96944f0dc19348639cf5302ec78837ff",
            "146940461f684ef5a19f753ef29a8a9b",
            "e96d3aaddd714813bf7d6253e29ac886",
            "7bafe5ad906c4d3a939f953726db8b94",
            "a9384073411140d4bae5f1c2af74e785",
            "2071a8e767a24c9884456a04c23c59a6",
            "9ef0320b4b394cc3947bfe297185c073",
            "dd908918baff410cbac0b4e2fe873b55",
            "86f3508dd79541289a332d569317f39f",
            "c44e572c8fc34d7a82d734dd56716689",
            "f992c7c7d3ab49d58551b5cccb21971b",
            "14cbbf2b4f7c43cca6583ef995d1847f",
            "bc25ade0cb8946bab2868bbaef61d371",
            "21c688858e7b415bb6165f3c83d07ee0",
            "3d184fc126374cc1b950b52942c34ae3",
            "87b3eaa6e4184bb7b7c073bee20539f0",
            "5484bace532945afbb6e48d48ad7995f",
            "738e56aa87be45d59f670900f32a0727",
            "feab6f0bfbae472c90364ff75d2249c3",
            "a1d388784c68497b914e513170e4a8d1",
            "9a5171cdfb4d46139aef51e58de6fd94",
            "dc9efb68ad664dffb4789902bebd4af5",
            "4551b8fc2fd34e1a8d4f53c76c825377",
            "0db393bc79b94f979ef859dd0d9f719f",
            "8c39f3c8c2954c1a81964d6fa7cc6e7e",
            "228686dd888f46c383c1950575e62498",
            "1d0d23259a35455db87440ab8544f2fd",
            "0bc0e76996f949429c2f0486e1ab82aa",
            "3edf1ef7d6104e73ae54cd322590428a",
            "8279d5a94e214271ababb179b1dd80e5",
            "f2b7d5aa5e4b48cc94f07465bee1e472",
            "6fabb9fa643f4448b626dca67fedc812",
            "9eaf4484e57c436d82477842ea8ee0c0",
            "3b0af7f7d2584752bb00193f837aa24a",
            "1e10e3dfd9864d49a901c1c1a537a05d",
            "a6ba3a7e5de047588c6c7dececba70ac",
            "16cce3f25f4b4a7a8a067cfca53774d0",
            "fdbb262de05847049325b2e37b6d4814",
            "c542dba6a70f4110a3c717e997693073",
            "8913fa4913714af79ad9114fe0fc8fa2",
            "f8c2261ecf6743a79349a0ac4d5f0764",
            "af36fc047a91414b9a65e728b2567c07",
            "05d0a1526c614b898ea7443eca5fc0dd",
            "31882e4cb4884303a7ddd8c2208539a9",
            "b55813f647b3491fbc83c1577d423aa9",
            "4e454716fdef4131add8089dbeeff712",
            "11554bd2a2db47cea324c965928d1fa6",
            "1b9c7c5c5dd54ed2b75df1b31eb249cd",
            "25584d868f974bf2bdc1d0fe49f66dcb",
            "2aef62f749a645608e6ea09fdab09ba9",
            "f18947dc5d7e45b79af0ee94e531b509",
            "d8fd4dce4f9b45d1938bd28121a2d19e",
            "d5b450a5f672407a908dd4f18af943b5",
            "da049bfa16ae467494f0699d8cd242e0",
            "cb34a8190352418592f913226d9f843c",
            "16d5bb8419594bb690b5a23c2f0fb259",
            "4451f1aec2a74f90af6460896b00ca33",
            "172afda00b8e4f338a73d8bb07434c13",
            "90937844acfc41f787365885d2cecaef",
            "483f89e5c3dc43e88cc1e8bd499c1bac",
            "6638ed7edde14247b86968e99ab11e39",
            "cd034c4d89a645adbf207de91d48dcad",
            "325ab7941da74f51a0988aa9a354f628",
            "44ee2a28be2947959f8298cf52120a68",
            "c238eab324f7490f8de9dfb05b99fca8",
            "273cd1614de1454a9726b23a5c61cf78",
            "852e743e55ee488c8e5cb563ec4fc5d1",
            "9acfd26d600f4292b348222a4ad1e3f1",
            "081e903fd1d54ddfbed3df7722ae6f34",
            "f443c9a4f7f94ccda01a1be098add246",
            "13cf0b6764764ba39ca3412ee00fb662",
            "fde8a0e20b9d4a04b0641dd0fb2f075f",
            "2601d07ba3594f24a51a538303cb6ce5",
            "ad87d1ff590b4b81bfc2c1131f19ff8f",
            "86720cbd10614a93b3d34309028d7c91",
            "c8014bd1ee044692a790bd2d6e6c4c30",
            "dbbc2f903d394cc6a67d000ae40d98c8",
            "973369eb96134ebba8aaea179bd10d4a",
            "121bb667fad04b64933009d0a252b981",
            "c63f49ac0dc2427c9a31afe1facc0473",
            "1cccb2af79b24179a2aa0fed533d0cd1",
            "8980eabef6494db9b019324d5b639093",
            "55ef5703190d4f1c8f182c7ea29e7015",
            "2c8a35a9eccb4d068da255d813159ad5",
            "6c5a9c8aeeac4513b29e028ac0297b75",
            "2b77e8922bb74a1ab3b13dba0f09942c",
            "a271e794fdf04ca380331bdc87170d2a",
            "0125acf6f12340538160590bedcd3f95",
            "d805d3f2ac2a4e4da694c932930ed6eb",
            "b0edc7fafe3d44e9be0b6f875c0d6497",
            "7ed9ccff0447414a89200e8e99fb1d27",
            "c1f522a8979e45028aeb91abbe79b9cc",
            "3b9918778c954b4eb7a2b6cf83d2ebb5",
            "c8b2f4ed2b8d403bb657fa4b4bcf16f2",
            "877dce0ebfd5474da0b41f21fee0838f",
            "a9bc40e0c93f4648a8e1393fc6f7cd70",
            "90cadf6b556d42b1b7183a3b352dc586",
            "eade55de84e643a0b73960ae3d74c09e",
            "609665efaa4e48a9820e872d5e1e6895",
            "ea94484600a4499387e6f8592ec5726a",
            "db12082f683741e393093975a2306ab0",
            "7c9a5572a56b4a738eea8fcf529fcbf1",
            "16a2d8f590f84a67b3ecf7aee97e3cfa",
            "fdf74778b3874d11925cd135172864c8",
            "1d6ffb095c644e448d0570c7b6ac1583",
            "8bd14fd5aac44df0bb65f31af1db77ee",
            "d0562ff538ff4a58915ddc7933c6c69f",
            "3f797ca573bc4e418cbf63f219d98d37",
            "7e080d7b59e64d5b8413cdb727a912de",
            "7eaf7b445ef94a14bc61705945398b81",
            "2de0adc017fe4b818fbfff4d734615e3",
            "6171e618469d455a997f3f1f67963461",
            "2ca456582a07401c84974ac0a04ff506",
            "25a9cac6d0ea4c77b2eed81f3f671842",
            "fc00e75aff6d4e329970bfd3f4421268",
            "8fdc12fa68fc492e8bb3bbefe930d95c",
            "7de44a33389b41cf9355111b1f346731",
            "721c6c49231d422d82429ef9910410fb",
            "d1dc75039dd242cba968fab996cab4e9",
            "88ef94645d614bd7919c4cb4fc3d3b18",
            "f387b03d47534c52afe3cfe640fe582a",
            "c358e064a8cc461e9125a21fbae35d9c",
            "1149e7957d5843b3b86c97c44dfff66d",
            "4f1ee71dd25b4f02abd6b621a3af120f",
            "1a6f2c75afd649f9beda8d11d10cfa40",
            "e003d5cf59924c978976d378fed244fc",
            "4d95c5e1a65b45d1bfba10a0371658d2",
            "a8c4844fcab54492bde424f76f359671",
            "c9a9822694a74bb39cca4626181b6595",
            "a8e9663400ec4d0d9b7399e73261ab13",
            "632d3f6d320e4ed1bf4dfa8299c80b9c",
            "6b7f5388ffe94823a0298d3dea1a569e",
            "0636b31e27774c56923c101806ffaa1b",
            "bb36a9cf70d2434c914951956bd0e1c8",
            "eb647c27a96340688360a11791cd6e6f",
            "490e22546dcb45b2bbaa9512aba6b58d",
            "6f8ac3a445b642239bdc01472274fc2c",
            "6aa486867bd64fb4b6e8ae93c7b3e412",
            "a02cfe6e110d4c68a2f1fbf45fb7d7a0",
            "60966a5f09154859abe2edc1d06f8ed3",
            "bf9e8fdbd38347b7b0d9297240615738",
            "c6cb46e3c76b4731980a92ab05f27f84",
            "88fa7b6e97e64c85a5f5dddc5e2e9fb5",
            "7fcbcbb70e86423c84c1450336257d9c",
            "f838357e9a9247529277f15b8f2d7640",
            "f2b766b296b8411e8ff82e76c13f811e",
            "1ebd09467f25463ba4c72ba8430cb036",
            "603da7a2bc6c43efb050c08d2a47dcf9",
            "9792ea2f2bdd4ed8b4e33eee31006bd4",
            "21079d8dbd7d420ca060ecd01c0a3e84",
            "4433453eeef94abcbbdd1727095c841f",
            "3344ce8ceeaf4983ac140aba26c55ffa",
            "e04ec8cbfd814dc18e69ca7ad67e406a",
            "10bfd036131740cfb51669916b228663",
            "500692fdaa7c447dbfc64d1f1eaf5098",
            "ddf139a9759a44aba85b76873788706d",
            "e05f6e5c06cc4419bbd96db7653da8e0",
            "266d39af352d4f25901ef9ff44fd6ee2",
            "dffe2d9552b4499b822dd4fe6410c39b",
            "16bcb0cdaf984e139eac333a6e2ef58f",
            "4c6a92a0a38a42e292f56cd77f1656f1",
            "fe139328d760466b95e5ab130e541d89",
            "f75a5d00ef3e4d529250b15efb170679",
            "19efb5258574464dbe453ed2daafdd91",
            "5d38e90f41a04b59b999254854ec1925",
            "8e41eb81c5ee4acc8fdfc631d7c08090",
            "22df6cae3d53414ba144a413824902bd",
            "974691782219478bb7876cd62d9cdcf9",
            "6f567974abed43ada60b3538c32dee04",
            "397b3bbc420f49cf8befbdd1748196e3",
            "fe3b2a12f2bc457fb6b8dcda6e7575c1",
            "c1894a910e4c423c933ea026fc0493df",
            "33c4f6ee6e4c412d84281b4ca225ff3d",
            "27f49aa49e08466ea483aea635e4ec12",
            "247def5bb9a5479cac523e1c1364e8dd",
            "0706b344ed9d417b800a44e4509a7b32",
            "2849eb6ca1314085b81af844c3c4e07b",
            "053530647e7945dbac4b56470afc99ba",
            "be60a0eaef124989b74bacd154561e93",
            "2bc334de75da46bb9d5aa6f61150958c",
            "c35ed25e440d4d178f43c7aafc4d1cad",
            "579fae868e50439bafbf84876f4dab1b",
            "709d5aad22a64f779fa94f4f29db22e0",
            "bfbdec6ad5124b9787d21a74d6042fec",
            "ad70c0537e964104b7f9d1d798a54821",
            "95ed44b15b1f41ed96212bdcd40a2266",
            "1139033ff4fd475584b177e73c946e5e",
            "8619bcbc505a483aab077a21d855fbf4",
            "bad6edfb9ed44bbfbaa175e142ba8d8a",
            "4b0f436bb16747e6b1e042f9dc92d67d",
            "630dd63944704a1cb4947f140ae15334",
            "207a6af9e7124027aa00d5aa1ddb2dfc",
            "74f99c75df854634afb2f7d6a00b6254",
            "d72384e8e4db418f8bbd9ecabbd30077",
            "e7833c4bac7d4755a68f2e62444394cb",
            "190480ffd50349189f95468262b4171c",
            "f0d6901ee3354df8ba0c345194d31d8e",
            "5ffab52094c740acbfc62c04ec807dc0",
            "469ca8fb161a402ba2c3b53dc36ef126",
            "a65b0782ac4846b4810848fa43a53fde",
            "6bec8f7443674be4b5dc33c420fe04f6",
            "48195b8801af42059452156276a3f72c",
            "588f0a838ee0494fb621651ab6afaca5",
            "b5ae901a84ab438e8a04e5a14796b8a6",
            "6c4bd9c0e3544ff8bdcf17526b09186c",
            "8837e4ef76b04160915be55acb68ea30",
            "42b4d344af14427aab0f209b3b2d6e19",
            "97fd7e1b50304eada4717e0a829f466d",
            "9bcdb53d9e084567bafdcfedfdb045d9",
            "d180622b775b4429af9c2557d7fc2da5",
            "88c9c0c96ff24fb99bae3c4691de4843",
            "31c84cf6efd5409197e24436b9470af5",
            "2892e32a30a9404386cd4048223bd389",
            "32b925f85d354108bfe3d51bfc466ca0",
            "9fb722604ab346adbfd75454b410ddb0",
            "4c179b6acbf64271aefb659244ca2059",
            "693e5573651a4813a28ed5312329a14c",
            "2fe7460956f84380bb66eacf0931f8a9",
            "60ab5127b99545e5b3df5f26ab910d37",
            "44d9d7e8c97d4a178d500f1602bc2ddc",
            "f1f3001f6094462ca8246366308972b9",
            "0932c607d8f44f4784a79c3f05e41513",
            "9027a4b4aeff487682df415a91473c97",
            "05e5746be6d04a62b321567f25918f12",
            "cac141650a5643d7befbc21fa9e70e73",
            "ec256657945645ee9ca4b9bdca66d5fe",
            "4ab46d941e244559819c361cb529c212",
            "b84cbcac02214cf0a53dd310a2a4f7ba",
            "f4d498d2ee594b70a9ad0299029a2353",
            "9011b4cb4ae8491ebbac2e12ee00103b",
            "d459642757ee4fec83ee4d9e99fd8fce",
            "f189b804b15449be9d16529c5ee9a12f",
            "8fec6c81aa714cacbd4ad8dca1c22480",
            "f167e9854d7143368e746deffe68016a",
            "0985016528994efd8faa9a76dbdf353e",
            "7a987c5cb7a644e287319735451cc076",
            "ae86ecdf2eeb469eba6f97660ac0dbd0",
            "179b56a4f7514ce48b1b38dbb1c80cb3",
            "c3795dec0f5542edb934fe921d9a932b",
            "72ea20e4c0d54f3eb7ca87695dd9c242",
            "4e1476d397f042d58e8b6e20aaf3d371",
            "794a69e863b54117a04181700fbccd4f",
            "93451cc7c778415294c4787248f94ed8",
            "c78d1a781b2c41f98fa5d4f8515a9f17",
            "5c89b348e95b4f7ca3a9cd3131c49795",
            "af73865b4a2b4b55bd6867b0bb84fb29",
            "30dd91e14f49427989fd3224b8b6cd64",
            "abb8553796dd43d5a6159e6e053d5dbd",
            "6d8be504635d414eae65dd274f740881",
            "2931e2b490084a0393127db6c360ea1d",
            "9fc5c3eaf5a6468ebd84c0875f1f2ee8",
            "f0e27d4e24534db78c4e89c648af8c44",
            "a81331b7aa124c36a98724e37869b83f",
            "8fb39bfda8484d21b008516bb46f00f7",
            "bbabcceb56454eadbc987558da4a2d13",
            "1a7d6147eb44425da9a7d4504a2c0db6",
            "cb09118e26df47228b1c071560981ac2",
            "53ad5e6341a64f5eb541530473857cad",
            "2d06a38f35cc41f0829bec5152edb935",
            "77a81cbd56ed490084b4f65edd193b65",
            "c3014e01439b4e8f83ad9f7a9731fbbc",
            "996ec806d998427f9c5021342b2bc5b8",
            "8dae5d507329416c8ab9db0c7f20454f",
            "495c5499d0fe4d0f944c93fa5108ea13",
            "b8cf4c6b215646c79faec5f58d1268ac",
            "779a6b9c609f4d6fadaea0a7cbc52035",
            "e618a0f40f934b9286b84443cc8f1b02",
            "027ec917a71f4909821c30c705e73159",
            "fbd9bbbcd40c4cff9126ecbe9dc9a988",
            "c8122790fb53485c90246ebe7f17e246",
            "f995bd7f1cc44f17986c7cf9e0b768f8",
            "28f3e0766a374c7b87f5e7b6b5ef3016",
            "4cf183463d7e4cc28eea86585316b6d6",
            "3c1d75e5eb5043a9aef1424519748e83",
            "8ad6823fc450432ab4ec979ae4bdd62d",
            "7d0f835620f2421db5765908e45d9582",
            "fb2573c164d24e38a69d26c93c30e8b2",
            "3549f7861f074909a6c33b48fe5139cf",
            "64887284b00e4d4688bbc138657abf05",
            "07bd2ea927174edab4788dacd15d1149",
            "6719b2dba0114679a78e2db7981d4b63",
            "fe096e1ed533421f879107b9b68a9527",
            "0dc7d0d6b71743d08831d23ec591004f",
            "5243b58d15744bcfa275dd9add734f53",
            "a74c9a7196fc440da51e02ea44be7164",
            "31f79f04d5644a16aa271012e53ab225",
            "2748254f41d94810a610aa56ba7f1f8b",
            "0204f88620eb40b8aac668e46dccc924",
            "1949e6e7de284b02b294f18a0bd5a713",
            "ab1e35874e464b82afc29b9e973da4ed",
            "842b2ffc12a14231b1b23dd3d54116f4",
            "423a4da240f443f8baa5c90674c11929",
            "12235a0d8fc54372851076c14ed5ee15",
            "a8484d87849c4b748e52ec4195ccd384",
            "3324eef1a29946a389e8c5fa7351aecb",
            "f4e767e82ee441fb857d2304c3a8720d",
            "ebc3a8942a004f6bbe85350128c1a57b",
            "a3baeba32f9f4228812e34fb49f18907",
            "506d83b4892644109af90886469047cf",
            "6725c932d2b340c78a8feeb42b0bf988",
            "55890047c6c143068f7e5fb1c4e23bb5",
            "ad49e9014c934b39b66d098d57a9bea2",
            "ecceb8c5700e44f1aed8915a462d28e7",
            "dfd49db6c2c54f34bc2689c58659493f",
            "b84a68034dbb4584a48db112e8aabd41",
            "1c61ceb9748042b3bdc29c98b3dec193",
            "b53081b8332d441db5cd51a0e9f927a3",
            "a2deae60453f411a8f331b872fada4a6",
            "0771e24f431f4c7ea6f12ab97eeda0af",
            "c8e0749db053461ea6aa4aa86377e15e",
            "c8088beaf2b94ce4820af533c7f5ba50",
            "4bcc8fca5bb3446789e23afb51cfbd67",
            "6a1ed553e9a145f3b211eb242e25571c",
            "87c6f5706e7a4d109dc74a8a156c3af1",
            "75961c0decf14d1599bda6b264e5a1f9",
            "1167a7948dc94299b03fc48e0af54558",
            "a1635c1a0cc441ea847d6e9bf22bc98c",
            "a840a29175ac41ecbed81b162085c7b0",
            "feb4c923fbe14c1e9ed08c456b83323e",
            "ad5e34d2be1f420686c0d4373a1e0404",
            "c9c1396520e64b5b9f324914c320a788",
            "59827f3aebbc4729bdea03acb216a804",
            "6b87e2f9cfc64e12aa3a0641db0ea0a3",
            "f1d5a8f9c69044ac9cd2129c2018be43",
            "e751679022994dacbcdca8a5db1faff5",
            "78cdb42d964244f89cf91ea32a0325a5",
            "2ae9f6f09ba24ce49cc705686265285b",
            "0639c6de023f41c5985c59dcb1c975c3",
            "46d061b2391d41c9a204f68409275569",
            "1e4506ffda544b129b0b8d24adfbb2b9",
            "d839e870afdb4ed1977985e837df9b45",
            "0b7df79457134b9bb43a7c7f68f4a707",
            "ff448c780b444c11b3bdbf138bc16686",
            "21aea8f1a2e0470cbe56da5b1319ae94",
            "2ad2b435101a4cfaabe23319ccb16fca",
            "a8fb25856b8043c9af74bd335df5a1f1",
            "ff432ba012e340b98e267e237c278f03",
            "5783794133604c808dd105c163ca60a9",
            "94c5520abe024f2b9b41048acbec1041",
            "ada94bcd99a049298424d29dba938ac3",
            "9655c87f47e04b7297418c385997eeba",
            "97f9b6547a8f439baeda493fc7143e3b",
            "a16549f65b63431d9ffb8f1d7dde63f7",
            "b7c58f7991a44eceb8d2bd20374a2c46",
            "4b2e004a16c14d96b6367adcdc8dfd51",
            "aa8c73b559674ccf879ea5400548c4c2",
            "bab3f35a45e3470ca3ce6cceaf144b1b",
            "7a2bf8bd457048e58539dee905a45813",
            "6b292605fe2a490f9866656c3df0db86",
            "80f43d393f7543878a899f36e356e63f",
            "3d3c9418dda24320bf08f227a0350da2",
            "000f46be388a4ad88419664e9af9b5e6",
            "44d419bf07274bc895b9826e5573ea7e",
            "4ed43220d66445d89279a5d870b3a4e5",
            "d6412d4cfa4644c5bc6654638952eafe",
            "e06394d04619417380eef083838a64bc",
            "09a80e8e392b46858d7d5ceedaa50a68",
            "eb83016eb3614386ad575d0a640af14e",
            "11da2c2c676749b78ac79f7cf1df9aa2",
            "ee88a5dcea394e89aba2cfffdf7761de",
            "502cc5b2b3024a628f449c93d90a6bef",
            "fde1b179470d458fb022d44f9550ff48",
            "a5597681dd354c2e8b4591e806c1f57e",
            "bd939fa63f854a20907a4e631bbe84c8",
            "30aeb3ced54f4db494c9d7b7f27be6d6",
            "179f15fcfe194f9684d53dd85fb58d88",
            "193b4cd8b64d43cda1f01920adba5e9e",
            "8674a8e0081b4cceb446cc76402f5b97",
            "255c5a3aea854229befde3935ba715a7",
            "702bf46ecf664ec2b55bdfd08c451bf1",
            "f26c60fca5aa498784ea33b63d82b3f1",
            "fcdd162573a241398733a3700b337266",
            "e5e1b67b8fe94145893fe98688b8385b",
            "931bb1f7c5b44a26914ef2a3f2f89e97",
            "b00206d8897945cc832435421040aedc",
            "a33fba9aa9e04798925052087d099619",
            "0472b3a2f777466fb609fd419947c750",
            "282faaef1ce345a2a8d0c38e83f97b08",
            "aacf9d07899944888fdbe6fa9f551b38",
            "08798bb9115b4f3cbbcd00ba442a801f",
            "23100629828340b385a4ce7bebdd9d3c",
            "ddb7b5170a7c4934b6da814c7bcc1b3f",
            "a556a99aceb64b0fb3998543f8152693",
            "0cd9a62784f94be0b53f3f1112e5f2ba",
            "b3e1e661ff884650aa2d28d669555b11",
            "10c57560fdd34a2192d1222de1e1faae",
            "859231480c1a4174b2739bc542745e69",
            "feb1506aa6f34f11973d410f02f94c17",
            "97d1a4c749a8472fa8d70709e386347c",
            "ea1498f3742c464aa6887d9fb8dd94c8",
            "e27e47b11285431eaf5694f0a60ed489",
            "d2a797de8afe4d47b48013d7f9b3326c",
            "15cbc6458742471a80835aea8239be83",
            "8620d3c91b714ea8a1b077ccea85c1c7",
            "ff4943b2120c418496a17dd51f90d979",
            "d565d1db5d6c4da18e4a750134c0417a",
            "809a78d28a744c0c8d49729edde42015",
            "fbd8041cf8194cb596cb459445263c6f",
            "879ba8839fcd4a5e893a8f52709af3c8",
            "fc176e78eded4dc99cc342a669503bd3",
            "689238988f274cf2b9d2a6e2314b93b5",
            "4b1d1cc07cca4799903f66f05716b768",
            "df80dad61a5d46fe812b18056d3e11a9",
            "c45bd15564bc4fb8a9468ebd99253edc",
            "097b02c8c3f645168b82f6fb6c2c3abd",
            "edc70696cfc54656b971fb444894b3c5",
            "ae55b84a715f4b218fe8afd438b18df0",
            "d1f9cb3cbd6845f1acbe62618eee0c8f",
            "b8179808c0ee4a47864a8fd0719ba9fa",
            "efb8a4286c9140738afe7de15b672755",
            "bbaffcb037cf4f78b2c4fa109352cf22",
            "67b40c160de74092a8c267aa29536314",
            "e4db7ea575e24de6a441b0338f756076",
            "7cbf3ad034c14528b027cbf78873ff24",
            "b0324088a1c64b14ab2faefe19274105",
            "f87421e0e44f4e69bd5ec4a4d5e2efaa",
            "70cee5bc274040e8bb137537270c38a9",
            "c3230aeb333d4124afce8a89d216e343",
            "a2d84017a68c47b883d0e989b8e3a68f",
            "7680728ad3664b39af87c44edc54cafa",
            "5491f128414746ee844da9a8c027d109",
            "4b36524191434ecabf13cbc16aef5cdf",
            "aa6d04b675f14916957be657d11a4e0f",
            "dae1c3a52e434b92803d35f8143352e9",
            "d141476f688e4661b5a2c5e2e0ed6400",
            "bb3b85854364464ebd675651be0b01bb",
            "eed9a4b6c50a4721a728b27d7db47eaf",
            "14835d06b87b48ee9d5a81d276509c6b",
            "845b98c2316f43bb8300c2b623622fe1",
            "53a31582991c4e0882cf79a28e4049fd",
            "df0627ef69634fbe9bcba7639d9c3b8f",
            "0202c4648162488e99cca693774aa8ab",
            "4c28d6e4aefe4eb7b0167de06f4aec2e",
            "18efcd12a7a643118e6af8c41ee47849",
            "f6eff12e57c14ffb80ac565a19fe99cb",
            "9093794f027f4807b1b4908faa8502e0",
            "330ffd872495478cbfb892e4b1ad95a3",
            "03b70c66ef904b86ab2978d963458f5f",
            "cddc5c163001455a9214c9f45a6bce97",
            "9e9008db5858485da5b1977d2178e861",
            "b4b5cb91f0944f828a9db03c27f0fcaf",
            "320b447597fd4e63a615a92003e2e2a0",
            "10114d9d36a04fc290b5c8cffc4f86a4",
            "7fd017fe18854b7e9385b659533e4be2",
            "677d6ced403f473da02a113ab651e0e0",
            "af467c85a6954666a8e05c996779c3b1",
            "3941836a39ec4075a1e7cbd2dc02cbbf",
            "11d3837cafd94c8db9edc808e2392cb0",
            "1091040b6af548a38ee1e78f1fa24efc",
            "263a87c48111438dba4b3a7d345342ed",
            "cb7dd72d98454ac58e15db5b965cea54",
            "3897da73d7cd428599f58b367fe65f44",
            "fe24eac854414a17a861e0539a25af14",
            "5ae4175c325343729a5ab46f49ef79b9",
            "501f18720e0142b2a2b94e749003d51b",
            "04d347979d784f0ea4eb56a99aafc925",
            "0e86a3a93ebd440baf835c4c5fb0b036",
            "871ac1ba19614e258e23861df7643520",
            "878f8aa0845141cc92e4aea6dd2ca589",
            "185318b74af84f80a994b14dea4ee9e9",
            "d694476a9d2f4399aeca4c0ca208a699",
            "c9acb007a0bc4bb0b1120d5935031e5f",
            "96b8a0bd8a1e47b6a77982f6914f8686",
            "a6e28e06bf234c9480ee4adc035ba44a",
            "034ade84efb64d26a945999d4039af37",
            "296c2ad3ef0c48e7a015639317a613a5",
            "ceebf9c03ae4495caf02bb8a7b7e8953",
            "102b2123f1ea4786b45d5744c67e3f35",
            "c465d9e04a524b2b970a3abeb635266e",
            "4ca675c6d30f42c59b045d7e25256b6c",
            "405d31a9eae9469684524696f81f1a3c",
            "9350c217b2534e16864fd4f699eea234",
            "ea3b00cec30b415f91a2a04afb695250",
            "0fcb7f827fdb40859eed0a855091523b",
            "9c5555029fe144e8ab93f9569c8a7e88",
            "c0f57b9537d146ebb9d34cd75eb6e9da",
            "82b49131873c4536abf8befc09e262f9",
            "5a78c2d90bf944c096082145d3207883",
            "f7833be844504f669f2f10abb8af0001",
            "92e952947333484f8c769d4973be9c66",
            "8c8ac05ddfe14f019d64214221cc95ed",
            "a50edb58d1fd468b8d2f70cb2d2204d8",
            "7aca8027bf2c48b39f6c0f34c9765546",
            "1cc9854d45694c70b709d73d57674cd6",
            "716221a524974b2ca6f0bcb6c6c15a73",
            "32896ae8040049f18e2b1474d041eae7",
            "c5b7498be9dd4020821eeee435e27170",
            "394d5a5c18184cceb20aa74ef15a43d2",
            "c16aa639304d42e7990d72985ff3db06",
            "0817a357c49f42df955a839320368c23",
            "f6a29be31a114096aa53c43d40ded5ab",
            "3b1e39f81064413c8a449ff038b65492",
            "15821e937af443b7b4cb355c18363c22",
            "839e974335954f449e6c7a4d29f6b5e2",
            "05ca8ff73dcd465a9965aabde68178c4",
            "ad25ac61b20e417a984eb6da6aeb1fb2",
            "21067749964e43e68b554c87f6369a66",
            "0fe6ef20ee2c4beeafef13bf6a216972",
            "52bffb6f43cf4f52b9e0812ef9e9e134",
            "c696b45ee3ce47b1ace162b7657ccaa9",
            "3b8f8d6acbd64cd8b01b7fdb2530a247",
            "562ad26c2a724ab39c285245d01dbb92",
            "474b864da301493e82c66bb8689e38b3",
            "58dec17472fd4c92a6f0853ececbf3ed",
            "c0bf42cf6e6c4682aba5bdc442c50fea",
            "a8cdee02a6a64d95af2b432cf5a94281",
            "f719876261e34f48be2b58e4d13de3e6",
            "565ca137917e45809abd2753803d255f",
            "42d085c3bdab4963b4c630ffb45f31cb",
            "d39e54b495584bf4a54cf8ac8253f655",
            "9e6847f3f10242d1bf9b9407d2253aeb",
            "96ecec3108284573b8e589be1e2588f4",
            "bfa30e99c77a454399eb2bff16a7c081",
            "c9d0e7b8465b415e9f250626f6f50f34",
            "f45a4f33354a4d1db755129187d990ac",
            "d44f565c3e034077a744a487a9d846f3",
            "6fda572b3cb842309491f5ab95793332",
            "b6a8d40c39334d84a413c12dbdf92f92",
            "ceaa935c19474ce9a0d61bde5cf75850",
            "02eece65eb4b40de87f042e5db1c8922",
            "c801526496fa4df4964d0d253b0120e5",
            "501f945f6e984091bca6da7386fa390c",
            "d55e5f815eaa4661a1c51ed2f4aacff8",
            "7bfa10b70e7c4b6a8c25614a12bf2a14",
            "719da503646d4c7c880b9023254671d4",
            "5fbad794802740cfb7c2b6c046e7d8d1",
            "80ec1d79d9824981acba23825648ec16",
            "d3f9e50635bb4f65a887ecc0691a02f6",
            "5ed19dba87b34413a07fe43e82d5668b",
            "b32a1e316c0f4bb4bf42083e14f59f82",
            "1ba8865d5cb94f5c929a8112dda21c35",
            "be1ca7353fed42b2bd7434c94640d21a",
            "c24108688bd4497195311ab784bae989",
            "1fe86fd14faf4ea9b9b4d16166da2bd5",
            "7c709f05d8ee441aa5781ffc1c884bd4",
            "14a9dfeab9e44121b53e3e70ac6ce8bb",
            "0e05f0a435c04dd799b39db083aca93c",
            "7f27254195134122a11926b57f41b565",
            "72f495e1476e439d8617eff30000a42f",
            "34748798fc7747be96f0ec29e281a936",
            "1a5bfcf62e2940d681bdd38e801df286",
            "3e3daf4e6c7e48748b95cf771b1bf16e",
            "d75aedf8a59b47e78b3e1e3145dd7900",
            "5e621f88250f47e3bd112f8ef679d950",
            "60762a00fbe743b18de946edc9b6491e",
            "45de520f43784b8890bb239ddc9c43a8",
            "05363e9306734377a9b8661c02c70d62",
            "adb4920d3fea4a1d93ccb17ccf8bb693",
            "3f21d3d914cb4b39a2b95297063ca1f6",
            "9d16488bed44446faec2c7a20e64a011",
            "9fdad7b7ce854c65825cbcf50085607b",
            "256d45394c4a4378a472704d263f11e1",
            "7c03ed5b085a4ce987fc7659f5131266",
            "cd28ef53131941eeaebb5ca531f6b513",
            "220aa3ff3d09444aa1e7f7e500fb3e67",
            "a25413385e424e3e8b9bfd698006c01d",
            "88336f9de0bc4e49a03b896fc6cf45d2",
            "976ec22ab70548ab881c5b426a13c5a7",
            "6428305c48ac42e2ae12cca8ca06ece8",
            "d9183f5655a34a99b068f8f21b4ad22d",
            "22c725c16d7847f0aae061a36174de42",
            "d04ddbe9e096401fbfb3145aa81094b3",
            "24707fa95f1747ec831120b6d3290ee3",
            "594c8ea1f58a4b80ada5d3f27ca01b40",
            "5b9f8d684ccb47598157259f61fee381",
            "41129c7c3ced476bbaeeb1f7f7dc2fa6",
            "41f50818c0024b61808086016f6f25af",
            "631cac60bfe34165a4b72dcdfb15af08",
            "85de87f682834219a3b5aaabf0c4cdea",
            "1d2f3edd87ce4670b78023c5fa41cac7",
            "93fb9bf2359d4e4ea7d5acaad07b802d",
            "23e52c9ec9854641987de379203ebec4",
            "e2531189965742868319a114e27cebf1",
            "33dd6e0dc056415294869927cd47825b",
            "9c1dbcbabcfc4048a28175eaca2e91ee",
            "96ee0edf3e604970835e3ca25dd0bc4f",
            "df05df576dd7431d958f275f05985bea",
            "31fddf20670047fc9b233f1db90bed71",
            "72e42060a1be4da28c211f9c1799176e",
            "e90336f8255e4bbc84a95ed0a92d4011",
            "17245d6122ef465892c15c8ae48d4260",
            "9e4aea1d444f45a288dc1d7bfd6ce974",
            "6848a8f5b16e4cbebbaf213e49224649",
            "93610cc5556942bc9690ba238b77aa23",
            "647b830373b04222900d5d1d74a62c40",
            "8f9ad43d33a141c28fae611d238ef0ea",
            "8a923363a80c4eb1865a9d60afaf51f8",
            "6a24376afa5a4dd8b29765b478ce762e",
            "5d3d499b66034022b9a2cff2901e9802",
            "a0f6a89f684f42f4ba5dffa49c1cf747",
            "462271fd8640401db8af97556cb94796",
            "7079a93dddef45879d0fa8d6e5574d4e",
            "d2674613666440c28a6bcca0713b08d7",
            "476398ea10474036ad4351086d3008a3",
            "a052d603bc8647848acd9098cdde892a",
            "4c7f884532b9417c9cf4fa3b59ba7f0a",
            "4309cfc3978e4480bcdbb755ff4c7e27",
            "a0dfa7c8eecd44ff8bbabf1b6e7690a5",
            "ec5ebc6603604f999ec3eac050cf3c0a",
            "9d9802df7698489f88f0d9fe9e06ce94",
            "f30f86abb5d64df592684353d2b95e08",
            "78e745feba484ff58c266d7cda96651f",
            "910007a7e7b8488ebe6498116f1228ff",
            "e991df9714984b8ea538ed95c8035b25",
            "5759ee8592fa499ea42e90418e053cd7",
            "1af86fb6d93249ac968366769b39afe2",
            "a0440f62b36d446da9a042f074f288a9",
            "68b735f3837c4d9a89a8dccfcb4514aa",
            "cc0b6ac6a29244a5a73db53b9b2771ed",
            "babe96c6e67f4d1ebb5003b3eb4aa22a",
            "6ff93cc08558445dbe122f66081487cb",
            "ed3b48566d124e6a81e7552baf7e8f8b",
            "f015e9a344f945ebbd3bf4da751d56ef",
            "f31d560da68841c5b624d2378a78bbf6",
            "65dfff18a3ac4b8d9be4295b2edb2252",
            "3d59b2d8876641a8a7bbfa4e19a47b45",
            "89b645344c984956b4b21d76409eb841",
            "42cbd26673b54f469031aef569b0de30",
            "2802f008a9bd4f459a87d7e4c6926c95",
            "6c338223ef554d29be20b52611e2afd1",
            "018708e0102e42f49461f7a63fd25890",
            "9a711922e409413193279162409abf81",
            "c6a15e71c0a843fdb74ab0a2a209a8ce",
            "25c079c999454d85b74d76878d69717a",
            "b613aae8ad024996acd4b0fff36d447c",
            "ac51830aa78446fc8416803e5e0d35a0",
            "9d6bdb34644b4f44a87e97dc36afc77f",
            "653b1ad6582a4b6dacfaa464ddb3bfe8",
            "9a0cbbab6aeb45f4b7435764f1b65572",
            "87c974879f984996be85eb8e9170fe73",
            "0ceb3ac24ca047a5b5470ee9b59e8b52",
            "23cdb8977ff147acbe5c1c54cbc466fe",
            "1627196d481f4c3ba3dea74853cdf771",
            "fceff9359c2a4c38b1d9b988f6b0f1a2",
            "0d0fd9e33e624cb0815c4a5a3030060b",
            "1ee7d006490649a9b5e7863f5bcc80ac",
            "81822a7872864073aa05ce1af92241a7",
            "2d585011b8814a40aafcf494c841bc9c",
            "0f83c6b138514bb1ad967d3c683399a8",
            "a5129e0046dd4463b190b049faca8a05",
            "3240106b622c4884911df37a9c505e0f",
            "19d21979ee304246ac65592f8f2fcfdb",
            "80ca304f2e834f1983c622cf16b0ccdb",
            "60d571ca089546889cef860965e40885",
            "b690a400704c4b68a90c0bfffc30fc33",
            "3b8151ad6bd943c89b2f86f6fab1c5ea",
            "15a32d5c6d154a6381c2455b0c7c9ed8",
            "075465cef99444219fd9d3a2c6f707dd",
            "4d46f1b8095e4897a5a958492dc9c4dd",
            "f8ec6ebfa2764c49a330f9e8a65a2d16",
            "7440d55abab94f6080839fce1ed76c73",
            "cf8ad7f4bc0748ebbeba76976fd76a1c",
            "be1e1514f52549bb8f4e4bf0dd2be2cc",
            "e2e267f13ce1424fb2c0904a1c53f7bc",
            "a55436811e514d12bde582b2a24c0a17",
            "47b100ffbccc49c794327aea38cc6afd",
            "25d36c6ace714002af707e6023e152b0",
            "218c5c641d4641dda4c34c294e148f8f",
            "9e72c5841dd44e3e91d884c6f7d3fb21",
            "7c02c5637d4e420f82a63c1c13f2ea96",
            "9116c66d4a1647aa82c7ff20b98dd31e",
            "ff3d8115cc9f47a4b8c870c4a81836ed",
            "598a2d1be0ae4750839ba702f3673a6f",
            "083118d764be477e9a1e98600bd98eee",
            "95389cfedae5429c94fb0fb648d10027",
            "58621305f7ac4b4e9a0676df3be13f9f",
            "a4946462526e44449b2b47d328cdff4d",
            "70dc2ed4140d4853baf771837ac24e45",
            "8ff5a02c6ee54c4f9f1c2d440e981995",
            "4a03133fe3154d6db521ea7cd1ab7e28",
            "640bf026904249d5a8faea4d5f6f9add",
            "fcd21b001c964ed78c1a0b7142a5ad6d",
            "915e35ab15fe414bb5033d46a92d532c",
            "2f933df8e0c94b049e3ab24c71e89533",
            "bd37571812a2462d9b9ae3c71eea94c7",
            "04162d8a9c4b45838e6ac628e280b572",
            "16e549b784ca4bcdabc41f41b6cea35f",
            "73c0d121abf1436b908e77ad72df9f9c",
            "f176251d217746949d9336537d35283d",
            "66ca33ae2be54f00b850af0327a3c123",
            "7c3c10a7998249e08dbda9b5618d2348",
            "9621dbeda27f48ae8a9274e220dbcb22",
            "6fda52a593f748e18d85510433037fce",
            "ff05679955274c94ac514a529b1eb82c",
            "6651d4cdb87841ce98ae66f875ac0e2e",
            "e9b5deca76934111926560a16c120ada",
            "d07f88b3d701404eadf4c6bcd9e1a5fc",
            "156099b56fd14319b95c0c731ed67606",
            "3064b08a8ab44a8a97f73bc3fd0147c4",
            "8fd599cc58d84396aad853525638794d",
            "0f5ae14152c44fb9867550566bebfa43",
            "04a32b4f5d1048d2b7adc6a783c8052f",
            "ff18c270a167471787a05f0151d97134",
            "a077fc53b64847a3b990819ae00bf27c",
            "d08331969bb743318713a9640d09f29e",
            "dda5b884bf4947389d26daeed8c476bf",
            "145047f468a344b792dd06f8b566e3c8",
            "e8f31d58b7dd4ed0aa41ec635a596152",
            "21adebd4b53b46dd9a027bf3fca9f659",
            "947352c32d6e42fcaa15dc55d72ca9ce",
            "529968f188954f27a3f8443d3ba2c789",
            "da3ec1f9a3ee4920b2f16182fedb86f1",
            "76faec458c0247989064220de21d10cf",
            "da6ca18c886e4418b214f8026322b816",
            "50089f7e50334141a9ffcf3dc182bd75",
            "f8b55bc7215c494b877181f0587f89b8",
            "ac17fd8369b340cbaffe3ef2846d6d73",
            "8c7f647bba8247a18cdd166f4a49ee56",
            "0e7ae963bc184d9fafe6950d0a908473",
            "925dda1b1ecd4c70a754f2581a05dfd4",
            "77e8f64e64884d86bc00f967a11409f9",
            "88107fbe62714f81bbe60d319cef66d7",
            "bbf410ec685d40c68533f321e1c74475",
            "4212efa5ffb542bd9dd9fcf14696b9bb",
            "80bb4a3392644295a05b633c99b47cd0",
            "691d33c4e01345cb8ab9117f08b88664",
            "6f665a22e60f4861a9dc1a9792b37238",
            "49a204d2bc064bf3a36d29fa9f88915d",
            "46c2d4579c8d4ce485290c20e20a52c0",
            "6c16c51774794f7fa60f240742b4738c",
            "d354d9a271d04c90a45d081a53c1ea2c",
            "58b971aa8cf348799a7ce111879fd1c5",
            "677a8b837c1a454d960e56f3bcde8c68",
            "be544c4349ac4f9eb9115cf1b3571eea",
            "982b02eed9424e979922a06b55275b03",
            "030e9eccf0994c85a1db71d5af73682e",
            "933cc457ebca419aa8b24d6aed592ce1",
            "b0b48cf1f0604d26a2069c0d8c04c511",
            "7154b02e78a3473f87a8ee9211a762e4",
            "820013e0d6904f7a891d40ac638e3a96",
            "70841e7052504e35b1c60f3a4900c67c",
            "61991986e407405d97fb3eb4e4aa5e10",
            "f9ecf03024814578a60d69d90bfc4a1e",
            "5941334529ef4bb294d82ed5fe9a8cda",
            "5bba1646ed57497b896aded6ae1b3517",
            "8530dbab076042d19a38e65571f14a76",
            "3cb51503182943ab964a3f71d07e12e5",
            "1c89bd93e26f46b1aedcbd7f6c56997d",
            "7837352cdf7b43fea148a51e4a3ce625",
            "47a27cc1baee4eba80c109e008f76b2f",
            "a448607c6f9d43d8b527cb44314de6f4",
            "4d53c4018047428b82c1a812f7faecff",
            "8813a951918241e6820ffe218442ab74",
            "dfd7c9f7cbbe41eb9cd880f60e78bb79",
            "57a651808bb948e2b533838a1bf36f4e",
            "e9bda4a99cee4ebe9de1eecf99b37bf7",
            "a785038c7bf94bd89b0f370885eb8210",
            "97bbb3bd50cb4c0b84e75d751733d692",
            "12ad4b1ec5db42d789af84dc181f305d",
            "dafefc3537f1457ba2a8df9dd63bed1e",
            "bc8f198aec48496a8ee143a416fa1193",
            "fbc7c96bdf4442679e53f2950b8bc9c7",
            "7ccb8c4f7fad49cf80f449f0c7f2619a",
            "99a5a923f10a4545abeb2bb2bbdcf6b8",
            "5bb802d0581142db94ee94b2ae923295",
            "f3f9701c505d42e588e70f85f9b05ab2",
            "f511996a41b44929a4c3097f310f1662",
            "a2bc35c0766a4d87ae1da822092cbfd1",
            "54fc4cc804444952a5562a4fb7f3592e",
            "ff0ac0d5396a4268b449c42702fc085b",
            "adbf6463e4de4ccfabf5bcf8e437e9c7",
            "eb1011e7d9694827ad5b0d16dda0f41d",
            "d3d41120bd2545249aafef583a2823aa",
            "5bd1a90d60dd415ea5c9d809396042e7",
            "599e373ad5234e1cbb53ac638d176b3d",
            "d1ac7dc81b9745c28ed660aa50362b3e",
            "4da1f5c6ea53418a90408bce03a37896",
            "c1a561a7fcd14c0c975252eafe52f0f1",
            "010cf523a2984d55a9080e1bc35bb939",
            "3076eafd2bc1467e9ed63f0abf2cd918",
            "26a121be10cb4aaebe36df216aa0b668",
            "57ad1914906e40648e97ec71601a9d29",
            "ca42e130fe7c402f9b56a2f4aa346ca2",
            "aab874712df549a19dbfa60b90cbfc21",
            "7323a4c86d71434399e489811f42255d",
            "1033fc2e90584d55871f75a3535d8bac",
            "1e8eb99b7952491298729ad05e5de595",
            "5f44ad9167e9442aab50e4a926a37e7e",
            "6d06dd0501b44b1689c6de284c3163aa",
            "a49d2b488f2e4ebe9e371432bcfb5d3d",
            "18989e8319c54d098a154cdc9c0e50db",
            "da2b11c52e034289a401aa6ff8973974",
            "0d9a3a9d0b3f445194b294e03911833d",
            "68f1d3403142499a8d2fd85fafce404c",
            "5b20a379dcf84a24a383f637eef96bff",
            "1eba1e835adf4069a0150b8a3dd9f76d",
            "0579b365c50a45f4927e500fcc777497",
            "f9b73326078f418eb08e617ed6ac2255",
            "f7a2319143744152befcca2e147f358f",
            "804bfbb93e02425c87306bad0179642a",
            "49da37964f864ed49cef0c15401a16b4",
            "f855da68a47c4a5fbf57e9d5b198c9e1",
            "d76b63ba991140e4853fb3ce0f5a910c",
            "d31aa29dd2514eb0ba32505798061284",
            "9fb7d83602184b57b0903d5bf6922c32",
            "cf9f64ab8dec4dfd8677d73edc8f934e",
            "0e0fe3fda1d84f4ab38bbd28405f4940",
            "4f758c4e9b0840ffb452bf8ad4c3199b",
            "84b8c023aa0b4e669567fe0d07a069fe",
            "911f24efad9746ce88f53210f164578a",
            "21e3a2255db9453cadcee70049d887a5",
            "9ca806532cd143a481642b3da2a5cb77",
            "384f8a9bb12c47709f10ce52a330aca0",
            "a8474fbab9274790871d96b418d64608",
            "6a08b30058da488a9a5d26d2e364d72a",
            "11d1c3d436484bce801b60bdddc29aa0",
            "aa0a4db6eccb4852bde3968be5d5d1bf",
            "a3bcf0a71a714631b0001abf35dd2713",
            "39cad62352644bdc9891cbb8753cd7f3",
            "6bbec5a8672b4e6981271e4708182ced",
            "d0df445beaf24472bef5580b9a2e9028",
            "8c90610e436246ac8791f31d6836bca7",
            "3f7fbb923aba45a8942ea3d1f73b28c3",
            "4cb1fa10c09e4d94a5a6ed3950c859cb",
            "797dbfd453cf47b6917ed0cf58e320eb",
            "dbd295293180422cb3d42b30b87278db",
            "47a73737a402422d99642a014bad445c",
            "efc34f305bb54f7ab50a50f41271bbe0",
            "643fa0aeb7bc4b0a83eabfbfaf5afde5",
            "c475426a93094cc4a8021c9dfe69cf8c",
            "26f2101dc7c4474fb42a84b647bbead4",
            "761f93de920543ef966b5c27523a2885",
            "4930fceff4b048a2a48600aa174a642c",
            "50b3d8a8cce14286ab3543c5fef86f36",
            "d06fd94ef19847369c0c9d2b6ac2c609",
            "63d1b22996c34a338d5c537b8e4ef44f",
            "b0b49d5b4cdd4fee833f0078822620f6",
            "48e368679eb34c4dbf7b8be6628b9389",
            "040654d8d13a4aa1be600972e4fef33d",
            "2a2a4c924fdb46e791d59a8540df4b99",
            "1d72e850ef1e4db2a344638447506030",
            "08da9805a5904b98be56353c3310549e",
            "1d03d7beaf6941a0b512a48911c62922",
            "259b324edb98425e9f251a32010b50e0",
            "798f2f513ebc4146b18e12742cb129f3",
            "46caff3e59ec4f4a9ea7de279589b464",
            "3dbe67d5dc2347e18a05963ae2d0da91",
            "631014b374f54e9482aced468c437536",
            "739d62c7bb0147b8b6cb85fd2b043608",
            "31b233b7acb843f397fedf760ef32cb8",
            "d027424aef274bc7994ab3a5a7024e8c",
            "f90069849b434b86b6044e7d53407328",
            "732318f1d2ae49b1a4d569867adb6eab",
            "675e9d4bb81944c2a0fde8f64b41b608",
            "2a102d5832424ef3977a6d32e2597cc3",
            "c35bfa369830407f8b481b43bc8fc948",
            "7ebb464afacb4df6a360c34bf6e5db1a",
            "f4d29c08aeea4fd2ad0869c435effa33",
            "647da03326eb4594a3e22838c9912e06",
            "7227ade46f4a48ec93e467cc240c9ae5",
            "ee7d23573b854e3cbd10614f3af9547c",
            "41892cf955b34bafbf648531fe28c2b7",
            "6f43d16a092945e7ad8ab1c6b37c82c3",
            "b3c0ebbfa28d40aabbfc15fe12918554",
            "944c487546b7403d850316a8409f36d4",
            "ccf9e4448fa443cabb4b982782af35dc",
            "e3c944110eab420db1ef3b0088346d62",
            "1b0641f31c654e7eb6eaedd509b4fe8f",
            "12932ada15144e8ab03fb4f633cd0e54",
            "6ba4d8a675374c229142edfac059eb58",
            "0042b09f302d40b9bc829d3f33e6dcc2",
            "678de35b04ad45c58d634681eec62a4a",
            "2255bc4cdfaa47cda72b6132b0989b23",
            "db5ef512423e45beb364d00791fc021b",
            "b78fc70a47b1466c8dbbc7757df6e915",
            "e8a24988f973414a91307d58fe5ce885",
            "3d6dbab8426b448aab7bef55d6bc0f69",
            "65df1e445cf44bbeafcce7ede6891334",
            "1d957993b932430eafeae004ab1e9cb1",
            "a6da893a5daa44a891a53f8d74f070ab",
            "fce76664fd5a4baba35b3495b0c8078d",
            "e806f0984d0846ca949c4fdb1b3c73c3",
            "e3322f0d7e1b447cad33104c2970e112",
            "b6595d93de6b4f33a509b4776c55c535",
            "56893af15db143faa5d2a56951db6270",
            "6e74fa83676340eaa9f7a48c04f3e69c",
            "be84df2379654d0984d08966704dbf32",
            "c5d68c7bd4b34268be70fa61b90bdca4",
            "a033ce7725314797ad2cf7e856cae6d4",
            "a5171097edbe465e9fb852beb599fa58",
            "d218c555be7a421cb4c6e414f21c9583",
            "432e87ce97174a40ad817faf29aa0807",
            "ec6ab15bcd6b45d7a86a9b3008215b5c",
            "d9a58157983441c0b45a23d9782cd798",
            "7ec2ffadbd234b75a4c99be4712e1506",
            "7a8587d7d3134052999a751cf7b08435",
            "22f687362f354823bc873d8041a4de25",
            "4858a1f4c98a496c81184bacd8cb7d03",
            "08098c7520ea491cae92403ec421f98e",
            "2ef771adea594df5871cf7b03731d1f8",
            "2f5e9607b1e941fea66970c08dcd3f52",
            "c8dcaf5297a14c96958e5d808aa7fc6b",
            "fe302db2180d478ab79868c155270e34",
            "ef7d18f241814c8d8a66d226c7bedb71",
            "efc4f8a86d8d488d8ce1b33c2fb35a93",
            "e4e83cb899f4445dbe9dab3dd59751c4",
            "138d3744ba784c528fd596bfed3ef7ea",
            "febafb5000d9444dbbe04ecd5b241075",
            "5dd76edcad734a83848e3a7834149b81",
            "32753dd74c1948debfe6b6ba31833970",
            "6a6b4977c47d4cb7a35a2bacb325734f",
            "d127ccb877ca4c0995fb0de2cf10f269",
            "3a605a73d938470a90acc327ae66e496",
            "be3a24a06b644214ab20db383b5b298f",
            "63221462e78a489496ea625197eb41ab",
            "66f597f99028441aaccbac6b2631b858",
            "4e9f6c59ed8a44cc81ce4d1f54596559",
            "4c75ca94c7a94c11a8a0851d286f6cb1",
            "6d2733be2ed74cd2ac628d8eec2b3ffe",
            "a8e17a1254e143f6b64aed3d17eaa362",
            "5eba09e924fd4a0a8da80980c43b79d3",
            "3033851a542e40f9a0966db1294d2068",
            "77f74656a24f41fca507965ccaba2d0c",
            "03c9b063440b4512a38730503c9b935a",
            "0d0c53988e8547759ed7978e48c88551",
            "d887dabc3c7c42a1bf93da741100338d",
            "20036baff8e248daa308c6f4245d0f3d",
            "3c996ab96c0f473f8f727834618914ea",
            "1a39a71f6613473ba84804368f4ccaa9",
            "65836aaa8986402cb78ee28e063db1fb",
            "ac62f2e51d984dd0b89066c1baf4eaf2",
            "4d243da667154a809dd157c980c4005a",
            "015ee32bd15746889ab3edda4af5a083",
            "2b155bce7e5c4c369fd5baac00c414d8",
            "66fd6688d41a49308ef257afb10388f4",
            "e1cadf862d6a470c9f40c1f1a1bf2363",
            "a8d625fc07144780a107243baa68b8fe",
            "c53d4ac6e56c47899ed4738a85c9f6bf",
            "ec712f5a9cf648d8a957347e0d33cfa1",
            "ed40356fe08047fabfaad288840f4455",
            "019a35534c564ead9cb9df349cbf4b89",
            "0f1366f80e804dbb94e49604773d3e57",
            "971cfe01f5484b6986fee8247dc11c0d",
            "53f6c9cc225641f2b9132e2b84bdb15c",
            "819e64d7a7b24300ada4b4dcb997313c",
            "65250f8f1fb947deab7bcaea63200ff7",
            "7bd3bc6886ea4e858a4ee8820409ce70",
            "de371571233d45deb4b88110c951bfb3",
            "8ed319f377fe4dc38ac7922e61e77d64",
            "ba9ff3509d694c5eb26df487c4fa300d",
            "a8826599143c4b51a83b07c9f149e0ed",
            "3f32e550c1cc4a6a99fc5573442de533",
            "c3d4afafecf84cfb81853ca5363b3706",
            "ab35bb57ea1645108308bf0592d0fd10",
            "227f898a8544475899f519229f36575b",
            "a2f3ab25fed54b808f2c8f431b99dcc5",
            "2b2445b39177440b85883652c443838c",
            "f8533b20978843b281d9605ff00d0609",
            "edebee0a331f4f1bb448e306e4ac1ab6",
            "607932b96aab496f9103c031d062e79d",
            "d8f97ee66ad141a9bfd9b2181b1d46dc",
            "7969c076fc15474389a09c701ba0bd96",
            "45d562f107be45ea98455e48e41ad38f",
            "c63a96949d4a4b55a96438335e9d1476",
            "58169775a9fe4101bcf0d9439c8ea833",
            "a78ea4253e934620acff984e4a5853b7",
            "2b30a22daf2d42c0aaa2bc814c066098",
            "2b5102499f5f4774b3c85c6ce1c7835d",
            "2d67d558354240d9a9ecca641f073b40",
            "71e0ae8b6a254e0583e6e7416c8da06d",
            "a5ffba0278bc452ab1c533e51cb82c81",
            "a312644b9dd04238a94f4f657754c027",
            "2f203950fada4822ac95891f04e45fa5",
            "30813b66ccd2478ea3febd68374fb5b9",
            "d00bd147005b4dc4b0fb8b4886a1a509",
            "b8f9cbee38714d21888767c1e58cccbd",
            "f5586ad8be0b4cfcb2ee1671034ff10d",
            "e2285b8f74384410ad571dadc36363a6",
            "3cb1c160c1c7464e84045187cc764e18",
            "a528f1d3c8f341468acfe912f61c52d4",
            "7a636c8756b64f2b8ed22e48bb18ba71",
            "031a4dce4d714687a3d7b4ab9c7e7d87",
            "5bd51b64cb7b40b4b23276036579b3f8",
            "6487291ebfa6457aba1de83154ca69cb",
            "eb207cfcc03a42f8919974a61a003ea5",
            "dcdb1a71e7c24da5a7189c1fec8c29a8",
            "708849c7ee3a441aa1cc7719087547d2",
            "b0b7937ee3074c55a65474ac991ea89c",
            "ff2896c5af3d401b940b7dee4449df24",
            "70e906a81ab548bda042432321fde916",
            "97980ff33d06449a9493eee7da41d432",
            "f4cb06821aad473bb8b5a7e0514e3390",
            "6f1dcda38f7b48dea1754a4c79fd39dc",
            "355d58939b104953bb896fd440e0cf42",
            "6cf47a89674244ddab6294565230eb33",
            "66ae9b42a90142e992b85c9bc36749ae",
            "530e020803bd437a9f483c4aea86dd43",
            "fb50dcd152324d65a86ab2c784e30ff1",
            "ed15dd67e862464fa4fa486738b3c116",
            "aeb7932d72094bc4b650b6c451b35c6c",
            "117e83c99e824a44bbbbc7a995edb0c5",
            "10c3981d677f4d519acc1cf48e0a643b",
            "1195a67de25644269e5076240776b823",
            "62de28afa1dc46f8be08d245e4a795de",
            "f669543abe2b4d64a046661eaeae0380",
            "5ba5d9affff34c588e39292eddaca438",
            "af2d23c6711a44469b2e0fe777e5cf53",
            "7bdbcacc603146d3b6f951d3685c072d",
            "a035cbf306924d6c9690498aafdd5380",
            "8abc2f22e28e4ac085531b9170c4d216",
            "e582b77a12db4ebaaf3c38a9f8dcc750",
            "68fb11c74a5a450998b31f618b777abc",
            "e179b1ac038e48b49c1bf76fa0941f54",
            "881f7d2021004d08ae2df1b4e754c33b",
            "685267b62ba14684a375ccd3d6ff521c",
            "1f7f5bf4c0df44a78e677ec4443b2696",
            "9d81a2b03cb147a1a37400b37656f2fd",
            "41d0c491853f4dfc8873e0f2566d074b",
            "6fca849ed0b4492fbe48c20cee91f87f",
            "ec8c5fa11c884c61a14eaa3f862d1c68",
            "e930277972724fc8aa388bcfaafd3e99",
            "6491fa4ada404d25af32684a2eb6be8c",
            "b390c80a6f7843d88d7cabb72fd84a46",
            "19dc461960cb4fd8957d4a694f602401",
            "7743ee32b8d34554b90cc2e67364c79d",
            "3921c62bf6f0412194328e6f89eb1f4f",
            "258dd96f6db94e788dd508f96ccf115e",
            "5c685d1d32704e4e92b9873f129b8e4f",
            "5f383855fdbd469db12ec22f93ff1f2d",
            "cc31bc9504c4488e8a9fa148b535b179",
            "dfcb1a7d082d4ac9a2013233bdc8e8f3",
            "5956f540c16345028c05ce26c04c49a2",
            "974ad952b88e4f22918b7533017547b5",
            "389233c924c34072a1119458853d960b",
            "bc43d7d60fdf4ea598f3cdf1f9d9a661",
            "0a636b67e5fe4583bdfceb0cb0167fd1",
            "23d247ab6f764758a6824a7fd0524677",
            "0e6bd3c1152c47239c7346c81f776887",
            "3e53038eef144ac5939fc67020d977cf",
            "59eb0cd3ae38408ead035a163765e2a4",
            "eacffd63f3ed481fb272fb76fb604660",
            "9be203f74c0b4fcc861da99741d0c670",
            "94cd502aefb64802b53e5cb5b2ecdfc4",
            "0e1b270463914d1c90f1312eb3614c8d",
            "aa93df76a0ba4646b5ec1b3a916ddc1a",
            "a7f9157546784983b478cf6dab4f6dd2",
            "18d18275c0df4f2c9fe34a0282951f34",
            "a49b7ffb67814f20a6c66a7559e4121d",
            "bf685a46691c4c85a4b4f9bb4289a8bd",
            "9ecec9062bc64418aaee7eb548b76c38",
            "644cdc8763b044df905af345e6efe86b",
            "1bf013fbc54648d5b143e22933e0c68f",
            "f48232d48fdc464ab07fdc96e76e8677",
            "35ee24d798444e29afb762e67578211f",
            "7cac86b072484c9ab4002f1083d588a0",
            "1993d8fe22794838a22ea4f16c6eb1b2",
            "613f8189c25c4d4e8038a7c3caefb3a8",
            "7c1ce29cd836433e8a633974385cb650",
            "3f7132a0a9ae4c6eb657235ff6db6469",
            "9efce4a63a8740a2906ece8360b1eb40",
            "bfe2e9f7ae004dc7a6da76b2a0697c26",
            "9e542efda0a84aae8849bb8c4aad47d9",
            "6bf9190f52b64609bf9bdee0be503e19",
            "b75863caa2db44089c9533cbd691b6f9",
            "462934482b49486fb8854b7d3c94ac12",
            "c3c54a9e0a41485aa2988db2711c2a55",
            "62ae64631aab4c56bd414a06aaace08a",
            "9ef6431643524b4db4626060bded2d05",
            "fcbe8b59f5f140a38516c1f1b5539413",
            "710a9ca413f04db8a551fb57d41b7671",
            "4e0b820041f24fe7a8c1924462a2cda0",
            "1fc7f6e7441f4a2dbc7bf64f9cdd25e3",
            "d417513380a04b84bdd2fd5d74d71368",
            "79fd7e824d08462a8e45d4d44d2b489b",
            "72756d8bbcde45169c17b7cd3e0d2260",
            "ef7b897ae7cc46f8948b248963db7a5d",
            "6c4c2840b03e40acabb6fa907c16884d",
            "f5ca969a0f23483abdbe0518312da310",
            "b5a55cbbdf9c4d8db220e4b9354f6cce",
            "0061465fd18a4cd5b25b9fe715bf87b1",
            "1fdf775631564edc9d23afbf0029bdac",
            "7fa4411c924e4504ba4fc8191868e6d8",
            "9533040c6ae14a9db984e64a24f099fe",
            "9653cc673b9c427f849216ef2434796f",
            "ce4436b0ea9244c8a644d5bf10c3eb32",
            "b206fc715a114900a0f0a229b63e0ac8",
            "9606d0f9523e48d095b0d2b22c7befdf",
            "b4eecc97c59f4264a84989e5b0eaac81",
            "bb8bedc8af9c41ca9aad4db710e1bb5c",
            "c8bff0a3151c48d38b780ecb1b8381cb",
            "5eedf1c7150647bdaec4d70d0e038c01",
            "fe7124a5f99a4a8da956c360a4f1ccef",
            "6866c219c5d341e69cfb97b399a3d47c",
            "6751a1dcb31e4eeba49178efed65d2c7",
            "f235c839f39f4282bf90157518a03d4c",
            "0aad910c289c466fbb2b2dc91001d1d3",
            "d70a1712a88d4aa4b984f3b2b244edd6",
            "131471a1c83d4d99a4640bf1ce9a5a5f",
            "b622439d2a0a4e9591a8ef0fab9c38c0",
            "4124987f95c64bbabbd96603685e34eb",
            "97c78852275545a98a5dd6465aa5e9ff",
            "7051c6e3d4c24bef8e9c1bcd880e41b0",
            "113c403d09424a9cb6567eb75c425f1a",
            "5701b6456acb4423b237b5dfe92d5eb6",
            "775422b0be6f432e8e3e965f11e988d9",
            "541e8da8f4864ce4af181df4774571a8",
            "611b824ff2c74f30827ed9539106ab20",
            "340425f9a998493bb60122bbcbbd81a2",
            "f3dc926f080d4420ad34b2186613f2ef",
            "51f0c043699b4255a47dd8119cf911e8",
            "8b92a2ba94c24da0b500190e6f3d32cc",
            "05350aa7e1d94e758e71838aa3cd79d8",
            "fd1e8f266c834acda899f8668bbed3ef",
            "4e52d4e685754b0a91f471047c9c8775",
            "393235dd39f24bd197a90962de3dc589",
            "e988e36ea0fb40e481bd630c2afb6eb2",
            "3bb5a6eea63746aab094dde275fe76aa",
            "9896aa35a4fd494aabade4d443254844",
            "e2c1f02a303c43708dff2f66fbe0c365",
            "3082e98d8ad741fa89e33d938f322a67",
            "c1b60989067643a3b5536395aa9685b9",
            "344fba2edf564de2ba3dbc626bde3eb0",
            "e540ba23e6114871958f661efdb9652f",
            "365bf667e0bd477091964f63a37b440a",
            "40c3d04962124e77991fdbf5e8566fc6",
            "f474a10ff6b7463295f1afb4ba7d1bb2",
            "1e2a3b1cba3744ce896ca60db6abe4ac",
            "71d1dd6e7f9c4620ab88a33ced480762",
            "2d5353a9367f4851986d36d466cec657",
            "258bc91a6a3b4e79a514d1ee6df8320c",
            "f30a2acf140744ca93e0388085359ca2",
            "7e7ca72ef2f5412a9cd2b32c2eadd734",
            "c3ff47d0e5a64665bc48f0839345940b",
            "27faeb93c0204c63a6025e4367e88b40",
            "702e322a7997451dbb33c7de2a0c70e3",
            "7ff609a4ee5d49da9388aa50c6354f93",
            "498bce927253412d858902d25785ac32",
            "b75930c170e24b7f87e91c03d7ef1eba",
            "80e7364b5e1541289093f801d24cfbe5",
            "d07be8361bca415293ed1d96343ffdbf",
            "8b023ac779714424af7d07cdb7cf7176",
            "9ea04a9308ad475eb71c28322b5a9e47",
            "8921cfd73e39423c9f0ac3f1b1db9337",
            "7018511f05e547a7a048cf2f297f3a81",
            "85f93abf698148cbb67e4a597e4e0ecb",
            "1a97858e20224e1892c71234462e63b0",
            "c1e43610543b42e68e17db50d53db32c",
            "2720b99d9e02487a95adb2f98605a86f",
            "9f099b29aac84461b66492b231f78696",
            "dcc3b050ffab4404ace6241641e6ea90",
            "c4e860e27f1347d8a910a8607e60f0bc",
            "7297cffa07b94f92839471320ba9af83",
            "e5bec7b3079f496aa4c0a2729b69e597",
            "7b4b476ca3d341549ec60ad6ca74a1ca",
            "90c1c57004be453981ab93145996e918",
            "2352bc73afe7427d973fc3e788a477ed",
            "fefddf0f46cc43c5869d61f776a5aa29",
            "4cc95c282d98401ebed8a88daa46e37c",
            "2c469471041a4317bb4b2d1035a2e391",
            "36a4f24257ac462c886d8c73b2e708e5",
            "4d0c6eda8a214fb39f47c315fc9c800a",
            "1746ceb4189b49cb9354e6a759fc092a",
            "775471a5c8ad49c8aad3daf2914679b8",
            "81448def899248beb68117f67930ef5c",
            "4455a3eeae7544c78bc3e2d24362ea5e",
            "26e6464b12bb4ae58d4b4dd543dd5e83",
            "caa0976014ff431b9ff114f9c835610d",
            "dcac4a86202743bcac63f7ca9c55ceec",
            "aeb699617e224f4e88b1bc13afbaadf3",
            "eb5bd6c04e6f49c480e11fdb480a788e",
            "d75cdf799b6d468fb3bc43369b41131a",
            "1417fbb24c19443fb6f97be29c112196",
            "5304ca6f9f12486fa44f1487e53f9d91",
            "ef71c77868d34f6ca4d14f539bc511b8",
            "857a5f752a1746ccb609a8e9d9ac1016",
            "9686f04924a24025a970b02f694885ba",
            "d0f2bf810b944331b65ee44ce57a9f7f",
            "e1356c274b2e48f5978a156edaeab6c9",
            "c11135a9117a4c63bbb5db3cdd537ae9",
            "9793e4ce2a764fcf9fd5d12fa6f1d0b2",
            "8853f2d2c9d5403cae32d743e9bee22a",
            "be866172ac474d708e5739dc0533a095",
            "553c24d186c044e3be3139bd7f595318",
            "e37a6aefcc7e408c899577036cc3fc60",
            "629213b4806f433b9c6f3ba192ff19d0",
            "930f181e8c3a434c8ce4b9f2d5146946",
            "2b5c9224d97545a28e4a62e7fa5a0609",
            "453c58a4599b4e128fa587ffa040095f",
            "f9729eace652420fa172d110b88cc59c",
            "fb655a566d57474cab6d66473da28680",
            "6ed8bde5c3a74e7cb60ecadc0e7929a3",
            "714801a2f4ab4c7e816240b1b7cb25f6",
            "a1908503364b483f820f110511a3729b",
            "680197e6b8d34cc18876b964da1325b3",
            "3c10740a209548e1ac0bd641aab5c94c",
            "0260635747cf4292a51bb494bae32657",
            "70b643970cdf4c7182410246c6870da5",
            "f47ea10ac85c420c869acd195377aa94",
            "8942122acaff4feeb17924300a57e1e4",
            "bf5fa2d5865e41c0b86c03df014389bb",
            "81dd8819753a4b178357065c14a30d4e",
            "ccc94fd583dc4cabbff707566d6d35c7",
            "b296189ebb6f4a6ea0924bb8b4eabccf",
            "cd1d5b479a894c9b8bf3eb7eac29142a",
            "976addd3e3b74c49948ddffc4945665d",
            "6473c9a5f97c4d4999a7ecac579cb12b",
            "2dc4cc2c21734bc6bc4bce8a16e5438a",
            "5a4f5c9097f1498e9fc2ca7388a099b7",
            "15da8a779a7542bb8ffa6e591e612e80",
            "e68dfecd90464eb2a8fdea66357a261b",
            "eeb48ad8daaa4ec68a84e31d6e203bbd",
            "4d5be238657945ab86e4b850dec4057f",
            "28ff5602da3a42a88fd2c36b03ea8ec2",
            "fcf63e74a55f4fef8c0bb521d022b12f",
            "086c653235dc439b9848f11b977d932e",
            "1bb1688ded5f42079584b50de6478eb7",
            "abcc5f5ef14b4bab84014a0a1d7370a6",
            "1bac97393ff44d368a3125f3bc6fe97b",
            "151e8aaf19d447afb7c86482d7eb9c43",
            "8587355d75914097a040fd2a0041d106",
            "79acfda856ad4e9bb50b65ac94089d06",
            "14ba376bc09a41c7ae0cb73b4a302ba7",
            "53234d40c9e646cd830e3061baf14553",
            "7d3d16f6379749a2844acb99c2fd7481",
            "9de310a287514e7aac39efcf2f52a319",
            "b08dd8ac7359429587f1b3ef01b10360",
            "b56f0353857c4f3491a2b6cfb31f3d26",
            "b9c333283e80445fbedb658c81e04f73",
            "b9e068e6fb0942e1bf7fc81c402b6a7d",
            "42ab5dec2b9c4708b6c67c2924b33153",
            "9e0b50075f7b4e17a93dd4753442ee4a",
            "1df1deacc5b34ca08d8ebc573f863004",
            "13766fc2575241be9a3de17761e02e52",
            "87e3a298bcf2411c82fe987c2f795b3c",
            "caac8caf09e242cebf119b2e75d8b4e5",
            "fa77af7b81af4617bb77fcf06cdcacf7",
            "953fece8a89243c18bc35102f5a2869e",
            "5a931a2bed704859b8a40380f2e4ff2a",
            "36b6714c749c430aa2f9887949ab3ed5",
            "fdee6067f8964391813b766047987ad7",
            "419e846282f649cab0fa1da54b059dfa",
            "2849771a591d452e8e41d0da2618b515",
            "e0bfe55f50a141949cbcb2d20d4c8fb9",
            "59e906a52bf74f33ad6a799f825288dc",
            "1b466e3ae07f40928cb3ad3f0ce0c9f7",
            "74e949b5e7ed419dab0ec7393fc292e0",
            "9a3241748ac5487aab865faf3e5fcf71",
            "fad705eb8fa34c30b2c62ad4cd89db7f",
            "ca2df5fe09524c03ad84f2e62ca4c2e7",
            "a544909cb1634a6ca45db440ca050aab",
            "611cc6a486a8443197800268877b4a89",
            "5afcfcd25e524d0f933287a5705f74c4",
            "90bffe37cd1d40c3872c7620708b2f50",
            "ca54e0d16dbd4639b7e948ee34411404",
            "a591795600464b3abcf30aa79f646e4c",
            "65bcf044e66948d4a62ac327660e9b81",
            "44d4ef781ad74fcc9503b5bd85f61a28",
            "bf659d84558543d1a65d5c94bc92e18e",
            "c1cb7d44fb2347fa8e6b8901650c108f",
            "481e013245ef401ab48072cb10ef803d",
            "dc8adbb325c24ae1885a127a24579a6b",
            "e2424bdf415d4260b78460baf67302e4",
            "953093a9aedf4b9399c2152becf1bd2a",
            "0cd7edcc80af48c989fc9c150685fc24",
            "914b4757c7af48cbb9109db72782428e",
            "7cdca1651d2d41609d8b0b4970287864",
            "8d7245f80c7046269fb4f09462a46137",
            "8cdd36cdeef3439db763fd5a74b1a3d4",
            "493c868eb33d4d56aa5b916c1629585c",
            "7d47b9fc995841c6ade22b2120bd9248",
            "8346853b018541089be6e9d87f66dca3",
            "d0a1ab623cb84964aff505aa74627448",
            "0628068d38714d8299cdde4e7c53ed6e",
            "980a6bb449d14cc9bea4df708f63fe1e",
            "82cc2ae3d3204dcdac5a5c5210b72cde",
            "c65cf51818674fa7a55acfe1d9135032",
            "1dac52896dd74877a089a1eeb590b57a",
            "abdb54ef08eb4cfaaee1144ab3117b49",
            "128e6321038049a88427bad07123f17f",
            "a33d02a857bd4759aca2dc816ce2e23e",
            "307dd356f1864d67b03af8aab37c4c72",
            "16057668c4ec406696080b1ce747e8a6",
            "2b0995aaa91e4c62bddd9eeaa874fd34",
            "3b9adeb4c5654bb9ad703a4a203fa15a",
            "d06391bff35d46dc8d2cf8295d68b088",
            "3d36e61642ab4c0cb87720b87aaa12bd",
            "027cf644ea5b4fe498a8700d2164d27b",
            "2b0aad9bdf4b47ff8f9520d764615e3c",
            "3293136cf1ee4fb0b933ff2e5a35a5ac",
            "772b6b6da9484f6899b7e03db3bcfef8",
            "48eabc2579a64da4a57c28642bf14bcd",
            "86bc3f08224d43aca4ba250eb2c9ed8b",
            "91738285c6eb4d0c981f1dcc7e06f162",
            "a1cfa145974c40b781fc1ad0b20a79e9",
            "0c620969cbc24180875c939701b1a693",
            "d18346291ec1499eb04e379ff8b4a4f6",
            "26fde40884de4f20935f2bce924368ca",
            "77dffb6b435642739b197ce5d53214bd",
            "530cd76f878843f39f5791e009d91674",
            "558b2de78f704edfb694354a1daed136",
            "ea6a91d9785a414483461d6dbad956ea",
            "8ced8a7ff2194b3bac348c45fb6d1bf9",
            "97848954eee14619b39336c3877e95b1",
            "4b47a0354bd7472dbd082961a8bedb47",
            "e17ef58c9ba34d829622e61890dbb544",
            "d773f6da15dc4ecbaa4762f664bf4710",
            "529b4d19cc8248a9a8b86f3c6977f9d6",
            "38c6782834dd452fb87ef4b305d069f2",
            "517c3e8f9f134f3cb8dcb693836ddd85",
            "692a64aa699640348e34333193f4561a",
            "d5511228aaef4f5f82e7a15b8bb0239a",
            "f2480beb9f1644a59c0685b0802d461d",
            "197e80dffa3a4f339e327a5ee5ce5b11",
            "fb6bf96fe5af412e8d30f8295d2fabaf",
            "f111fd1f06804fcc9fd75e8d000ccd10",
            "0e95be126bd34b3a9899129f063b041e",
            "8cec4d4cac48423894d60b48bbff7196",
            "b8f621cc3bb64376be90383f179030e5",
            "635ec76133ec44bbb66fb6b9f7923aea"
          ]
        },
        "id": "CinHx4A848jz",
        "outputId": "3e315f67-b458-4911-b11d-d0f295dbd68e"
      },
      "execution_count": null,
      "outputs": [
        {
          "output_type": "stream",
          "name": "stdout",
          "text": [
            "------------fold no---------0----------------------\n"
          ]
        },
        {
          "output_type": "display_data",
          "data": {
            "application/vnd.jupyter.widget-view+json": {
              "model_id": "e3857d565446462fb11c76ab681509c7",
              "version_minor": 0,
              "version_major": 2
            },
            "text/plain": [
              "  0%|          | 0/30 [00:00<?, ?it/s]"
            ]
          },
          "metadata": {}
        },
        {
          "output_type": "display_data",
          "data": {
            "application/vnd.jupyter.widget-view+json": {
              "model_id": "71151edb7bc34eb5afe72f4a5f476aee",
              "version_minor": 0,
              "version_major": 2
            },
            "text/plain": [
              "  0%|          | 0/8 [00:00<?, ?it/s]"
            ]
          },
          "metadata": {}
        },
        {
          "output_type": "stream",
          "name": "stdout",
          "text": [
            "Mounted at /content/drive\n",
            "0.12473483241408569 0.13559322033898302\n"
          ]
        },
        {
          "output_type": "display_data",
          "data": {
            "application/vnd.jupyter.widget-view+json": {
              "model_id": "2cff81f963614294b338f1033fd41f17",
              "version_minor": 0,
              "version_major": 2
            },
            "text/plain": [
              "  0%|          | 0/30 [00:00<?, ?it/s]"
            ]
          },
          "metadata": {}
        },
        {
          "output_type": "display_data",
          "data": {
            "application/vnd.jupyter.widget-view+json": {
              "model_id": "07dba95796324aafaf5b94d7f3eb2390",
              "version_minor": 0,
              "version_major": 2
            },
            "text/plain": [
              "  0%|          | 0/8 [00:00<?, ?it/s]"
            ]
          },
          "metadata": {}
        },
        {
          "output_type": "stream",
          "name": "stdout",
          "text": [
            "Mounted at /content/drive\n",
            "0.13915994908782353 0.13347457627118645\n"
          ]
        },
        {
          "output_type": "display_data",
          "data": {
            "application/vnd.jupyter.widget-view+json": {
              "model_id": "bda1df52c6654c1fb458148ada0cd6b4",
              "version_minor": 0,
              "version_major": 2
            },
            "text/plain": [
              "  0%|          | 0/30 [00:00<?, ?it/s]"
            ]
          },
          "metadata": {}
        },
        {
          "output_type": "display_data",
          "data": {
            "application/vnd.jupyter.widget-view+json": {
              "model_id": "e2ab5e62be7b40fda4f9e3b3f9740a6c",
              "version_minor": 0,
              "version_major": 2
            },
            "text/plain": [
              "  0%|          | 0/8 [00:00<?, ?it/s]"
            ]
          },
          "metadata": {}
        },
        {
          "output_type": "stream",
          "name": "stdout",
          "text": [
            "Mounted at /content/drive\n",
            "0.16037335596096736 0.22245762711864406\n"
          ]
        },
        {
          "output_type": "display_data",
          "data": {
            "application/vnd.jupyter.widget-view+json": {
              "model_id": "b0d1c67752cc41e480fc40606f08dc7a",
              "version_minor": 0,
              "version_major": 2
            },
            "text/plain": [
              "  0%|          | 0/30 [00:00<?, ?it/s]"
            ]
          },
          "metadata": {}
        },
        {
          "output_type": "display_data",
          "data": {
            "application/vnd.jupyter.widget-view+json": {
              "model_id": "2527656100f74fd28012c9cd6a8f237d",
              "version_minor": 0,
              "version_major": 2
            },
            "text/plain": [
              "  0%|          | 0/8 [00:00<?, ?it/s]"
            ]
          },
          "metadata": {}
        },
        {
          "output_type": "stream",
          "name": "stdout",
          "text": [
            "Mounted at /content/drive\n",
            "0.23801442511667376 0.2838983050847458\n"
          ]
        },
        {
          "output_type": "display_data",
          "data": {
            "application/vnd.jupyter.widget-view+json": {
              "model_id": "c6a32029b75448259a82f82dae3fb7dd",
              "version_minor": 0,
              "version_major": 2
            },
            "text/plain": [
              "  0%|          | 0/30 [00:00<?, ?it/s]"
            ]
          },
          "metadata": {}
        },
        {
          "output_type": "display_data",
          "data": {
            "application/vnd.jupyter.widget-view+json": {
              "model_id": "5beb3d5ba349476e903ffecab8a5b0eb",
              "version_minor": 0,
              "version_major": 2
            },
            "text/plain": [
              "  0%|          | 0/8 [00:00<?, ?it/s]"
            ]
          },
          "metadata": {}
        },
        {
          "output_type": "stream",
          "name": "stdout",
          "text": [
            "Mounted at /content/drive\n",
            "0.31820110309715727 0.4173728813559322\n"
          ]
        },
        {
          "output_type": "display_data",
          "data": {
            "application/vnd.jupyter.widget-view+json": {
              "model_id": "c64b5c06e1ed48f0bbf1732170e7d8c1",
              "version_minor": 0,
              "version_major": 2
            },
            "text/plain": [
              "  0%|          | 0/30 [00:00<?, ?it/s]"
            ]
          },
          "metadata": {}
        },
        {
          "output_type": "display_data",
          "data": {
            "application/vnd.jupyter.widget-view+json": {
              "model_id": "7d56d55aef4747a5a80a14432ca8b796",
              "version_minor": 0,
              "version_major": 2
            },
            "text/plain": [
              "  0%|          | 0/8 [00:00<?, ?it/s]"
            ]
          },
          "metadata": {}
        },
        {
          "output_type": "stream",
          "name": "stdout",
          "text": [
            "Mounted at /content/drive\n",
            "0.38990241832838357 0.5423728813559321\n"
          ]
        },
        {
          "output_type": "display_data",
          "data": {
            "application/vnd.jupyter.widget-view+json": {
              "model_id": "d202b7aaacac480aa8e3a81f0e73c2b2",
              "version_minor": 0,
              "version_major": 2
            },
            "text/plain": [
              "  0%|          | 0/30 [00:00<?, ?it/s]"
            ]
          },
          "metadata": {}
        },
        {
          "output_type": "display_data",
          "data": {
            "application/vnd.jupyter.widget-view+json": {
              "model_id": "b310fbceb97d46c388b24e3b9619f1a1",
              "version_minor": 0,
              "version_major": 2
            },
            "text/plain": [
              "  0%|          | 0/8 [00:00<?, ?it/s]"
            ]
          },
          "metadata": {}
        },
        {
          "output_type": "stream",
          "name": "stdout",
          "text": [
            "Mounted at /content/drive\n",
            "0.45057276198557494 0.5932203389830509\n"
          ]
        },
        {
          "output_type": "display_data",
          "data": {
            "application/vnd.jupyter.widget-view+json": {
              "model_id": "ca1e7b3edeb04e89bce1e57cbe0ff182",
              "version_minor": 0,
              "version_major": 2
            },
            "text/plain": [
              "  0%|          | 0/30 [00:00<?, ?it/s]"
            ]
          },
          "metadata": {}
        },
        {
          "output_type": "display_data",
          "data": {
            "application/vnd.jupyter.widget-view+json": {
              "model_id": "809851e3f0ba4126b624bf3b78c8b8ee",
              "version_minor": 0,
              "version_major": 2
            },
            "text/plain": [
              "  0%|          | 0/8 [00:00<?, ?it/s]"
            ]
          },
          "metadata": {}
        },
        {
          "output_type": "stream",
          "name": "stdout",
          "text": [
            "Mounted at /content/drive\n",
            "0.44717861688587185 0.5783898305084747\n"
          ]
        },
        {
          "output_type": "display_data",
          "data": {
            "application/vnd.jupyter.widget-view+json": {
              "model_id": "cb8cc60974f54bdca9d009b530266cd7",
              "version_minor": 0,
              "version_major": 2
            },
            "text/plain": [
              "  0%|          | 0/30 [00:00<?, ?it/s]"
            ]
          },
          "metadata": {}
        },
        {
          "output_type": "display_data",
          "data": {
            "application/vnd.jupyter.widget-view+json": {
              "model_id": "d0356e25265d4791b648f5e3389d756f",
              "version_minor": 0,
              "version_major": 2
            },
            "text/plain": [
              "  0%|          | 0/8 [00:00<?, ?it/s]"
            ]
          },
          "metadata": {}
        },
        {
          "output_type": "stream",
          "name": "stdout",
          "text": [
            "Mounted at /content/drive\n",
            "0.5048790835808231 0.6377118644067796\n"
          ]
        },
        {
          "output_type": "display_data",
          "data": {
            "application/vnd.jupyter.widget-view+json": {
              "model_id": "3731078c32af4d6aaeeec61f0e059dd8",
              "version_minor": 0,
              "version_major": 2
            },
            "text/plain": [
              "  0%|          | 0/30 [00:00<?, ?it/s]"
            ]
          },
          "metadata": {}
        },
        {
          "output_type": "display_data",
          "data": {
            "application/vnd.jupyter.widget-view+json": {
              "model_id": "202e27337f07439fa7f76b9f7bed0042",
              "version_minor": 0,
              "version_major": 2
            },
            "text/plain": [
              "  0%|          | 0/8 [00:00<?, ?it/s]"
            ]
          },
          "metadata": {}
        },
        {
          "output_type": "stream",
          "name": "stdout",
          "text": [
            "Mounted at /content/drive\n",
            "0.5226983453542637 0.663135593220339\n"
          ]
        },
        {
          "output_type": "display_data",
          "data": {
            "application/vnd.jupyter.widget-view+json": {
              "model_id": "89d7759b62b04ebf98ee4760e278303c",
              "version_minor": 0,
              "version_major": 2
            },
            "text/plain": [
              "  0%|          | 0/30 [00:00<?, ?it/s]"
            ]
          },
          "metadata": {}
        },
        {
          "output_type": "display_data",
          "data": {
            "application/vnd.jupyter.widget-view+json": {
              "model_id": "c097a494c1d14aaf883bdd5a21a71ea6",
              "version_minor": 0,
              "version_major": 2
            },
            "text/plain": [
              "  0%|          | 0/8 [00:00<?, ?it/s]"
            ]
          },
          "metadata": {}
        },
        {
          "output_type": "stream",
          "name": "stdout",
          "text": [
            "Mounted at /content/drive\n",
            "0.5536699193890537 0.646186440677966\n"
          ]
        },
        {
          "output_type": "display_data",
          "data": {
            "application/vnd.jupyter.widget-view+json": {
              "model_id": "5957be47bee24ab49ad98ac0edec02be",
              "version_minor": 0,
              "version_major": 2
            },
            "text/plain": [
              "  0%|          | 0/30 [00:00<?, ?it/s]"
            ]
          },
          "metadata": {}
        },
        {
          "output_type": "display_data",
          "data": {
            "application/vnd.jupyter.widget-view+json": {
              "model_id": "0996f39e8e874a8994f83229e0964045",
              "version_minor": 0,
              "version_major": 2
            },
            "text/plain": [
              "  0%|          | 0/8 [00:00<?, ?it/s]"
            ]
          },
          "metadata": {}
        },
        {
          "output_type": "stream",
          "name": "stdout",
          "text": [
            "Mounted at /content/drive\n",
            "0.5685193042002545 0.6864406779661016\n"
          ]
        },
        {
          "output_type": "display_data",
          "data": {
            "application/vnd.jupyter.widget-view+json": {
              "model_id": "3368e9a1d84c4f72b61722bebdd3e804",
              "version_minor": 0,
              "version_major": 2
            },
            "text/plain": [
              "  0%|          | 0/30 [00:00<?, ?it/s]"
            ]
          },
          "metadata": {}
        },
        {
          "output_type": "display_data",
          "data": {
            "application/vnd.jupyter.widget-view+json": {
              "model_id": "fff4188ed5fd46f6a0316bd8e23d1568",
              "version_minor": 0,
              "version_major": 2
            },
            "text/plain": [
              "  0%|          | 0/8 [00:00<?, ?it/s]"
            ]
          },
          "metadata": {}
        },
        {
          "output_type": "stream",
          "name": "stdout",
          "text": [
            "Mounted at /content/drive\n",
            "0.5787017394993637 0.7012711864406779\n"
          ]
        },
        {
          "output_type": "display_data",
          "data": {
            "application/vnd.jupyter.widget-view+json": {
              "model_id": "37207f6f08d54e768ac629972afc36bb",
              "version_minor": 0,
              "version_major": 2
            },
            "text/plain": [
              "  0%|          | 0/30 [00:00<?, ?it/s]"
            ]
          },
          "metadata": {}
        },
        {
          "output_type": "display_data",
          "data": {
            "application/vnd.jupyter.widget-view+json": {
              "model_id": "3d15af32a5df4e98970704bd83635d9f",
              "version_minor": 0,
              "version_major": 2
            },
            "text/plain": [
              "  0%|          | 0/8 [00:00<?, ?it/s]"
            ]
          },
          "metadata": {}
        },
        {
          "output_type": "stream",
          "name": "stdout",
          "text": [
            "Mounted at /content/drive\n",
            "0.6016122189223589 0.6483050847457626\n"
          ]
        },
        {
          "output_type": "display_data",
          "data": {
            "application/vnd.jupyter.widget-view+json": {
              "model_id": "6e3752fb288f4ef9800da58e06c124db",
              "version_minor": 0,
              "version_major": 2
            },
            "text/plain": [
              "  0%|          | 0/30 [00:00<?, ?it/s]"
            ]
          },
          "metadata": {}
        },
        {
          "output_type": "display_data",
          "data": {
            "application/vnd.jupyter.widget-view+json": {
              "model_id": "f94c60194b2f4d11b74b504e3e3f6425",
              "version_minor": 0,
              "version_major": 2
            },
            "text/plain": [
              "  0%|          | 0/8 [00:00<?, ?it/s]"
            ]
          },
          "metadata": {}
        },
        {
          "output_type": "stream",
          "name": "stdout",
          "text": [
            "Mounted at /content/drive\n",
            "0.6202800169707255 0.6991525423728813\n"
          ]
        },
        {
          "output_type": "display_data",
          "data": {
            "application/vnd.jupyter.widget-view+json": {
              "model_id": "3857e703e90d4d2baf8710cb66c80a28",
              "version_minor": 0,
              "version_major": 2
            },
            "text/plain": [
              "  0%|          | 0/30 [00:00<?, ?it/s]"
            ]
          },
          "metadata": {}
        },
        {
          "output_type": "display_data",
          "data": {
            "application/vnd.jupyter.widget-view+json": {
              "model_id": "48a570d459bb4104a0634c70fa72e608",
              "version_minor": 0,
              "version_major": 2
            },
            "text/plain": [
              "  0%|          | 0/8 [00:00<?, ?it/s]"
            ]
          },
          "metadata": {}
        },
        {
          "output_type": "stream",
          "name": "stdout",
          "text": [
            "Mounted at /content/drive\n",
            "0.632583792957149 0.7521186440677966\n"
          ]
        },
        {
          "output_type": "display_data",
          "data": {
            "application/vnd.jupyter.widget-view+json": {
              "model_id": "50688d6bc74746adbebec70e52f89bfa",
              "version_minor": 0,
              "version_major": 2
            },
            "text/plain": [
              "  0%|          | 0/30 [00:00<?, ?it/s]"
            ]
          },
          "metadata": {}
        },
        {
          "output_type": "display_data",
          "data": {
            "application/vnd.jupyter.widget-view+json": {
              "model_id": "d761ea88d2f34c7799eb131b2ddc7708",
              "version_minor": 0,
              "version_major": 2
            },
            "text/plain": [
              "  0%|          | 0/8 [00:00<?, ?it/s]"
            ]
          },
          "metadata": {}
        },
        {
          "output_type": "stream",
          "name": "stdout",
          "text": [
            "Mounted at /content/drive\n",
            "0.6499787865931269 0.7372881355932203\n"
          ]
        },
        {
          "output_type": "display_data",
          "data": {
            "application/vnd.jupyter.widget-view+json": {
              "model_id": "aa8fa0b9c3654ad599d710091322fd25",
              "version_minor": 0,
              "version_major": 2
            },
            "text/plain": [
              "  0%|          | 0/30 [00:00<?, ?it/s]"
            ]
          },
          "metadata": {}
        },
        {
          "output_type": "display_data",
          "data": {
            "application/vnd.jupyter.widget-view+json": {
              "model_id": "270dc632161f4986aa00a7c4528ad495",
              "version_minor": 0,
              "version_major": 2
            },
            "text/plain": [
              "  0%|          | 0/8 [00:00<?, ?it/s]"
            ]
          },
          "metadata": {}
        },
        {
          "output_type": "stream",
          "name": "stdout",
          "text": [
            "Mounted at /content/drive\n",
            "0.655918540517607 0.701271186440678\n"
          ]
        },
        {
          "output_type": "display_data",
          "data": {
            "application/vnd.jupyter.widget-view+json": {
              "model_id": "37166d4257e143c28be7419ece381336",
              "version_minor": 0,
              "version_major": 2
            },
            "text/plain": [
              "  0%|          | 0/30 [00:00<?, ?it/s]"
            ]
          },
          "metadata": {}
        },
        {
          "output_type": "display_data",
          "data": {
            "application/vnd.jupyter.widget-view+json": {
              "model_id": "970599ac195c41858a1687db91e7d05e",
              "version_minor": 0,
              "version_major": 2
            },
            "text/plain": [
              "  0%|          | 0/8 [00:00<?, ?it/s]"
            ]
          },
          "metadata": {}
        },
        {
          "output_type": "stream",
          "name": "stdout",
          "text": [
            "Mounted at /content/drive\n",
            "0.6635553669919387 0.7372881355932204\n"
          ]
        },
        {
          "output_type": "display_data",
          "data": {
            "application/vnd.jupyter.widget-view+json": {
              "model_id": "02c30af1b22148e3bc1b94418c45aa28",
              "version_minor": 0,
              "version_major": 2
            },
            "text/plain": [
              "  0%|          | 0/30 [00:00<?, ?it/s]"
            ]
          },
          "metadata": {}
        },
        {
          "output_type": "display_data",
          "data": {
            "application/vnd.jupyter.widget-view+json": {
              "model_id": "f365d326d9a84e79af1190c87e072b5c",
              "version_minor": 0,
              "version_major": 2
            },
            "text/plain": [
              "  0%|          | 0/8 [00:00<?, ?it/s]"
            ]
          },
          "metadata": {}
        },
        {
          "output_type": "stream",
          "name": "stdout",
          "text": [
            "Mounted at /content/drive\n",
            "0.6779804836656766 0.7351694915254237\n"
          ]
        },
        {
          "output_type": "display_data",
          "data": {
            "application/vnd.jupyter.widget-view+json": {
              "model_id": "e185ce6b40834a9cac0bc2058bbd1666",
              "version_minor": 0,
              "version_major": 2
            },
            "text/plain": [
              "  0%|          | 0/30 [00:00<?, ?it/s]"
            ]
          },
          "metadata": {}
        },
        {
          "output_type": "display_data",
          "data": {
            "application/vnd.jupyter.widget-view+json": {
              "model_id": "023dff11f57d417eb1db03f2e0991e77",
              "version_minor": 0,
              "version_major": 2
            },
            "text/plain": [
              "  0%|          | 0/8 [00:00<?, ?it/s]"
            ]
          },
          "metadata": {}
        },
        {
          "output_type": "stream",
          "name": "stdout",
          "text": [
            "Mounted at /content/drive\n",
            "0.6915570640644887 0.760593220338983\n"
          ]
        },
        {
          "output_type": "display_data",
          "data": {
            "application/vnd.jupyter.widget-view+json": {
              "model_id": "60eb082b550f43f5b477bd1d9d397fb0",
              "version_minor": 0,
              "version_major": 2
            },
            "text/plain": [
              "  0%|          | 0/30 [00:00<?, ?it/s]"
            ]
          },
          "metadata": {}
        },
        {
          "output_type": "display_data",
          "data": {
            "application/vnd.jupyter.widget-view+json": {
              "model_id": "14fe90703acf4cc2b01093e7cf9171e2",
              "version_minor": 0,
              "version_major": 2
            },
            "text/plain": [
              "  0%|          | 0/8 [00:00<?, ?it/s]"
            ]
          },
          "metadata": {}
        },
        {
          "output_type": "stream",
          "name": "stdout",
          "text": [
            "Mounted at /content/drive\n",
            "0.6991938905388203 0.739406779661017\n"
          ]
        },
        {
          "output_type": "display_data",
          "data": {
            "application/vnd.jupyter.widget-view+json": {
              "model_id": "a2c2fc5d83b344d394d3ce76c7dc3725",
              "version_minor": 0,
              "version_major": 2
            },
            "text/plain": [
              "  0%|          | 0/30 [00:00<?, ?it/s]"
            ]
          },
          "metadata": {}
        },
        {
          "output_type": "display_data",
          "data": {
            "application/vnd.jupyter.widget-view+json": {
              "model_id": "c58c99ab9b2a4ae89408f9264c7fbdab",
              "version_minor": 0,
              "version_major": 2
            },
            "text/plain": [
              "  0%|          | 0/8 [00:00<?, ?it/s]"
            ]
          },
          "metadata": {}
        },
        {
          "output_type": "stream",
          "name": "stdout",
          "text": [
            "Mounted at /content/drive\n",
            "0.7055579126007635 0.771186440677966\n"
          ]
        },
        {
          "output_type": "display_data",
          "data": {
            "application/vnd.jupyter.widget-view+json": {
              "model_id": "1960383c002d4d2dbbe355d39c050def",
              "version_minor": 0,
              "version_major": 2
            },
            "text/plain": [
              "  0%|          | 0/30 [00:00<?, ?it/s]"
            ]
          },
          "metadata": {}
        },
        {
          "output_type": "display_data",
          "data": {
            "application/vnd.jupyter.widget-view+json": {
              "model_id": "3a13c24949474856b9f162774a2b3366",
              "version_minor": 0,
              "version_major": 2
            },
            "text/plain": [
              "  0%|          | 0/8 [00:00<?, ?it/s]"
            ]
          },
          "metadata": {}
        },
        {
          "output_type": "stream",
          "name": "stdout",
          "text": [
            "Mounted at /content/drive\n",
            "0.7165888841747983 0.7584745762711864\n"
          ]
        },
        {
          "output_type": "display_data",
          "data": {
            "application/vnd.jupyter.widget-view+json": {
              "model_id": "cd6e40289db6427dbd7e5a46d64a7832",
              "version_minor": 0,
              "version_major": 2
            },
            "text/plain": [
              "  0%|          | 0/30 [00:00<?, ?it/s]"
            ]
          },
          "metadata": {}
        },
        {
          "output_type": "display_data",
          "data": {
            "application/vnd.jupyter.widget-view+json": {
              "model_id": "8ff45c7a1b55464daa2b41ed554533f4",
              "version_minor": 0,
              "version_major": 2
            },
            "text/plain": [
              "  0%|          | 0/8 [00:00<?, ?it/s]"
            ]
          },
          "metadata": {}
        },
        {
          "output_type": "stream",
          "name": "stdout",
          "text": [
            "Mounted at /content/drive\n",
            "0.7174374204497237 0.7351694915254237\n"
          ]
        },
        {
          "output_type": "display_data",
          "data": {
            "application/vnd.jupyter.widget-view+json": {
              "model_id": "61981292184c43deb8f0613fd1e5cb65",
              "version_minor": 0,
              "version_major": 2
            },
            "text/plain": [
              "  0%|          | 0/30 [00:00<?, ?it/s]"
            ]
          },
          "metadata": {}
        },
        {
          "output_type": "display_data",
          "data": {
            "application/vnd.jupyter.widget-view+json": {
              "model_id": "fd62f5ac51d44b41aca1aefcc3c025e3",
              "version_minor": 0,
              "version_major": 2
            },
            "text/plain": [
              "  0%|          | 0/8 [00:00<?, ?it/s]"
            ]
          },
          "metadata": {}
        },
        {
          "output_type": "stream",
          "name": "stdout",
          "text": [
            "Mounted at /content/drive\n",
            "0.7148918116249469 0.766949152542373\n"
          ]
        },
        {
          "output_type": "display_data",
          "data": {
            "application/vnd.jupyter.widget-view+json": {
              "model_id": "5e4b3e53746e4675b01bf0e7d2a8d215",
              "version_minor": 0,
              "version_major": 2
            },
            "text/plain": [
              "  0%|          | 0/30 [00:00<?, ?it/s]"
            ]
          },
          "metadata": {}
        },
        {
          "output_type": "display_data",
          "data": {
            "application/vnd.jupyter.widget-view+json": {
              "model_id": "d48b39b8326a4660be18f1ccaaaba9fd",
              "version_minor": 0,
              "version_major": 2
            },
            "text/plain": [
              "  0%|          | 0/8 [00:00<?, ?it/s]"
            ]
          },
          "metadata": {}
        },
        {
          "output_type": "stream",
          "name": "stdout",
          "text": [
            "Mounted at /content/drive\n",
            "0.7344081459482391 0.7627118644067797\n"
          ]
        },
        {
          "output_type": "display_data",
          "data": {
            "application/vnd.jupyter.widget-view+json": {
              "model_id": "7023cac3dbee4020a7b47f805e2161f7",
              "version_minor": 0,
              "version_major": 2
            },
            "text/plain": [
              "  0%|          | 0/30 [00:00<?, ?it/s]"
            ]
          },
          "metadata": {}
        },
        {
          "output_type": "display_data",
          "data": {
            "application/vnd.jupyter.widget-view+json": {
              "model_id": "da0049aa72194275aa3e69b12c95ce72",
              "version_minor": 0,
              "version_major": 2
            },
            "text/plain": [
              "  0%|          | 0/8 [00:00<?, ?it/s]"
            ]
          },
          "metadata": {}
        },
        {
          "output_type": "stream",
          "name": "stdout",
          "text": [
            "Mounted at /content/drive\n",
            "0.738226559185405 0.7690677966101696\n"
          ]
        },
        {
          "output_type": "display_data",
          "data": {
            "application/vnd.jupyter.widget-view+json": {
              "model_id": "af445396dc0d41038390b4ebd70c589d",
              "version_minor": 0,
              "version_major": 2
            },
            "text/plain": [
              "  0%|          | 0/30 [00:00<?, ?it/s]"
            ]
          },
          "metadata": {}
        },
        {
          "output_type": "display_data",
          "data": {
            "application/vnd.jupyter.widget-view+json": {
              "model_id": "619545e33c0c46009ef6cec7e76a4a8f",
              "version_minor": 0,
              "version_major": 2
            },
            "text/plain": [
              "  0%|          | 0/8 [00:00<?, ?it/s]"
            ]
          },
          "metadata": {}
        },
        {
          "output_type": "stream",
          "name": "stdout",
          "text": [
            "Mounted at /content/drive\n",
            "0.7305897327110732 0.7203389830508474\n"
          ]
        },
        {
          "output_type": "display_data",
          "data": {
            "application/vnd.jupyter.widget-view+json": {
              "model_id": "5778b7dd01bc43079683720b9db33abd",
              "version_minor": 0,
              "version_major": 2
            },
            "text/plain": [
              "  0%|          | 0/30 [00:00<?, ?it/s]"
            ]
          },
          "metadata": {}
        },
        {
          "output_type": "display_data",
          "data": {
            "application/vnd.jupyter.widget-view+json": {
              "model_id": "3bb819cb7b9848058e47250b3fabba63",
              "version_minor": 0,
              "version_major": 2
            },
            "text/plain": [
              "  0%|          | 0/8 [00:00<?, ?it/s]"
            ]
          },
          "metadata": {}
        },
        {
          "output_type": "stream",
          "name": "stdout",
          "text": [
            "Mounted at /content/drive\n",
            "0.7399236317352563 0.7627118644067797\n"
          ]
        },
        {
          "output_type": "display_data",
          "data": {
            "application/vnd.jupyter.widget-view+json": {
              "model_id": "3eb33b1c383645d9b65cb835c50640ae",
              "version_minor": 0,
              "version_major": 2
            },
            "text/plain": [
              "  0%|          | 0/30 [00:00<?, ?it/s]"
            ]
          },
          "metadata": {}
        },
        {
          "output_type": "display_data",
          "data": {
            "application/vnd.jupyter.widget-view+json": {
              "model_id": "13419f04101c4558b5871e681f1af073",
              "version_minor": 0,
              "version_major": 2
            },
            "text/plain": [
              "  0%|          | 0/8 [00:00<?, ?it/s]"
            ]
          },
          "metadata": {}
        },
        {
          "output_type": "stream",
          "name": "stdout",
          "text": [
            "Mounted at /content/drive\n",
            "0.7437420449724221 0.75\n"
          ]
        },
        {
          "output_type": "display_data",
          "data": {
            "application/vnd.jupyter.widget-view+json": {
              "model_id": "79c490c66d204aaaa2a492a07ab19984",
              "version_minor": 0,
              "version_major": 2
            },
            "text/plain": [
              "  0%|          | 0/30 [00:00<?, ?it/s]"
            ]
          },
          "metadata": {}
        },
        {
          "output_type": "display_data",
          "data": {
            "application/vnd.jupyter.widget-view+json": {
              "model_id": "c2eceb6a926a4f6c8c418519fe565968",
              "version_minor": 0,
              "version_major": 2
            },
            "text/plain": [
              "  0%|          | 0/8 [00:00<?, ?it/s]"
            ]
          },
          "metadata": {}
        },
        {
          "output_type": "stream",
          "name": "stdout",
          "text": [
            "Mounted at /content/drive\n",
            "0.7403478998727193 0.7754237288135593\n"
          ]
        },
        {
          "output_type": "display_data",
          "data": {
            "application/vnd.jupyter.widget-view+json": {
              "model_id": "7f0019b1a3414d9f83d049cadaee824d",
              "version_minor": 0,
              "version_major": 2
            },
            "text/plain": [
              "  0%|          | 0/30 [00:00<?, ?it/s]"
            ]
          },
          "metadata": {}
        },
        {
          "output_type": "display_data",
          "data": {
            "application/vnd.jupyter.widget-view+json": {
              "model_id": "cd6fa8f66a0c4c24a883e61fd01a0697",
              "version_minor": 0,
              "version_major": 2
            },
            "text/plain": [
              "  0%|          | 0/8 [00:00<?, ?it/s]"
            ]
          },
          "metadata": {}
        },
        {
          "output_type": "stream",
          "name": "stdout",
          "text": [
            "Mounted at /content/drive\n",
            "0.7594399660585488 0.7754237288135594\n"
          ]
        },
        {
          "output_type": "display_data",
          "data": {
            "application/vnd.jupyter.widget-view+json": {
              "model_id": "034fd70e8655488c8282623b921e1853",
              "version_minor": 0,
              "version_major": 2
            },
            "text/plain": [
              "  0%|          | 0/30 [00:00<?, ?it/s]"
            ]
          },
          "metadata": {}
        },
        {
          "output_type": "display_data",
          "data": {
            "application/vnd.jupyter.widget-view+json": {
              "model_id": "420379ccefd14619a3c52c7118b50143",
              "version_minor": 0,
              "version_major": 2
            },
            "text/plain": [
              "  0%|          | 0/8 [00:00<?, ?it/s]"
            ]
          },
          "metadata": {}
        },
        {
          "output_type": "stream",
          "name": "stdout",
          "text": [
            "Mounted at /content/drive\n",
            "0.7522274077216798 0.7542372881355932\n"
          ]
        },
        {
          "output_type": "display_data",
          "data": {
            "application/vnd.jupyter.widget-view+json": {
              "model_id": "1f761dd3abaf4e49b284bc49658d9468",
              "version_minor": 0,
              "version_major": 2
            },
            "text/plain": [
              "  0%|          | 0/30 [00:00<?, ?it/s]"
            ]
          },
          "metadata": {}
        },
        {
          "output_type": "display_data",
          "data": {
            "application/vnd.jupyter.widget-view+json": {
              "model_id": "b07ee5c381f14dc0a7a3b667c148bb19",
              "version_minor": 0,
              "version_major": 2
            },
            "text/plain": [
              "  0%|          | 0/8 [00:00<?, ?it/s]"
            ]
          },
          "metadata": {}
        },
        {
          "output_type": "stream",
          "name": "stdout",
          "text": [
            "Mounted at /content/drive\n",
            "0.7556215528213829 0.7521186440677965\n"
          ]
        },
        {
          "output_type": "display_data",
          "data": {
            "application/vnd.jupyter.widget-view+json": {
              "model_id": "e6f1b3667e8847d9b854947bd5748b72",
              "version_minor": 0,
              "version_major": 2
            },
            "text/plain": [
              "  0%|          | 0/30 [00:00<?, ?it/s]"
            ]
          },
          "metadata": {}
        },
        {
          "output_type": "display_data",
          "data": {
            "application/vnd.jupyter.widget-view+json": {
              "model_id": "fd897f6aeba74fd89f7a769cf072c2ec",
              "version_minor": 0,
              "version_major": 2
            },
            "text/plain": [
              "  0%|          | 0/8 [00:00<?, ?it/s]"
            ]
          },
          "metadata": {}
        },
        {
          "output_type": "stream",
          "name": "stdout",
          "text": [
            "Mounted at /content/drive\n",
            "0.7607127704709374 0.777542372881356\n"
          ]
        },
        {
          "output_type": "display_data",
          "data": {
            "application/vnd.jupyter.widget-view+json": {
              "model_id": "20dcf5da6e9748838dcc2cb854313755",
              "version_minor": 0,
              "version_major": 2
            },
            "text/plain": [
              "  0%|          | 0/30 [00:00<?, ?it/s]"
            ]
          },
          "metadata": {}
        },
        {
          "output_type": "display_data",
          "data": {
            "application/vnd.jupyter.widget-view+json": {
              "model_id": "4648c2be13a44be5a802b5c6529c2486",
              "version_minor": 0,
              "version_major": 2
            },
            "text/plain": [
              "  0%|          | 0/8 [00:00<?, ?it/s]"
            ]
          },
          "metadata": {}
        },
        {
          "output_type": "stream",
          "name": "stdout",
          "text": [
            "Mounted at /content/drive\n",
            "0.7658039881204918 0.7754237288135593\n"
          ]
        },
        {
          "output_type": "display_data",
          "data": {
            "application/vnd.jupyter.widget-view+json": {
              "model_id": "dee8586d2cac4a298ce9645219cfa357",
              "version_minor": 0,
              "version_major": 2
            },
            "text/plain": [
              "  0%|          | 0/30 [00:00<?, ?it/s]"
            ]
          },
          "metadata": {}
        },
        {
          "output_type": "display_data",
          "data": {
            "application/vnd.jupyter.widget-view+json": {
              "model_id": "8486080ffea44eb9b56961f17ce249cf",
              "version_minor": 0,
              "version_major": 2
            },
            "text/plain": [
              "  0%|          | 0/8 [00:00<?, ?it/s]"
            ]
          },
          "metadata": {}
        },
        {
          "output_type": "stream",
          "name": "stdout",
          "text": [
            "Mounted at /content/drive\n",
            "0.7564700890963085 0.7563559322033898\n"
          ]
        },
        {
          "output_type": "display_data",
          "data": {
            "application/vnd.jupyter.widget-view+json": {
              "model_id": "eadc976303ed444faecf8eb768a6c67c",
              "version_minor": 0,
              "version_major": 2
            },
            "text/plain": [
              "  0%|          | 0/30 [00:00<?, ?it/s]"
            ]
          },
          "metadata": {}
        },
        {
          "output_type": "display_data",
          "data": {
            "application/vnd.jupyter.widget-view+json": {
              "model_id": "feb9ae10fc554ccfb54ec4d0e493c5b4",
              "version_minor": 0,
              "version_major": 2
            },
            "text/plain": [
              "  0%|          | 0/8 [00:00<?, ?it/s]"
            ]
          },
          "metadata": {}
        },
        {
          "output_type": "stream",
          "name": "stdout",
          "text": [
            "Mounted at /content/drive\n",
            "0.7725922783198979 0.7923728813559322\n"
          ]
        },
        {
          "output_type": "display_data",
          "data": {
            "application/vnd.jupyter.widget-view+json": {
              "model_id": "7a735131f5984bdba34bc2eeab433bdc",
              "version_minor": 0,
              "version_major": 2
            },
            "text/plain": [
              "  0%|          | 0/30 [00:00<?, ?it/s]"
            ]
          },
          "metadata": {}
        },
        {
          "output_type": "display_data",
          "data": {
            "application/vnd.jupyter.widget-view+json": {
              "model_id": "9985ee7665b8457fbc5c5921cfe4d67e",
              "version_minor": 0,
              "version_major": 2
            },
            "text/plain": [
              "  0%|          | 0/8 [00:00<?, ?it/s]"
            ]
          },
          "metadata": {}
        },
        {
          "output_type": "stream",
          "name": "stdout",
          "text": [
            "Mounted at /content/drive\n",
            "0.7624098430207888 0.7902542372881357\n",
            "------------fold no---------1----------------------\n"
          ]
        },
        {
          "output_type": "display_data",
          "data": {
            "application/vnd.jupyter.widget-view+json": {
              "model_id": "283d1af874844b70aaf517a4ba9a05b8",
              "version_minor": 0,
              "version_major": 2
            },
            "text/plain": [
              "  0%|          | 0/30 [00:00<?, ?it/s]"
            ]
          },
          "metadata": {}
        },
        {
          "output_type": "display_data",
          "data": {
            "application/vnd.jupyter.widget-view+json": {
              "model_id": "21c043d7758d47b98d75832ab9b23090",
              "version_minor": 0,
              "version_major": 2
            },
            "text/plain": [
              "  0%|          | 0/8 [00:00<?, ?it/s]"
            ]
          },
          "metadata": {}
        },
        {
          "output_type": "stream",
          "name": "stdout",
          "text": [
            "Mounted at /content/drive\n",
            "0.10394569367840475 0.15677966101694918\n"
          ]
        },
        {
          "output_type": "display_data",
          "data": {
            "application/vnd.jupyter.widget-view+json": {
              "model_id": "d4d06801715941a59ce72b3a7df4d060",
              "version_minor": 0,
              "version_major": 2
            },
            "text/plain": [
              "  0%|          | 0/30 [00:00<?, ?it/s]"
            ]
          },
          "metadata": {}
        },
        {
          "output_type": "display_data",
          "data": {
            "application/vnd.jupyter.widget-view+json": {
              "model_id": "45e2d27fc380410583e9f541b1de39e1",
              "version_minor": 0,
              "version_major": 2
            },
            "text/plain": [
              "  0%|          | 0/8 [00:00<?, ?it/s]"
            ]
          },
          "metadata": {}
        },
        {
          "output_type": "stream",
          "name": "stdout",
          "text": [
            "Mounted at /content/drive\n",
            "0.14467543487484089 0.17796610169491525\n"
          ]
        },
        {
          "output_type": "display_data",
          "data": {
            "application/vnd.jupyter.widget-view+json": {
              "model_id": "3e2147f19a89476d9ce874f72c8adac4",
              "version_minor": 0,
              "version_major": 2
            },
            "text/plain": [
              "  0%|          | 0/30 [00:00<?, ?it/s]"
            ]
          },
          "metadata": {}
        },
        {
          "output_type": "display_data",
          "data": {
            "application/vnd.jupyter.widget-view+json": {
              "model_id": "0cded6e19a3f43368c683563b77876e1",
              "version_minor": 0,
              "version_major": 2
            },
            "text/plain": [
              "  0%|          | 0/8 [00:00<?, ?it/s]"
            ]
          },
          "metadata": {}
        },
        {
          "output_type": "stream",
          "name": "stdout",
          "text": [
            "Mounted at /content/drive\n",
            "0.16588884174798468 0.19703389830508475\n"
          ]
        },
        {
          "output_type": "display_data",
          "data": {
            "application/vnd.jupyter.widget-view+json": {
              "model_id": "beb7f21c9f0c4e61ba8f041c73a28601",
              "version_minor": 0,
              "version_major": 2
            },
            "text/plain": [
              "  0%|          | 0/30 [00:00<?, ?it/s]"
            ]
          },
          "metadata": {}
        },
        {
          "output_type": "display_data",
          "data": {
            "application/vnd.jupyter.widget-view+json": {
              "model_id": "269ec23d7ed44163aeef1d6b80b230ed",
              "version_minor": 0,
              "version_major": 2
            },
            "text/plain": [
              "  0%|          | 0/8 [00:00<?, ?it/s]"
            ]
          },
          "metadata": {}
        },
        {
          "output_type": "stream",
          "name": "stdout",
          "text": [
            "Mounted at /content/drive\n",
            "0.20704285108188375 0.2542372881355932\n"
          ]
        },
        {
          "output_type": "display_data",
          "data": {
            "application/vnd.jupyter.widget-view+json": {
              "model_id": "0aa7aae6dc7a47b7af572b80a2a566e7",
              "version_minor": 0,
              "version_major": 2
            },
            "text/plain": [
              "  0%|          | 0/30 [00:00<?, ?it/s]"
            ]
          },
          "metadata": {}
        },
        {
          "output_type": "display_data",
          "data": {
            "application/vnd.jupyter.widget-view+json": {
              "model_id": "1378088a0c4948b4924f769924f40657",
              "version_minor": 0,
              "version_major": 2
            },
            "text/plain": [
              "  0%|          | 0/8 [00:00<?, ?it/s]"
            ]
          },
          "metadata": {}
        },
        {
          "output_type": "stream",
          "name": "stdout",
          "text": [
            "Mounted at /content/drive\n",
            "0.2647433177768349 0.385593220338983\n"
          ]
        },
        {
          "output_type": "display_data",
          "data": {
            "application/vnd.jupyter.widget-view+json": {
              "model_id": "ea410a3f83884e618789ce60f60ef443",
              "version_minor": 0,
              "version_major": 2
            },
            "text/plain": [
              "  0%|          | 0/30 [00:00<?, ?it/s]"
            ]
          },
          "metadata": {}
        },
        {
          "output_type": "display_data",
          "data": {
            "application/vnd.jupyter.widget-view+json": {
              "model_id": "94318c27e385480fbe69cfedccb8606f",
              "version_minor": 0,
              "version_major": 2
            },
            "text/plain": [
              "  0%|          | 0/8 [00:00<?, ?it/s]"
            ]
          },
          "metadata": {}
        },
        {
          "output_type": "stream",
          "name": "stdout",
          "text": [
            "Mounted at /content/drive\n",
            "0.34450572761985576 0.4703389830508475\n"
          ]
        },
        {
          "output_type": "display_data",
          "data": {
            "application/vnd.jupyter.widget-view+json": {
              "model_id": "eb03a4d9567b47138a03afab20ba9a88",
              "version_minor": 0,
              "version_major": 2
            },
            "text/plain": [
              "  0%|          | 0/30 [00:00<?, ?it/s]"
            ]
          },
          "metadata": {}
        },
        {
          "output_type": "display_data",
          "data": {
            "application/vnd.jupyter.widget-view+json": {
              "model_id": "3dc75b81b0e343479b6288a47d535a8a",
              "version_minor": 0,
              "version_major": 2
            },
            "text/plain": [
              "  0%|          | 0/8 [00:00<?, ?it/s]"
            ]
          },
          "metadata": {}
        },
        {
          "output_type": "stream",
          "name": "stdout",
          "text": [
            "Mounted at /content/drive\n",
            "0.411964361476453 0.5190677966101694\n"
          ]
        },
        {
          "output_type": "display_data",
          "data": {
            "application/vnd.jupyter.widget-view+json": {
              "model_id": "732d9e514a084e88abcb6a6c2f37ebae",
              "version_minor": 0,
              "version_major": 2
            },
            "text/plain": [
              "  0%|          | 0/30 [00:00<?, ?it/s]"
            ]
          },
          "metadata": {}
        },
        {
          "output_type": "display_data",
          "data": {
            "application/vnd.jupyter.widget-view+json": {
              "model_id": "ee12d8e02b2449ab99b03eacc48d75f8",
              "version_minor": 0,
              "version_major": 2
            },
            "text/plain": [
              "  0%|          | 0/8 [00:00<?, ?it/s]"
            ]
          },
          "metadata": {}
        },
        {
          "output_type": "stream",
          "name": "stdout",
          "text": [
            "Mounted at /content/drive\n",
            "0.4378447178616886 0.516949152542373\n"
          ]
        },
        {
          "output_type": "display_data",
          "data": {
            "application/vnd.jupyter.widget-view+json": {
              "model_id": "c47acf1ef1eb41388a988af0cf88569f",
              "version_minor": 0,
              "version_major": 2
            },
            "text/plain": [
              "  0%|          | 0/30 [00:00<?, ?it/s]"
            ]
          },
          "metadata": {}
        },
        {
          "output_type": "display_data",
          "data": {
            "application/vnd.jupyter.widget-view+json": {
              "model_id": "30b78eb3e85d4bb18278f40eed8210e6",
              "version_minor": 0,
              "version_major": 2
            },
            "text/plain": [
              "  0%|          | 0/8 [00:00<?, ?it/s]"
            ]
          },
          "metadata": {}
        },
        {
          "output_type": "stream",
          "name": "stdout",
          "text": [
            "Mounted at /content/drive\n",
            "0.4819686041578279 0.5868644067796611\n"
          ]
        },
        {
          "output_type": "display_data",
          "data": {
            "application/vnd.jupyter.widget-view+json": {
              "model_id": "c97fc919796141d7a8aa284d917c9f61",
              "version_minor": 0,
              "version_major": 2
            },
            "text/plain": [
              "  0%|          | 0/30 [00:00<?, ?it/s]"
            ]
          },
          "metadata": {}
        },
        {
          "output_type": "display_data",
          "data": {
            "application/vnd.jupyter.widget-view+json": {
              "model_id": "92136fedaf2e4608aa91d7d24fa0fdb6",
              "version_minor": 0,
              "version_major": 2
            },
            "text/plain": [
              "  0%|          | 0/8 [00:00<?, ?it/s]"
            ]
          },
          "metadata": {}
        },
        {
          "output_type": "stream",
          "name": "stdout",
          "text": [
            "Mounted at /content/drive\n",
            "0.5057276198557488 0.6588983050847458\n"
          ]
        },
        {
          "output_type": "display_data",
          "data": {
            "application/vnd.jupyter.widget-view+json": {
              "model_id": "a71d306b9a824533a9e06a5c3cab285c",
              "version_minor": 0,
              "version_major": 2
            },
            "text/plain": [
              "  0%|          | 0/30 [00:00<?, ?it/s]"
            ]
          },
          "metadata": {}
        },
        {
          "output_type": "display_data",
          "data": {
            "application/vnd.jupyter.widget-view+json": {
              "model_id": "9b587b7bcd414a40a32dc3527b05e437",
              "version_minor": 0,
              "version_major": 2
            },
            "text/plain": [
              "  0%|          | 0/8 [00:00<?, ?it/s]"
            ]
          },
          "metadata": {}
        },
        {
          "output_type": "stream",
          "name": "stdout",
          "text": [
            "Mounted at /content/drive\n",
            "0.5383962664403902 0.6716101694915254\n"
          ]
        },
        {
          "output_type": "display_data",
          "data": {
            "application/vnd.jupyter.widget-view+json": {
              "model_id": "480365c99ec94b8ba13ae61d1788e04f",
              "version_minor": 0,
              "version_major": 2
            },
            "text/plain": [
              "  0%|          | 0/30 [00:00<?, ?it/s]"
            ]
          },
          "metadata": {}
        },
        {
          "output_type": "display_data",
          "data": {
            "application/vnd.jupyter.widget-view+json": {
              "model_id": "a125c4bd481c498ba29c3e3864ab24ac",
              "version_minor": 0,
              "version_major": 2
            },
            "text/plain": [
              "  0%|          | 0/8 [00:00<?, ?it/s]"
            ]
          },
          "metadata": {}
        },
        {
          "output_type": "stream",
          "name": "stdout",
          "text": [
            "Mounted at /content/drive\n",
            "0.5630038184132371 0.6504237288135593\n"
          ]
        },
        {
          "output_type": "display_data",
          "data": {
            "application/vnd.jupyter.widget-view+json": {
              "model_id": "fdf353c732e847cdbd3a3eade600a144",
              "version_minor": 0,
              "version_major": 2
            },
            "text/plain": [
              "  0%|          | 0/30 [00:00<?, ?it/s]"
            ]
          },
          "metadata": {}
        },
        {
          "output_type": "display_data",
          "data": {
            "application/vnd.jupyter.widget-view+json": {
              "model_id": "7d9d054a8f9a4156b3a5ce93d147c40d",
              "version_minor": 0,
              "version_major": 2
            },
            "text/plain": [
              "  0%|          | 0/8 [00:00<?, ?it/s]"
            ]
          },
          "metadata": {}
        },
        {
          "output_type": "stream",
          "name": "stdout",
          "text": [
            "Mounted at /content/drive\n",
            "0.5736105218498092 0.6949152542372882\n"
          ]
        },
        {
          "output_type": "display_data",
          "data": {
            "application/vnd.jupyter.widget-view+json": {
              "model_id": "9f242f4481cf43ebba26dde9dfd8258d",
              "version_minor": 0,
              "version_major": 2
            },
            "text/plain": [
              "  0%|          | 0/30 [00:00<?, ?it/s]"
            ]
          },
          "metadata": {}
        },
        {
          "output_type": "display_data",
          "data": {
            "application/vnd.jupyter.widget-view+json": {
              "model_id": "04c775d5b3074c60977bbdd782bd481a",
              "version_minor": 0,
              "version_major": 2
            },
            "text/plain": [
              "  0%|          | 0/8 [00:00<?, ?it/s]"
            ]
          },
          "metadata": {}
        },
        {
          "output_type": "stream",
          "name": "stdout",
          "text": [
            "Mounted at /content/drive\n",
            "0.5948239287229529 0.7076271186440678\n"
          ]
        },
        {
          "output_type": "display_data",
          "data": {
            "application/vnd.jupyter.widget-view+json": {
              "model_id": "309489b3cf1345b98a735270277b3c1a",
              "version_minor": 0,
              "version_major": 2
            },
            "text/plain": [
              "  0%|          | 0/30 [00:00<?, ?it/s]"
            ]
          },
          "metadata": {}
        },
        {
          "output_type": "display_data",
          "data": {
            "application/vnd.jupyter.widget-view+json": {
              "model_id": "a31bd423933d48ddb969d0c19ac1bd17",
              "version_minor": 0,
              "version_major": 2
            },
            "text/plain": [
              "  0%|          | 0/8 [00:00<?, ?it/s]"
            ]
          },
          "metadata": {}
        },
        {
          "output_type": "stream",
          "name": "stdout",
          "text": [
            "Mounted at /content/drive\n",
            "0.6126431904963938 0.7139830508474577\n"
          ]
        },
        {
          "output_type": "display_data",
          "data": {
            "application/vnd.jupyter.widget-view+json": {
              "model_id": "9f435149040048589945056a4a296c3a",
              "version_minor": 0,
              "version_major": 2
            },
            "text/plain": [
              "  0%|          | 0/30 [00:00<?, ?it/s]"
            ]
          },
          "metadata": {}
        },
        {
          "output_type": "display_data",
          "data": {
            "application/vnd.jupyter.widget-view+json": {
              "model_id": "be632df2dece4014809c37b9c182ba80",
              "version_minor": 0,
              "version_major": 2
            },
            "text/plain": [
              "  0%|          | 0/8 [00:00<?, ?it/s]"
            ]
          },
          "metadata": {}
        },
        {
          "output_type": "stream",
          "name": "stdout",
          "text": [
            "Mounted at /content/drive\n",
            "0.6351294017819261 0.7097457627118644\n"
          ]
        },
        {
          "output_type": "display_data",
          "data": {
            "application/vnd.jupyter.widget-view+json": {
              "model_id": "9ccb5c51e4244913a4bc7593ebca1aae",
              "version_minor": 0,
              "version_major": 2
            },
            "text/plain": [
              "  0%|          | 0/30 [00:00<?, ?it/s]"
            ]
          },
          "metadata": {}
        },
        {
          "output_type": "display_data",
          "data": {
            "application/vnd.jupyter.widget-view+json": {
              "model_id": "adcbde4980f0428991fce4fa0d3523c8",
              "version_minor": 0,
              "version_major": 2
            },
            "text/plain": [
              "  0%|          | 0/8 [00:00<?, ?it/s]"
            ]
          },
          "metadata": {}
        },
        {
          "output_type": "stream",
          "name": "stdout",
          "text": [
            "Mounted at /content/drive\n",
            "0.6393720831565549 0.6694915254237288\n"
          ]
        },
        {
          "output_type": "display_data",
          "data": {
            "application/vnd.jupyter.widget-view+json": {
              "model_id": "034a6a05a2174e118c595c15731c6c81",
              "version_minor": 0,
              "version_major": 2
            },
            "text/plain": [
              "  0%|          | 0/30 [00:00<?, ?it/s]"
            ]
          },
          "metadata": {}
        },
        {
          "output_type": "display_data",
          "data": {
            "application/vnd.jupyter.widget-view+json": {
              "model_id": "8ff723cd0d994320aeada737b7926bda",
              "version_minor": 0,
              "version_major": 2
            },
            "text/plain": [
              "  0%|          | 0/8 [00:00<?, ?it/s]"
            ]
          },
          "metadata": {}
        },
        {
          "output_type": "stream",
          "name": "stdout",
          "text": [
            "Mounted at /content/drive\n",
            "0.65931268561731 0.7076271186440678\n"
          ]
        },
        {
          "output_type": "display_data",
          "data": {
            "application/vnd.jupyter.widget-view+json": {
              "model_id": "e75c42a17dc24bce8ce0e9d14210f424",
              "version_minor": 0,
              "version_major": 2
            },
            "text/plain": [
              "  0%|          | 0/30 [00:00<?, ?it/s]"
            ]
          },
          "metadata": {}
        },
        {
          "output_type": "display_data",
          "data": {
            "application/vnd.jupyter.widget-view+json": {
              "model_id": "9d745a5c3d5a4907a46a0ee501a74050",
              "version_minor": 0,
              "version_major": 2
            },
            "text/plain": [
              "  0%|          | 0/8 [00:00<?, ?it/s]"
            ]
          },
          "metadata": {}
        },
        {
          "output_type": "stream",
          "name": "stdout",
          "text": [
            "Mounted at /content/drive\n",
            "0.6669495120916418 0.722457627118644\n"
          ]
        },
        {
          "output_type": "display_data",
          "data": {
            "application/vnd.jupyter.widget-view+json": {
              "model_id": "636e8a5fdff04fd8a36503e63185db58",
              "version_minor": 0,
              "version_major": 2
            },
            "text/plain": [
              "  0%|          | 0/30 [00:00<?, ?it/s]"
            ]
          },
          "metadata": {}
        },
        {
          "output_type": "display_data",
          "data": {
            "application/vnd.jupyter.widget-view+json": {
              "model_id": "9cb7e05c560a4dc79e3ba1267f2fe464",
              "version_minor": 0,
              "version_major": 2
            },
            "text/plain": [
              "  0%|          | 0/8 [00:00<?, ?it/s]"
            ]
          },
          "metadata": {}
        },
        {
          "output_type": "stream",
          "name": "stdout",
          "text": [
            "Mounted at /content/drive\n",
            "0.6669495120916419 0.7330508474576272\n"
          ]
        },
        {
          "output_type": "display_data",
          "data": {
            "application/vnd.jupyter.widget-view+json": {
              "model_id": "08527d06f7704a51a241a2918bb1187b",
              "version_minor": 0,
              "version_major": 2
            },
            "text/plain": [
              "  0%|          | 0/30 [00:00<?, ?it/s]"
            ]
          },
          "metadata": {}
        },
        {
          "output_type": "display_data",
          "data": {
            "application/vnd.jupyter.widget-view+json": {
              "model_id": "51aa7f0c00e044a5ab55048749c07283",
              "version_minor": 0,
              "version_major": 2
            },
            "text/plain": [
              "  0%|          | 0/8 [00:00<?, ?it/s]"
            ]
          },
          "metadata": {}
        },
        {
          "output_type": "stream",
          "name": "stdout",
          "text": [
            "Mounted at /content/drive\n",
            "0.6703436571913447 0.7415254237288135\n"
          ]
        },
        {
          "output_type": "display_data",
          "data": {
            "application/vnd.jupyter.widget-view+json": {
              "model_id": "76b48127c41e4e2c85d953b0b1d1a452",
              "version_minor": 0,
              "version_major": 2
            },
            "text/plain": [
              "  0%|          | 0/30 [00:00<?, ?it/s]"
            ]
          },
          "metadata": {}
        },
        {
          "output_type": "display_data",
          "data": {
            "application/vnd.jupyter.widget-view+json": {
              "model_id": "f6f1b2f2bd1b4017a3afce6e0e4971e5",
              "version_minor": 0,
              "version_major": 2
            },
            "text/plain": [
              "  0%|          | 0/8 [00:00<?, ?it/s]"
            ]
          },
          "metadata": {}
        },
        {
          "output_type": "stream",
          "name": "stdout",
          "text": [
            "Mounted at /content/drive\n",
            "0.6868901145523968 0.7542372881355933\n"
          ]
        },
        {
          "output_type": "display_data",
          "data": {
            "application/vnd.jupyter.widget-view+json": {
              "model_id": "6d5a057753c4493091be85d04453716b",
              "version_minor": 0,
              "version_major": 2
            },
            "text/plain": [
              "  0%|          | 0/30 [00:00<?, ?it/s]"
            ]
          },
          "metadata": {}
        },
        {
          "output_type": "display_data",
          "data": {
            "application/vnd.jupyter.widget-view+json": {
              "model_id": "90f3bd88bff149d891d37483daa6c6c6",
              "version_minor": 0,
              "version_major": 2
            },
            "text/plain": [
              "  0%|          | 0/8 [00:00<?, ?it/s]"
            ]
          },
          "metadata": {}
        },
        {
          "output_type": "stream",
          "name": "stdout",
          "text": [
            "Mounted at /content/drive\n",
            "0.6991938905388202 0.7436440677966102\n"
          ]
        },
        {
          "output_type": "display_data",
          "data": {
            "application/vnd.jupyter.widget-view+json": {
              "model_id": "1c4993ba66684776908caa8bb86107af",
              "version_minor": 0,
              "version_major": 2
            },
            "text/plain": [
              "  0%|          | 0/30 [00:00<?, ?it/s]"
            ]
          },
          "metadata": {}
        },
        {
          "output_type": "display_data",
          "data": {
            "application/vnd.jupyter.widget-view+json": {
              "model_id": "2245e70e3cca45299759fdf0ef419503",
              "version_minor": 0,
              "version_major": 2
            },
            "text/plain": [
              "  0%|          | 0/8 [00:00<?, ?it/s]"
            ]
          },
          "metadata": {}
        },
        {
          "output_type": "stream",
          "name": "stdout",
          "text": [
            "Mounted at /content/drive\n",
            "0.7119219346627066 0.7288135593220338\n"
          ]
        },
        {
          "output_type": "display_data",
          "data": {
            "application/vnd.jupyter.widget-view+json": {
              "model_id": "b2c3906de5284d3888d29d0842465b46",
              "version_minor": 0,
              "version_major": 2
            },
            "text/plain": [
              "  0%|          | 0/30 [00:00<?, ?it/s]"
            ]
          },
          "metadata": {}
        },
        {
          "output_type": "display_data",
          "data": {
            "application/vnd.jupyter.widget-view+json": {
              "model_id": "18b8822480544434999d6cd306992514",
              "version_minor": 0,
              "version_major": 2
            },
            "text/plain": [
              "  0%|          | 0/8 [00:00<?, ?it/s]"
            ]
          },
          "metadata": {}
        },
        {
          "output_type": "stream",
          "name": "stdout",
          "text": [
            "Mounted at /content/drive\n",
            "0.7157403478998725 0.7415254237288137\n"
          ]
        },
        {
          "output_type": "display_data",
          "data": {
            "application/vnd.jupyter.widget-view+json": {
              "model_id": "47af4cac066c4c258c1ada2b4976ff07",
              "version_minor": 0,
              "version_major": 2
            },
            "text/plain": [
              "  0%|          | 0/30 [00:00<?, ?it/s]"
            ]
          },
          "metadata": {}
        },
        {
          "output_type": "display_data",
          "data": {
            "application/vnd.jupyter.widget-view+json": {
              "model_id": "b6f4272c2a4a48169a3f2e6575d40a90",
              "version_minor": 0,
              "version_major": 2
            },
            "text/plain": [
              "  0%|          | 0/8 [00:00<?, ?it/s]"
            ]
          },
          "metadata": {}
        },
        {
          "output_type": "stream",
          "name": "stdout",
          "text": [
            "Mounted at /content/drive\n",
            "0.7051336444633004 0.7309322033898306\n"
          ]
        },
        {
          "output_type": "display_data",
          "data": {
            "application/vnd.jupyter.widget-view+json": {
              "model_id": "0804614f14e842f4ad2cbeb68e322d45",
              "version_minor": 0,
              "version_major": 2
            },
            "text/plain": [
              "  0%|          | 0/30 [00:00<?, ?it/s]"
            ]
          },
          "metadata": {}
        },
        {
          "output_type": "display_data",
          "data": {
            "application/vnd.jupyter.widget-view+json": {
              "model_id": "5262e896114748d8a1f782351124c082",
              "version_minor": 0,
              "version_major": 2
            },
            "text/plain": [
              "  0%|          | 0/8 [00:00<?, ?it/s]"
            ]
          },
          "metadata": {}
        },
        {
          "output_type": "stream",
          "name": "stdout",
          "text": [
            "Mounted at /content/drive\n",
            "0.7047093763258377 0.7605932203389831\n"
          ]
        },
        {
          "output_type": "display_data",
          "data": {
            "application/vnd.jupyter.widget-view+json": {
              "model_id": "2df78b19edeb41909c562f6cbcaa6e78",
              "version_minor": 0,
              "version_major": 2
            },
            "text/plain": [
              "  0%|          | 0/30 [00:00<?, ?it/s]"
            ]
          },
          "metadata": {}
        },
        {
          "output_type": "display_data",
          "data": {
            "application/vnd.jupyter.widget-view+json": {
              "model_id": "e6f76e8930e143a7b0e41e41ee8142b8",
              "version_minor": 0,
              "version_major": 2
            },
            "text/plain": [
              "  0%|          | 0/8 [00:00<?, ?it/s]"
            ]
          },
          "metadata": {}
        },
        {
          "output_type": "stream",
          "name": "stdout",
          "text": [
            "Mounted at /content/drive\n",
            "0.7263470513364444 0.7690677966101694\n"
          ]
        },
        {
          "output_type": "display_data",
          "data": {
            "application/vnd.jupyter.widget-view+json": {
              "model_id": "a515da38cced41bba3413145192fcb61",
              "version_minor": 0,
              "version_major": 2
            },
            "text/plain": [
              "  0%|          | 0/30 [00:00<?, ?it/s]"
            ]
          },
          "metadata": {}
        },
        {
          "output_type": "display_data",
          "data": {
            "application/vnd.jupyter.widget-view+json": {
              "model_id": "2f1a44c4e8484256aa9566a3c72d63b5",
              "version_minor": 0,
              "version_major": 2
            },
            "text/plain": [
              "  0%|          | 0/8 [00:00<?, ?it/s]"
            ]
          },
          "metadata": {}
        },
        {
          "output_type": "stream",
          "name": "stdout",
          "text": [
            "Mounted at /content/drive\n",
            "0.7492575307594396 0.7817796610169492\n"
          ]
        },
        {
          "output_type": "display_data",
          "data": {
            "application/vnd.jupyter.widget-view+json": {
              "model_id": "2c55b250575b4c4193fba4f13711188a",
              "version_minor": 0,
              "version_major": 2
            },
            "text/plain": [
              "  0%|          | 0/30 [00:00<?, ?it/s]"
            ]
          },
          "metadata": {}
        },
        {
          "output_type": "display_data",
          "data": {
            "application/vnd.jupyter.widget-view+json": {
              "model_id": "3a34b0a791664ac0baefbb5ccb3a1094",
              "version_minor": 0,
              "version_major": 2
            },
            "text/plain": [
              "  0%|          | 0/8 [00:00<?, ?it/s]"
            ]
          },
          "metadata": {}
        },
        {
          "output_type": "stream",
          "name": "stdout",
          "text": [
            "Mounted at /content/drive\n",
            "0.7543487484089941 0.7605932203389829\n"
          ]
        },
        {
          "output_type": "display_data",
          "data": {
            "application/vnd.jupyter.widget-view+json": {
              "model_id": "54000c794bd4444a94090c74d9a38b05",
              "version_minor": 0,
              "version_major": 2
            },
            "text/plain": [
              "  0%|          | 0/30 [00:00<?, ?it/s]"
            ]
          },
          "metadata": {}
        },
        {
          "output_type": "display_data",
          "data": {
            "application/vnd.jupyter.widget-view+json": {
              "model_id": "416993c63ec34e9f8382e32665b67260",
              "version_minor": 0,
              "version_major": 2
            },
            "text/plain": [
              "  0%|          | 0/8 [00:00<?, ?it/s]"
            ]
          },
          "metadata": {}
        },
        {
          "output_type": "stream",
          "name": "stdout",
          "text": [
            "Mounted at /content/drive\n",
            "0.7288926601612216 0.7733050847457628\n"
          ]
        },
        {
          "output_type": "display_data",
          "data": {
            "application/vnd.jupyter.widget-view+json": {
              "model_id": "b89d949798254b56b83535b7671a7a71",
              "version_minor": 0,
              "version_major": 2
            },
            "text/plain": [
              "  0%|          | 0/30 [00:00<?, ?it/s]"
            ]
          },
          "metadata": {}
        },
        {
          "output_type": "display_data",
          "data": {
            "application/vnd.jupyter.widget-view+json": {
              "model_id": "671a1633c3414590b43f61de297de529",
              "version_minor": 0,
              "version_major": 2
            },
            "text/plain": [
              "  0%|          | 0/8 [00:00<?, ?it/s]"
            ]
          },
          "metadata": {}
        },
        {
          "output_type": "stream",
          "name": "stdout",
          "text": [
            "Mounted at /content/drive\n",
            "0.7445905812473482 0.7499999999999999\n"
          ]
        },
        {
          "output_type": "display_data",
          "data": {
            "application/vnd.jupyter.widget-view+json": {
              "model_id": "f95601990f6d41f38ba939070bf5ffb3",
              "version_minor": 0,
              "version_major": 2
            },
            "text/plain": [
              "  0%|          | 0/30 [00:00<?, ?it/s]"
            ]
          },
          "metadata": {}
        },
        {
          "output_type": "display_data",
          "data": {
            "application/vnd.jupyter.widget-view+json": {
              "model_id": "c5f8cc939c1c4292842178a680e0ae73",
              "version_minor": 0,
              "version_major": 2
            },
            "text/plain": [
              "  0%|          | 0/8 [00:00<?, ?it/s]"
            ]
          },
          "metadata": {}
        },
        {
          "output_type": "stream",
          "name": "stdout",
          "text": [
            "Mounted at /content/drive\n",
            "0.7522274077216798 0.7775423728813559\n"
          ]
        },
        {
          "output_type": "display_data",
          "data": {
            "application/vnd.jupyter.widget-view+json": {
              "model_id": "4f066cd864274489822b69d91731e670",
              "version_minor": 0,
              "version_major": 2
            },
            "text/plain": [
              "  0%|          | 0/30 [00:00<?, ?it/s]"
            ]
          },
          "metadata": {}
        },
        {
          "output_type": "display_data",
          "data": {
            "application/vnd.jupyter.widget-view+json": {
              "model_id": "3e3cb858d10c468581ee382980b5046d",
              "version_minor": 0,
              "version_major": 2
            },
            "text/plain": [
              "  0%|          | 0/8 [00:00<?, ?it/s]"
            ]
          },
          "metadata": {}
        },
        {
          "output_type": "stream",
          "name": "stdout",
          "text": [
            "Mounted at /content/drive\n",
            "0.7607127704709372 0.7944915254237288\n"
          ]
        },
        {
          "output_type": "display_data",
          "data": {
            "application/vnd.jupyter.widget-view+json": {
              "model_id": "4c710dfbaf014d6a86f453550343e07f",
              "version_minor": 0,
              "version_major": 2
            },
            "text/plain": [
              "  0%|          | 0/30 [00:00<?, ?it/s]"
            ]
          },
          "metadata": {}
        },
        {
          "output_type": "display_data",
          "data": {
            "application/vnd.jupyter.widget-view+json": {
              "model_id": "fcceba499ca6469783ce1b6135739b75",
              "version_minor": 0,
              "version_major": 2
            },
            "text/plain": [
              "  0%|          | 0/8 [00:00<?, ?it/s]"
            ]
          },
          "metadata": {}
        },
        {
          "output_type": "stream",
          "name": "stdout",
          "text": [
            "Mounted at /content/drive\n",
            "0.7573186253712342 0.7542372881355931\n"
          ]
        },
        {
          "output_type": "display_data",
          "data": {
            "application/vnd.jupyter.widget-view+json": {
              "model_id": "2a94cba6e0734d01b63e4cef0c50674a",
              "version_minor": 0,
              "version_major": 2
            },
            "text/plain": [
              "  0%|          | 0/30 [00:00<?, ?it/s]"
            ]
          },
          "metadata": {}
        },
        {
          "output_type": "display_data",
          "data": {
            "application/vnd.jupyter.widget-view+json": {
              "model_id": "62989166fe37415383491d71caa1501e",
              "version_minor": 0,
              "version_major": 2
            },
            "text/plain": [
              "  0%|          | 0/8 [00:00<?, ?it/s]"
            ]
          },
          "metadata": {}
        },
        {
          "output_type": "stream",
          "name": "stdout",
          "text": [
            "Mounted at /content/drive\n",
            "0.7607127704709374 0.766949152542373\n"
          ]
        },
        {
          "output_type": "display_data",
          "data": {
            "application/vnd.jupyter.widget-view+json": {
              "model_id": "da75baa34dea463ba0e81a5b309ddddc",
              "version_minor": 0,
              "version_major": 2
            },
            "text/plain": [
              "  0%|          | 0/30 [00:00<?, ?it/s]"
            ]
          },
          "metadata": {}
        },
        {
          "output_type": "display_data",
          "data": {
            "application/vnd.jupyter.widget-view+json": {
              "model_id": "b9ba2b3b4db240d09db6dc30c9fdc2ed",
              "version_minor": 0,
              "version_major": 2
            },
            "text/plain": [
              "  0%|          | 0/8 [00:00<?, ?it/s]"
            ]
          },
          "metadata": {}
        },
        {
          "output_type": "stream",
          "name": "stdout",
          "text": [
            "Mounted at /content/drive\n",
            "0.7653797199830289 0.7754237288135594\n"
          ]
        },
        {
          "output_type": "display_data",
          "data": {
            "application/vnd.jupyter.widget-view+json": {
              "model_id": "7c94962a4ce1412cb278b4070440a187",
              "version_minor": 0,
              "version_major": 2
            },
            "text/plain": [
              "  0%|          | 0/30 [00:00<?, ?it/s]"
            ]
          },
          "metadata": {}
        },
        {
          "output_type": "display_data",
          "data": {
            "application/vnd.jupyter.widget-view+json": {
              "model_id": "d66ed711d86e47a2800f201b0bc00afb",
              "version_minor": 0,
              "version_major": 2
            },
            "text/plain": [
              "  0%|          | 0/8 [00:00<?, ?it/s]"
            ]
          },
          "metadata": {}
        },
        {
          "output_type": "stream",
          "name": "stdout",
          "text": [
            "Mounted at /content/drive\n",
            "0.7675010606703433 0.7754237288135593\n"
          ]
        },
        {
          "output_type": "display_data",
          "data": {
            "application/vnd.jupyter.widget-view+json": {
              "model_id": "ef58a21758634b67b432773380613625",
              "version_minor": 0,
              "version_major": 2
            },
            "text/plain": [
              "  0%|          | 0/30 [00:00<?, ?it/s]"
            ]
          },
          "metadata": {}
        },
        {
          "output_type": "display_data",
          "data": {
            "application/vnd.jupyter.widget-view+json": {
              "model_id": "dfe788702b6748d98f705e0ad8c15d7e",
              "version_minor": 0,
              "version_major": 2
            },
            "text/plain": [
              "  0%|          | 0/8 [00:00<?, ?it/s]"
            ]
          },
          "metadata": {}
        },
        {
          "output_type": "stream",
          "name": "stdout",
          "text": [
            "Mounted at /content/drive\n",
            "0.7704709376325835 0.788135593220339\n"
          ]
        },
        {
          "output_type": "display_data",
          "data": {
            "application/vnd.jupyter.widget-view+json": {
              "model_id": "39644e5d3a224232a7e18c90d7485cf1",
              "version_minor": 0,
              "version_major": 2
            },
            "text/plain": [
              "  0%|          | 0/30 [00:00<?, ?it/s]"
            ]
          },
          "metadata": {}
        },
        {
          "output_type": "display_data",
          "data": {
            "application/vnd.jupyter.widget-view+json": {
              "model_id": "e8cf7625aad040b09fe63a13afea9bca",
              "version_minor": 0,
              "version_major": 2
            },
            "text/plain": [
              "  0%|          | 0/8 [00:00<?, ?it/s]"
            ]
          },
          "metadata": {}
        },
        {
          "output_type": "stream",
          "name": "stdout",
          "text": [
            "Mounted at /content/drive\n",
            "0.7543487484089941 0.7860169491525425\n",
            "------------fold no---------2----------------------\n"
          ]
        },
        {
          "output_type": "display_data",
          "data": {
            "application/vnd.jupyter.widget-view+json": {
              "model_id": "4e529b6bc62c40ae9aab6f08a4bfdd99",
              "version_minor": 0,
              "version_major": 2
            },
            "text/plain": [
              "  0%|          | 0/30 [00:00<?, ?it/s]"
            ]
          },
          "metadata": {}
        },
        {
          "output_type": "display_data",
          "data": {
            "application/vnd.jupyter.widget-view+json": {
              "model_id": "38905224a7f145158e9ca15173c82e44",
              "version_minor": 0,
              "version_major": 2
            },
            "text/plain": [
              "  0%|          | 0/8 [00:00<?, ?it/s]"
            ]
          },
          "metadata": {}
        },
        {
          "output_type": "stream",
          "name": "stdout",
          "text": [
            "Mounted at /content/drive\n",
            "0.1137038608400509 0.17834394904458598\n"
          ]
        },
        {
          "output_type": "display_data",
          "data": {
            "application/vnd.jupyter.widget-view+json": {
              "model_id": "6cf87b5ca83c42e6a4723dcfad51ef5c",
              "version_minor": 0,
              "version_major": 2
            },
            "text/plain": [
              "  0%|          | 0/30 [00:00<?, ?it/s]"
            ]
          },
          "metadata": {}
        },
        {
          "output_type": "display_data",
          "data": {
            "application/vnd.jupyter.widget-view+json": {
              "model_id": "15e0ad5f5bc6456882019bcd570f824c",
              "version_minor": 0,
              "version_major": 2
            },
            "text/plain": [
              "  0%|          | 0/8 [00:00<?, ?it/s]"
            ]
          },
          "metadata": {}
        },
        {
          "output_type": "stream",
          "name": "stdout",
          "text": [
            "Mounted at /content/drive\n",
            "0.13279592702588033 0.18471337579617833\n"
          ]
        },
        {
          "output_type": "display_data",
          "data": {
            "application/vnd.jupyter.widget-view+json": {
              "model_id": "08f056150d2f4c86b1911d609d226237",
              "version_minor": 0,
              "version_major": 2
            },
            "text/plain": [
              "  0%|          | 0/30 [00:00<?, ?it/s]"
            ]
          },
          "metadata": {}
        },
        {
          "output_type": "display_data",
          "data": {
            "application/vnd.jupyter.widget-view+json": {
              "model_id": "f3b55c260b7a4c3590286ab6e0e7d9ef",
              "version_minor": 0,
              "version_major": 2
            },
            "text/plain": [
              "  0%|          | 0/8 [00:00<?, ?it/s]"
            ]
          },
          "metadata": {}
        },
        {
          "output_type": "stream",
          "name": "stdout",
          "text": [
            "Mounted at /content/drive\n",
            "0.14340263046245225 0.2038216560509554\n"
          ]
        },
        {
          "output_type": "display_data",
          "data": {
            "application/vnd.jupyter.widget-view+json": {
              "model_id": "f2f1f67be2374a1a9346f13577938b73",
              "version_minor": 0,
              "version_major": 2
            },
            "text/plain": [
              "  0%|          | 0/30 [00:00<?, ?it/s]"
            ]
          },
          "metadata": {}
        },
        {
          "output_type": "display_data",
          "data": {
            "application/vnd.jupyter.widget-view+json": {
              "model_id": "2be4e68ab6c84abfa40af7b2c979e6d2",
              "version_minor": 0,
              "version_major": 2
            },
            "text/plain": [
              "  0%|          | 0/8 [00:00<?, ?it/s]"
            ]
          },
          "metadata": {}
        },
        {
          "output_type": "stream",
          "name": "stdout",
          "text": [
            "Mounted at /content/drive\n",
            "0.16673737802291047 0.23779193205944796\n"
          ]
        },
        {
          "output_type": "display_data",
          "data": {
            "application/vnd.jupyter.widget-view+json": {
              "model_id": "901b58cc0d6c4088913aa6c4734639c0",
              "version_minor": 0,
              "version_major": 2
            },
            "text/plain": [
              "  0%|          | 0/30 [00:00<?, ?it/s]"
            ]
          },
          "metadata": {}
        },
        {
          "output_type": "display_data",
          "data": {
            "application/vnd.jupyter.widget-view+json": {
              "model_id": "c89f1478f6a3435f9cbff65a4adfc8f7",
              "version_minor": 0,
              "version_major": 2
            },
            "text/plain": [
              "  0%|          | 0/8 [00:00<?, ?it/s]"
            ]
          },
          "metadata": {}
        },
        {
          "output_type": "stream",
          "name": "stdout",
          "text": [
            "Mounted at /content/drive\n",
            "0.21043699618158673 0.2908704883227176\n"
          ]
        },
        {
          "output_type": "display_data",
          "data": {
            "application/vnd.jupyter.widget-view+json": {
              "model_id": "1d163c1f615044e6a5404a090ffb794b",
              "version_minor": 0,
              "version_major": 2
            },
            "text/plain": [
              "  0%|          | 0/30 [00:00<?, ?it/s]"
            ]
          },
          "metadata": {}
        },
        {
          "output_type": "display_data",
          "data": {
            "application/vnd.jupyter.widget-view+json": {
              "model_id": "245c1c5acc7541b3a83a5c05de4d747d",
              "version_minor": 0,
              "version_major": 2
            },
            "text/plain": [
              "  0%|          | 0/8 [00:00<?, ?it/s]"
            ]
          },
          "metadata": {}
        },
        {
          "output_type": "stream",
          "name": "stdout",
          "text": [
            "Mounted at /content/drive\n",
            "0.2566822231650403 0.3227176220806794\n"
          ]
        },
        {
          "output_type": "display_data",
          "data": {
            "application/vnd.jupyter.widget-view+json": {
              "model_id": "efc081c6dd0149c08d77d7e3be2a67cf",
              "version_minor": 0,
              "version_major": 2
            },
            "text/plain": [
              "  0%|          | 0/30 [00:00<?, ?it/s]"
            ]
          },
          "metadata": {}
        },
        {
          "output_type": "display_data",
          "data": {
            "application/vnd.jupyter.widget-view+json": {
              "model_id": "f29a9d99be424ee9a454b7bea695900d",
              "version_minor": 0,
              "version_major": 2
            },
            "text/plain": [
              "  0%|          | 0/8 [00:00<?, ?it/s]"
            ]
          },
          "metadata": {}
        },
        {
          "output_type": "stream",
          "name": "stdout",
          "text": [
            "Mounted at /content/drive\n",
            "0.2643190496393721 0.30148619957537154\n"
          ]
        },
        {
          "output_type": "display_data",
          "data": {
            "application/vnd.jupyter.widget-view+json": {
              "model_id": "f700b26325b04a61a4360a3a476ae5b1",
              "version_minor": 0,
              "version_major": 2
            },
            "text/plain": [
              "  0%|          | 0/30 [00:00<?, ?it/s]"
            ]
          },
          "metadata": {}
        },
        {
          "output_type": "display_data",
          "data": {
            "application/vnd.jupyter.widget-view+json": {
              "model_id": "6186f8e345694c1abf7d9966d2741e1a",
              "version_minor": 0,
              "version_major": 2
            },
            "text/plain": [
              "  0%|          | 0/8 [00:00<?, ?it/s]"
            ]
          },
          "metadata": {}
        },
        {
          "output_type": "stream",
          "name": "stdout",
          "text": [
            "Mounted at /content/drive\n",
            "0.36020364870598215 0.5031847133757962\n"
          ]
        },
        {
          "output_type": "display_data",
          "data": {
            "application/vnd.jupyter.widget-view+json": {
              "model_id": "2b3827c59c744b1ba4afc760e61bdced",
              "version_minor": 0,
              "version_major": 2
            },
            "text/plain": [
              "  0%|          | 0/30 [00:00<?, ?it/s]"
            ]
          },
          "metadata": {}
        },
        {
          "output_type": "display_data",
          "data": {
            "application/vnd.jupyter.widget-view+json": {
              "model_id": "5d211d76107941c282d869efbe5a3267",
              "version_minor": 0,
              "version_major": 2
            },
            "text/plain": [
              "  0%|          | 0/8 [00:00<?, ?it/s]"
            ]
          },
          "metadata": {}
        },
        {
          "output_type": "stream",
          "name": "stdout",
          "text": [
            "Mounted at /content/drive\n",
            "0.41450997030123043 0.5456475583864119\n"
          ]
        },
        {
          "output_type": "display_data",
          "data": {
            "application/vnd.jupyter.widget-view+json": {
              "model_id": "2d578e9725dc4616ac61506f6d70a5c1",
              "version_minor": 0,
              "version_major": 2
            },
            "text/plain": [
              "  0%|          | 0/30 [00:00<?, ?it/s]"
            ]
          },
          "metadata": {}
        },
        {
          "output_type": "display_data",
          "data": {
            "application/vnd.jupyter.widget-view+json": {
              "model_id": "31612f4dd6e844f999030b1be36e9db6",
              "version_minor": 0,
              "version_major": 2
            },
            "text/plain": [
              "  0%|          | 0/8 [00:00<?, ?it/s]"
            ]
          },
          "metadata": {}
        },
        {
          "output_type": "stream",
          "name": "stdout",
          "text": [
            "Mounted at /content/drive\n",
            "0.45778532032244384 0.5520169851380042\n"
          ]
        },
        {
          "output_type": "display_data",
          "data": {
            "application/vnd.jupyter.widget-view+json": {
              "model_id": "0b2df2b8c53e42de9534f6f405fc559a",
              "version_minor": 0,
              "version_major": 2
            },
            "text/plain": [
              "  0%|          | 0/30 [00:00<?, ?it/s]"
            ]
          },
          "metadata": {}
        },
        {
          "output_type": "display_data",
          "data": {
            "application/vnd.jupyter.widget-view+json": {
              "model_id": "96679aeddd17431981a76b6084e4f703",
              "version_minor": 0,
              "version_major": 2
            },
            "text/plain": [
              "  0%|          | 0/8 [00:00<?, ?it/s]"
            ]
          },
          "metadata": {}
        },
        {
          "output_type": "stream",
          "name": "stdout",
          "text": [
            "Mounted at /content/drive\n",
            "0.5150615188799321 0.5711252653927813\n"
          ]
        },
        {
          "output_type": "display_data",
          "data": {
            "application/vnd.jupyter.widget-view+json": {
              "model_id": "11f8ba03e31a45b69afbe46fa4a0f3d6",
              "version_minor": 0,
              "version_major": 2
            },
            "text/plain": [
              "  0%|          | 0/30 [00:00<?, ?it/s]"
            ]
          },
          "metadata": {}
        },
        {
          "output_type": "display_data",
          "data": {
            "application/vnd.jupyter.widget-view+json": {
              "model_id": "f65b3810e9b64296bf9283db50ff9db8",
              "version_minor": 0,
              "version_major": 2
            },
            "text/plain": [
              "  0%|          | 0/8 [00:00<?, ?it/s]"
            ]
          },
          "metadata": {}
        },
        {
          "output_type": "stream",
          "name": "stdout",
          "text": [
            "Mounted at /content/drive\n",
            "0.5311837081035214 0.5923566878980892\n"
          ]
        },
        {
          "output_type": "display_data",
          "data": {
            "application/vnd.jupyter.widget-view+json": {
              "model_id": "f68c6d0897e84f489127f2685a277afa",
              "version_minor": 0,
              "version_major": 2
            },
            "text/plain": [
              "  0%|          | 0/30 [00:00<?, ?it/s]"
            ]
          },
          "metadata": {}
        },
        {
          "output_type": "display_data",
          "data": {
            "application/vnd.jupyter.widget-view+json": {
              "model_id": "ae7b1dbfe80d412fa358c44094fe15aa",
              "version_minor": 0,
              "version_major": 2
            },
            "text/plain": [
              "  0%|          | 0/8 [00:00<?, ?it/s]"
            ]
          },
          "metadata": {}
        },
        {
          "output_type": "stream",
          "name": "stdout",
          "text": [
            "Mounted at /content/drive\n",
            "0.5647008909630886 0.6390658174097664\n"
          ]
        },
        {
          "output_type": "display_data",
          "data": {
            "application/vnd.jupyter.widget-view+json": {
              "model_id": "8e2250f8b1384c0f9e87bfd3b1ae4f14",
              "version_minor": 0,
              "version_major": 2
            },
            "text/plain": [
              "  0%|          | 0/30 [00:00<?, ?it/s]"
            ]
          },
          "metadata": {}
        },
        {
          "output_type": "display_data",
          "data": {
            "application/vnd.jupyter.widget-view+json": {
              "model_id": "ec5d6c811c5f42fdbd7511bff8865219",
              "version_minor": 0,
              "version_major": 2
            },
            "text/plain": [
              "  0%|          | 0/8 [00:00<?, ?it/s]"
            ]
          },
          "metadata": {}
        },
        {
          "output_type": "stream",
          "name": "stdout",
          "text": [
            "Mounted at /content/drive\n",
            "0.5837929571489181 0.6645435244161358\n"
          ]
        },
        {
          "output_type": "display_data",
          "data": {
            "application/vnd.jupyter.widget-view+json": {
              "model_id": "1a5c2d11e4364ca7b84b5dd797f5a699",
              "version_minor": 0,
              "version_major": 2
            },
            "text/plain": [
              "  0%|          | 0/30 [00:00<?, ?it/s]"
            ]
          },
          "metadata": {}
        },
        {
          "output_type": "display_data",
          "data": {
            "application/vnd.jupyter.widget-view+json": {
              "model_id": "8dd9de0af1d2414bbdb12016052ab29e",
              "version_minor": 0,
              "version_major": 2
            },
            "text/plain": [
              "  0%|          | 0/8 [00:00<?, ?it/s]"
            ]
          },
          "metadata": {}
        },
        {
          "output_type": "stream",
          "name": "stdout",
          "text": [
            "Mounted at /content/drive\n",
            "0.5795502757742894 0.5859872611464968\n"
          ]
        },
        {
          "output_type": "display_data",
          "data": {
            "application/vnd.jupyter.widget-view+json": {
              "model_id": "ca2e20d00af34fd184b71f3dc6bb367b",
              "version_minor": 0,
              "version_major": 2
            },
            "text/plain": [
              "  0%|          | 0/30 [00:00<?, ?it/s]"
            ]
          },
          "metadata": {}
        },
        {
          "output_type": "display_data",
          "data": {
            "application/vnd.jupyter.widget-view+json": {
              "model_id": "a73ab1777ded41d5837039ddc642bdeb",
              "version_minor": 0,
              "version_major": 2
            },
            "text/plain": [
              "  0%|          | 0/8 [00:00<?, ?it/s]"
            ]
          },
          "metadata": {}
        },
        {
          "output_type": "stream",
          "name": "stdout",
          "text": [
            "Mounted at /content/drive\n",
            "0.6050063640220619 0.6581740976645435\n"
          ]
        },
        {
          "output_type": "display_data",
          "data": {
            "application/vnd.jupyter.widget-view+json": {
              "model_id": "e67de008fc224931880b0bb5d7a24440",
              "version_minor": 0,
              "version_major": 2
            },
            "text/plain": [
              "  0%|          | 0/30 [00:00<?, ?it/s]"
            ]
          },
          "metadata": {}
        },
        {
          "output_type": "display_data",
          "data": {
            "application/vnd.jupyter.widget-view+json": {
              "model_id": "f2077a84f8b8462199e4af95a58ded72",
              "version_minor": 0,
              "version_major": 2
            },
            "text/plain": [
              "  0%|          | 0/8 [00:00<?, ?it/s]"
            ]
          },
          "metadata": {}
        },
        {
          "output_type": "stream",
          "name": "stdout",
          "text": [
            "Mounted at /content/drive\n",
            "0.6062791684344506 0.6687898089171974\n"
          ]
        },
        {
          "output_type": "display_data",
          "data": {
            "application/vnd.jupyter.widget-view+json": {
              "model_id": "932701a2322042cebe31286901587062",
              "version_minor": 0,
              "version_major": 2
            },
            "text/plain": [
              "  0%|          | 0/30 [00:00<?, ?it/s]"
            ]
          },
          "metadata": {}
        },
        {
          "output_type": "display_data",
          "data": {
            "application/vnd.jupyter.widget-view+json": {
              "model_id": "ad0b59c5f5d14eb8952d82f332208de4",
              "version_minor": 0,
              "version_major": 2
            },
            "text/plain": [
              "  0%|          | 0/8 [00:00<?, ?it/s]"
            ]
          },
          "metadata": {}
        },
        {
          "output_type": "stream",
          "name": "stdout",
          "text": [
            "Mounted at /content/drive\n",
            "0.6508273228680526 0.7006369426751592\n"
          ]
        },
        {
          "output_type": "display_data",
          "data": {
            "application/vnd.jupyter.widget-view+json": {
              "model_id": "d664f86f8bb34cde8bf2800ceb7ff9ef",
              "version_minor": 0,
              "version_major": 2
            },
            "text/plain": [
              "  0%|          | 0/30 [00:00<?, ?it/s]"
            ]
          },
          "metadata": {}
        },
        {
          "output_type": "display_data",
          "data": {
            "application/vnd.jupyter.widget-view+json": {
              "model_id": "a7dbbc72c3ba472db1354303421303e1",
              "version_minor": 0,
              "version_major": 2
            },
            "text/plain": [
              "  0%|          | 0/8 [00:00<?, ?it/s]"
            ]
          },
          "metadata": {}
        },
        {
          "output_type": "stream",
          "name": "stdout",
          "text": [
            "Mounted at /content/drive\n",
            "0.6554942723801441 0.7261146496815286\n"
          ]
        },
        {
          "output_type": "display_data",
          "data": {
            "application/vnd.jupyter.widget-view+json": {
              "model_id": "5a1c5f9d71094ee48e9f6ac6eecf6a62",
              "version_minor": 0,
              "version_major": 2
            },
            "text/plain": [
              "  0%|          | 0/30 [00:00<?, ?it/s]"
            ]
          },
          "metadata": {}
        },
        {
          "output_type": "display_data",
          "data": {
            "application/vnd.jupyter.widget-view+json": {
              "model_id": "939f8f47967b450383722d73db7a1c3d",
              "version_minor": 0,
              "version_major": 2
            },
            "text/plain": [
              "  0%|          | 0/8 [00:00<?, ?it/s]"
            ]
          },
          "metadata": {}
        },
        {
          "output_type": "stream",
          "name": "stdout",
          "text": [
            "Mounted at /content/drive\n",
            "0.6529486635553671 0.6900212314225053\n"
          ]
        },
        {
          "output_type": "display_data",
          "data": {
            "application/vnd.jupyter.widget-view+json": {
              "model_id": "b1cc9f3bc0f44fc197a8bbcf9435d516",
              "version_minor": 0,
              "version_major": 2
            },
            "text/plain": [
              "  0%|          | 0/30 [00:00<?, ?it/s]"
            ]
          },
          "metadata": {}
        },
        {
          "output_type": "display_data",
          "data": {
            "application/vnd.jupyter.widget-view+json": {
              "model_id": "aec85dc9eb50470a9322c276af05156c",
              "version_minor": 0,
              "version_major": 2
            },
            "text/plain": [
              "  0%|          | 0/8 [00:00<?, ?it/s]"
            ]
          },
          "metadata": {}
        },
        {
          "output_type": "stream",
          "name": "stdout",
          "text": [
            "Mounted at /content/drive\n",
            "0.6542214679677553 0.7197452229299363\n"
          ]
        },
        {
          "output_type": "display_data",
          "data": {
            "application/vnd.jupyter.widget-view+json": {
              "model_id": "9207c4ca011c4279b4dd67219b3936db",
              "version_minor": 0,
              "version_major": 2
            },
            "text/plain": [
              "  0%|          | 0/30 [00:00<?, ?it/s]"
            ]
          },
          "metadata": {}
        },
        {
          "output_type": "display_data",
          "data": {
            "application/vnd.jupyter.widget-view+json": {
              "model_id": "93d75539c6c04f928cf92dc12335965f",
              "version_minor": 0,
              "version_major": 2
            },
            "text/plain": [
              "  0%|          | 0/8 [00:00<?, ?it/s]"
            ]
          },
          "metadata": {}
        },
        {
          "output_type": "stream",
          "name": "stdout",
          "text": [
            "Mounted at /content/drive\n",
            "0.6779804836656765 0.6751592356687898\n"
          ]
        },
        {
          "output_type": "display_data",
          "data": {
            "application/vnd.jupyter.widget-view+json": {
              "model_id": "b8491cefc7694c019d0e9fec6a870737",
              "version_minor": 0,
              "version_major": 2
            },
            "text/plain": [
              "  0%|          | 0/30 [00:00<?, ?it/s]"
            ]
          },
          "metadata": {}
        },
        {
          "output_type": "display_data",
          "data": {
            "application/vnd.jupyter.widget-view+json": {
              "model_id": "72ccf88bab7647d6a32b456371712d7a",
              "version_minor": 0,
              "version_major": 2
            },
            "text/plain": [
              "  0%|          | 0/8 [00:00<?, ?it/s]"
            ]
          },
          "metadata": {}
        },
        {
          "output_type": "stream",
          "name": "stdout",
          "text": [
            "Mounted at /content/drive\n",
            "0.6885871871022484 0.7048832271762208\n"
          ]
        },
        {
          "output_type": "display_data",
          "data": {
            "application/vnd.jupyter.widget-view+json": {
              "model_id": "8907ce3ca9564e1d907a3f1959dc04b2",
              "version_minor": 0,
              "version_major": 2
            },
            "text/plain": [
              "  0%|          | 0/30 [00:00<?, ?it/s]"
            ]
          },
          "metadata": {}
        },
        {
          "output_type": "display_data",
          "data": {
            "application/vnd.jupyter.widget-view+json": {
              "model_id": "0ca85e3813294535b21594e4bc1f0fb9",
              "version_minor": 0,
              "version_major": 2
            },
            "text/plain": [
              "  0%|          | 0/8 [00:00<?, ?it/s]"
            ]
          },
          "metadata": {}
        },
        {
          "output_type": "stream",
          "name": "stdout",
          "text": [
            "Mounted at /content/drive\n",
            "0.7072549851506149 0.7197452229299363\n"
          ]
        },
        {
          "output_type": "display_data",
          "data": {
            "application/vnd.jupyter.widget-view+json": {
              "model_id": "022c95456092420ab012a2d46ee79e9d",
              "version_minor": 0,
              "version_major": 2
            },
            "text/plain": [
              "  0%|          | 0/30 [00:00<?, ?it/s]"
            ]
          },
          "metadata": {}
        },
        {
          "output_type": "display_data",
          "data": {
            "application/vnd.jupyter.widget-view+json": {
              "model_id": "9bf77fae8f5b4c4dbec3b876fbe0d615",
              "version_minor": 0,
              "version_major": 2
            },
            "text/plain": [
              "  0%|          | 0/8 [00:00<?, ?it/s]"
            ]
          },
          "metadata": {}
        },
        {
          "output_type": "stream",
          "name": "stdout",
          "text": [
            "Mounted at /content/drive\n",
            "0.6894357233771741 0.6645435244161358\n"
          ]
        },
        {
          "output_type": "display_data",
          "data": {
            "application/vnd.jupyter.widget-view+json": {
              "model_id": "2529e64fb05f43c4a10ef0ba26bed490",
              "version_minor": 0,
              "version_major": 2
            },
            "text/plain": [
              "  0%|          | 0/30 [00:00<?, ?it/s]"
            ]
          },
          "metadata": {}
        },
        {
          "output_type": "display_data",
          "data": {
            "application/vnd.jupyter.widget-view+json": {
              "model_id": "7c6ddb8b6113486aa49ae7ce4ef26478",
              "version_minor": 0,
              "version_major": 2
            },
            "text/plain": [
              "  0%|          | 0/8 [00:00<?, ?it/s]"
            ]
          },
          "metadata": {}
        },
        {
          "output_type": "stream",
          "name": "stdout",
          "text": [
            "Mounted at /content/drive\n",
            "0.703860840050912 0.7346072186836518\n"
          ]
        },
        {
          "output_type": "display_data",
          "data": {
            "application/vnd.jupyter.widget-view+json": {
              "model_id": "9b116ca3cb284a83b5b779862c9e60b0",
              "version_minor": 0,
              "version_major": 2
            },
            "text/plain": [
              "  0%|          | 0/30 [00:00<?, ?it/s]"
            ]
          },
          "metadata": {}
        },
        {
          "output_type": "display_data",
          "data": {
            "application/vnd.jupyter.widget-view+json": {
              "model_id": "2190e7be66c34ace876c82fb7f40927d",
              "version_minor": 0,
              "version_major": 2
            },
            "text/plain": [
              "  0%|          | 0/8 [00:00<?, ?it/s]"
            ]
          },
          "metadata": {}
        },
        {
          "output_type": "stream",
          "name": "stdout",
          "text": [
            "Mounted at /content/drive\n",
            "0.7144675434874839 0.7261146496815286\n"
          ]
        },
        {
          "output_type": "display_data",
          "data": {
            "application/vnd.jupyter.widget-view+json": {
              "model_id": "49c3ec83a1ac47dc9422a857249455a4",
              "version_minor": 0,
              "version_major": 2
            },
            "text/plain": [
              "  0%|          | 0/30 [00:00<?, ?it/s]"
            ]
          },
          "metadata": {}
        },
        {
          "output_type": "display_data",
          "data": {
            "application/vnd.jupyter.widget-view+json": {
              "model_id": "06b148c9d83a47eaaa42aae39731de0f",
              "version_minor": 0,
              "version_major": 2
            },
            "text/plain": [
              "  0%|          | 0/8 [00:00<?, ?it/s]"
            ]
          },
          "metadata": {}
        },
        {
          "output_type": "stream",
          "name": "stdout",
          "text": [
            "Mounted at /content/drive\n",
            "0.7204072974119641 0.7452229299363057\n"
          ]
        },
        {
          "output_type": "display_data",
          "data": {
            "application/vnd.jupyter.widget-view+json": {
              "model_id": "02d458add87845fe8284bd50507fd28e",
              "version_minor": 0,
              "version_major": 2
            },
            "text/plain": [
              "  0%|          | 0/30 [00:00<?, ?it/s]"
            ]
          },
          "metadata": {}
        },
        {
          "output_type": "display_data",
          "data": {
            "application/vnd.jupyter.widget-view+json": {
              "model_id": "db18727fd68e4506bc038fcfe7ae49d8",
              "version_minor": 0,
              "version_major": 2
            },
            "text/plain": [
              "  0%|          | 0/8 [00:00<?, ?it/s]"
            ]
          },
          "metadata": {}
        },
        {
          "output_type": "stream",
          "name": "stdout",
          "text": [
            "Mounted at /content/drive\n",
            "0.7187102248621127 0.732484076433121\n"
          ]
        },
        {
          "output_type": "display_data",
          "data": {
            "application/vnd.jupyter.widget-view+json": {
              "model_id": "07e9b3d3fd51482b9bb0d1d2302dbaff",
              "version_minor": 0,
              "version_major": 2
            },
            "text/plain": [
              "  0%|          | 0/30 [00:00<?, ?it/s]"
            ]
          },
          "metadata": {}
        },
        {
          "output_type": "display_data",
          "data": {
            "application/vnd.jupyter.widget-view+json": {
              "model_id": "1f947386252d42689375165fbb43fb7a",
              "version_minor": 0,
              "version_major": 2
            },
            "text/plain": [
              "  0%|          | 0/8 [00:00<?, ?it/s]"
            ]
          },
          "metadata": {}
        },
        {
          "output_type": "stream",
          "name": "stdout",
          "text": [
            "Mounted at /content/drive\n",
            "0.7259227831989815 0.732484076433121\n"
          ]
        },
        {
          "output_type": "display_data",
          "data": {
            "application/vnd.jupyter.widget-view+json": {
              "model_id": "d58f5933e0a44cc5b7fcecc30316da9e",
              "version_minor": 0,
              "version_major": 2
            },
            "text/plain": [
              "  0%|          | 0/30 [00:00<?, ?it/s]"
            ]
          },
          "metadata": {}
        },
        {
          "output_type": "display_data",
          "data": {
            "application/vnd.jupyter.widget-view+json": {
              "model_id": "7925e90b8a3141c5b9eb0d75935d05d9",
              "version_minor": 0,
              "version_major": 2
            },
            "text/plain": [
              "  0%|          | 0/8 [00:00<?, ?it/s]"
            ]
          },
          "metadata": {}
        },
        {
          "output_type": "stream",
          "name": "stdout",
          "text": [
            "Mounted at /content/drive\n",
            "0.734832414085702 0.751592356687898\n"
          ]
        },
        {
          "output_type": "display_data",
          "data": {
            "application/vnd.jupyter.widget-view+json": {
              "model_id": "688bf8a41d02443d929dc9f532ad65e6",
              "version_minor": 0,
              "version_major": 2
            },
            "text/plain": [
              "  0%|          | 0/30 [00:00<?, ?it/s]"
            ]
          },
          "metadata": {}
        },
        {
          "output_type": "display_data",
          "data": {
            "application/vnd.jupyter.widget-view+json": {
              "model_id": "e242dad258de456484bdb60c1d8f7855",
              "version_minor": 0,
              "version_major": 2
            },
            "text/plain": [
              "  0%|          | 0/8 [00:00<?, ?it/s]"
            ]
          },
          "metadata": {}
        },
        {
          "output_type": "stream",
          "name": "stdout",
          "text": [
            "Mounted at /content/drive\n",
            "0.7526516758591427 0.7579617834394904\n"
          ]
        },
        {
          "output_type": "display_data",
          "data": {
            "application/vnd.jupyter.widget-view+json": {
              "model_id": "09b1872eb6a5460782e7b03749627137",
              "version_minor": 0,
              "version_major": 2
            },
            "text/plain": [
              "  0%|          | 0/30 [00:00<?, ?it/s]"
            ]
          },
          "metadata": {}
        },
        {
          "output_type": "display_data",
          "data": {
            "application/vnd.jupyter.widget-view+json": {
              "model_id": "27b9c305a1024935a531461aa1196628",
              "version_minor": 0,
              "version_major": 2
            },
            "text/plain": [
              "  0%|          | 0/8 [00:00<?, ?it/s]"
            ]
          },
          "metadata": {}
        },
        {
          "output_type": "stream",
          "name": "stdout",
          "text": [
            "Mounted at /content/drive\n",
            "0.7488332626219769 0.762208067940552\n"
          ]
        },
        {
          "output_type": "display_data",
          "data": {
            "application/vnd.jupyter.widget-view+json": {
              "model_id": "001a96e678994235bf2c2b830653aee4",
              "version_minor": 0,
              "version_major": 2
            },
            "text/plain": [
              "  0%|          | 0/30 [00:00<?, ?it/s]"
            ]
          },
          "metadata": {}
        },
        {
          "output_type": "display_data",
          "data": {
            "application/vnd.jupyter.widget-view+json": {
              "model_id": "470d80a5dfdb4174878ed7df90f4bbc0",
              "version_minor": 0,
              "version_major": 2
            },
            "text/plain": [
              "  0%|          | 0/8 [00:00<?, ?it/s]"
            ]
          },
          "metadata": {}
        },
        {
          "output_type": "stream",
          "name": "stdout",
          "text": [
            "Mounted at /content/drive\n",
            "0.75519728468392 0.751592356687898\n"
          ]
        },
        {
          "output_type": "display_data",
          "data": {
            "application/vnd.jupyter.widget-view+json": {
              "model_id": "b3e162bd30e24fe7929d1b31683982bb",
              "version_minor": 0,
              "version_major": 2
            },
            "text/plain": [
              "  0%|          | 0/30 [00:00<?, ?it/s]"
            ]
          },
          "metadata": {}
        },
        {
          "output_type": "display_data",
          "data": {
            "application/vnd.jupyter.widget-view+json": {
              "model_id": "fb1acf5264744bf1b1871298110b8009",
              "version_minor": 0,
              "version_major": 2
            },
            "text/plain": [
              "  0%|          | 0/8 [00:00<?, ?it/s]"
            ]
          },
          "metadata": {}
        },
        {
          "output_type": "stream",
          "name": "stdout",
          "text": [
            "Mounted at /content/drive\n",
            "0.761985574883326 0.7855626326963906\n"
          ]
        },
        {
          "output_type": "display_data",
          "data": {
            "application/vnd.jupyter.widget-view+json": {
              "model_id": "36fa595a31444e09ba45aba2f9dfc251",
              "version_minor": 0,
              "version_major": 2
            },
            "text/plain": [
              "  0%|          | 0/30 [00:00<?, ?it/s]"
            ]
          },
          "metadata": {}
        },
        {
          "output_type": "display_data",
          "data": {
            "application/vnd.jupyter.widget-view+json": {
              "model_id": "14dffc38a8d84b3f80d67e69802b36a2",
              "version_minor": 0,
              "version_major": 2
            },
            "text/plain": [
              "  0%|          | 0/8 [00:00<?, ?it/s]"
            ]
          },
          "metadata": {}
        },
        {
          "output_type": "stream",
          "name": "stdout",
          "text": [
            "Mounted at /content/drive\n",
            "0.7619855748833259 0.7728237791932059\n"
          ]
        },
        {
          "output_type": "display_data",
          "data": {
            "application/vnd.jupyter.widget-view+json": {
              "model_id": "b650f332da56488391bf016561f452a6",
              "version_minor": 0,
              "version_major": 2
            },
            "text/plain": [
              "  0%|          | 0/30 [00:00<?, ?it/s]"
            ]
          },
          "metadata": {}
        },
        {
          "output_type": "display_data",
          "data": {
            "application/vnd.jupyter.widget-view+json": {
              "model_id": "dcbbd1be8715453fba502f43087c8206",
              "version_minor": 0,
              "version_major": 2
            },
            "text/plain": [
              "  0%|          | 0/8 [00:00<?, ?it/s]"
            ]
          },
          "metadata": {}
        },
        {
          "output_type": "stream",
          "name": "stdout",
          "text": [
            "Mounted at /content/drive\n",
            "0.7615613067458631 0.751592356687898\n"
          ]
        },
        {
          "output_type": "display_data",
          "data": {
            "application/vnd.jupyter.widget-view+json": {
              "model_id": "52d9b0ca7a414cb692b7267a04a4d2bf",
              "version_minor": 0,
              "version_major": 2
            },
            "text/plain": [
              "  0%|          | 0/30 [00:00<?, ?it/s]"
            ]
          },
          "metadata": {}
        },
        {
          "output_type": "display_data",
          "data": {
            "application/vnd.jupyter.widget-view+json": {
              "model_id": "4633da23a4ef449db709247f177cdcee",
              "version_minor": 0,
              "version_major": 2
            },
            "text/plain": [
              "  0%|          | 0/8 [00:00<?, ?it/s]"
            ]
          },
          "metadata": {}
        },
        {
          "output_type": "stream",
          "name": "stdout",
          "text": [
            "Mounted at /content/drive\n",
            "0.7573186253712343 0.7537154989384288\n"
          ]
        },
        {
          "output_type": "display_data",
          "data": {
            "application/vnd.jupyter.widget-view+json": {
              "model_id": "8162fe283106474aab58f521f7c3263a",
              "version_minor": 0,
              "version_major": 2
            },
            "text/plain": [
              "  0%|          | 0/30 [00:00<?, ?it/s]"
            ]
          },
          "metadata": {}
        },
        {
          "output_type": "display_data",
          "data": {
            "application/vnd.jupyter.widget-view+json": {
              "model_id": "4f9a40502f244310b47652d7aba342f8",
              "version_minor": 0,
              "version_major": 2
            },
            "text/plain": [
              "  0%|          | 0/8 [00:00<?, ?it/s]"
            ]
          },
          "metadata": {}
        },
        {
          "output_type": "stream",
          "name": "stdout",
          "text": [
            "Mounted at /content/drive\n",
            "0.7632583792957146 0.7685774946921443\n"
          ]
        },
        {
          "output_type": "display_data",
          "data": {
            "application/vnd.jupyter.widget-view+json": {
              "model_id": "ddf21da116964c399f5cdab36fc64648",
              "version_minor": 0,
              "version_major": 2
            },
            "text/plain": [
              "  0%|          | 0/30 [00:00<?, ?it/s]"
            ]
          },
          "metadata": {}
        },
        {
          "output_type": "display_data",
          "data": {
            "application/vnd.jupyter.widget-view+json": {
              "model_id": "66e7a0b835d44195a9cd457655a9fc1a",
              "version_minor": 0,
              "version_major": 2
            },
            "text/plain": [
              "  0%|          | 0/8 [00:00<?, ?it/s]"
            ]
          },
          "metadata": {}
        },
        {
          "output_type": "stream",
          "name": "stdout",
          "text": [
            "Mounted at /content/drive\n",
            "0.7624098430207887 0.7643312101910827\n",
            "------------fold no---------3----------------------\n"
          ]
        },
        {
          "output_type": "display_data",
          "data": {
            "application/vnd.jupyter.widget-view+json": {
              "model_id": "695acfd0f8c444819eb890ff1cb70e72",
              "version_minor": 0,
              "version_major": 2
            },
            "text/plain": [
              "  0%|          | 0/30 [00:00<?, ?it/s]"
            ]
          },
          "metadata": {}
        },
        {
          "output_type": "display_data",
          "data": {
            "application/vnd.jupyter.widget-view+json": {
              "model_id": "5d1281fa1c5a46dd849e9b6dc7098aee",
              "version_minor": 0,
              "version_major": 2
            },
            "text/plain": [
              "  0%|          | 0/8 [00:00<?, ?it/s]"
            ]
          },
          "metadata": {}
        },
        {
          "output_type": "stream",
          "name": "stdout",
          "text": [
            "Mounted at /content/drive\n",
            "0.10564276622825625 0.15498938428874734\n"
          ]
        },
        {
          "output_type": "display_data",
          "data": {
            "application/vnd.jupyter.widget-view+json": {
              "model_id": "ece669a5de11426a8979f4c7b214e4f0",
              "version_minor": 0,
              "version_major": 2
            },
            "text/plain": [
              "  0%|          | 0/30 [00:00<?, ?it/s]"
            ]
          },
          "metadata": {}
        },
        {
          "output_type": "display_data",
          "data": {
            "application/vnd.jupyter.widget-view+json": {
              "model_id": "5e68956c96ec424386497e7a234ee2f0",
              "version_minor": 0,
              "version_major": 2
            },
            "text/plain": [
              "  0%|          | 0/8 [00:00<?, ?it/s]"
            ]
          },
          "metadata": {}
        },
        {
          "output_type": "stream",
          "name": "stdout",
          "text": [
            "Mounted at /content/drive\n",
            "0.13279592702588033 0.15074309978768577\n"
          ]
        },
        {
          "output_type": "display_data",
          "data": {
            "application/vnd.jupyter.widget-view+json": {
              "model_id": "bbe27e8c627c471298aa543b20f0770a",
              "version_minor": 0,
              "version_major": 2
            },
            "text/plain": [
              "  0%|          | 0/30 [00:00<?, ?it/s]"
            ]
          },
          "metadata": {}
        },
        {
          "output_type": "display_data",
          "data": {
            "application/vnd.jupyter.widget-view+json": {
              "model_id": "22204c1461b349648b6e14706207b382",
              "version_minor": 0,
              "version_major": 2
            },
            "text/plain": [
              "  0%|          | 0/8 [00:00<?, ?it/s]"
            ]
          },
          "metadata": {}
        },
        {
          "output_type": "stream",
          "name": "stdout",
          "text": [
            "Mounted at /content/drive\n",
            "0.13449299957573188 0.1613588110403397\n"
          ]
        },
        {
          "output_type": "display_data",
          "data": {
            "application/vnd.jupyter.widget-view+json": {
              "model_id": "b574b02cd18e451a93981e37bc4824f4",
              "version_minor": 0,
              "version_major": 2
            },
            "text/plain": [
              "  0%|          | 0/30 [00:00<?, ?it/s]"
            ]
          },
          "metadata": {}
        },
        {
          "output_type": "display_data",
          "data": {
            "application/vnd.jupyter.widget-view+json": {
              "model_id": "f0e8873acc144fa7a1f7e19e6b71b791",
              "version_minor": 0,
              "version_major": 2
            },
            "text/plain": [
              "  0%|          | 0/8 [00:00<?, ?it/s]"
            ]
          },
          "metadata": {}
        },
        {
          "output_type": "stream",
          "name": "stdout",
          "text": [
            "Mounted at /content/drive\n",
            "0.1845566397963513 0.2823779193205945\n"
          ]
        },
        {
          "output_type": "display_data",
          "data": {
            "application/vnd.jupyter.widget-view+json": {
              "model_id": "afced43665cf4e478b8a610918375093",
              "version_minor": 0,
              "version_major": 2
            },
            "text/plain": [
              "  0%|          | 0/30 [00:00<?, ?it/s]"
            ]
          },
          "metadata": {}
        },
        {
          "output_type": "display_data",
          "data": {
            "application/vnd.jupyter.widget-view+json": {
              "model_id": "c5c97e79f9e14729b65566efda9dac33",
              "version_minor": 0,
              "version_major": 2
            },
            "text/plain": [
              "  0%|          | 0/8 [00:00<?, ?it/s]"
            ]
          },
          "metadata": {}
        },
        {
          "output_type": "stream",
          "name": "stdout",
          "text": [
            "Mounted at /content/drive\n",
            "0.2664403903266865 0.3481953290870488\n"
          ]
        },
        {
          "output_type": "display_data",
          "data": {
            "application/vnd.jupyter.widget-view+json": {
              "model_id": "30717d0345ec4e61b835daadb48b0e03",
              "version_minor": 0,
              "version_major": 2
            },
            "text/plain": [
              "  0%|          | 0/30 [00:00<?, ?it/s]"
            ]
          },
          "metadata": {}
        },
        {
          "output_type": "display_data",
          "data": {
            "application/vnd.jupyter.widget-view+json": {
              "model_id": "d324f9b032e0478ebe71a435157b1675",
              "version_minor": 0,
              "version_major": 2
            },
            "text/plain": [
              "  0%|          | 0/8 [00:00<?, ?it/s]"
            ]
          },
          "metadata": {}
        },
        {
          "output_type": "stream",
          "name": "stdout",
          "text": [
            "Mounted at /content/drive\n",
            "0.33050487908358067 0.48195329087048827\n"
          ]
        },
        {
          "output_type": "display_data",
          "data": {
            "application/vnd.jupyter.widget-view+json": {
              "model_id": "095c7001bc72477ca6c6dc968c879237",
              "version_minor": 0,
              "version_major": 2
            },
            "text/plain": [
              "  0%|          | 0/30 [00:00<?, ?it/s]"
            ]
          },
          "metadata": {}
        },
        {
          "output_type": "display_data",
          "data": {
            "application/vnd.jupyter.widget-view+json": {
              "model_id": "71181d7cdfb44908b62202057d2ff353",
              "version_minor": 0,
              "version_major": 2
            },
            "text/plain": [
              "  0%|          | 0/8 [00:00<?, ?it/s]"
            ]
          },
          "metadata": {}
        },
        {
          "output_type": "stream",
          "name": "stdout",
          "text": [
            "Mounted at /content/drive\n",
            "0.39881204921510405 0.5031847133757962\n"
          ]
        },
        {
          "output_type": "display_data",
          "data": {
            "application/vnd.jupyter.widget-view+json": {
              "model_id": "cd32d0331f3d4333b351207a33886a34",
              "version_minor": 0,
              "version_major": 2
            },
            "text/plain": [
              "  0%|          | 0/30 [00:00<?, ?it/s]"
            ]
          },
          "metadata": {}
        },
        {
          "output_type": "display_data",
          "data": {
            "application/vnd.jupyter.widget-view+json": {
              "model_id": "19afcee11a7e4c98b45888fb97a3cd47",
              "version_minor": 0,
              "version_major": 2
            },
            "text/plain": [
              "  0%|          | 0/8 [00:00<?, ?it/s]"
            ]
          },
          "metadata": {}
        },
        {
          "output_type": "stream",
          "name": "stdout",
          "text": [
            "Mounted at /content/drive\n",
            "0.46627068307170133 0.5583864118895966\n"
          ]
        },
        {
          "output_type": "display_data",
          "data": {
            "application/vnd.jupyter.widget-view+json": {
              "model_id": "a45ebf052f4d4c25b52c5a0e349c0179",
              "version_minor": 0,
              "version_major": 2
            },
            "text/plain": [
              "  0%|          | 0/30 [00:00<?, ?it/s]"
            ]
          },
          "metadata": {}
        },
        {
          "output_type": "display_data",
          "data": {
            "application/vnd.jupyter.widget-view+json": {
              "model_id": "72169fc9345b4b34b0946527d3fb7a2f",
              "version_minor": 0,
              "version_major": 2
            },
            "text/plain": [
              "  0%|          | 0/8 [00:00<?, ?it/s]"
            ]
          },
          "metadata": {}
        },
        {
          "output_type": "stream",
          "name": "stdout",
          "text": [
            "Mounted at /content/drive\n",
            "0.4794229953330505 0.554140127388535\n"
          ]
        },
        {
          "output_type": "display_data",
          "data": {
            "application/vnd.jupyter.widget-view+json": {
              "model_id": "4bd0923958c949d2b9fafeea2712ad19",
              "version_minor": 0,
              "version_major": 2
            },
            "text/plain": [
              "  0%|          | 0/30 [00:00<?, ?it/s]"
            ]
          },
          "metadata": {}
        },
        {
          "output_type": "display_data",
          "data": {
            "application/vnd.jupyter.widget-view+json": {
              "model_id": "184a02e96d9d4a37b752dd71b6f98861",
              "version_minor": 0,
              "version_major": 2
            },
            "text/plain": [
              "  0%|          | 0/8 [00:00<?, ?it/s]"
            ]
          },
          "metadata": {}
        },
        {
          "output_type": "stream",
          "name": "stdout",
          "text": [
            "Mounted at /content/drive\n",
            "0.4993635977938058 0.5668789808917197\n"
          ]
        },
        {
          "output_type": "display_data",
          "data": {
            "application/vnd.jupyter.widget-view+json": {
              "model_id": "420592bb15064ed1a78ef63585e73040",
              "version_minor": 0,
              "version_major": 2
            },
            "text/plain": [
              "  0%|          | 0/30 [00:00<?, ?it/s]"
            ]
          },
          "metadata": {}
        },
        {
          "output_type": "display_data",
          "data": {
            "application/vnd.jupyter.widget-view+json": {
              "model_id": "e81940b9ea364ba083b08c80a61d96a1",
              "version_minor": 0,
              "version_major": 2
            },
            "text/plain": [
              "  0%|          | 0/8 [00:00<?, ?it/s]"
            ]
          },
          "metadata": {}
        },
        {
          "output_type": "stream",
          "name": "stdout",
          "text": [
            "Mounted at /content/drive\n",
            "0.5248196860415782 0.5774946921443737\n"
          ]
        },
        {
          "output_type": "display_data",
          "data": {
            "application/vnd.jupyter.widget-view+json": {
              "model_id": "2a7416b708144b6ea7bd8fa0d875700e",
              "version_minor": 0,
              "version_major": 2
            },
            "text/plain": [
              "  0%|          | 0/30 [00:00<?, ?it/s]"
            ]
          },
          "metadata": {}
        },
        {
          "output_type": "display_data",
          "data": {
            "application/vnd.jupyter.widget-view+json": {
              "model_id": "bd00ee2e138f4e359259a3545850fc5c",
              "version_minor": 0,
              "version_major": 2
            },
            "text/plain": [
              "  0%|          | 0/8 [00:00<?, ?it/s]"
            ]
          },
          "metadata": {}
        },
        {
          "output_type": "stream",
          "name": "stdout",
          "text": [
            "Mounted at /content/drive\n",
            "0.5502757742893508 0.6008492569002123\n"
          ]
        },
        {
          "output_type": "display_data",
          "data": {
            "application/vnd.jupyter.widget-view+json": {
              "model_id": "c3f0f681f5eb4f7fbad1fb59b18abb0a",
              "version_minor": 0,
              "version_major": 2
            },
            "text/plain": [
              "  0%|          | 0/30 [00:00<?, ?it/s]"
            ]
          },
          "metadata": {}
        },
        {
          "output_type": "display_data",
          "data": {
            "application/vnd.jupyter.widget-view+json": {
              "model_id": "306a6b8fafbc45629b8e9c229fac439e",
              "version_minor": 0,
              "version_major": 2
            },
            "text/plain": [
              "  0%|          | 0/8 [00:00<?, ?it/s]"
            ]
          },
          "metadata": {}
        },
        {
          "output_type": "stream",
          "name": "stdout",
          "text": [
            "Mounted at /content/drive\n",
            "0.5502757742893508 0.6963906581740976\n"
          ]
        },
        {
          "output_type": "display_data",
          "data": {
            "application/vnd.jupyter.widget-view+json": {
              "model_id": "a3b96a36636c42e289afc993371a1fff",
              "version_minor": 0,
              "version_major": 2
            },
            "text/plain": [
              "  0%|          | 0/30 [00:00<?, ?it/s]"
            ]
          },
          "metadata": {}
        },
        {
          "output_type": "display_data",
          "data": {
            "application/vnd.jupyter.widget-view+json": {
              "model_id": "86cc52c1b8ee4685b03f0d786af0c1d4",
              "version_minor": 0,
              "version_major": 2
            },
            "text/plain": [
              "  0%|          | 0/8 [00:00<?, ?it/s]"
            ]
          },
          "metadata": {}
        },
        {
          "output_type": "stream",
          "name": "stdout",
          "text": [
            "Mounted at /content/drive\n",
            "0.5927025880356385 0.6454352441613588\n"
          ]
        },
        {
          "output_type": "display_data",
          "data": {
            "application/vnd.jupyter.widget-view+json": {
              "model_id": "d884fa7c283b4e75a1e8b51def7901f9",
              "version_minor": 0,
              "version_major": 2
            },
            "text/plain": [
              "  0%|          | 0/30 [00:00<?, ?it/s]"
            ]
          },
          "metadata": {}
        },
        {
          "output_type": "display_data",
          "data": {
            "application/vnd.jupyter.widget-view+json": {
              "model_id": "e35cdb6c365e4b60b66d5b2a76878627",
              "version_minor": 0,
              "version_major": 2
            },
            "text/plain": [
              "  0%|          | 0/8 [00:00<?, ?it/s]"
            ]
          },
          "metadata": {}
        },
        {
          "output_type": "stream",
          "name": "stdout",
          "text": [
            "Mounted at /content/drive\n",
            "0.5825201527365295 0.673036093418259\n"
          ]
        },
        {
          "output_type": "display_data",
          "data": {
            "application/vnd.jupyter.widget-view+json": {
              "model_id": "3e7ce4e1e3b84653a635cc9745c97839",
              "version_minor": 0,
              "version_major": 2
            },
            "text/plain": [
              "  0%|          | 0/30 [00:00<?, ?it/s]"
            ]
          },
          "metadata": {}
        },
        {
          "output_type": "display_data",
          "data": {
            "application/vnd.jupyter.widget-view+json": {
              "model_id": "e9bab2e50fba497e9c886ced945e1a5e",
              "version_minor": 0,
              "version_major": 2
            },
            "text/plain": [
              "  0%|          | 0/8 [00:00<?, ?it/s]"
            ]
          },
          "metadata": {}
        },
        {
          "output_type": "stream",
          "name": "stdout",
          "text": [
            "Mounted at /content/drive\n",
            "0.6236741620704286 0.7303609341825902\n"
          ]
        },
        {
          "output_type": "display_data",
          "data": {
            "application/vnd.jupyter.widget-view+json": {
              "model_id": "bd5f4ffd094144b3b93afaa8f40e89b4",
              "version_minor": 0,
              "version_major": 2
            },
            "text/plain": [
              "  0%|          | 0/30 [00:00<?, ?it/s]"
            ]
          },
          "metadata": {}
        },
        {
          "output_type": "display_data",
          "data": {
            "application/vnd.jupyter.widget-view+json": {
              "model_id": "320ae89d2f3d4b5388f8b482a75d388b",
              "version_minor": 0,
              "version_major": 2
            },
            "text/plain": [
              "  0%|          | 0/8 [00:00<?, ?it/s]"
            ]
          },
          "metadata": {}
        },
        {
          "output_type": "stream",
          "name": "stdout",
          "text": [
            "Mounted at /content/drive\n",
            "0.62537123462028 0.6963906581740976\n"
          ]
        },
        {
          "output_type": "display_data",
          "data": {
            "application/vnd.jupyter.widget-view+json": {
              "model_id": "1520f8fd44a547548b8004f438711af4",
              "version_minor": 0,
              "version_major": 2
            },
            "text/plain": [
              "  0%|          | 0/30 [00:00<?, ?it/s]"
            ]
          },
          "metadata": {}
        },
        {
          "output_type": "display_data",
          "data": {
            "application/vnd.jupyter.widget-view+json": {
              "model_id": "0878dad56fcc468c9c15eb55769870a0",
              "version_minor": 0,
              "version_major": 2
            },
            "text/plain": [
              "  0%|          | 0/8 [00:00<?, ?it/s]"
            ]
          },
          "metadata": {}
        },
        {
          "output_type": "stream",
          "name": "stdout",
          "text": [
            "Mounted at /content/drive\n",
            "0.6347051336444635 0.732484076433121\n"
          ]
        },
        {
          "output_type": "display_data",
          "data": {
            "application/vnd.jupyter.widget-view+json": {
              "model_id": "6277c13c76134ce9b41280b6b12644e3",
              "version_minor": 0,
              "version_major": 2
            },
            "text/plain": [
              "  0%|          | 0/30 [00:00<?, ?it/s]"
            ]
          },
          "metadata": {}
        },
        {
          "output_type": "display_data",
          "data": {
            "application/vnd.jupyter.widget-view+json": {
              "model_id": "56ca8ae81aad47158c42de10297e984a",
              "version_minor": 0,
              "version_major": 2
            },
            "text/plain": [
              "  0%|          | 0/8 [00:00<?, ?it/s]"
            ]
          },
          "metadata": {}
        },
        {
          "output_type": "stream",
          "name": "stdout",
          "text": [
            "Mounted at /content/drive\n",
            "0.6622825625795501 0.7367303609341825\n"
          ]
        },
        {
          "output_type": "display_data",
          "data": {
            "application/vnd.jupyter.widget-view+json": {
              "model_id": "b43351c31f764d5ca333517b0b5ac3f5",
              "version_minor": 0,
              "version_major": 2
            },
            "text/plain": [
              "  0%|          | 0/30 [00:00<?, ?it/s]"
            ]
          },
          "metadata": {}
        },
        {
          "output_type": "display_data",
          "data": {
            "application/vnd.jupyter.widget-view+json": {
              "model_id": "b6cd858e0b1b42f1b24fcdb8c6931e31",
              "version_minor": 0,
              "version_major": 2
            },
            "text/plain": [
              "  0%|          | 0/8 [00:00<?, ?it/s]"
            ]
          },
          "metadata": {}
        },
        {
          "output_type": "stream",
          "name": "stdout",
          "text": [
            "Mounted at /content/drive\n",
            "0.6580398812049213 0.7261146496815286\n"
          ]
        },
        {
          "output_type": "display_data",
          "data": {
            "application/vnd.jupyter.widget-view+json": {
              "model_id": "7f8afd12c1c94498bac60f089b7267b1",
              "version_minor": 0,
              "version_major": 2
            },
            "text/plain": [
              "  0%|          | 0/30 [00:00<?, ?it/s]"
            ]
          },
          "metadata": {}
        },
        {
          "output_type": "display_data",
          "data": {
            "application/vnd.jupyter.widget-view+json": {
              "model_id": "96944f0dc19348639cf5302ec78837ff",
              "version_minor": 0,
              "version_major": 2
            },
            "text/plain": [
              "  0%|          | 0/8 [00:00<?, ?it/s]"
            ]
          },
          "metadata": {}
        },
        {
          "output_type": "stream",
          "name": "stdout",
          "text": [
            "Mounted at /content/drive\n",
            "0.6677980483665676 0.7537154989384288\n"
          ]
        },
        {
          "output_type": "display_data",
          "data": {
            "application/vnd.jupyter.widget-view+json": {
              "model_id": "14cbbf2b4f7c43cca6583ef995d1847f",
              "version_minor": 0,
              "version_major": 2
            },
            "text/plain": [
              "  0%|          | 0/30 [00:00<?, ?it/s]"
            ]
          },
          "metadata": {}
        },
        {
          "output_type": "display_data",
          "data": {
            "application/vnd.jupyter.widget-view+json": {
              "model_id": "4551b8fc2fd34e1a8d4f53c76c825377",
              "version_minor": 0,
              "version_major": 2
            },
            "text/plain": [
              "  0%|          | 0/8 [00:00<?, ?it/s]"
            ]
          },
          "metadata": {}
        },
        {
          "output_type": "stream",
          "name": "stdout",
          "text": [
            "Mounted at /content/drive\n",
            "0.6822231650403053 0.7558386411889596\n"
          ]
        },
        {
          "output_type": "display_data",
          "data": {
            "application/vnd.jupyter.widget-view+json": {
              "model_id": "3b0af7f7d2584752bb00193f837aa24a",
              "version_minor": 0,
              "version_major": 2
            },
            "text/plain": [
              "  0%|          | 0/30 [00:00<?, ?it/s]"
            ]
          },
          "metadata": {}
        },
        {
          "output_type": "display_data",
          "data": {
            "application/vnd.jupyter.widget-view+json": {
              "model_id": "b55813f647b3491fbc83c1577d423aa9",
              "version_minor": 0,
              "version_major": 2
            },
            "text/plain": [
              "  0%|          | 0/8 [00:00<?, ?it/s]"
            ]
          },
          "metadata": {}
        },
        {
          "output_type": "stream",
          "name": "stdout",
          "text": [
            "Mounted at /content/drive\n",
            "0.6907085277895629 0.7537154989384288\n"
          ]
        },
        {
          "output_type": "display_data",
          "data": {
            "application/vnd.jupyter.widget-view+json": {
              "model_id": "16d5bb8419594bb690b5a23c2f0fb259",
              "version_minor": 0,
              "version_major": 2
            },
            "text/plain": [
              "  0%|          | 0/30 [00:00<?, ?it/s]"
            ]
          },
          "metadata": {}
        },
        {
          "output_type": "display_data",
          "data": {
            "application/vnd.jupyter.widget-view+json": {
              "model_id": "852e743e55ee488c8e5cb563ec4fc5d1",
              "version_minor": 0,
              "version_major": 2
            },
            "text/plain": [
              "  0%|          | 0/8 [00:00<?, ?it/s]"
            ]
          },
          "metadata": {}
        },
        {
          "output_type": "stream",
          "name": "stdout",
          "text": [
            "Mounted at /content/drive\n",
            "0.6983453542638945 0.7452229299363057\n"
          ]
        },
        {
          "output_type": "display_data",
          "data": {
            "application/vnd.jupyter.widget-view+json": {
              "model_id": "973369eb96134ebba8aaea179bd10d4a",
              "version_minor": 0,
              "version_major": 2
            },
            "text/plain": [
              "  0%|          | 0/30 [00:00<?, ?it/s]"
            ]
          },
          "metadata": {}
        },
        {
          "output_type": "display_data",
          "data": {
            "application/vnd.jupyter.widget-view+json": {
              "model_id": "d805d3f2ac2a4e4da694c932930ed6eb",
              "version_minor": 0,
              "version_major": 2
            },
            "text/plain": [
              "  0%|          | 0/8 [00:00<?, ?it/s]"
            ]
          },
          "metadata": {}
        },
        {
          "output_type": "stream",
          "name": "stdout",
          "text": [
            "Mounted at /content/drive\n",
            "0.6996181586762832 0.7537154989384288\n"
          ]
        },
        {
          "output_type": "display_data",
          "data": {
            "application/vnd.jupyter.widget-view+json": {
              "model_id": "ea94484600a4499387e6f8592ec5726a",
              "version_minor": 0,
              "version_major": 2
            },
            "text/plain": [
              "  0%|          | 0/30 [00:00<?, ?it/s]"
            ]
          },
          "metadata": {}
        },
        {
          "output_type": "display_data",
          "data": {
            "application/vnd.jupyter.widget-view+json": {
              "model_id": "2de0adc017fe4b818fbfff4d734615e3",
              "version_minor": 0,
              "version_major": 2
            },
            "text/plain": [
              "  0%|          | 0/8 [00:00<?, ?it/s]"
            ]
          },
          "metadata": {}
        },
        {
          "output_type": "stream",
          "name": "stdout",
          "text": [
            "Mounted at /content/drive\n",
            "0.6928298684768771 0.7176220806794055\n"
          ]
        },
        {
          "output_type": "display_data",
          "data": {
            "application/vnd.jupyter.widget-view+json": {
              "model_id": "c358e064a8cc461e9125a21fbae35d9c",
              "version_minor": 0,
              "version_major": 2
            },
            "text/plain": [
              "  0%|          | 0/30 [00:00<?, ?it/s]"
            ]
          },
          "metadata": {}
        },
        {
          "output_type": "display_data",
          "data": {
            "application/vnd.jupyter.widget-view+json": {
              "model_id": "0636b31e27774c56923c101806ffaa1b",
              "version_minor": 0,
              "version_major": 2
            },
            "text/plain": [
              "  0%|          | 0/8 [00:00<?, ?it/s]"
            ]
          },
          "metadata": {}
        },
        {
          "output_type": "stream",
          "name": "stdout",
          "text": [
            "Mounted at /content/drive\n",
            "0.7000424268137461 0.732484076433121\n"
          ]
        },
        {
          "output_type": "display_data",
          "data": {
            "application/vnd.jupyter.widget-view+json": {
              "model_id": "7fcbcbb70e86423c84c1450336257d9c",
              "version_minor": 0,
              "version_major": 2
            },
            "text/plain": [
              "  0%|          | 0/30 [00:00<?, ?it/s]"
            ]
          },
          "metadata": {}
        },
        {
          "output_type": "display_data",
          "data": {
            "application/vnd.jupyter.widget-view+json": {
              "model_id": "500692fdaa7c447dbfc64d1f1eaf5098",
              "version_minor": 0,
              "version_major": 2
            },
            "text/plain": [
              "  0%|          | 0/8 [00:00<?, ?it/s]"
            ]
          },
          "metadata": {}
        },
        {
          "output_type": "stream",
          "name": "stdout",
          "text": [
            "Mounted at /content/drive\n",
            "0.7136190072125582 0.7685774946921443\n"
          ]
        },
        {
          "output_type": "display_data",
          "data": {
            "application/vnd.jupyter.widget-view+json": {
              "model_id": "8e41eb81c5ee4acc8fdfc631d7c08090",
              "version_minor": 0,
              "version_major": 2
            },
            "text/plain": [
              "  0%|          | 0/30 [00:00<?, ?it/s]"
            ]
          },
          "metadata": {}
        },
        {
          "output_type": "display_data",
          "data": {
            "application/vnd.jupyter.widget-view+json": {
              "model_id": "2849eb6ca1314085b81af844c3c4e07b",
              "version_minor": 0,
              "version_major": 2
            },
            "text/plain": [
              "  0%|          | 0/8 [00:00<?, ?it/s]"
            ]
          },
          "metadata": {}
        },
        {
          "output_type": "stream",
          "name": "stdout",
          "text": [
            "Mounted at /content/drive\n",
            "0.7305897327110732 0.7707006369426751\n"
          ]
        },
        {
          "output_type": "display_data",
          "data": {
            "application/vnd.jupyter.widget-view+json": {
              "model_id": "8619bcbc505a483aab077a21d855fbf4",
              "version_minor": 0,
              "version_major": 2
            },
            "text/plain": [
              "  0%|          | 0/30 [00:00<?, ?it/s]"
            ]
          },
          "metadata": {}
        },
        {
          "output_type": "display_data",
          "data": {
            "application/vnd.jupyter.widget-view+json": {
              "model_id": "469ca8fb161a402ba2c3b53dc36ef126",
              "version_minor": 0,
              "version_major": 2
            },
            "text/plain": [
              "  0%|          | 0/8 [00:00<?, ?it/s]"
            ]
          },
          "metadata": {}
        },
        {
          "output_type": "stream",
          "name": "stdout",
          "text": [
            "Mounted at /content/drive\n",
            "0.731438268985999 0.7898089171974522\n"
          ]
        },
        {
          "output_type": "display_data",
          "data": {
            "application/vnd.jupyter.widget-view+json": {
              "model_id": "d180622b775b4429af9c2557d7fc2da5",
              "version_minor": 0,
              "version_major": 2
            },
            "text/plain": [
              "  0%|          | 0/30 [00:00<?, ?it/s]"
            ]
          },
          "metadata": {}
        },
        {
          "output_type": "display_data",
          "data": {
            "application/vnd.jupyter.widget-view+json": {
              "model_id": "f1f3001f6094462ca8246366308972b9",
              "version_minor": 0,
              "version_major": 2
            },
            "text/plain": [
              "  0%|          | 0/8 [00:00<?, ?it/s]"
            ]
          },
          "metadata": {}
        },
        {
          "output_type": "stream",
          "name": "stdout",
          "text": [
            "Mounted at /content/drive\n",
            "0.7403478998727193 0.8259023354564755\n"
          ]
        },
        {
          "output_type": "display_data",
          "data": {
            "application/vnd.jupyter.widget-view+json": {
              "model_id": "f189b804b15449be9d16529c5ee9a12f",
              "version_minor": 0,
              "version_major": 2
            },
            "text/plain": [
              "  0%|          | 0/30 [00:00<?, ?it/s]"
            ]
          },
          "metadata": {}
        },
        {
          "output_type": "display_data",
          "data": {
            "application/vnd.jupyter.widget-view+json": {
              "model_id": "93451cc7c778415294c4787248f94ed8",
              "version_minor": 0,
              "version_major": 2
            },
            "text/plain": [
              "  0%|          | 0/8 [00:00<?, ?it/s]"
            ]
          },
          "metadata": {}
        },
        {
          "output_type": "stream",
          "name": "stdout",
          "text": [
            "Mounted at /content/drive\n",
            "0.7433177768349594 0.7749469214437367\n"
          ]
        },
        {
          "output_type": "display_data",
          "data": {
            "application/vnd.jupyter.widget-view+json": {
              "model_id": "8fb39bfda8484d21b008516bb46f00f7",
              "version_minor": 0,
              "version_major": 2
            },
            "text/plain": [
              "  0%|          | 0/30 [00:00<?, ?it/s]"
            ]
          },
          "metadata": {}
        },
        {
          "output_type": "display_data",
          "data": {
            "application/vnd.jupyter.widget-view+json": {
              "model_id": "b8cf4c6b215646c79faec5f58d1268ac",
              "version_minor": 0,
              "version_major": 2
            },
            "text/plain": [
              "  0%|          | 0/8 [00:00<?, ?it/s]"
            ]
          },
          "metadata": {}
        },
        {
          "output_type": "stream",
          "name": "stdout",
          "text": [
            "Mounted at /content/drive\n",
            "0.7484089944845138 0.7855626326963906\n"
          ]
        },
        {
          "output_type": "display_data",
          "data": {
            "application/vnd.jupyter.widget-view+json": {
              "model_id": "7d0f835620f2421db5765908e45d9582",
              "version_minor": 0,
              "version_major": 2
            },
            "text/plain": [
              "  0%|          | 0/30 [00:00<?, ?it/s]"
            ]
          },
          "metadata": {}
        },
        {
          "output_type": "display_data",
          "data": {
            "application/vnd.jupyter.widget-view+json": {
              "model_id": "2748254f41d94810a610aa56ba7f1f8b",
              "version_minor": 0,
              "version_major": 2
            },
            "text/plain": [
              "  0%|          | 0/8 [00:00<?, ?it/s]"
            ]
          },
          "metadata": {}
        },
        {
          "output_type": "stream",
          "name": "stdout",
          "text": [
            "Mounted at /content/drive\n",
            "0.7492575307594397 0.7983014861995753\n"
          ]
        },
        {
          "output_type": "display_data",
          "data": {
            "application/vnd.jupyter.widget-view+json": {
              "model_id": "a3baeba32f9f4228812e34fb49f18907",
              "version_minor": 0,
              "version_major": 2
            },
            "text/plain": [
              "  0%|          | 0/30 [00:00<?, ?it/s]"
            ]
          },
          "metadata": {}
        },
        {
          "output_type": "display_data",
          "data": {
            "application/vnd.jupyter.widget-view+json": {
              "model_id": "0771e24f431f4c7ea6f12ab97eeda0af",
              "version_minor": 0,
              "version_major": 2
            },
            "text/plain": [
              "  0%|          | 0/8 [00:00<?, ?it/s]"
            ]
          },
          "metadata": {}
        },
        {
          "output_type": "stream",
          "name": "stdout",
          "text": [
            "Mounted at /content/drive\n",
            "0.7632583792957145 0.7940552016985137\n"
          ]
        },
        {
          "output_type": "display_data",
          "data": {
            "application/vnd.jupyter.widget-view+json": {
              "model_id": "ad5e34d2be1f420686c0d4373a1e0404",
              "version_minor": 0,
              "version_major": 2
            },
            "text/plain": [
              "  0%|          | 0/30 [00:00<?, ?it/s]"
            ]
          },
          "metadata": {}
        },
        {
          "output_type": "display_data",
          "data": {
            "application/vnd.jupyter.widget-view+json": {
              "model_id": "d839e870afdb4ed1977985e837df9b45",
              "version_minor": 0,
              "version_major": 2
            },
            "text/plain": [
              "  0%|          | 0/8 [00:00<?, ?it/s]"
            ]
          },
          "metadata": {}
        },
        {
          "output_type": "stream",
          "name": "stdout",
          "text": [
            "Mounted at /content/drive\n",
            "0.7551972846839198 0.8195329087048832\n"
          ]
        },
        {
          "output_type": "display_data",
          "data": {
            "application/vnd.jupyter.widget-view+json": {
              "model_id": "97f9b6547a8f439baeda493fc7143e3b",
              "version_minor": 0,
              "version_major": 2
            },
            "text/plain": [
              "  0%|          | 0/30 [00:00<?, ?it/s]"
            ]
          },
          "metadata": {}
        },
        {
          "output_type": "display_data",
          "data": {
            "application/vnd.jupyter.widget-view+json": {
              "model_id": "44d419bf07274bc895b9826e5573ea7e",
              "version_minor": 0,
              "version_major": 2
            },
            "text/plain": [
              "  0%|          | 0/8 [00:00<?, ?it/s]"
            ]
          },
          "metadata": {}
        },
        {
          "output_type": "stream",
          "name": "stdout",
          "text": [
            "Mounted at /content/drive\n",
            "0.7590156979210858 0.7791932059447982\n"
          ]
        },
        {
          "output_type": "display_data",
          "data": {
            "application/vnd.jupyter.widget-view+json": {
              "model_id": "bd939fa63f854a20907a4e631bbe84c8",
              "version_minor": 0,
              "version_major": 2
            },
            "text/plain": [
              "  0%|          | 0/30 [00:00<?, ?it/s]"
            ]
          },
          "metadata": {}
        },
        {
          "output_type": "display_data",
          "data": {
            "application/vnd.jupyter.widget-view+json": {
              "model_id": "b00206d8897945cc832435421040aedc",
              "version_minor": 0,
              "version_major": 2
            },
            "text/plain": [
              "  0%|          | 0/8 [00:00<?, ?it/s]"
            ]
          },
          "metadata": {}
        },
        {
          "output_type": "stream",
          "name": "stdout",
          "text": [
            "Mounted at /content/drive\n",
            "0.7645311837081032 0.7940552016985137\n"
          ]
        },
        {
          "output_type": "display_data",
          "data": {
            "application/vnd.jupyter.widget-view+json": {
              "model_id": "10c57560fdd34a2192d1222de1e1faae",
              "version_minor": 0,
              "version_major": 2
            },
            "text/plain": [
              "  0%|          | 0/30 [00:00<?, ?it/s]"
            ]
          },
          "metadata": {}
        },
        {
          "output_type": "display_data",
          "data": {
            "application/vnd.jupyter.widget-view+json": {
              "model_id": "809a78d28a744c0c8d49729edde42015",
              "version_minor": 0,
              "version_major": 2
            },
            "text/plain": [
              "  0%|          | 0/8 [00:00<?, ?it/s]"
            ]
          },
          "metadata": {}
        },
        {
          "output_type": "stream",
          "name": "stdout",
          "text": [
            "Mounted at /content/drive\n",
            "0.7641069155706404 0.7961783439490445\n"
          ]
        },
        {
          "output_type": "display_data",
          "data": {
            "application/vnd.jupyter.widget-view+json": {
              "model_id": "d1f9cb3cbd6845f1acbe62618eee0c8f",
              "version_minor": 0,
              "version_major": 2
            },
            "text/plain": [
              "  0%|          | 0/30 [00:00<?, ?it/s]"
            ]
          },
          "metadata": {}
        },
        {
          "output_type": "display_data",
          "data": {
            "application/vnd.jupyter.widget-view+json": {
              "model_id": "a2d84017a68c47b883d0e989b8e3a68f",
              "version_minor": 0,
              "version_major": 2
            },
            "text/plain": [
              "  0%|          | 0/8 [00:00<?, ?it/s]"
            ]
          },
          "metadata": {}
        },
        {
          "output_type": "stream",
          "name": "stdout",
          "text": [
            "Mounted at /content/drive\n",
            "0.7628341111582517 0.791932059447983\n",
            "------------fold no---------4----------------------\n"
          ]
        },
        {
          "output_type": "display_data",
          "data": {
            "application/vnd.jupyter.widget-view+json": {
              "model_id": "53a31582991c4e0882cf79a28e4049fd",
              "version_minor": 0,
              "version_major": 2
            },
            "text/plain": [
              "  0%|          | 0/30 [00:00<?, ?it/s]"
            ]
          },
          "metadata": {}
        },
        {
          "output_type": "display_data",
          "data": {
            "application/vnd.jupyter.widget-view+json": {
              "model_id": "b4b5cb91f0944f828a9db03c27f0fcaf",
              "version_minor": 0,
              "version_major": 2
            },
            "text/plain": [
              "  0%|          | 0/8 [00:00<?, ?it/s]"
            ]
          },
          "metadata": {}
        },
        {
          "output_type": "stream",
          "name": "stdout",
          "text": [
            "Mounted at /content/drive\n",
            "0.11327959270258806 0.16772823779193205\n"
          ]
        },
        {
          "output_type": "display_data",
          "data": {
            "application/vnd.jupyter.widget-view+json": {
              "model_id": "3897da73d7cd428599f58b367fe65f44",
              "version_minor": 0,
              "version_major": 2
            },
            "text/plain": [
              "  0%|          | 0/30 [00:00<?, ?it/s]"
            ]
          },
          "metadata": {}
        },
        {
          "output_type": "display_data",
          "data": {
            "application/vnd.jupyter.widget-view+json": {
              "model_id": "96b8a0bd8a1e47b6a77982f6914f8686",
              "version_minor": 0,
              "version_major": 2
            },
            "text/plain": [
              "  0%|          | 0/8 [00:00<?, ?it/s]"
            ]
          },
          "metadata": {}
        },
        {
          "output_type": "stream",
          "name": "stdout",
          "text": [
            "Mounted at /content/drive\n",
            "0.1302503182011031 0.15711252653927812\n"
          ]
        },
        {
          "output_type": "display_data",
          "data": {
            "application/vnd.jupyter.widget-view+json": {
              "model_id": "0fcb7f827fdb40859eed0a855091523b",
              "version_minor": 0,
              "version_major": 2
            },
            "text/plain": [
              "  0%|          | 0/30 [00:00<?, ?it/s]"
            ]
          },
          "metadata": {}
        },
        {
          "output_type": "display_data",
          "data": {
            "application/vnd.jupyter.widget-view+json": {
              "model_id": "716221a524974b2ca6f0bcb6c6c15a73",
              "version_minor": 0,
              "version_major": 2
            },
            "text/plain": [
              "  0%|          | 0/8 [00:00<?, ?it/s]"
            ]
          },
          "metadata": {}
        },
        {
          "output_type": "stream",
          "name": "stdout",
          "text": [
            "Mounted at /content/drive\n",
            "0.15316079762409843 0.25902335456475584\n"
          ]
        },
        {
          "output_type": "display_data",
          "data": {
            "application/vnd.jupyter.widget-view+json": {
              "model_id": "ad25ac61b20e417a984eb6da6aeb1fb2",
              "version_minor": 0,
              "version_major": 2
            },
            "text/plain": [
              "  0%|          | 0/30 [00:00<?, ?it/s]"
            ]
          },
          "metadata": {}
        },
        {
          "output_type": "display_data",
          "data": {
            "application/vnd.jupyter.widget-view+json": {
              "model_id": "f719876261e34f48be2b58e4d13de3e6",
              "version_minor": 0,
              "version_major": 2
            },
            "text/plain": [
              "  0%|          | 0/8 [00:00<?, ?it/s]"
            ]
          },
          "metadata": {}
        },
        {
          "output_type": "stream",
          "name": "stdout",
          "text": [
            "Mounted at /content/drive\n",
            "0.20873992363173519 0.3205944798301486\n"
          ]
        },
        {
          "output_type": "display_data",
          "data": {
            "application/vnd.jupyter.widget-view+json": {
              "model_id": "b6a8d40c39334d84a413c12dbdf92f92",
              "version_minor": 0,
              "version_major": 2
            },
            "text/plain": [
              "  0%|          | 0/30 [00:00<?, ?it/s]"
            ]
          },
          "metadata": {}
        },
        {
          "output_type": "display_data",
          "data": {
            "application/vnd.jupyter.widget-view+json": {
              "model_id": "5ed19dba87b34413a07fe43e82d5668b",
              "version_minor": 0,
              "version_major": 2
            },
            "text/plain": [
              "  0%|          | 0/8 [00:00<?, ?it/s]"
            ]
          },
          "metadata": {}
        },
        {
          "output_type": "stream",
          "name": "stdout",
          "text": [
            "Mounted at /content/drive\n",
            "0.2655918540517607 0.39702760084925687\n"
          ]
        },
        {
          "output_type": "display_data",
          "data": {
            "application/vnd.jupyter.widget-view+json": {
              "model_id": "34748798fc7747be96f0ec29e281a936",
              "version_minor": 0,
              "version_major": 2
            },
            "text/plain": [
              "  0%|          | 0/30 [00:00<?, ?it/s]"
            ]
          },
          "metadata": {}
        },
        {
          "output_type": "display_data",
          "data": {
            "application/vnd.jupyter.widget-view+json": {
              "model_id": "9fdad7b7ce854c65825cbcf50085607b",
              "version_minor": 0,
              "version_major": 2
            },
            "text/plain": [
              "  0%|          | 0/8 [00:00<?, ?it/s]"
            ]
          },
          "metadata": {}
        },
        {
          "output_type": "stream",
          "name": "stdout",
          "text": [
            "Mounted at /content/drive\n",
            "0.3241408570216376 0.4097664543524416\n"
          ]
        },
        {
          "output_type": "display_data",
          "data": {
            "application/vnd.jupyter.widget-view+json": {
              "model_id": "d04ddbe9e096401fbfb3145aa81094b3",
              "version_minor": 0,
              "version_major": 2
            },
            "text/plain": [
              "  0%|          | 0/30 [00:00<?, ?it/s]"
            ]
          },
          "metadata": {}
        },
        {
          "output_type": "display_data",
          "data": {
            "application/vnd.jupyter.widget-view+json": {
              "model_id": "e2531189965742868319a114e27cebf1",
              "version_minor": 0,
              "version_major": 2
            },
            "text/plain": [
              "  0%|          | 0/8 [00:00<?, ?it/s]"
            ]
          },
          "metadata": {}
        },
        {
          "output_type": "stream",
          "name": "stdout",
          "text": [
            "Mounted at /content/drive\n",
            "0.4026304624522698 0.49893842887473455\n"
          ]
        },
        {
          "output_type": "display_data",
          "data": {
            "application/vnd.jupyter.widget-view+json": {
              "model_id": "93610cc5556942bc9690ba238b77aa23",
              "version_minor": 0,
              "version_major": 2
            },
            "text/plain": [
              "  0%|          | 0/30 [00:00<?, ?it/s]"
            ]
          },
          "metadata": {}
        },
        {
          "output_type": "display_data",
          "data": {
            "application/vnd.jupyter.widget-view+json": {
              "model_id": "a052d603bc8647848acd9098cdde892a",
              "version_minor": 0,
              "version_major": 2
            },
            "text/plain": [
              "  0%|          | 0/8 [00:00<?, ?it/s]"
            ]
          },
          "metadata": {}
        },
        {
          "output_type": "stream",
          "name": "stdout",
          "text": [
            "Mounted at /content/drive\n",
            "0.45311837081035217 0.5605095541401274\n"
          ]
        },
        {
          "output_type": "display_data",
          "data": {
            "application/vnd.jupyter.widget-view+json": {
              "model_id": "1af86fb6d93249ac968366769b39afe2",
              "version_minor": 0,
              "version_major": 2
            },
            "text/plain": [
              "  0%|          | 0/30 [00:00<?, ?it/s]"
            ]
          },
          "metadata": {}
        },
        {
          "output_type": "display_data",
          "data": {
            "application/vnd.jupyter.widget-view+json": {
              "model_id": "89b645344c984956b4b21d76409eb841",
              "version_minor": 0,
              "version_major": 2
            },
            "text/plain": [
              "  0%|          | 0/8 [00:00<?, ?it/s]"
            ]
          },
          "metadata": {}
        },
        {
          "output_type": "stream",
          "name": "stdout",
          "text": [
            "Mounted at /content/drive\n",
            "0.46287653797199835 0.5923566878980892\n"
          ]
        },
        {
          "output_type": "display_data",
          "data": {
            "application/vnd.jupyter.widget-view+json": {
              "model_id": "653b1ad6582a4b6dacfaa464ddb3bfe8",
              "version_minor": 0,
              "version_major": 2
            },
            "text/plain": [
              "  0%|          | 0/30 [00:00<?, ?it/s]"
            ]
          },
          "metadata": {}
        },
        {
          "output_type": "display_data",
          "data": {
            "application/vnd.jupyter.widget-view+json": {
              "model_id": "0f83c6b138514bb1ad967d3c683399a8",
              "version_minor": 0,
              "version_major": 2
            },
            "text/plain": [
              "  0%|          | 0/8 [00:00<?, ?it/s]"
            ]
          },
          "metadata": {}
        },
        {
          "output_type": "stream",
          "name": "stdout",
          "text": [
            "Mounted at /content/drive\n",
            "0.48027153160797637 0.6305732484076433\n"
          ]
        },
        {
          "output_type": "display_data",
          "data": {
            "application/vnd.jupyter.widget-view+json": {
              "model_id": "f8ec6ebfa2764c49a330f9e8a65a2d16",
              "version_minor": 0,
              "version_major": 2
            },
            "text/plain": [
              "  0%|          | 0/30 [00:00<?, ?it/s]"
            ]
          },
          "metadata": {}
        },
        {
          "output_type": "display_data",
          "data": {
            "application/vnd.jupyter.widget-view+json": {
              "model_id": "9116c66d4a1647aa82c7ff20b98dd31e",
              "version_minor": 0,
              "version_major": 2
            },
            "text/plain": [
              "  0%|          | 0/8 [00:00<?, ?it/s]"
            ]
          },
          "metadata": {}
        },
        {
          "output_type": "stream",
          "name": "stdout",
          "text": [
            "Mounted at /content/drive\n",
            "0.5299109036911328 0.6348195329087049\n"
          ]
        },
        {
          "output_type": "display_data",
          "data": {
            "application/vnd.jupyter.widget-view+json": {
              "model_id": "fcd21b001c964ed78c1a0b7142a5ad6d",
              "version_minor": 0,
              "version_major": 2
            },
            "text/plain": [
              "  0%|          | 0/30 [00:00<?, ?it/s]"
            ]
          },
          "metadata": {}
        },
        {
          "output_type": "display_data",
          "data": {
            "application/vnd.jupyter.widget-view+json": {
              "model_id": "6fda52a593f748e18d85510433037fce",
              "version_minor": 0,
              "version_major": 2
            },
            "text/plain": [
              "  0%|          | 0/8 [00:00<?, ?it/s]"
            ]
          },
          "metadata": {}
        },
        {
          "output_type": "stream",
          "name": "stdout",
          "text": [
            "Mounted at /content/drive\n",
            "0.5303351718285956 0.5774946921443737\n"
          ]
        },
        {
          "output_type": "display_data",
          "data": {
            "application/vnd.jupyter.widget-view+json": {
              "model_id": "a077fc53b64847a3b990819ae00bf27c",
              "version_minor": 0,
              "version_major": 2
            },
            "text/plain": [
              "  0%|          | 0/30 [00:00<?, ?it/s]"
            ]
          },
          "metadata": {}
        },
        {
          "output_type": "display_data",
          "data": {
            "application/vnd.jupyter.widget-view+json": {
              "model_id": "50089f7e50334141a9ffcf3dc182bd75",
              "version_minor": 0,
              "version_major": 2
            },
            "text/plain": [
              "  0%|          | 0/8 [00:00<?, ?it/s]"
            ]
          },
          "metadata": {}
        },
        {
          "output_type": "stream",
          "name": "stdout",
          "text": [
            "Mounted at /content/drive\n",
            "0.5490029698769623 0.6539278131634819\n"
          ]
        },
        {
          "output_type": "display_data",
          "data": {
            "application/vnd.jupyter.widget-view+json": {
              "model_id": "691d33c4e01345cb8ab9117f08b88664",
              "version_minor": 0,
              "version_major": 2
            },
            "text/plain": [
              "  0%|          | 0/30 [00:00<?, ?it/s]"
            ]
          },
          "metadata": {}
        },
        {
          "output_type": "display_data",
          "data": {
            "application/vnd.jupyter.widget-view+json": {
              "model_id": "933cc457ebca419aa8b24d6aed592ce1",
              "version_minor": 0,
              "version_major": 2
            },
            "text/plain": [
              "  0%|          | 0/8 [00:00<?, ?it/s]"
            ]
          },
          "metadata": {}
        },
        {
          "output_type": "stream",
          "name": "stdout",
          "text": [
            "Mounted at /content/drive\n",
            "0.5829444208739921 0.6751592356687898\n"
          ]
        },
        {
          "output_type": "display_data",
          "data": {
            "application/vnd.jupyter.widget-view+json": {
              "model_id": "1c89bd93e26f46b1aedcbd7f6c56997d",
              "version_minor": 0,
              "version_major": 2
            },
            "text/plain": [
              "  0%|          | 0/30 [00:00<?, ?it/s]"
            ]
          },
          "metadata": {}
        },
        {
          "output_type": "display_data",
          "data": {
            "application/vnd.jupyter.widget-view+json": {
              "model_id": "12ad4b1ec5db42d789af84dc181f305d",
              "version_minor": 0,
              "version_major": 2
            },
            "text/plain": [
              "  0%|          | 0/8 [00:00<?, ?it/s]"
            ]
          },
          "metadata": {}
        },
        {
          "output_type": "stream",
          "name": "stdout",
          "text": [
            "Mounted at /content/drive\n",
            "0.5736105218498091 0.6709129511677282\n"
          ]
        },
        {
          "output_type": "display_data",
          "data": {
            "application/vnd.jupyter.widget-view+json": {
              "model_id": "ff0ac0d5396a4268b449c42702fc085b",
              "version_minor": 0,
              "version_major": 2
            },
            "text/plain": [
              "  0%|          | 0/30 [00:00<?, ?it/s]"
            ]
          },
          "metadata": {}
        },
        {
          "output_type": "display_data",
          "data": {
            "application/vnd.jupyter.widget-view+json": {
              "model_id": "26a121be10cb4aaebe36df216aa0b668",
              "version_minor": 0,
              "version_major": 2
            },
            "text/plain": [
              "  0%|          | 0/8 [00:00<?, ?it/s]"
            ]
          },
          "metadata": {}
        },
        {
          "output_type": "stream",
          "name": "stdout",
          "text": [
            "Mounted at /content/drive\n",
            "0.6109461179465421 0.6985138004246284\n"
          ]
        },
        {
          "output_type": "display_data",
          "data": {
            "application/vnd.jupyter.widget-view+json": {
              "model_id": "da2b11c52e034289a401aa6ff8973974",
              "version_minor": 0,
              "version_major": 2
            },
            "text/plain": [
              "  0%|          | 0/30 [00:00<?, ?it/s]"
            ]
          },
          "metadata": {}
        },
        {
          "output_type": "display_data",
          "data": {
            "application/vnd.jupyter.widget-view+json": {
              "model_id": "d76b63ba991140e4853fb3ce0f5a910c",
              "version_minor": 0,
              "version_major": 2
            },
            "text/plain": [
              "  0%|          | 0/8 [00:00<?, ?it/s]"
            ]
          },
          "metadata": {}
        },
        {
          "output_type": "stream",
          "name": "stdout",
          "text": [
            "Mounted at /content/drive\n",
            "0.6325837929571488 0.732484076433121\n"
          ]
        },
        {
          "output_type": "display_data",
          "data": {
            "application/vnd.jupyter.widget-view+json": {
              "model_id": "a8474fbab9274790871d96b418d64608",
              "version_minor": 0,
              "version_major": 2
            },
            "text/plain": [
              "  0%|          | 0/30 [00:00<?, ?it/s]"
            ]
          },
          "metadata": {}
        },
        {
          "output_type": "display_data",
          "data": {
            "application/vnd.jupyter.widget-view+json": {
              "model_id": "797dbfd453cf47b6917ed0cf58e320eb",
              "version_minor": 0,
              "version_major": 2
            },
            "text/plain": [
              "  0%|          | 0/8 [00:00<?, ?it/s]"
            ]
          },
          "metadata": {}
        },
        {
          "output_type": "stream",
          "name": "stdout",
          "text": [
            "Mounted at /content/drive\n",
            "0.6368264743317777 0.6815286624203821\n"
          ]
        },
        {
          "output_type": "display_data",
          "data": {
            "application/vnd.jupyter.widget-view+json": {
              "model_id": "63d1b22996c34a338d5c537b8e4ef44f",
              "version_minor": 0,
              "version_major": 2
            },
            "text/plain": [
              "  0%|          | 0/30 [00:00<?, ?it/s]"
            ]
          },
          "metadata": {}
        },
        {
          "output_type": "display_data",
          "data": {
            "application/vnd.jupyter.widget-view+json": {
              "model_id": "3dbe67d5dc2347e18a05963ae2d0da91",
              "version_minor": 0,
              "version_major": 2
            },
            "text/plain": [
              "  0%|          | 0/8 [00:00<?, ?it/s]"
            ]
          },
          "metadata": {}
        },
        {
          "output_type": "stream",
          "name": "stdout",
          "text": [
            "Mounted at /content/drive\n",
            "0.6482817140432754 0.6772823779193206\n"
          ]
        },
        {
          "output_type": "display_data",
          "data": {
            "application/vnd.jupyter.widget-view+json": {
              "model_id": "f4d29c08aeea4fd2ad0869c435effa33",
              "version_minor": 0,
              "version_major": 2
            },
            "text/plain": [
              "  0%|          | 0/30 [00:00<?, ?it/s]"
            ]
          },
          "metadata": {}
        },
        {
          "output_type": "display_data",
          "data": {
            "application/vnd.jupyter.widget-view+json": {
              "model_id": "12932ada15144e8ab03fb4f633cd0e54",
              "version_minor": 0,
              "version_major": 2
            },
            "text/plain": [
              "  0%|          | 0/8 [00:00<?, ?it/s]"
            ]
          },
          "metadata": {}
        },
        {
          "output_type": "stream",
          "name": "stdout",
          "text": [
            "Mounted at /content/drive\n",
            "0.6550700042426812 0.7409766454352441\n"
          ]
        },
        {
          "output_type": "display_data",
          "data": {
            "application/vnd.jupyter.widget-view+json": {
              "model_id": "a6da893a5daa44a891a53f8d74f070ab",
              "version_minor": 0,
              "version_major": 2
            },
            "text/plain": [
              "  0%|          | 0/30 [00:00<?, ?it/s]"
            ]
          },
          "metadata": {}
        },
        {
          "output_type": "display_data",
          "data": {
            "application/vnd.jupyter.widget-view+json": {
              "model_id": "d218c555be7a421cb4c6e414f21c9583",
              "version_minor": 0,
              "version_major": 2
            },
            "text/plain": [
              "  0%|          | 0/8 [00:00<?, ?it/s]"
            ]
          },
          "metadata": {}
        },
        {
          "output_type": "stream",
          "name": "stdout",
          "text": [
            "Mounted at /content/drive\n",
            "0.6805260924904538 0.70276008492569\n"
          ]
        },
        {
          "output_type": "display_data",
          "data": {
            "application/vnd.jupyter.widget-view+json": {
              "model_id": "c8dcaf5297a14c96958e5d808aa7fc6b",
              "version_minor": 0,
              "version_major": 2
            },
            "text/plain": [
              "  0%|          | 0/30 [00:00<?, ?it/s]"
            ]
          },
          "metadata": {}
        },
        {
          "output_type": "display_data",
          "data": {
            "application/vnd.jupyter.widget-view+json": {
              "model_id": "3a605a73d938470a90acc327ae66e496",
              "version_minor": 0,
              "version_major": 2
            },
            "text/plain": [
              "  0%|          | 0/8 [00:00<?, ?it/s]"
            ]
          },
          "metadata": {}
        },
        {
          "output_type": "stream",
          "name": "stdout",
          "text": [
            "Mounted at /content/drive\n",
            "0.6767076792532879 0.7197452229299363\n"
          ]
        },
        {
          "output_type": "display_data",
          "data": {
            "application/vnd.jupyter.widget-view+json": {
              "model_id": "03c9b063440b4512a38730503c9b935a",
              "version_minor": 0,
              "version_major": 2
            },
            "text/plain": [
              "  0%|          | 0/30 [00:00<?, ?it/s]"
            ]
          },
          "metadata": {}
        },
        {
          "output_type": "display_data",
          "data": {
            "application/vnd.jupyter.widget-view+json": {
              "model_id": "66fd6688d41a49308ef257afb10388f4",
              "version_minor": 0,
              "version_major": 2
            },
            "text/plain": [
              "  0%|          | 0/8 [00:00<?, ?it/s]"
            ]
          },
          "metadata": {}
        },
        {
          "output_type": "stream",
          "name": "stdout",
          "text": [
            "Mounted at /content/drive\n",
            "0.6970725498515059 0.7452229299363057\n"
          ]
        },
        {
          "output_type": "display_data",
          "data": {
            "application/vnd.jupyter.widget-view+json": {
              "model_id": "65250f8f1fb947deab7bcaea63200ff7",
              "version_minor": 0,
              "version_major": 2
            },
            "text/plain": [
              "  0%|          | 0/30 [00:00<?, ?it/s]"
            ]
          },
          "metadata": {}
        },
        {
          "output_type": "display_data",
          "data": {
            "application/vnd.jupyter.widget-view+json": {
              "model_id": "2b2445b39177440b85883652c443838c",
              "version_minor": 0,
              "version_major": 2
            },
            "text/plain": [
              "  0%|          | 0/8 [00:00<?, ?it/s]"
            ]
          },
          "metadata": {}
        },
        {
          "output_type": "stream",
          "name": "stdout",
          "text": [
            "Mounted at /content/drive\n",
            "0.7034365719134491 0.7367303609341825\n"
          ]
        },
        {
          "output_type": "display_data",
          "data": {
            "application/vnd.jupyter.widget-view+json": {
              "model_id": "2b5102499f5f4774b3c85c6ce1c7835d",
              "version_minor": 0,
              "version_major": 2
            },
            "text/plain": [
              "  0%|          | 0/30 [00:00<?, ?it/s]"
            ]
          },
          "metadata": {}
        },
        {
          "output_type": "display_data",
          "data": {
            "application/vnd.jupyter.widget-view+json": {
              "model_id": "3cb1c160c1c7464e84045187cc764e18",
              "version_minor": 0,
              "version_major": 2
            },
            "text/plain": [
              "  0%|          | 0/8 [00:00<?, ?it/s]"
            ]
          },
          "metadata": {}
        },
        {
          "output_type": "stream",
          "name": "stdout",
          "text": [
            "Mounted at /content/drive\n",
            "0.7017394993635976 0.7600849256900212\n"
          ]
        },
        {
          "output_type": "display_data",
          "data": {
            "application/vnd.jupyter.widget-view+json": {
              "model_id": "70e906a81ab548bda042432321fde916",
              "version_minor": 0,
              "version_major": 2
            },
            "text/plain": [
              "  0%|          | 0/30 [00:00<?, ?it/s]"
            ]
          },
          "metadata": {}
        },
        {
          "output_type": "display_data",
          "data": {
            "application/vnd.jupyter.widget-view+json": {
              "model_id": "117e83c99e824a44bbbbc7a995edb0c5",
              "version_minor": 0,
              "version_major": 2
            },
            "text/plain": [
              "  0%|          | 0/8 [00:00<?, ?it/s]"
            ]
          },
          "metadata": {}
        },
        {
          "output_type": "stream",
          "name": "stdout",
          "text": [
            "Mounted at /content/drive\n",
            "0.7161646160373354 0.732484076433121\n"
          ]
        },
        {
          "output_type": "display_data",
          "data": {
            "application/vnd.jupyter.widget-view+json": {
              "model_id": "68fb11c74a5a450998b31f618b777abc",
              "version_minor": 0,
              "version_major": 2
            },
            "text/plain": [
              "  0%|          | 0/30 [00:00<?, ?it/s]"
            ]
          },
          "metadata": {}
        },
        {
          "output_type": "display_data",
          "data": {
            "application/vnd.jupyter.widget-view+json": {
              "model_id": "b390c80a6f7843d88d7cabb72fd84a46",
              "version_minor": 0,
              "version_major": 2
            },
            "text/plain": [
              "  0%|          | 0/8 [00:00<?, ?it/s]"
            ]
          },
          "metadata": {}
        },
        {
          "output_type": "stream",
          "name": "stdout",
          "text": [
            "Mounted at /content/drive\n",
            "0.7178616885871868 0.751592356687898\n"
          ]
        },
        {
          "output_type": "display_data",
          "data": {
            "application/vnd.jupyter.widget-view+json": {
              "model_id": "389233c924c34072a1119458853d960b",
              "version_minor": 0,
              "version_major": 2
            },
            "text/plain": [
              "  0%|          | 0/30 [00:00<?, ?it/s]"
            ]
          },
          "metadata": {}
        },
        {
          "output_type": "display_data",
          "data": {
            "application/vnd.jupyter.widget-view+json": {
              "model_id": "aa93df76a0ba4646b5ec1b3a916ddc1a",
              "version_minor": 0,
              "version_major": 2
            },
            "text/plain": [
              "  0%|          | 0/8 [00:00<?, ?it/s]"
            ]
          },
          "metadata": {}
        },
        {
          "output_type": "stream",
          "name": "stdout",
          "text": [
            "Mounted at /content/drive\n",
            "0.7314382689859987 0.7791932059447982\n"
          ]
        },
        {
          "output_type": "display_data",
          "data": {
            "application/vnd.jupyter.widget-view+json": {
              "model_id": "1993d8fe22794838a22ea4f16c6eb1b2",
              "version_minor": 0,
              "version_major": 2
            },
            "text/plain": [
              "  0%|          | 0/30 [00:00<?, ?it/s]"
            ]
          },
          "metadata": {}
        },
        {
          "output_type": "display_data",
          "data": {
            "application/vnd.jupyter.widget-view+json": {
              "model_id": "62ae64631aab4c56bd414a06aaace08a",
              "version_minor": 0,
              "version_major": 2
            },
            "text/plain": [
              "  0%|          | 0/8 [00:00<?, ?it/s]"
            ]
          },
          "metadata": {}
        },
        {
          "output_type": "stream",
          "name": "stdout",
          "text": [
            "Mounted at /content/drive\n",
            "0.730589732711073 0.7876857749469214\n"
          ]
        },
        {
          "output_type": "display_data",
          "data": {
            "application/vnd.jupyter.widget-view+json": {
              "model_id": "f5ca969a0f23483abdbe0518312da310",
              "version_minor": 0,
              "version_major": 2
            },
            "text/plain": [
              "  0%|          | 0/30 [00:00<?, ?it/s]"
            ]
          },
          "metadata": {}
        },
        {
          "output_type": "display_data",
          "data": {
            "application/vnd.jupyter.widget-view+json": {
              "model_id": "bb8bedc8af9c41ca9aad4db710e1bb5c",
              "version_minor": 0,
              "version_major": 2
            },
            "text/plain": [
              "  0%|          | 0/8 [00:00<?, ?it/s]"
            ]
          },
          "metadata": {}
        },
        {
          "output_type": "stream",
          "name": "stdout",
          "text": [
            "Mounted at /content/drive\n",
            "0.7352566822231649 0.7749469214437367\n"
          ]
        },
        {
          "output_type": "display_data",
          "data": {
            "application/vnd.jupyter.widget-view+json": {
              "model_id": "4124987f95c64bbabbd96603685e34eb",
              "version_minor": 0,
              "version_major": 2
            },
            "text/plain": [
              "  0%|          | 0/30 [00:00<?, ?it/s]"
            ]
          },
          "metadata": {}
        },
        {
          "output_type": "display_data",
          "data": {
            "application/vnd.jupyter.widget-view+json": {
              "model_id": "8b92a2ba94c24da0b500190e6f3d32cc",
              "version_minor": 0,
              "version_major": 2
            },
            "text/plain": [
              "  0%|          | 0/8 [00:00<?, ?it/s]"
            ]
          },
          "metadata": {}
        },
        {
          "output_type": "stream",
          "name": "stdout",
          "text": [
            "Mounted at /content/drive\n",
            "0.7403478998727193 0.762208067940552\n"
          ]
        },
        {
          "output_type": "display_data",
          "data": {
            "application/vnd.jupyter.widget-view+json": {
              "model_id": "344fba2edf564de2ba3dbc626bde3eb0",
              "version_minor": 0,
              "version_major": 2
            },
            "text/plain": [
              "  0%|          | 0/30 [00:00<?, ?it/s]"
            ]
          },
          "metadata": {}
        },
        {
          "output_type": "display_data",
          "data": {
            "application/vnd.jupyter.widget-view+json": {
              "model_id": "c3ff47d0e5a64665bc48f0839345940b",
              "version_minor": 0,
              "version_major": 2
            },
            "text/plain": [
              "  0%|          | 0/8 [00:00<?, ?it/s]"
            ]
          },
          "metadata": {}
        },
        {
          "output_type": "stream",
          "name": "stdout",
          "text": [
            "Mounted at /content/drive\n",
            "0.7573186253712342 0.7600849256900212\n"
          ]
        },
        {
          "output_type": "display_data",
          "data": {
            "application/vnd.jupyter.widget-view+json": {
              "model_id": "7018511f05e547a7a048cf2f297f3a81",
              "version_minor": 0,
              "version_major": 2
            },
            "text/plain": [
              "  0%|          | 0/30 [00:00<?, ?it/s]"
            ]
          },
          "metadata": {}
        },
        {
          "output_type": "display_data",
          "data": {
            "application/vnd.jupyter.widget-view+json": {
              "model_id": "90c1c57004be453981ab93145996e918",
              "version_minor": 0,
              "version_major": 2
            },
            "text/plain": [
              "  0%|          | 0/8 [00:00<?, ?it/s]"
            ]
          },
          "metadata": {}
        },
        {
          "output_type": "stream",
          "name": "stdout",
          "text": [
            "Mounted at /content/drive\n",
            "0.7522274077216797 0.7898089171974522\n"
          ]
        },
        {
          "output_type": "display_data",
          "data": {
            "application/vnd.jupyter.widget-view+json": {
              "model_id": "26e6464b12bb4ae58d4b4dd543dd5e83",
              "version_minor": 0,
              "version_major": 2
            },
            "text/plain": [
              "  0%|          | 0/30 [00:00<?, ?it/s]"
            ]
          },
          "metadata": {}
        },
        {
          "output_type": "display_data",
          "data": {
            "application/vnd.jupyter.widget-view+json": {
              "model_id": "d0f2bf810b944331b65ee44ce57a9f7f",
              "version_minor": 0,
              "version_major": 2
            },
            "text/plain": [
              "  0%|          | 0/8 [00:00<?, ?it/s]"
            ]
          },
          "metadata": {}
        },
        {
          "output_type": "stream",
          "name": "stdout",
          "text": [
            "Mounted at /content/drive\n",
            "0.745014849384811 0.7876857749469214\n"
          ]
        },
        {
          "output_type": "display_data",
          "data": {
            "application/vnd.jupyter.widget-view+json": {
              "model_id": "453c58a4599b4e128fa587ffa040095f",
              "version_minor": 0,
              "version_major": 2
            },
            "text/plain": [
              "  0%|          | 0/30 [00:00<?, ?it/s]"
            ]
          },
          "metadata": {}
        },
        {
          "output_type": "display_data",
          "data": {
            "application/vnd.jupyter.widget-view+json": {
              "model_id": "8942122acaff4feeb17924300a57e1e4",
              "version_minor": 0,
              "version_major": 2
            },
            "text/plain": [
              "  0%|          | 0/8 [00:00<?, ?it/s]"
            ]
          },
          "metadata": {}
        },
        {
          "output_type": "stream",
          "name": "stdout",
          "text": [
            "Mounted at /content/drive\n",
            "0.7564700890963085 0.81104033970276\n"
          ]
        },
        {
          "output_type": "display_data",
          "data": {
            "application/vnd.jupyter.widget-view+json": {
              "model_id": "e68dfecd90464eb2a8fdea66357a261b",
              "version_minor": 0,
              "version_major": 2
            },
            "text/plain": [
              "  0%|          | 0/30 [00:00<?, ?it/s]"
            ]
          },
          "metadata": {}
        },
        {
          "output_type": "display_data",
          "data": {
            "application/vnd.jupyter.widget-view+json": {
              "model_id": "79acfda856ad4e9bb50b65ac94089d06",
              "version_minor": 0,
              "version_major": 2
            },
            "text/plain": [
              "  0%|          | 0/8 [00:00<?, ?it/s]"
            ]
          },
          "metadata": {}
        },
        {
          "output_type": "stream",
          "name": "stdout",
          "text": [
            "Mounted at /content/drive\n",
            "0.7594399660585486 0.7855626326963906\n"
          ]
        },
        {
          "output_type": "display_data",
          "data": {
            "application/vnd.jupyter.widget-view+json": {
              "model_id": "1df1deacc5b34ca08d8ebc573f863004",
              "version_minor": 0,
              "version_major": 2
            },
            "text/plain": [
              "  0%|          | 0/30 [00:00<?, ?it/s]"
            ]
          },
          "metadata": {}
        },
        {
          "output_type": "display_data",
          "data": {
            "application/vnd.jupyter.widget-view+json": {
              "model_id": "e0bfe55f50a141949cbcb2d20d4c8fb9",
              "version_minor": 0,
              "version_major": 2
            },
            "text/plain": [
              "  0%|          | 0/8 [00:00<?, ?it/s]"
            ]
          },
          "metadata": {}
        },
        {
          "output_type": "stream",
          "name": "stdout",
          "text": [
            "Mounted at /content/drive\n",
            "0.768349596945269 0.7940552016985137\n"
          ]
        },
        {
          "output_type": "display_data",
          "data": {
            "application/vnd.jupyter.widget-view+json": {
              "model_id": "ca54e0d16dbd4639b7e948ee34411404",
              "version_minor": 0,
              "version_major": 2
            },
            "text/plain": [
              "  0%|          | 0/30 [00:00<?, ?it/s]"
            ]
          },
          "metadata": {}
        },
        {
          "output_type": "display_data",
          "data": {
            "application/vnd.jupyter.widget-view+json": {
              "model_id": "914b4757c7af48cbb9109db72782428e",
              "version_minor": 0,
              "version_major": 2
            },
            "text/plain": [
              "  0%|          | 0/8 [00:00<?, ?it/s]"
            ]
          },
          "metadata": {}
        },
        {
          "output_type": "stream",
          "name": "stdout",
          "text": [
            "Mounted at /content/drive\n",
            "0.7602885023334744 0.7855626326963906\n"
          ]
        },
        {
          "output_type": "display_data",
          "data": {
            "application/vnd.jupyter.widget-view+json": {
              "model_id": "c65cf51818674fa7a55acfe1d9135032",
              "version_minor": 0,
              "version_major": 2
            },
            "text/plain": [
              "  0%|          | 0/30 [00:00<?, ?it/s]"
            ]
          },
          "metadata": {}
        },
        {
          "output_type": "display_data",
          "data": {
            "application/vnd.jupyter.widget-view+json": {
              "model_id": "027cf644ea5b4fe498a8700d2164d27b",
              "version_minor": 0,
              "version_major": 2
            },
            "text/plain": [
              "  0%|          | 0/8 [00:00<?, ?it/s]"
            ]
          },
          "metadata": {}
        },
        {
          "output_type": "stream",
          "name": "stdout",
          "text": [
            "Mounted at /content/drive\n",
            "0.7628341111582517 0.781316348195329\n"
          ]
        },
        {
          "output_type": "display_data",
          "data": {
            "application/vnd.jupyter.widget-view+json": {
              "model_id": "77dffb6b435642739b197ce5d53214bd",
              "version_minor": 0,
              "version_major": 2
            },
            "text/plain": [
              "  0%|          | 0/30 [00:00<?, ?it/s]"
            ]
          },
          "metadata": {}
        },
        {
          "output_type": "display_data",
          "data": {
            "application/vnd.jupyter.widget-view+json": {
              "model_id": "517c3e8f9f134f3cb8dcb693836ddd85",
              "version_minor": 0,
              "version_major": 2
            },
            "text/plain": [
              "  0%|          | 0/8 [00:00<?, ?it/s]"
            ]
          },
          "metadata": {}
        },
        {
          "output_type": "stream",
          "name": "stdout",
          "text": [
            "Mounted at /content/drive\n",
            "0.7670767925328805 0.8174097664543524\n"
          ]
        }
      ]
    },
    {
      "cell_type": "markdown",
      "source": [
        "### Run Training without crossval"
      ],
      "metadata": {
        "id": "ouyNnt8k3P8g"
      }
    },
    {
      "cell_type": "code",
      "metadata": {
        "id": "-kTrpt4YMRS6",
        "colab": {
          "base_uri": "https://localhost:8080/",
          "height": 241
        },
        "outputId": "ebafee83-cf81-4ca3-fdab-5c7f0bf3a2e7"
      },
      "source": [
        "max_epoch = 10\n",
        "save_stride = 5\n",
        "tmp_path = './checkpoint.pth'\n",
        "max_accu = -1\n",
        "for epoch in tqdm(range(max_epoch)):        \n",
        "    ###Train Phase\n",
        "    \n",
        "    # Initialize Loss and Accuracy\n",
        "    train_loss = 0.0\n",
        "    train_accu = 0.0\n",
        "\n",
        "    # Load the saved MODEL AND OPTIMIZER after evaluation.\n",
        "    if epoch > 0:\n",
        "        checkpoint = torch.load(tmp_path)\n",
        "        model.load_state_dict(checkpoint['model_state_dict'])\n",
        "        optimizer.load_state_dict(checkpoint['optimizer_state_dict'])\n",
        "        # how about learning rate scheduler?\n",
        "\n",
        "    # Iterate over the train_dataloader\n",
        "    with tqdm(total=len(train_dataloader)) as pbar:\n",
        "        for idx, sample in enumerate(train_dataloader):\n",
        "            curr_loss, num_correct = train(model, optimizer, sample)\n",
        "            train_loss += curr_loss / len(train_dataloader)\n",
        "            train_accu += num_correct / len(train_dataset)\n",
        "            pbar.update(1)\n",
        "\n",
        "    # save the model and optimizer's information before the evaulation\n",
        "    checkpoint = {\n",
        "        'model' : Model(),\n",
        "        'model_state_dict': model.state_dict(),\n",
        "        'optimizer_state_dict': optimizer.state_dict(),\n",
        "    }\n",
        "    \n",
        "    # Save the checkpoint - you can try to save the \"best\" model with the validation accuracy/loss\n",
        "    torch.save(checkpoint, tmp_path)\n",
        "    if (epoch+1) % save_stride == 0:\n",
        "        torch.save(checkpoint, os.path.join(model_dir, 'pokemon_r50_{}.pth'.format(epoch+1)))\n",
        "    torch.save(checkpoint, os.path.join(model_dir, 'pokemon_r50_recent.pth'))\n",
        "    \n",
        "    ### Test Phase\n",
        "    # Initialize Loss and Accuracy\n",
        "    test_loss = 0.0\n",
        "    test_accu = 0.0\n",
        "\n",
        "    # Iterate over the test_dataloader\n",
        "    with tqdm(total=len(test_dataloader)) as pbar:\n",
        "        for idx, sample in enumerate(test_dataloader):\n",
        "            curr_loss, num_correct = test(model, sample)\n",
        "            test_loss += curr_loss / len(test_dataloader)\n",
        "            test_accu += num_correct / len(test_dataset)\n",
        "            pbar.update(1)\n",
        "\n",
        "\n",
        "    max_accu = max(test_accu, max_accu)\n",
        "    if max_accu == test_accu:\n",
        "        # Save your best model to the checkpoint\n",
        "        torch.save(checkpoint, os.path.join(model_dir, 'pokemon_r50_best.pth'))\n",
        "\n",
        "    # These Lines would make you update your Google Drive after the saving.\n",
        "    drive.flush_and_unmount()\n",
        "    drive.mount('/content/drive')\n",
        "\n",
        "    print(train_accu, test_accu)"
      ],
      "execution_count": 1,
      "outputs": [
        {
          "output_type": "error",
          "ename": "NameError",
          "evalue": "ignored",
          "traceback": [
            "\u001b[0;31m---------------------------------------------------------------------------\u001b[0m",
            "\u001b[0;31mNameError\u001b[0m                                 Traceback (most recent call last)",
            "\u001b[0;32m<ipython-input-1-e51e5870cb1d>\u001b[0m in \u001b[0;36m<module>\u001b[0;34m()\u001b[0m\n\u001b[1;32m      3\u001b[0m \u001b[0mtmp_path\u001b[0m \u001b[0;34m=\u001b[0m \u001b[0;34m'./checkpoint.pth'\u001b[0m\u001b[0;34m\u001b[0m\u001b[0;34m\u001b[0m\u001b[0m\n\u001b[1;32m      4\u001b[0m \u001b[0mmax_accu\u001b[0m \u001b[0;34m=\u001b[0m \u001b[0;34m-\u001b[0m\u001b[0;36m1\u001b[0m\u001b[0;34m\u001b[0m\u001b[0;34m\u001b[0m\u001b[0m\n\u001b[0;32m----> 5\u001b[0;31m \u001b[0;32mfor\u001b[0m \u001b[0mepoch\u001b[0m \u001b[0;32min\u001b[0m \u001b[0mtqdm\u001b[0m\u001b[0;34m(\u001b[0m\u001b[0mrange\u001b[0m\u001b[0;34m(\u001b[0m\u001b[0mmax_epoch\u001b[0m\u001b[0;34m)\u001b[0m\u001b[0;34m)\u001b[0m\u001b[0;34m:\u001b[0m\u001b[0;34m\u001b[0m\u001b[0;34m\u001b[0m\u001b[0m\n\u001b[0m\u001b[1;32m      6\u001b[0m     \u001b[0;31m###Train Phase\u001b[0m\u001b[0;34m\u001b[0m\u001b[0;34m\u001b[0m\u001b[0;34m\u001b[0m\u001b[0m\n\u001b[1;32m      7\u001b[0m \u001b[0;34m\u001b[0m\u001b[0m\n",
            "\u001b[0;31mNameError\u001b[0m: name 'tqdm' is not defined"
          ]
        }
      ]
    },
    {
      "cell_type": "code",
      "metadata": {
        "id": "5hPiA_pBdJk1",
        "colab": {
          "base_uri": "https://localhost:8080/"
        },
        "outputId": "1c4f960c-01f1-4667-9ce9-19098f681c89"
      },
      "source": [
        "drive.mount('/content/drive')"
      ],
      "execution_count": null,
      "outputs": [
        {
          "output_type": "stream",
          "name": "stdout",
          "text": [
            "Drive already mounted at /content/drive; to attempt to forcibly remount, call drive.mount(\"/content/drive\", force_remount=True).\n"
          ]
        }
      ]
    },
    {
      "cell_type": "code",
      "metadata": {
        "id": "dOeYopHTkhvJ"
      },
      "source": [
        "from google.colab import drive\n",
        "drive.flush_and_unmount()"
      ],
      "execution_count": null,
      "outputs": []
    },
    {
      "cell_type": "code",
      "source": [
        ""
      ],
      "metadata": {
        "id": "97XTykOM1Yud"
      },
      "execution_count": null,
      "outputs": []
    },
    {
      "cell_type": "code",
      "execution_count": null,
      "metadata": {
        "id": "2DxdQTvh0hsg"
      },
      "outputs": [],
      "source": [
        "#"
      ]
    }
  ]
}
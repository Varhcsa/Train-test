{
  "nbformat": 4,
  "nbformat_minor": 0,
  "metadata": {
    "colab": {
      "name": "Copy of Submission_Assignment1_introDL.ipynb",
      "provenance": [],
      "history_visible": true,
      "collapsed_sections": [],
      "authorship_tag": "ABX9TyMDUXaWPvC82/ddjttEtdbc",
      "include_colab_link": true
    },
    "kernelspec": {
      "name": "python3",
      "display_name": "Python 3"
    },
    "language_info": {
      "name": "python"
    },
    "accelerator": "GPU",
    "widgets": {
      "application/vnd.jupyter.widget-state+json": {
        "215e0a7f44754374b450ad80d5bd21a1": {
          "model_module": "@jupyter-widgets/controls",
          "model_name": "HBoxModel",
          "model_module_version": "1.5.0",
          "state": {
            "_view_name": "HBoxView",
            "_dom_classes": [],
            "_model_name": "HBoxModel",
            "_view_module": "@jupyter-widgets/controls",
            "_model_module_version": "1.5.0",
            "_view_count": null,
            "_view_module_version": "1.5.0",
            "box_style": "",
            "layout": "IPY_MODEL_54c12965569b45ca801b05b519635d01",
            "_model_module": "@jupyter-widgets/controls",
            "children": [
              "IPY_MODEL_56f9c9ae34404d07a9fe96bb160d0758",
              "IPY_MODEL_d9143179b16c411d89a49a29f9a882a3",
              "IPY_MODEL_053462a64ae14f5ea197624279dcbbd0"
            ]
          }
        },
        "54c12965569b45ca801b05b519635d01": {
          "model_module": "@jupyter-widgets/base",
          "model_name": "LayoutModel",
          "model_module_version": "1.2.0",
          "state": {
            "_view_name": "LayoutView",
            "grid_template_rows": null,
            "right": null,
            "justify_content": null,
            "_view_module": "@jupyter-widgets/base",
            "overflow": null,
            "_model_module_version": "1.2.0",
            "_view_count": null,
            "flex_flow": null,
            "width": null,
            "min_width": null,
            "border": null,
            "align_items": null,
            "bottom": null,
            "_model_module": "@jupyter-widgets/base",
            "top": null,
            "grid_column": null,
            "overflow_y": null,
            "overflow_x": null,
            "grid_auto_flow": null,
            "grid_area": null,
            "grid_template_columns": null,
            "flex": null,
            "_model_name": "LayoutModel",
            "justify_items": null,
            "grid_row": null,
            "max_height": null,
            "align_content": null,
            "visibility": null,
            "align_self": null,
            "height": null,
            "min_height": null,
            "padding": null,
            "grid_auto_rows": null,
            "grid_gap": null,
            "max_width": null,
            "order": null,
            "_view_module_version": "1.2.0",
            "grid_template_areas": null,
            "object_position": null,
            "object_fit": null,
            "grid_auto_columns": null,
            "margin": null,
            "display": null,
            "left": null
          }
        },
        "56f9c9ae34404d07a9fe96bb160d0758": {
          "model_module": "@jupyter-widgets/controls",
          "model_name": "HTMLModel",
          "model_module_version": "1.5.0",
          "state": {
            "_view_name": "HTMLView",
            "style": "IPY_MODEL_0e19fe7296e240929bdd03c438ad4a7c",
            "_dom_classes": [],
            "description": "",
            "_model_name": "HTMLModel",
            "placeholder": "​",
            "_view_module": "@jupyter-widgets/controls",
            "_model_module_version": "1.5.0",
            "value": "100%",
            "_view_count": null,
            "_view_module_version": "1.5.0",
            "description_tooltip": null,
            "_model_module": "@jupyter-widgets/controls",
            "layout": "IPY_MODEL_761f8a8022aa4ed9ad5c5b021ccfef64"
          }
        },
        "d9143179b16c411d89a49a29f9a882a3": {
          "model_module": "@jupyter-widgets/controls",
          "model_name": "FloatProgressModel",
          "model_module_version": "1.5.0",
          "state": {
            "_view_name": "ProgressView",
            "style": "IPY_MODEL_b5b945a1afa2489bb5a198f1b1f3925d",
            "_dom_classes": [],
            "description": "",
            "_model_name": "FloatProgressModel",
            "bar_style": "success",
            "max": 102530333,
            "_view_module": "@jupyter-widgets/controls",
            "_model_module_version": "1.5.0",
            "value": 102530333,
            "_view_count": null,
            "_view_module_version": "1.5.0",
            "orientation": "horizontal",
            "min": 0,
            "description_tooltip": null,
            "_model_module": "@jupyter-widgets/controls",
            "layout": "IPY_MODEL_ced6bb2d714a408ba6c37091c58e58a6"
          }
        },
        "053462a64ae14f5ea197624279dcbbd0": {
          "model_module": "@jupyter-widgets/controls",
          "model_name": "HTMLModel",
          "model_module_version": "1.5.0",
          "state": {
            "_view_name": "HTMLView",
            "style": "IPY_MODEL_ab6a57127ed140ce9abdfcd7ba9ddaca",
            "_dom_classes": [],
            "description": "",
            "_model_name": "HTMLModel",
            "placeholder": "​",
            "_view_module": "@jupyter-widgets/controls",
            "_model_module_version": "1.5.0",
            "value": " 97.8M/97.8M [00:00&lt;00:00, 189MB/s]",
            "_view_count": null,
            "_view_module_version": "1.5.0",
            "description_tooltip": null,
            "_model_module": "@jupyter-widgets/controls",
            "layout": "IPY_MODEL_0bd07d2875db4b77926a413a9c18436b"
          }
        },
        "0e19fe7296e240929bdd03c438ad4a7c": {
          "model_module": "@jupyter-widgets/controls",
          "model_name": "DescriptionStyleModel",
          "model_module_version": "1.5.0",
          "state": {
            "_view_name": "StyleView",
            "_model_name": "DescriptionStyleModel",
            "description_width": "",
            "_view_module": "@jupyter-widgets/base",
            "_model_module_version": "1.5.0",
            "_view_count": null,
            "_view_module_version": "1.2.0",
            "_model_module": "@jupyter-widgets/controls"
          }
        },
        "761f8a8022aa4ed9ad5c5b021ccfef64": {
          "model_module": "@jupyter-widgets/base",
          "model_name": "LayoutModel",
          "model_module_version": "1.2.0",
          "state": {
            "_view_name": "LayoutView",
            "grid_template_rows": null,
            "right": null,
            "justify_content": null,
            "_view_module": "@jupyter-widgets/base",
            "overflow": null,
            "_model_module_version": "1.2.0",
            "_view_count": null,
            "flex_flow": null,
            "width": null,
            "min_width": null,
            "border": null,
            "align_items": null,
            "bottom": null,
            "_model_module": "@jupyter-widgets/base",
            "top": null,
            "grid_column": null,
            "overflow_y": null,
            "overflow_x": null,
            "grid_auto_flow": null,
            "grid_area": null,
            "grid_template_columns": null,
            "flex": null,
            "_model_name": "LayoutModel",
            "justify_items": null,
            "grid_row": null,
            "max_height": null,
            "align_content": null,
            "visibility": null,
            "align_self": null,
            "height": null,
            "min_height": null,
            "padding": null,
            "grid_auto_rows": null,
            "grid_gap": null,
            "max_width": null,
            "order": null,
            "_view_module_version": "1.2.0",
            "grid_template_areas": null,
            "object_position": null,
            "object_fit": null,
            "grid_auto_columns": null,
            "margin": null,
            "display": null,
            "left": null
          }
        },
        "b5b945a1afa2489bb5a198f1b1f3925d": {
          "model_module": "@jupyter-widgets/controls",
          "model_name": "ProgressStyleModel",
          "model_module_version": "1.5.0",
          "state": {
            "_view_name": "StyleView",
            "_model_name": "ProgressStyleModel",
            "description_width": "",
            "_view_module": "@jupyter-widgets/base",
            "_model_module_version": "1.5.0",
            "_view_count": null,
            "_view_module_version": "1.2.0",
            "bar_color": null,
            "_model_module": "@jupyter-widgets/controls"
          }
        },
        "ced6bb2d714a408ba6c37091c58e58a6": {
          "model_module": "@jupyter-widgets/base",
          "model_name": "LayoutModel",
          "model_module_version": "1.2.0",
          "state": {
            "_view_name": "LayoutView",
            "grid_template_rows": null,
            "right": null,
            "justify_content": null,
            "_view_module": "@jupyter-widgets/base",
            "overflow": null,
            "_model_module_version": "1.2.0",
            "_view_count": null,
            "flex_flow": null,
            "width": null,
            "min_width": null,
            "border": null,
            "align_items": null,
            "bottom": null,
            "_model_module": "@jupyter-widgets/base",
            "top": null,
            "grid_column": null,
            "overflow_y": null,
            "overflow_x": null,
            "grid_auto_flow": null,
            "grid_area": null,
            "grid_template_columns": null,
            "flex": null,
            "_model_name": "LayoutModel",
            "justify_items": null,
            "grid_row": null,
            "max_height": null,
            "align_content": null,
            "visibility": null,
            "align_self": null,
            "height": null,
            "min_height": null,
            "padding": null,
            "grid_auto_rows": null,
            "grid_gap": null,
            "max_width": null,
            "order": null,
            "_view_module_version": "1.2.0",
            "grid_template_areas": null,
            "object_position": null,
            "object_fit": null,
            "grid_auto_columns": null,
            "margin": null,
            "display": null,
            "left": null
          }
        },
        "ab6a57127ed140ce9abdfcd7ba9ddaca": {
          "model_module": "@jupyter-widgets/controls",
          "model_name": "DescriptionStyleModel",
          "model_module_version": "1.5.0",
          "state": {
            "_view_name": "StyleView",
            "_model_name": "DescriptionStyleModel",
            "description_width": "",
            "_view_module": "@jupyter-widgets/base",
            "_model_module_version": "1.5.0",
            "_view_count": null,
            "_view_module_version": "1.2.0",
            "_model_module": "@jupyter-widgets/controls"
          }
        },
        "0bd07d2875db4b77926a413a9c18436b": {
          "model_module": "@jupyter-widgets/base",
          "model_name": "LayoutModel",
          "model_module_version": "1.2.0",
          "state": {
            "_view_name": "LayoutView",
            "grid_template_rows": null,
            "right": null,
            "justify_content": null,
            "_view_module": "@jupyter-widgets/base",
            "overflow": null,
            "_model_module_version": "1.2.0",
            "_view_count": null,
            "flex_flow": null,
            "width": null,
            "min_width": null,
            "border": null,
            "align_items": null,
            "bottom": null,
            "_model_module": "@jupyter-widgets/base",
            "top": null,
            "grid_column": null,
            "overflow_y": null,
            "overflow_x": null,
            "grid_auto_flow": null,
            "grid_area": null,
            "grid_template_columns": null,
            "flex": null,
            "_model_name": "LayoutModel",
            "justify_items": null,
            "grid_row": null,
            "max_height": null,
            "align_content": null,
            "visibility": null,
            "align_self": null,
            "height": null,
            "min_height": null,
            "padding": null,
            "grid_auto_rows": null,
            "grid_gap": null,
            "max_width": null,
            "order": null,
            "_view_module_version": "1.2.0",
            "grid_template_areas": null,
            "object_position": null,
            "object_fit": null,
            "grid_auto_columns": null,
            "margin": null,
            "display": null,
            "left": null
          }
        },
        "c2f0a87674e14088999c61cd5f87bbad": {
          "model_module": "@jupyter-widgets/controls",
          "model_name": "HBoxModel",
          "model_module_version": "1.5.0",
          "state": {
            "_view_name": "HBoxView",
            "_dom_classes": [],
            "_model_name": "HBoxModel",
            "_view_module": "@jupyter-widgets/controls",
            "_model_module_version": "1.5.0",
            "_view_count": null,
            "_view_module_version": "1.5.0",
            "box_style": "",
            "layout": "IPY_MODEL_f3438437a3fc4eceaaa17ba4e547c799",
            "_model_module": "@jupyter-widgets/controls",
            "children": [
              "IPY_MODEL_7a9dc4d47c4f4cce92cc6963cda45cac",
              "IPY_MODEL_586ea908da2c44aba61a099619149c58",
              "IPY_MODEL_89f3e211c7ba4728abfba58f66118e43"
            ]
          }
        },
        "8425c38ba24048bca8a261169127edc0": {
          "model_module": "@jupyter-widgets/controls",
          "model_name": "HBoxModel",
          "model_module_version": "1.5.0",
          "state": {
            "_view_name": "HBoxView",
            "_dom_classes": [],
            "_model_name": "HBoxModel",
            "_view_module": "@jupyter-widgets/controls",
            "_model_module_version": "1.5.0",
            "_view_count": null,
            "_view_module_version": "1.5.0",
            "box_style": "",
            "layout": "IPY_MODEL_8500286c12844d41adbe321b7c66af19",
            "_model_module": "@jupyter-widgets/controls",
            "children": [
              "IPY_MODEL_1843c998a4b9414e928bce993081fccf",
              "IPY_MODEL_cf00b8af83b049e18e536de9709b8651",
              "IPY_MODEL_3226acaf6db24f05ab04333522910985"
            ]
          }
        },
        "f3438437a3fc4eceaaa17ba4e547c799": {
          "model_module": "@jupyter-widgets/base",
          "model_name": "LayoutModel",
          "model_module_version": "1.2.0",
          "state": {
            "_view_name": "LayoutView",
            "grid_template_rows": null,
            "right": null,
            "justify_content": null,
            "_view_module": "@jupyter-widgets/base",
            "overflow": null,
            "_model_module_version": "1.2.0",
            "_view_count": null,
            "flex_flow": null,
            "width": null,
            "min_width": null,
            "border": null,
            "align_items": null,
            "bottom": null,
            "_model_module": "@jupyter-widgets/base",
            "top": null,
            "grid_column": null,
            "overflow_y": null,
            "overflow_x": null,
            "grid_auto_flow": null,
            "grid_area": null,
            "grid_template_columns": null,
            "flex": null,
            "_model_name": "LayoutModel",
            "justify_items": null,
            "grid_row": null,
            "max_height": null,
            "align_content": null,
            "visibility": null,
            "align_self": null,
            "height": null,
            "min_height": null,
            "padding": null,
            "grid_auto_rows": null,
            "grid_gap": null,
            "max_width": null,
            "order": null,
            "_view_module_version": "1.2.0",
            "grid_template_areas": null,
            "object_position": null,
            "object_fit": null,
            "grid_auto_columns": null,
            "margin": null,
            "display": null,
            "left": null
          }
        },
        "7a9dc4d47c4f4cce92cc6963cda45cac": {
          "model_module": "@jupyter-widgets/controls",
          "model_name": "HTMLModel",
          "model_module_version": "1.5.0",
          "state": {
            "_view_name": "HTMLView",
            "style": "IPY_MODEL_54baef0286d44f0a9854c0b692038113",
            "_dom_classes": [],
            "description": "",
            "_model_name": "HTMLModel",
            "placeholder": "​",
            "_view_module": "@jupyter-widgets/controls",
            "_model_module_version": "1.5.0",
            "value": "  0%",
            "_view_count": null,
            "_view_module_version": "1.5.0",
            "description_tooltip": null,
            "_model_module": "@jupyter-widgets/controls",
            "layout": "IPY_MODEL_b9ded6984f5d4696acd93beb5ebaffe5"
          }
        },
        "586ea908da2c44aba61a099619149c58": {
          "model_module": "@jupyter-widgets/controls",
          "model_name": "FloatProgressModel",
          "model_module_version": "1.5.0",
          "state": {
            "_view_name": "ProgressView",
            "style": "IPY_MODEL_db9b489f52ed4b459ded922ddb927187",
            "_dom_classes": [],
            "description": "",
            "_model_name": "FloatProgressModel",
            "bar_style": "",
            "max": 10,
            "_view_module": "@jupyter-widgets/controls",
            "_model_module_version": "1.5.0",
            "value": 0,
            "_view_count": null,
            "_view_module_version": "1.5.0",
            "orientation": "horizontal",
            "min": 0,
            "description_tooltip": null,
            "_model_module": "@jupyter-widgets/controls",
            "layout": "IPY_MODEL_ea58e457d03048a2ab62769045fa144c"
          }
        },
        "89f3e211c7ba4728abfba58f66118e43": {
          "model_module": "@jupyter-widgets/controls",
          "model_name": "HTMLModel",
          "model_module_version": "1.5.0",
          "state": {
            "_view_name": "HTMLView",
            "style": "IPY_MODEL_dd9b96643d034afebf004f63c609f95a",
            "_dom_classes": [],
            "description": "",
            "_model_name": "HTMLModel",
            "placeholder": "​",
            "_view_module": "@jupyter-widgets/controls",
            "_model_module_version": "1.5.0",
            "value": " 0/10 [00:00&lt;?, ?it/s]",
            "_view_count": null,
            "_view_module_version": "1.5.0",
            "description_tooltip": null,
            "_model_module": "@jupyter-widgets/controls",
            "layout": "IPY_MODEL_4687131c1d77473f9f6267e110cb3e8e"
          }
        },
        "54baef0286d44f0a9854c0b692038113": {
          "model_module": "@jupyter-widgets/controls",
          "model_name": "DescriptionStyleModel",
          "model_module_version": "1.5.0",
          "state": {
            "_view_name": "StyleView",
            "_model_name": "DescriptionStyleModel",
            "description_width": "",
            "_view_module": "@jupyter-widgets/base",
            "_model_module_version": "1.5.0",
            "_view_count": null,
            "_view_module_version": "1.2.0",
            "_model_module": "@jupyter-widgets/controls"
          }
        },
        "b9ded6984f5d4696acd93beb5ebaffe5": {
          "model_module": "@jupyter-widgets/base",
          "model_name": "LayoutModel",
          "model_module_version": "1.2.0",
          "state": {
            "_view_name": "LayoutView",
            "grid_template_rows": null,
            "right": null,
            "justify_content": null,
            "_view_module": "@jupyter-widgets/base",
            "overflow": null,
            "_model_module_version": "1.2.0",
            "_view_count": null,
            "flex_flow": null,
            "width": null,
            "min_width": null,
            "border": null,
            "align_items": null,
            "bottom": null,
            "_model_module": "@jupyter-widgets/base",
            "top": null,
            "grid_column": null,
            "overflow_y": null,
            "overflow_x": null,
            "grid_auto_flow": null,
            "grid_area": null,
            "grid_template_columns": null,
            "flex": null,
            "_model_name": "LayoutModel",
            "justify_items": null,
            "grid_row": null,
            "max_height": null,
            "align_content": null,
            "visibility": null,
            "align_self": null,
            "height": null,
            "min_height": null,
            "padding": null,
            "grid_auto_rows": null,
            "grid_gap": null,
            "max_width": null,
            "order": null,
            "_view_module_version": "1.2.0",
            "grid_template_areas": null,
            "object_position": null,
            "object_fit": null,
            "grid_auto_columns": null,
            "margin": null,
            "display": null,
            "left": null
          }
        },
        "db9b489f52ed4b459ded922ddb927187": {
          "model_module": "@jupyter-widgets/controls",
          "model_name": "ProgressStyleModel",
          "model_module_version": "1.5.0",
          "state": {
            "_view_name": "StyleView",
            "_model_name": "ProgressStyleModel",
            "description_width": "",
            "_view_module": "@jupyter-widgets/base",
            "_model_module_version": "1.5.0",
            "_view_count": null,
            "_view_module_version": "1.2.0",
            "bar_color": null,
            "_model_module": "@jupyter-widgets/controls"
          }
        },
        "ea58e457d03048a2ab62769045fa144c": {
          "model_module": "@jupyter-widgets/base",
          "model_name": "LayoutModel",
          "model_module_version": "1.2.0",
          "state": {
            "_view_name": "LayoutView",
            "grid_template_rows": null,
            "right": null,
            "justify_content": null,
            "_view_module": "@jupyter-widgets/base",
            "overflow": null,
            "_model_module_version": "1.2.0",
            "_view_count": null,
            "flex_flow": null,
            "width": null,
            "min_width": null,
            "border": null,
            "align_items": null,
            "bottom": null,
            "_model_module": "@jupyter-widgets/base",
            "top": null,
            "grid_column": null,
            "overflow_y": null,
            "overflow_x": null,
            "grid_auto_flow": null,
            "grid_area": null,
            "grid_template_columns": null,
            "flex": null,
            "_model_name": "LayoutModel",
            "justify_items": null,
            "grid_row": null,
            "max_height": null,
            "align_content": null,
            "visibility": null,
            "align_self": null,
            "height": null,
            "min_height": null,
            "padding": null,
            "grid_auto_rows": null,
            "grid_gap": null,
            "max_width": null,
            "order": null,
            "_view_module_version": "1.2.0",
            "grid_template_areas": null,
            "object_position": null,
            "object_fit": null,
            "grid_auto_columns": null,
            "margin": null,
            "display": null,
            "left": null
          }
        },
        "dd9b96643d034afebf004f63c609f95a": {
          "model_module": "@jupyter-widgets/controls",
          "model_name": "DescriptionStyleModel",
          "model_module_version": "1.5.0",
          "state": {
            "_view_name": "StyleView",
            "_model_name": "DescriptionStyleModel",
            "description_width": "",
            "_view_module": "@jupyter-widgets/base",
            "_model_module_version": "1.5.0",
            "_view_count": null,
            "_view_module_version": "1.2.0",
            "_model_module": "@jupyter-widgets/controls"
          }
        },
        "4687131c1d77473f9f6267e110cb3e8e": {
          "model_module": "@jupyter-widgets/base",
          "model_name": "LayoutModel",
          "model_module_version": "1.2.0",
          "state": {
            "_view_name": "LayoutView",
            "grid_template_rows": null,
            "right": null,
            "justify_content": null,
            "_view_module": "@jupyter-widgets/base",
            "overflow": null,
            "_model_module_version": "1.2.0",
            "_view_count": null,
            "flex_flow": null,
            "width": null,
            "min_width": null,
            "border": null,
            "align_items": null,
            "bottom": null,
            "_model_module": "@jupyter-widgets/base",
            "top": null,
            "grid_column": null,
            "overflow_y": null,
            "overflow_x": null,
            "grid_auto_flow": null,
            "grid_area": null,
            "grid_template_columns": null,
            "flex": null,
            "_model_name": "LayoutModel",
            "justify_items": null,
            "grid_row": null,
            "max_height": null,
            "align_content": null,
            "visibility": null,
            "align_self": null,
            "height": null,
            "min_height": null,
            "padding": null,
            "grid_auto_rows": null,
            "grid_gap": null,
            "max_width": null,
            "order": null,
            "_view_module_version": "1.2.0",
            "grid_template_areas": null,
            "object_position": null,
            "object_fit": null,
            "grid_auto_columns": null,
            "margin": null,
            "display": null,
            "left": null
          }
        },
        "8500286c12844d41adbe321b7c66af19": {
          "model_module": "@jupyter-widgets/base",
          "model_name": "LayoutModel",
          "model_module_version": "1.2.0",
          "state": {
            "_view_name": "LayoutView",
            "grid_template_rows": null,
            "right": null,
            "justify_content": null,
            "_view_module": "@jupyter-widgets/base",
            "overflow": null,
            "_model_module_version": "1.2.0",
            "_view_count": null,
            "flex_flow": null,
            "width": null,
            "min_width": null,
            "border": null,
            "align_items": null,
            "bottom": null,
            "_model_module": "@jupyter-widgets/base",
            "top": null,
            "grid_column": null,
            "overflow_y": null,
            "overflow_x": null,
            "grid_auto_flow": null,
            "grid_area": null,
            "grid_template_columns": null,
            "flex": null,
            "_model_name": "LayoutModel",
            "justify_items": null,
            "grid_row": null,
            "max_height": null,
            "align_content": null,
            "visibility": null,
            "align_self": null,
            "height": null,
            "min_height": null,
            "padding": null,
            "grid_auto_rows": null,
            "grid_gap": null,
            "max_width": null,
            "order": null,
            "_view_module_version": "1.2.0",
            "grid_template_areas": null,
            "object_position": null,
            "object_fit": null,
            "grid_auto_columns": null,
            "margin": null,
            "display": null,
            "left": null
          }
        },
        "1843c998a4b9414e928bce993081fccf": {
          "model_module": "@jupyter-widgets/controls",
          "model_name": "HTMLModel",
          "model_module_version": "1.5.0",
          "state": {
            "_view_name": "HTMLView",
            "style": "IPY_MODEL_f910d9b29d2044dab91aa6ed824aa07a",
            "_dom_classes": [],
            "description": "",
            "_model_name": "HTMLModel",
            "placeholder": "​",
            "_view_module": "@jupyter-widgets/controls",
            "_model_module_version": "1.5.0",
            "value": " 86%",
            "_view_count": null,
            "_view_module_version": "1.5.0",
            "description_tooltip": null,
            "_model_module": "@jupyter-widgets/controls",
            "layout": "IPY_MODEL_4192f213f81047a480a22df76b760515"
          }
        },
        "cf00b8af83b049e18e536de9709b8651": {
          "model_module": "@jupyter-widgets/controls",
          "model_name": "FloatProgressModel",
          "model_module_version": "1.5.0",
          "state": {
            "_view_name": "ProgressView",
            "style": "IPY_MODEL_0098a7fbfdc545a3bfd0da39f07b7e90",
            "_dom_classes": [],
            "description": "",
            "_model_name": "FloatProgressModel",
            "bar_style": "",
            "max": 37,
            "_view_module": "@jupyter-widgets/controls",
            "_model_module_version": "1.5.0",
            "value": 32,
            "_view_count": null,
            "_view_module_version": "1.5.0",
            "orientation": "horizontal",
            "min": 0,
            "description_tooltip": null,
            "_model_module": "@jupyter-widgets/controls",
            "layout": "IPY_MODEL_44bdfbd4f1874f099b89aefad8dc350e"
          }
        },
        "3226acaf6db24f05ab04333522910985": {
          "model_module": "@jupyter-widgets/controls",
          "model_name": "HTMLModel",
          "model_module_version": "1.5.0",
          "state": {
            "_view_name": "HTMLView",
            "style": "IPY_MODEL_b6e8edbfa3d04048b728e62914fe1c36",
            "_dom_classes": [],
            "description": "",
            "_model_name": "HTMLModel",
            "placeholder": "​",
            "_view_module": "@jupyter-widgets/controls",
            "_model_module_version": "1.5.0",
            "value": " 32/37 [07:57&lt;01:11, 14.26s/it]",
            "_view_count": null,
            "_view_module_version": "1.5.0",
            "description_tooltip": null,
            "_model_module": "@jupyter-widgets/controls",
            "layout": "IPY_MODEL_4e266f92143943d38b535395617af29f"
          }
        },
        "f910d9b29d2044dab91aa6ed824aa07a": {
          "model_module": "@jupyter-widgets/controls",
          "model_name": "DescriptionStyleModel",
          "model_module_version": "1.5.0",
          "state": {
            "_view_name": "StyleView",
            "_model_name": "DescriptionStyleModel",
            "description_width": "",
            "_view_module": "@jupyter-widgets/base",
            "_model_module_version": "1.5.0",
            "_view_count": null,
            "_view_module_version": "1.2.0",
            "_model_module": "@jupyter-widgets/controls"
          }
        },
        "4192f213f81047a480a22df76b760515": {
          "model_module": "@jupyter-widgets/base",
          "model_name": "LayoutModel",
          "model_module_version": "1.2.0",
          "state": {
            "_view_name": "LayoutView",
            "grid_template_rows": null,
            "right": null,
            "justify_content": null,
            "_view_module": "@jupyter-widgets/base",
            "overflow": null,
            "_model_module_version": "1.2.0",
            "_view_count": null,
            "flex_flow": null,
            "width": null,
            "min_width": null,
            "border": null,
            "align_items": null,
            "bottom": null,
            "_model_module": "@jupyter-widgets/base",
            "top": null,
            "grid_column": null,
            "overflow_y": null,
            "overflow_x": null,
            "grid_auto_flow": null,
            "grid_area": null,
            "grid_template_columns": null,
            "flex": null,
            "_model_name": "LayoutModel",
            "justify_items": null,
            "grid_row": null,
            "max_height": null,
            "align_content": null,
            "visibility": null,
            "align_self": null,
            "height": null,
            "min_height": null,
            "padding": null,
            "grid_auto_rows": null,
            "grid_gap": null,
            "max_width": null,
            "order": null,
            "_view_module_version": "1.2.0",
            "grid_template_areas": null,
            "object_position": null,
            "object_fit": null,
            "grid_auto_columns": null,
            "margin": null,
            "display": null,
            "left": null
          }
        },
        "0098a7fbfdc545a3bfd0da39f07b7e90": {
          "model_module": "@jupyter-widgets/controls",
          "model_name": "ProgressStyleModel",
          "model_module_version": "1.5.0",
          "state": {
            "_view_name": "StyleView",
            "_model_name": "ProgressStyleModel",
            "description_width": "",
            "_view_module": "@jupyter-widgets/base",
            "_model_module_version": "1.5.0",
            "_view_count": null,
            "_view_module_version": "1.2.0",
            "bar_color": null,
            "_model_module": "@jupyter-widgets/controls"
          }
        },
        "44bdfbd4f1874f099b89aefad8dc350e": {
          "model_module": "@jupyter-widgets/base",
          "model_name": "LayoutModel",
          "model_module_version": "1.2.0",
          "state": {
            "_view_name": "LayoutView",
            "grid_template_rows": null,
            "right": null,
            "justify_content": null,
            "_view_module": "@jupyter-widgets/base",
            "overflow": null,
            "_model_module_version": "1.2.0",
            "_view_count": null,
            "flex_flow": null,
            "width": null,
            "min_width": null,
            "border": null,
            "align_items": null,
            "bottom": null,
            "_model_module": "@jupyter-widgets/base",
            "top": null,
            "grid_column": null,
            "overflow_y": null,
            "overflow_x": null,
            "grid_auto_flow": null,
            "grid_area": null,
            "grid_template_columns": null,
            "flex": null,
            "_model_name": "LayoutModel",
            "justify_items": null,
            "grid_row": null,
            "max_height": null,
            "align_content": null,
            "visibility": null,
            "align_self": null,
            "height": null,
            "min_height": null,
            "padding": null,
            "grid_auto_rows": null,
            "grid_gap": null,
            "max_width": null,
            "order": null,
            "_view_module_version": "1.2.0",
            "grid_template_areas": null,
            "object_position": null,
            "object_fit": null,
            "grid_auto_columns": null,
            "margin": null,
            "display": null,
            "left": null
          }
        },
        "b6e8edbfa3d04048b728e62914fe1c36": {
          "model_module": "@jupyter-widgets/controls",
          "model_name": "DescriptionStyleModel",
          "model_module_version": "1.5.0",
          "state": {
            "_view_name": "StyleView",
            "_model_name": "DescriptionStyleModel",
            "description_width": "",
            "_view_module": "@jupyter-widgets/base",
            "_model_module_version": "1.5.0",
            "_view_count": null,
            "_view_module_version": "1.2.0",
            "_model_module": "@jupyter-widgets/controls"
          }
        },
        "4e266f92143943d38b535395617af29f": {
          "model_module": "@jupyter-widgets/base",
          "model_name": "LayoutModel",
          "model_module_version": "1.2.0",
          "state": {
            "_view_name": "LayoutView",
            "grid_template_rows": null,
            "right": null,
            "justify_content": null,
            "_view_module": "@jupyter-widgets/base",
            "overflow": null,
            "_model_module_version": "1.2.0",
            "_view_count": null,
            "flex_flow": null,
            "width": null,
            "min_width": null,
            "border": null,
            "align_items": null,
            "bottom": null,
            "_model_module": "@jupyter-widgets/base",
            "top": null,
            "grid_column": null,
            "overflow_y": null,
            "overflow_x": null,
            "grid_auto_flow": null,
            "grid_area": null,
            "grid_template_columns": null,
            "flex": null,
            "_model_name": "LayoutModel",
            "justify_items": null,
            "grid_row": null,
            "max_height": null,
            "align_content": null,
            "visibility": null,
            "align_self": null,
            "height": null,
            "min_height": null,
            "padding": null,
            "grid_auto_rows": null,
            "grid_gap": null,
            "max_width": null,
            "order": null,
            "_view_module_version": "1.2.0",
            "grid_template_areas": null,
            "object_position": null,
            "object_fit": null,
            "grid_auto_columns": null,
            "margin": null,
            "display": null,
            "left": null
          }
        }
      }
    }
  },
  "cells": [
    {
      "cell_type": "markdown",
      "metadata": {
        "id": "view-in-github",
        "colab_type": "text"
      },
      "source": [
        "<a href=\"https://colab.research.google.com/github/Varhcsa/Train-test/blob/main/Copy_of_Submission_Assignment1_introDL.ipynb\" target=\"_parent\"><img src=\"https://colab.research.google.com/assets/colab-badge.svg\" alt=\"Open In Colab\"/></a>"
      ]
    },
    {
      "cell_type": "markdown",
      "metadata": {
        "id": "kmIOkV65f5S0"
      },
      "source": [
        "### Import Packages\n"
      ]
    },
    {
      "cell_type": "code",
      "metadata": {
        "id": "X1f7bWu9lJtX",
        "colab": {
          "base_uri": "https://localhost:8080/"
        },
        "outputId": "774e8c64-8bf1-459a-c372-d978a247c971"
      },
      "source": [
        "import os\n",
        "import csv\n",
        "import numpy as np\n",
        "from tqdm.notebook import tqdm\n",
        "\n",
        "import matplotlib.pyplot as plt\n",
        "\n",
        "# Module for Google Drive\n",
        "from google.colab import drive\n",
        "\n",
        "# Module for Importing Images\n",
        "from PIL import Image \n",
        "\n",
        "import torch\n",
        "import torchvision\n",
        "import torch.nn as nn\n",
        "import torch.nn.functional as F\n",
        "import torch.optim as optim\n",
        "from torch.utils.data import Dataset, DataLoader\n",
        "\n",
        "print(torch.__version__)"
      ],
      "execution_count": null,
      "outputs": [
        {
          "output_type": "stream",
          "name": "stdout",
          "text": [
            "1.10.0+cu111\n"
          ]
        }
      ]
    },
    {
      "cell_type": "markdown",
      "metadata": {
        "id": "kA3MZRzNHclY"
      },
      "source": [
        "### Import your drive's contents!"
      ]
    },
    {
      "cell_type": "code",
      "metadata": {
        "id": "JXPZ3dc6W3kp",
        "colab": {
          "base_uri": "https://localhost:8080/"
        },
        "outputId": "266b3478-d9e9-4260-f0a9-fc90085ee07d"
      },
      "source": [
        "drive.mount('/content/drive')"
      ],
      "execution_count": null,
      "outputs": [
        {
          "output_type": "stream",
          "name": "stdout",
          "text": [
            "Drive already mounted at /content/drive; to attempt to forcibly remount, call drive.mount(\"/content/drive\", force_remount=True).\n"
          ]
        }
      ]
    },
    {
      "cell_type": "markdown",
      "metadata": {
        "id": "TTj1RldNHgSQ"
      },
      "source": [
        "### Let's define some path, and our PokeMon dataset\n",
        "- Put the \"pokemon\" folder to somewhere of your Google Drive, and define the train/test path to \"train_path\" and \"test_path\"\n",
        "- To 'model_dir', put the drive's directory path that you want to save your model"
      ]
    },
    {
      "cell_type": "code",
      "metadata": {
        "id": "pcMuF_m9Ev8W"
      },
      "source": [
        "train_path = './drive/MyDrive/Dataset/pokemon/train' \n",
        "test_path = './drive/MyDrive/Dataset/pokemon/test'\n",
        "model_dir = './drive/MyDrive/Codes/models'    #./drive/MyDrive/Path/To/Save/Your/Model\n",
        "classes = ['bug', 'electric', 'fighting', 'fire', 'flying', 'grass', 'ground', 'phychic', 'poison', 'water']"
      ],
      "execution_count": null,
      "outputs": []
    },
    {
      "cell_type": "code",
      "metadata": {
        "id": "NFxwfpOxHcAk"
      },
      "source": [
        "class PokemonDataset(Dataset):\n",
        "    def __init__(self, data_path, classes):\n",
        "        self.data_path = data_path\n",
        "        self.classes = classes\n",
        "\n",
        "        # organize path information for __len__ and __getitem__\n",
        "        self.img_path_label = list()\n",
        "        for c in self.classes:\n",
        "            img_list = os.listdir(os.path.join(self.data_path, c))\n",
        "            for fp in img_list:\n",
        "                full_fp = os.path.join(self.data_path, c, fp)\n",
        "                self.img_path_label.append((full_fp, c, self.classes.index(c)))\n",
        "\n",
        "         # Add some tranforms for data augmentation.\n",
        "        self.Flip = torchvision.transforms.RandomHorizontalFlip(p=0.5)\n",
        "        self.Crop = torchvision.transforms.RandomCrop(90)\n",
        "        self.Rotat = torchvision.transforms.RandomRotation(45,expand=True)\n",
        "        self.tensor_transform = torchvision.transforms.ToTensor()\n",
        "        self.normalize_transform = torchvision.transforms.Normalize(mean=[0.485, 0.456, 0.406],\n",
        "                                                                    std=[0.229, 0.224, 0.225])\n",
        "        self.all_transform=torchvision.transforms.Compose([\n",
        "                              #self.Crop,\n",
        "                               #self.Flip,\n",
        "                                #self.Rotat,\n",
        "                                torchvision.transforms.Resize((120,120)),\n",
        "                               self.tensor_transform,\n",
        "                               self.normalize_transform \n",
        "                               ])\n",
        "    def __len__(self):\n",
        "        return len(self.img_path_label)\n",
        "\n",
        "    def __getitem__(self, idx):\n",
        "        (fp, class_name, class_label) = self.img_path_label[idx]\n",
        "        img = Image.open(fp)\n",
        "        original_img = self.tensor_transform(img)\n",
        "        #input = self.all_transform(original_img)\n",
        "        input = self.all_transform(img)\n",
        "        sample = dict()\n",
        "        sample['input'] = input\n",
        "        sample['original_img'] = original_img\n",
        "        sample['target'] = class_label\n",
        "        sample['class_name'] = class_name\n",
        "\n",
        "        return sample"
      ],
      "execution_count": null,
      "outputs": []
    },
    {
      "cell_type": "markdown",
      "metadata": {
        "id": "UPFSRXfal8Dl"
      },
      "source": [
        "### Set DataSet and DataLoader"
      ]
    },
    {
      "cell_type": "code",
      "metadata": {
        "id": "dJLrwTOxI127"
      },
      "source": [
        "batch_size = 64\n",
        "\n",
        "train_dataset = PokemonDataset(train_path, classes)\n",
        "train_dataloader = DataLoader(train_dataset, batch_size=batch_size, shuffle=True)\n",
        "test_dataset = PokemonDataset(test_path, classes)\n",
        "test_dataloader = DataLoader(test_dataset, batch_size=batch_size, shuffle=False)\n",
        "\n",
        "num_classes = len(classes)"
      ],
      "execution_count": null,
      "outputs": []
    },
    {
      "cell_type": "markdown",
      "metadata": {
        "id": "S6s35e4ymD-M"
      },
      "source": [
        "### Take a sample and try to look at the one"
      ]
    },
    {
      "cell_type": "code",
      "metadata": {
        "id": "pI2z7aqgMcUJ"
      },
      "source": [
        "sample = next(iter(train_dataloader))"
      ],
      "execution_count": null,
      "outputs": []
    },
    {
      "cell_type": "code",
      "metadata": {
        "id": "6rsIBq2rIxA_",
        "colab": {
          "base_uri": "https://localhost:8080/",
          "height": 264
        },
        "outputId": "31155f3a-1bef-416d-8459-76323cef2d28"
      },
      "source": [
        "fig, ax = plt.subplots(1, 7, figsize=(20, 10))\n",
        "for i in range(7):\n",
        "    ax[i].imshow(sample['input'][i].permute(1, 2, 0))\n",
        "    ax[i].set_title(sample['class_name'][i])"
      ],
      "execution_count": null,
      "outputs": [
        {
          "output_type": "stream",
          "name": "stderr",
          "text": [
            "Clipping input data to the valid range for imshow with RGB data ([0..1] for floats or [0..255] for integers).\n",
            "Clipping input data to the valid range for imshow with RGB data ([0..1] for floats or [0..255] for integers).\n",
            "Clipping input data to the valid range for imshow with RGB data ([0..1] for floats or [0..255] for integers).\n",
            "Clipping input data to the valid range for imshow with RGB data ([0..1] for floats or [0..255] for integers).\n",
            "Clipping input data to the valid range for imshow with RGB data ([0..1] for floats or [0..255] for integers).\n",
            "Clipping input data to the valid range for imshow with RGB data ([0..1] for floats or [0..255] for integers).\n",
            "Clipping input data to the valid range for imshow with RGB data ([0..1] for floats or [0..255] for integers).\n"
          ]
        },
        {
          "output_type": "display_data",
          "data": {
            "image/png": "[encoded data removed]",
            "text/plain": [
              "<Figure size 1440x720 with 7 Axes>"
            ]
          },
          "metadata": {
            "needs_background": "light"
          }
        }
      ]
    },
    {
      "cell_type": "markdown",
      "metadata": {
        "id": "PYiku-SxHnA6"
      },
      "source": [
        "### Choose your device - use GPU or not?"
      ]
    },
    {
      "cell_type": "code",
      "metadata": {
        "id": "k44xmCOHHmF4",
        "colab": {
          "base_uri": "https://localhost:8080/"
        },
        "outputId": "8eed9f47-e5dd-4095-8811-c5b648276b06"
      },
      "source": [
        "# device = 'cpu'\n",
        "device = 'cuda'\n",
        "print('Current Device : {}'.format(device))"
      ],
      "execution_count": null,
      "outputs": [
        {
          "output_type": "stream",
          "name": "stdout",
          "text": [
            "Current Device : cuda\n"
          ]
        }
      ]
    },
    {
      "cell_type": "markdown",
      "metadata": {
        "id": "LEjuX7lWIYlb"
      },
      "source": [
        "### Define the model with the pre-trained ResNet"
      ]
    },
    {
      "cell_type": "code",
      "metadata": {
        "id": "Cx-fxCW5JD_w"
      },
      "source": [
        "class Model(nn.Module):\n",
        "    def __init__(self, feat_dim = 2048, output_dim =num_classes):\n",
        "        super(Model, self).__init__()\n",
        "\n",
        "        self.feat_dim = feat_dim\n",
        "        self.output_dim = output_dim\n",
        "\n",
        "        self.backbone = torchvision.models.resnet152(pretrained=True)\n",
        "\n",
        "        self.backbone.fc = nn.Linear(feat_dim, output_dim)\n",
        "        ct = 0\n",
        "        for name, child in self.backbone.named_children():\n",
        "          ct += 1\n",
        "          if ct < 2:\n",
        "            for name2, params in child.named_parameters():\n",
        "              params.requires_grad = False\n",
        "    def forward(self, img):\n",
        "        out = self.backbone(img) \n",
        "        return out"
      ],
      "execution_count": null,
      "outputs": []
    },
    {
      "cell_type": "markdown",
      "metadata": {
        "id": "r4hjFl4-IsqO"
      },
      "source": [
        "### Create a model and its optimizer\n"
      ]
    },
    {
      "cell_type": "code",
      "metadata": {
        "id": "ZWtw-y-MKuv1",
        "outputId": "c23c9549-5d6f-46ab-dcac-15cb76c3e313",
        "colab": {
          "base_uri": "https://localhost:8080/",
          "height": 87,
          "referenced_widgets": [
            "215e0a7f44754374b450ad80d5bd21a1",
            "54c12965569b45ca801b05b519635d01",
            "56f9c9ae34404d07a9fe96bb160d0758",
            "d9143179b16c411d89a49a29f9a882a3",
            "053462a64ae14f5ea197624279dcbbd0",
            "0e19fe7296e240929bdd03c438ad4a7c",
            "761f8a8022aa4ed9ad5c5b021ccfef64",
            "b5b945a1afa2489bb5a198f1b1f3925d",
            "ced6bb2d714a408ba6c37091c58e58a6",
            "ab6a57127ed140ce9abdfcd7ba9ddaca",
            "0bd07d2875db4b77926a413a9c18436b"
          ]
        }
      },
      "source": [
        "model = Model()\n",
        "model = model.to(device)\n",
        "\n",
        "optimizer = optim.Adam(model.parameters(), lr=1e-4,weight_decay=1e-6)"
      ],
      "execution_count": null,
      "outputs": [
        {
          "output_type": "stream",
          "name": "stderr",
          "text": [
            "Downloading: \"https://download.pytorch.org/models/resnet50-0676ba61.pth\" to /root/.cache/torch/hub/checkpoints/resnet50-0676ba61.pth\n"
          ]
        },
        {
          "output_type": "display_data",
          "data": {
            "application/vnd.jupyter.widget-view+json": {
              "model_id": "215e0a7f44754374b450ad80d5bd21a1",
              "version_minor": 0,
              "version_major": 2
            },
            "text/plain": [
              "  0%|          | 0.00/97.8M [00:00<?, ?B/s]"
            ]
          },
          "metadata": {}
        }
      ]
    },
    {
      "cell_type": "code",
      "metadata": {
        "colab": {
          "base_uri": "https://localhost:8080/"
        },
        "id": "JFVtNhFKuzLB",
        "outputId": "69b93f3c-234c-408d-c0d8-045b1b3e9b99"
      },
      "source": [
        "model(sample['input'].to(device)).shape"
      ],
      "execution_count": null,
      "outputs": [
        {
          "output_type": "execute_result",
          "data": {
            "text/plain": [
              "torch.Size([64, 10])"
            ]
          },
          "metadata": {},
          "execution_count": 27
        }
      ]
    },
    {
      "cell_type": "markdown",
      "metadata": {
        "id": "DUSpLgVXIwqG"
      },
      "source": [
        "### Define functions for train/test\n",
        "\n"
      ]
    },
    {
      "cell_type": "code",
      "metadata": {
        "id": "Q9pXkpAMK42y"
      },
      "source": [
        "def train(model, optimizer, sample):\n",
        "    model.train()\n",
        "\n",
        "    criterion = nn.CrossEntropyLoss()\n",
        "\n",
        "    optimizer.zero_grad()\n",
        "\n",
        "    input = sample['input'].float().to(device)\n",
        "    target = sample['target'].long().to(device) \n",
        "    \n",
        "    pred = model(input)\n",
        "    pred_loss = criterion(pred, target)\n",
        "    \n",
        "    top_val, top_idx = torch.topk(pred, 1)\n",
        "\n",
        "    num_correct = torch.sum(top_idx == target.view(-1, 1))\n",
        "    \n",
        "    pred_loss.backward()\n",
        "       \n",
        "    optimizer.step()\n",
        "\n",
        "    return pred_loss.item(), num_correct.item()"
      ],
      "execution_count": null,
      "outputs": []
    },
    {
      "cell_type": "code",
      "metadata": {
        "id": "MhcKwq8WOUGu"
      },
      "source": [
        "def test(model, sample):\n",
        "    model.eval()\n",
        "\n",
        "    criterion = nn.CrossEntropyLoss()\n",
        "\n",
        "    with torch.no_grad():\n",
        "        input = sample['input'].float().to(device)\n",
        "        target = sample['target'].long().to(device) \n",
        "\n",
        "        pred = model(input)\n",
        "        pred_loss = criterion(pred, target)\n",
        "\n",
        "        top_val, top_idx = torch.topk(pred, 1)\n",
        "\n",
        "        num_correct = torch.sum(top_idx == target.view(-1, 1))\n",
        "\n",
        "    return pred_loss.item(), num_correct.item()"
      ],
      "execution_count": null,
      "outputs": []
    },
    {
      "cell_type": "markdown",
      "metadata": {
        "id": "T23Toz8vI7Gu"
      },
      "source": [
        "### Run Training"
      ]
    },
    {
      "cell_type": "code",
      "metadata": {
        "id": "-kTrpt4YMRS6",
        "colab": {
          "base_uri": "https://localhost:8080/",
          "height": 81,
          "referenced_widgets": [
            "c2f0a87674e14088999c61cd5f87bbad",
            "8425c38ba24048bca8a261169127edc0",
            "f3438437a3fc4eceaaa17ba4e547c799",
            "7a9dc4d47c4f4cce92cc6963cda45cac",
            "586ea908da2c44aba61a099619149c58",
            "89f3e211c7ba4728abfba58f66118e43",
            "54baef0286d44f0a9854c0b692038113",
            "b9ded6984f5d4696acd93beb5ebaffe5",
            "db9b489f52ed4b459ded922ddb927187",
            "ea58e457d03048a2ab62769045fa144c",
            "dd9b96643d034afebf004f63c609f95a",
            "4687131c1d77473f9f6267e110cb3e8e",
            "8500286c12844d41adbe321b7c66af19",
            "1843c998a4b9414e928bce993081fccf",
            "cf00b8af83b049e18e536de9709b8651",
            "3226acaf6db24f05ab04333522910985",
            "f910d9b29d2044dab91aa6ed824aa07a",
            "4192f213f81047a480a22df76b760515",
            "0098a7fbfdc545a3bfd0da39f07b7e90",
            "44bdfbd4f1874f099b89aefad8dc350e",
            "b6e8edbfa3d04048b728e62914fe1c36",
            "4e266f92143943d38b535395617af29f"
          ]
        },
        "outputId": "1655b7a0-98f4-4534-a023-2787e830aa14"
      },
      "source": [
        "max_epoch = 10\n",
        "save_stride = 5\n",
        "tmp_path = './checkpoint.pth'\n",
        "max_accu = -1\n",
        "for epoch in tqdm(range(max_epoch)):        \n",
        "    ###Train Phase\n",
        "    \n",
        "    # Initialize Loss and Accuracy\n",
        "    train_loss = 0.0\n",
        "    train_accu = 0.0\n",
        "\n",
        "    # Load the saved MODEL AND OPTIMIZER after evaluation.\n",
        "    if epoch > 0:\n",
        "        checkpoint = torch.load(tmp_path)\n",
        "        model.load_state_dict(checkpoint['model_state_dict'])\n",
        "        optimizer.load_state_dict(checkpoint['optimizer_state_dict'])\n",
        "        # how about learning rate scheduler?\n",
        "\n",
        "    # Iterate over the train_dataloader\n",
        "    with tqdm(total=len(train_dataloader)) as pbar:\n",
        "        for idx, sample in enumerate(train_dataloader):\n",
        "            curr_loss, num_correct = train(model, optimizer, sample)\n",
        "            train_loss += curr_loss / len(train_dataloader)\n",
        "            train_accu += num_correct / len(train_dataset)\n",
        "            pbar.update(1)\n",
        "\n",
        "    # save the model and optimizer's information before the evaulation\n",
        "    checkpoint = {\n",
        "        'model' : Model(),\n",
        "        'model_state_dict': model.state_dict(),\n",
        "        'optimizer_state_dict': optimizer.state_dict(),\n",
        "    }\n",
        "    \n",
        "    # Save the checkpoint - you can try to save the \"best\" model with the validation accuracy/loss\n",
        "    torch.save(checkpoint, tmp_path)\n",
        "    if (epoch+1) % save_stride == 0:\n",
        "        torch.save(checkpoint, os.path.join(model_dir, 'pokemon_r50_{}.pth'.format(epoch+1)))\n",
        "    torch.save(checkpoint, os.path.join(model_dir, 'pokemon_r50_recent.pth'))\n",
        "    \n",
        "    ### Test Phase\n",
        "    # Initialize Loss and Accuracy\n",
        "    test_loss = 0.0\n",
        "    test_accu = 0.0\n",
        "\n",
        "    # Iterate over the test_dataloader\n",
        "    with tqdm(total=len(test_dataloader)) as pbar:\n",
        "        for idx, sample in enumerate(test_dataloader):\n",
        "            curr_loss, num_correct = test(model, sample)\n",
        "            test_loss += curr_loss / len(test_dataloader)\n",
        "            test_accu += num_correct / len(test_dataset)\n",
        "            pbar.update(1)\n",
        "\n",
        "\n",
        "    max_accu = max(test_accu, max_accu)\n",
        "    if max_accu == test_accu:\n",
        "        # Save your best model to the checkpoint\n",
        "        torch.save(checkpoint, os.path.join(model_dir, 'pokemon_r50_best.pth'))\n",
        "\n",
        "    # These Lines would make you update your Google Drive after the saving.\n",
        "    drive.flush_and_unmount()\n",
        "    drive.mount('/content/drive')\n",
        "\n",
        "    print(train_accu, test_accu)"
      ],
      "execution_count": null,
      "outputs": [
        {
          "output_type": "display_data",
          "data": {
            "application/vnd.jupyter.widget-view+json": {
              "model_id": "c2f0a87674e14088999c61cd5f87bbad",
              "version_minor": 0,
              "version_major": 2
            },
            "text/plain": [
              "  0%|          | 0/10 [00:00<?, ?it/s]"
            ]
          },
          "metadata": {}
        },
        {
          "output_type": "display_data",
          "data": {
            "application/vnd.jupyter.widget-view+json": {
              "model_id": "8425c38ba24048bca8a261169127edc0",
              "version_minor": 0,
              "version_major": 2
            },
            "text/plain": [
              "  0%|          | 0/37 [00:00<?, ?it/s]"
            ]
          },
          "metadata": {}
        }
      ]
    },
    {
      "cell_type": "markdown",
      "metadata": {
        "id": "5DACN1ER2elj"
      },
      "source": [
        "### Import Packages\n"
      ]
    },
    {
      "cell_type": "code",
      "metadata": {
        "id": "jRRYg1YdulZB"
      },
      "source": [
        "drive.mount('/content/drive')"
      ],
      "execution_count": null,
      "outputs": []
    },
    {
      "cell_type": "code",
      "metadata": {
        "id": "u9Zh_eWgulZD"
      },
      "source": [
        "from google.colab import drive\n",
        "drive.flush_and_unmount()"
      ],
      "execution_count": null,
      "outputs": []
    },
    {
      "cell_type": "code",
      "metadata": {
        "id": "4a6YY6sh2elk"
      },
      "source": [
        "import os\n",
        "import csv\n",
        "import numpy as np\n",
        "from tqdm.notebook import tqdm\n",
        "\n",
        "import matplotlib.pyplot as plt\n",
        "\n",
        "# Module for Google Drive\n",
        "from google.colab import drive\n",
        "\n",
        "# Module for Importing Images\n",
        "from PIL import Image \n",
        "\n",
        "import torch\n",
        "import torchvision\n",
        "import torch.nn as nn\n",
        "import torch.nn.functional as F\n",
        "import torch.optim as optim\n",
        "from torch.utils.data import Dataset, DataLoader\n",
        "\n",
        "# Make a model.py, and define your model (class) inside the model. \n",
        "from model import Model\n",
        "\n",
        "print(torch.__version__)"
      ],
      "execution_count": null,
      "outputs": []
    },
    {
      "cell_type": "markdown",
      "metadata": {
        "id": "MvRwaZqB2ell"
      },
      "source": [
        "### Import your drive's contents!"
      ]
    },
    {
      "cell_type": "code",
      "metadata": {
        "id": "fx7ACxd22ell"
      },
      "source": [
        "from google.colab import drive\n",
        "drive.mount('/content/drive')"
      ],
      "execution_count": null,
      "outputs": []
    },
    {
      "cell_type": "markdown",
      "metadata": {
        "id": "uYlpUC7t2elm"
      },
      "source": [
        "### Let's define our PokeMon dataset\n",
        "- Put the \"pokemon\" folder to somewhere of your Google Drive, and define the path to \"data_path\""
      ]
    },
    {
      "cell_type": "code",
      "metadata": {
        "id": "dzd6hnYx2elm"
      },
      "source": [
        "test_path = './drive/MyDrive/Dataset/pokemon/test'\n",
        "model_dir = './drive/MyDrive/Codes/models'    #./drive/MyDrive/Path/To/Save/Your/Model\n",
        "classes = ['bug', 'electric', 'fighting', 'fire', 'flying', 'grass', 'ground', 'phychic', 'poison', 'water']"
      ],
      "execution_count": null,
      "outputs": []
    },
    {
      "cell_type": "code",
      "metadata": {
        "id": "2yq2dqpy2elm"
      },
      "source": [
        "class PokemonDataset(Dataset):\n",
        "    def __init__(self, data_path, classes):\n",
        "        self.data_path = data_path\n",
        "        self.classes = classes\n",
        "\n",
        "        # organize path information for __len__ and __getitem__\n",
        "        self.img_path_label = list()\n",
        "        for c in self.classes:\n",
        "            img_list = os.listdir(os.path.join(self.data_path, c))\n",
        "            for fp in img_list:\n",
        "                full_fp = os.path.join(self.data_path, c, fp)\n",
        "                self.img_path_label.append((full_fp, c, self.classes.index(c)))\n",
        "\n",
        "        # Add some tranforms for data augmentation.\n",
        "        self.tensor_transform = torchvision.transforms.ToTensor()\n",
        "        self.normalize_transform = torchvision.transforms.Normalize(mean=[0.485, 0.456, 0.406],\n",
        "                                                                    std=[0.229, 0.224, 0.225])\n",
        "\n",
        "    def __len__(self):\n",
        "        return len(self.img_path_label)\n",
        "\n",
        "    def __getitem__(self, idx):\n",
        "        (fp, class_name, class_label) = self.img_path_label[idx]\n",
        "        img = Image.open(fp)\n",
        "        original_img = self.tensor_transform(img)\n",
        "        input = self.normalize_transform(original_img)\n",
        "\n",
        "        sample = dict()\n",
        "        sample['input'] = input\n",
        "        sample['original_img'] = original_img\n",
        "        sample['target'] = class_label\n",
        "        sample['class_name'] = class_name\n",
        "\n",
        "        return sample"
      ],
      "execution_count": null,
      "outputs": []
    },
    {
      "cell_type": "markdown",
      "metadata": {
        "id": "kIQMlTh9GT0O"
      },
      "source": [
        "### Create dataset/dataloader for test "
      ]
    },
    {
      "cell_type": "code",
      "metadata": {
        "id": "zZXfrhHw2eln"
      },
      "source": [
        "test_dataset = PokemonDataset(test_path, classes)\n",
        "test_dataloader = DataLoader(test_dataset, batch_size=1, shuffle=False)"
      ],
      "execution_count": null,
      "outputs": []
    },
    {
      "cell_type": "markdown",
      "metadata": {
        "id": "7lye14qfGYQK"
      },
      "source": [
        "### Try to sample out one test dataset"
      ]
    },
    {
      "cell_type": "code",
      "metadata": {
        "id": "4irpv-wN2eln"
      },
      "source": [
        "sample = next(iter(test_dataloader))"
      ],
      "execution_count": null,
      "outputs": []
    },
    {
      "cell_type": "code",
      "metadata": {
        "id": "D3yCJzoD2eln"
      },
      "source": [
        "plot_idx = 0\n",
        "plt.imshow(sample['original_img'][plot_idx].permute(1, 2, 0))\n",
        "plt.title(sample['class_name'][plot_idx])"
      ],
      "execution_count": null,
      "outputs": []
    },
    {
      "cell_type": "markdown",
      "metadata": {
        "id": "oJO2I4F62elo"
      },
      "source": [
        "### Choose your device - use GPU or not?"
      ]
    },
    {
      "cell_type": "code",
      "metadata": {
        "id": "xHzTSt1e2elo"
      },
      "source": [
        "# device = 'cpu'\n",
        "device = 'cuda'\n",
        "print('Current Device : {}'.format(device))"
      ],
      "execution_count": null,
      "outputs": []
    },
    {
      "cell_type": "markdown",
      "metadata": {
        "id": "O5z80XkR2elo"
      },
      "source": [
        "### Load the Saved CheckPoint"
      ]
    },
    {
      "cell_type": "code",
      "metadata": {
        "id": "FegLzPln2elo"
      },
      "source": [
        "# Code referred from: https://discuss.pytorch.org/t/saving-customized-model-architecture/21512/2\n",
        "def load_checkpoint(filepath):\n",
        "    checkpoint = torch.load(filepath)\n",
        "    model = checkpoint['model']\n",
        "    model.load_state_dict(checkpoint['model_state_dict'])\n",
        "    model = model.to(device)\n",
        "\n",
        "    return model"
      ],
      "execution_count": null,
      "outputs": []
    },
    {
      "cell_type": "code",
      "metadata": {
        "id": "dKdqMlbWYTtE"
      },
      "source": [
        "model_path = './drive/MyDrive/Codes/models/pokemon_r50_best.pth' \n",
        "model = load_checkpoint(model_path)"
      ],
      "execution_count": null,
      "outputs": []
    },
    {
      "cell_type": "markdown",
      "metadata": {
        "id": "gpjvQr3Z2elp"
      },
      "source": [
        "### Define a function for test"
      ]
    },
    {
      "cell_type": "code",
      "metadata": {
        "id": "nQcopMK22elp"
      },
      "source": [
        "def test(model, sample):\n",
        "    model.eval()\n",
        "\n",
        "    with torch.no_grad():\n",
        "        input = sample['input'].float().to(device)\n",
        "        target = sample['target'].long().to(device) \n",
        "\n",
        "        pred = model(input)\n",
        "\n",
        "        top_val, top_idx = torch.topk(pred, 1)\n",
        "\n",
        "        num_correct = torch.sum(top_idx == target.view(-1, 1))\n",
        "\n",
        "    return num_correct.item()"
      ],
      "execution_count": null,
      "outputs": []
    },
    {
      "cell_type": "markdown",
      "metadata": {
        "id": "OU5aodGK2elp"
      },
      "source": [
        "### Run Test"
      ]
    },
    {
      "cell_type": "code",
      "metadata": {
        "id": "nGxGTyOX2elp"
      },
      "source": [
        "### Validation Phase\n",
        "# Initialize Loss and Accuracy\n",
        "test_accu = 0.0\n",
        "\n",
        "# Iterate over the val_dataloader\n",
        "with tqdm(total=len(test_dataloader)) as pbar:\n",
        "    for idx, sample in enumerate(test_dataloader):\n",
        "        num_correct = test(model, sample)\n",
        "        test_accu += num_correct / len(test_dataloader)\n",
        "        pbar.update(1)\n",
        "\n",
        "print('Total Accuracy: ', test_accu)"
      ],
      "execution_count": null,
      "outputs": []
    },
    {
      "cell_type": "code",
      "metadata": {
        "id": "5hPiA_pBdJk1"
      },
      "source": [
        "drive.mount('/content/drive')"
      ],
      "execution_count": null,
      "outputs": []
    },
    {
      "cell_type": "code",
      "metadata": {
        "id": "dOeYopHTkhvJ"
      },
      "source": [
        "from google.colab import drive\n",
        "drive.flush_and_unmount()"
      ],
      "execution_count": null,
      "outputs": []
    }
  ]
}